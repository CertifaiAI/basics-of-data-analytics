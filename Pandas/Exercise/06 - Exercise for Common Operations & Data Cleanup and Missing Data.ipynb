{
 "cells": [
  {
   "cell_type": "markdown",
   "id": "massive-geometry",
   "metadata": {
    "deletable": false,
    "editable": false
   },
   "source": [
    "## ![logo](../../img/license_header_logo.png)\n",
    "> **Copyright &copy; 2021 CertifAI Sdn. Bhd.**<br>\n",
    " <br>\n",
    "This program and the accompanying materials are made available under the\n",
    "terms of the [Apache License, Version 2.0](https://www.apache.org/licenses/LICENSE-2.0). <br>\n",
    "Unless required by applicable law or agreed to in writing, software\n",
    "distributed under the License is distributed on an \"AS IS\" BASIS, WITHOUT\n",
    "WARRANTIES OR CONDITIONS OF ANY KIND, either express or implied. See the\n",
    "License for the specific language governing permissions and limitations\n",
    "under the License. <br>\n",
    "<br>**SPDX-License-Identifier: Apache-2.0**"
   ]
  },
  {
   "cell_type": "markdown",
   "id": "increasing-waters",
   "metadata": {},
   "source": [
    "# <a name=\"top\">06 - Exercise for Common Operations & Data Cleanup and Missing Data</a>\n",
    "Authored by: Scotrraaj Gopal - scotrraaj.gopal@certifai.ai"
   ]
  },
  {
   "cell_type": "markdown",
   "id": "referenced-perspective",
   "metadata": {},
   "source": [
    "## <a name=\"description\">Notebook Description</a>\n",
    "\n",
    "One is able to consolidate their understanding during practical use of the knowledge. This notebook contains exercises to test your understanding and help you identify which application needs more reading and practise.\n",
    "\n",
    "By the end of this exercise, you will be able to:\n",
    "\n",
    "1. Relate and apply the common operations in `pandas`.\n",
    "2. Explain and apply data cleanup methods in `pandas`.\n",
    "3. Understand, detect and deal with missing data with `pandas`."
   ]
  },
  {
   "cell_type": "markdown",
   "id": "variable-lancaster",
   "metadata": {},
   "source": [
    "## Notebook Outline\n",
    "Here's the outline for this tutorial:\n",
    "1. [Notebook Description](#description)\n",
    "2. [Notebook Configurations](#configuration)\n",
    "3. [Section I - Common Operations](#common)\n",
    "4. [Section II - Data Cleanup and Missing Data](#missing)\n",
    "5. [Summary](#summary)\n",
    "6. [Reference](#reference)"
   ]
  },
  {
   "cell_type": "markdown",
   "id": "included-nickel",
   "metadata": {},
   "source": [
    "## <a name=\"configuration\">Notebook Configurations</a>\n",
    "\n",
    "**Task 0:** Import `pandas` with alias `pd`.\n",
    "\n",
    "**Expected output:**\n",
    ">![05-00](../../img/pandas/05-00.png)"
   ]
  },
  {
   "cell_type": "code",
   "execution_count": null,
   "id": "alpha-bidding",
   "metadata": {
    "deletable": false,
    "nbgrader": {
     "cell_type": "code",
     "checksum": "e5f72ea5045913b43279403bd2de94b9",
     "grade": false,
     "grade_id": "cell-826f6d99baefdbd6",
     "locked": false,
     "schema_version": 3,
     "solution": true,
     "task": false
    }
   },
   "outputs": [],
   "source": [
    "# YOUR CODE HERE\n",
    "\n",
    "\n",
    "dir(pd)"
   ]
  },
  {
   "cell_type": "markdown",
   "id": "44a58644",
   "metadata": {},
   "source": [
    "## <a name=\"common\">Section I - Common Operations</a>\n",
    "\n",
    "**Task I-1:** Load the CSV file at `../../Datasets/pandas/winemag-data-130k-v2.csv` in the `wine` variable and show only the first three rows.\n",
    "\n",
    "**Expected Output:**\n",
    ">![05-04](../../img/pandas/05-04.png)"
   ]
  },
  {
   "cell_type": "code",
   "execution_count": null,
   "id": "94dc7207",
   "metadata": {
    "deletable": false,
    "nbgrader": {
     "cell_type": "code",
     "checksum": "093278cd3c036892d683a300483c0e47",
     "grade": false,
     "grade_id": "cell-86508d003120641d",
     "locked": false,
     "schema_version": 3,
     "solution": true,
     "task": false
    }
   },
   "outputs": [],
   "source": [
    "# YOUR CODE HERE\n"
   ]
  },
  {
   "cell_type": "markdown",
   "id": "fe887046",
   "metadata": {},
   "source": [
    "**Task I-2:** Extract the `description` column and assign it to the variable `desc`.\n",
    "\n",
    "**Expected Output:**\n",
    ">![06-01](../../img/pandas/06-01.png)"
   ]
  },
  {
   "cell_type": "code",
   "execution_count": null,
   "id": "64ba0f93",
   "metadata": {
    "deletable": false,
    "nbgrader": {
     "cell_type": "code",
     "checksum": "36beed792b1ceab03e3b3988954035ac",
     "grade": false,
     "grade_id": "cell-d0e220c6a28147af",
     "locked": false,
     "schema_version": 3,
     "solution": true,
     "task": false
    }
   },
   "outputs": [],
   "source": [
    "# YOUR CODE HERE\n",
    "\n",
    "\n",
    "desc"
   ]
  },
  {
   "cell_type": "markdown",
   "id": "22d121ba",
   "metadata": {},
   "source": [
    "**Task I-3:** Create a `DataFrame` object called `df` made up of rows with index labels `15`,`18`,`45`,`700` and column labels `country`, `province`, and `title`.\n",
    "\n",
    "**Expected Output:**\n",
    ">![06-02](../../img/pandas/06-02.png)"
   ]
  },
  {
   "cell_type": "code",
   "execution_count": null,
   "id": "bbf30e3c",
   "metadata": {
    "deletable": false,
    "nbgrader": {
     "cell_type": "code",
     "checksum": "07b0b35c289f8009c94b974ef9d12b48",
     "grade": false,
     "grade_id": "cell-c6b3baa4a5fd53e9",
     "locked": false,
     "schema_version": 3,
     "solution": true,
     "task": false
    }
   },
   "outputs": [],
   "source": [
    "# YOUR CODE HERE\n",
    "\n",
    "\n",
    "df"
   ]
  },
  {
   "cell_type": "markdown",
   "id": "ee4f316b",
   "metadata": {},
   "source": [
    "**Task I-4:** Generate a `DataFrame`, `df` filled with elements that lie from the 60th to 66th row and the 3rd to 7th column.\n",
    "\n",
    "**Expected Output:**\n",
    ">![06-03](../../img/pandas/06-03.png)"
   ]
  },
  {
   "cell_type": "code",
   "execution_count": null,
   "id": "31d62414",
   "metadata": {
    "deletable": false,
    "nbgrader": {
     "cell_type": "code",
     "checksum": "ecf57699f71d59cc3d3407a284a03784",
     "grade": false,
     "grade_id": "cell-5e3642cca632d36c",
     "locked": false,
     "schema_version": 3,
     "solution": true,
     "task": false
    }
   },
   "outputs": [],
   "source": [
    "# YOUR CODE HERE\n",
    "\n",
    "\n",
    "df"
   ]
  },
  {
   "cell_type": "markdown",
   "id": "0ef72069",
   "metadata": {},
   "source": [
    "**Task I-5:** Generate a `DataFrame`, `top_MexicoGermany_wines` that contains all reviews from **Mexico** and **Germany** with **at least 85 points** and is **priced between 45 and 50**.\n",
    "\n",
    "**Expected Output:**\n",
    ">![06-04](../../img/pandas/06-04.png)"
   ]
  },
  {
   "cell_type": "code",
   "execution_count": null,
   "id": "997d99c4",
   "metadata": {
    "deletable": false,
    "nbgrader": {
     "cell_type": "code",
     "checksum": "e97020930d47c6c8f6eb8d7762a74479",
     "grade": false,
     "grade_id": "cell-d76f04c1a68c443c",
     "locked": false,
     "schema_version": 3,
     "solution": true,
     "task": false
    }
   },
   "outputs": [],
   "source": [
    "# YOUR CODE HERE\n",
    "\n",
    "\n",
    "top_MexicoGermany_wines"
   ]
  },
  {
   "cell_type": "markdown",
   "id": "79f0867f",
   "metadata": {},
   "source": [
    "## <a name=\"missing\">Data Cleanup and Missing Data</a>\n",
    "**Task II-1:** Often the `price` column has `NaN` values. Find the total number of rows with `NaN` values in the `price` column.\n",
    "\n",
    "**Expected Output:**\n",
    ">8996"
   ]
  },
  {
   "cell_type": "code",
   "execution_count": null,
   "id": "249d362e",
   "metadata": {
    "deletable": false,
    "nbgrader": {
     "cell_type": "code",
     "checksum": "46e3b1f811cc8ee6275040f3b3f96dd0",
     "grade": false,
     "grade_id": "cell-bf969b77ead5d2e7",
     "locked": false,
     "schema_version": 3,
     "solution": true,
     "task": false
    }
   },
   "outputs": [],
   "source": [
    "# YOUR CODE HERE\n"
   ]
  },
  {
   "cell_type": "markdown",
   "id": "c0b2e6b8",
   "metadata": {},
   "source": [
    "**Task II-2:** Use the string \"Unknown\" to replace all `NaN` values in the `DataFrame` and save it a new object, `replaced`.\n",
    "\n",
    "**Expected Output:**\n",
    "\n",
    "> ![06-05](../../img/pandas/06-05.png)"
   ]
  },
  {
   "cell_type": "code",
   "execution_count": null,
   "id": "0336f24e",
   "metadata": {
    "deletable": false,
    "nbgrader": {
     "cell_type": "code",
     "checksum": "b38b9ead7fd636186accb53b4e6ae6cc",
     "grade": false,
     "grade_id": "cell-bf0708ce509d3be4",
     "locked": false,
     "schema_version": 3,
     "solution": true,
     "task": false
    }
   },
   "outputs": [],
   "source": [
    "# YOUR CODE HERE\n",
    "\n",
    "\n",
    "replaced"
   ]
  },
  {
   "cell_type": "markdown",
   "id": "948f66ee",
   "metadata": {},
   "source": [
    "**Task II-3:** Obtain the shape of the `DataFrame`, `processed` when all duplicated rows and rows with `NaN` values are dropped.\n",
    "\n",
    "**Expected Output:**\n",
    "\n",
    ">(20493,13)"
   ]
  },
  {
   "cell_type": "code",
   "execution_count": null,
   "id": "88e83acd",
   "metadata": {
    "deletable": false,
    "nbgrader": {
     "cell_type": "code",
     "checksum": "38dcf2640ee860358eb861d329c3dfcd",
     "grade": false,
     "grade_id": "cell-b982d764b231c00e",
     "locked": false,
     "schema_version": 3,
     "solution": true,
     "task": false
    }
   },
   "outputs": [],
   "source": [
    "# YOUR CODE HERE\n"
   ]
  },
  {
   "cell_type": "markdown",
   "id": "a14661d4",
   "metadata": {},
   "source": [
    "##  <a name=\"summary\">Summary</a>\n",
    "To conclude, you should now be able to:\n",
    "\n",
    "1. Relate and apply the common operations in `pandas`.\n",
    "2. Explain and apply data cleanup methods in `pandas`.\n",
    "3. Understand, detect and deal with missing data with `pandas`.\n",
    "\n",
    "Congratulations, you have completed this exercise!"
   ]
  },
  {
   "cell_type": "markdown",
   "id": "preceding-protection",
   "metadata": {},
   "source": [
    "## <a name=\"reference\">Reference</a>\n",
    "* [Dataset Source](https://www.kaggle.com/zynicide/wine-reviews)\n",
    "* [Question Reference](https://www.kaggle.com/learn/pandas)\n",
    "\n",
    "<font size=2>[Back to Top](#top)</font>"
   ]
  }
 ],
 "metadata": {
  "kernelspec": {
   "display_name": "Python 3",
   "language": "python",
   "name": "python3"
  },
  "language_info": {
   "codemirror_mode": {
    "name": "ipython",
    "version": 3
   },
   "file_extension": ".py",
   "mimetype": "text/x-python",
   "name": "python",
   "nbconvert_exporter": "python",
   "pygments_lexer": "ipython3",
   "version": "3.7.10"
  }
 },
 "nbformat": 4,
 "nbformat_minor": 5
}
