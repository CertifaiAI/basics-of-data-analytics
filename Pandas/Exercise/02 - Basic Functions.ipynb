{
 "cells": [
  {
   "cell_type": "markdown",
   "id": "massive-geometry",
   "metadata": {
    "deletable": false,
    "editable": false
   },
   "source": [
    "## ![logo](../../img/license_header_logo.png)\n",
    "> **Copyright &copy; 2021 CertifAI Sdn. Bhd.**<br>\n",
    " <br>\n",
    "This program and the accompanying materials are made available under the\n",
    "terms of the [Apache License, Version 2.0](https://www.apache.org/licenses/LICENSE-2.0). <br>\n",
    "Unless required by applicable law or agreed to in writing, software\n",
    "distributed under the License is distributed on an \"AS IS\" BASIS, WITHOUT\n",
    "WARRANTIES OR CONDITIONS OF ANY KIND, either express or implied. See the\n",
    "License for the specific language governing permissions and limitations\n",
    "under the License. <br>\n",
    "<br>**SPDX-License-Identifier: Apache-2.0**"
   ]
  },
  {
   "cell_type": "markdown",
   "id": "increasing-waters",
   "metadata": {},
   "source": [
    "# <a name=\"top\">02 - Basic Functions</a>\n",
    "Authored by: Scotrraaj Gopal - scotrraaj.gopal@certifai.ai"
   ]
  },
  {
   "cell_type": "markdown",
   "id": "referenced-perspective",
   "metadata": {},
   "source": [
    "## <a name=\"description\">Notebook Description</a>\n",
    "\n",
    "There are many basic functions in `pandas` that you will need to know to quickly reconnect with your data time to time. This notebook sheds light on some functions that you'll use everytime you have a data-related task to be done with `pandas`. \n",
    "\n",
    "By the end of this tutorial, you will be able to:\n",
    "\n",
    "1. View your data.\n",
    "2. Obtain general info from your data.\n",
    "3. Obtain special info from your data."
   ]
  },
  {
   "cell_type": "markdown",
   "id": "variable-lancaster",
   "metadata": {},
   "source": [
    "## Notebook Outline\n",
    "Here's the outline for this tutorial:\n",
    "1. [Notebook Description](#description)\n",
    "2. [Notebook Configurations](#configuration)\n",
    "3. [View your data](#view)\n",
    "4. [Gain info from data](#gain)\n",
    "    - [General](#general)\n",
    "    - [Special](#special)\n",
    "5. [Summary](#summary)\n",
    "6. [Reference](#reference)"
   ]
  },
  {
   "cell_type": "markdown",
   "id": "included-nickel",
   "metadata": {},
   "source": [
    "## <a name=\"configuration\">Notebook Configurations</a>\n",
    "\n",
    "First of all, the `pandas` module has to be imported. We'll also use a real dataset containing reviews of wine from Wine Magazine. \n",
    "\n",
    "Import the module and the dataset from `../../Datasets/pandas/winemag-data-130k-v2.csv`. Name the `DataFrame` object `reviews`."
   ]
  },
  {
   "cell_type": "code",
   "execution_count": null,
   "id": "alpha-bidding",
   "metadata": {
    "deletable": false,
    "nbgrader": {
     "cell_type": "code",
     "checksum": "7d93eb48ac391bf48ccb8a2c60438d7c",
     "grade": false,
     "grade_id": "cell-826f6d99baefdbd6",
     "locked": false,
     "schema_version": 3,
     "solution": true,
     "task": false
    }
   },
   "outputs": [],
   "source": [
    "# YOUR CODE HERE\n",
    "\n",
    "\n",
    "reviews"
   ]
  },
  {
   "cell_type": "markdown",
   "id": "44a58644",
   "metadata": {},
   "source": [
    "## <a name=\"view\">View your data</a>\n",
    "\n",
    "We can examine the contents of our `DataFrame` using the `.head()` command. By default, the command grabs the **first five rows only**. You may use this command anytime that you'd like to have a quick glance to the structure without having to print every row which could potentially cost more time when the dataset is big."
   ]
  },
  {
   "cell_type": "code",
   "execution_count": null,
   "id": "94dc7207",
   "metadata": {
    "deletable": false,
    "nbgrader": {
     "cell_type": "code",
     "checksum": "093278cd3c036892d683a300483c0e47",
     "grade": false,
     "grade_id": "cell-86508d003120641d",
     "locked": false,
     "schema_version": 3,
     "solution": true,
     "task": false
    }
   },
   "outputs": [],
   "source": [
    "# YOUR CODE HERE\n"
   ]
  },
  {
   "cell_type": "markdown",
   "id": "fe887046",
   "metadata": {},
   "source": [
    "The method allows any single integer as an argument. Similarly, `.tail()` gives access to the last five rows by default.\n",
    "\n",
    "Try to create a visual reference of the **last 10 rows** of data with `.tail()`."
   ]
  },
  {
   "cell_type": "code",
   "execution_count": null,
   "id": "64ba0f93",
   "metadata": {
    "deletable": false,
    "nbgrader": {
     "cell_type": "code",
     "checksum": "ace355799fc509b329ff9b9665f76f23",
     "grade": false,
     "grade_id": "cell-d0e220c6a28147af",
     "locked": false,
     "schema_version": 3,
     "solution": true,
     "task": false
    }
   },
   "outputs": [],
   "source": [
    "# YOUR CODE HERE\n"
   ]
  },
  {
   "cell_type": "markdown",
   "id": "22d121ba",
   "metadata": {},
   "source": [
    "When we load a dataset, we usually look at the first five or six rows to see what's going on. Here we can see the titles of each column, the index, and samples of values in each row."
   ]
  },
  {
   "cell_type": "markdown",
   "id": "79f0867f",
   "metadata": {},
   "source": [
    "## <a name=\"gain\">Gain info from data</a>\n",
    "The `pandas` module has built-in methods that makes analyzing your data much easier with multiple methods that can supply insights about your data quickly.\n",
    "\n",
    "### <a name=\"general\">General info</a>\n",
    "The `DataFrame` object has a method called `.info()`, that gives you more information about the dataset."
   ]
  },
  {
   "cell_type": "code",
   "execution_count": null,
   "id": "249d362e",
   "metadata": {
    "deletable": false,
    "nbgrader": {
     "cell_type": "code",
     "checksum": "46e3b1f811cc8ee6275040f3b3f96dd0",
     "grade": false,
     "grade_id": "cell-bf969b77ead5d2e7",
     "locked": false,
     "schema_version": 3,
     "solution": true,
     "task": false
    }
   },
   "outputs": [],
   "source": [
    "# YOUR CODE HERE\n"
   ]
  },
  {
   "cell_type": "markdown",
   "id": "c0b2e6b8",
   "metadata": {},
   "source": [
    "The results tells us a few essential details about the dataset.\n",
    "1. The number of rows and columns\n",
    "2. The name of each column and their data types.\n",
    "3. The number of non-null values\n",
    "4. How much memory is your `DataFrame` using.\n",
    "\n",
    "> *Seeing the `dtypes` quickly is actually quite useful. Imagine you just imported some JSON and the integers were recorded as strings. You go to do some calculation and find an \"unsupported operand\" exception because you can't do math with strings. Calling `.info()` will quickly point out that your column you thought was all integers are actually strings.* \n",
    "\n",
    "Another fast and useful attribute is the `.shape`, which outputs just a tuple of (rows, columns).\n",
    "\n",
    "> *Note: Observe that there is no parentheses while doing* `.shape`."
   ]
  },
  {
   "cell_type": "code",
   "execution_count": null,
   "id": "0336f24e",
   "metadata": {
    "deletable": false,
    "nbgrader": {
     "cell_type": "code",
     "checksum": "7083a09aae36554ccecd32538cd1e68c",
     "grade": false,
     "grade_id": "cell-bf0708ce509d3be4",
     "locked": false,
     "schema_version": 3,
     "solution": true,
     "task": false
    }
   },
   "outputs": [],
   "source": [
    "# YOUR CODE HERE\n"
   ]
  },
  {
   "cell_type": "markdown",
   "id": "948f66ee",
   "metadata": {},
   "source": [
    "### <a name=\"special\">Special info</a>\n",
    "\n",
    "To show a quick statistic summary of your data, you may use `.describe()` method."
   ]
  },
  {
   "cell_type": "code",
   "execution_count": null,
   "id": "88e83acd",
   "metadata": {
    "deletable": false,
    "nbgrader": {
     "cell_type": "code",
     "checksum": "38dcf2640ee860358eb861d329c3dfcd",
     "grade": false,
     "grade_id": "cell-b982d764b231c00e",
     "locked": false,
     "schema_version": 3,
     "solution": true,
     "task": false
    }
   },
   "outputs": [],
   "source": [
    "# YOUR CODE HERE\n"
   ]
  },
  {
   "cell_type": "markdown",
   "id": "7079dfcd",
   "metadata": {},
   "source": [
    "This method generates a high-level summary of the attributes of the given column. It is type-aware, meaning that its output changes based on the data type of the input. The output above only makes sense for the columns with numerical data; for string data (`dtype = \"object\"`) here's what we get:"
   ]
  },
  {
   "cell_type": "code",
   "execution_count": null,
   "id": "1da2ff91",
   "metadata": {
    "deletable": false,
    "nbgrader": {
     "cell_type": "code",
     "checksum": "3f2b924550d523e37f14b4e74ae522ef",
     "grade": false,
     "grade_id": "cell-eb898559c0095e95",
     "locked": false,
     "schema_version": 3,
     "solution": true,
     "task": false
    }
   },
   "outputs": [],
   "source": [
    "# YOUR CODE HERE\n"
   ]
  },
  {
   "cell_type": "markdown",
   "id": "b877299f",
   "metadata": {},
   "source": [
    "This descriptive information that we obtained on our `taster_name` column shows that there are 103727 spaces filled with `objects` and 19 unique values. The first unique value was `\"Roger Voss:` and this name repeats 25,514 times in the column.\n",
    "\n",
    "To get a full list of unique values, one could use the `.unique()` method."
   ]
  },
  {
   "cell_type": "code",
   "execution_count": null,
   "id": "2061c986",
   "metadata": {
    "deletable": false,
    "nbgrader": {
     "cell_type": "code",
     "checksum": "77979a6bfd5a57661d4a534e3ad9a1cc",
     "grade": false,
     "grade_id": "cell-d2e74ef10303202a",
     "locked": false,
     "schema_version": 3,
     "solution": true,
     "task": false
    }
   },
   "outputs": [],
   "source": [
    "# YOUR CODE HERE\n"
   ]
  },
  {
   "cell_type": "markdown",
   "id": "3f1295ab",
   "metadata": {},
   "source": [
    "The uniques are returned in order of appearance and is not sorted.\n",
    "\n",
    "To see a list of unique values **and** how often they repeat themselves in the column, we can use the `.value_counts()` method:"
   ]
  },
  {
   "cell_type": "code",
   "execution_count": null,
   "id": "b9a39298",
   "metadata": {
    "deletable": false,
    "nbgrader": {
     "cell_type": "code",
     "checksum": "f290775c59ab5a05534f9db2fcf50e64",
     "grade": false,
     "grade_id": "cell-fb03366a24363ac2",
     "locked": false,
     "schema_version": 3,
     "solution": true,
     "task": false
    }
   },
   "outputs": [],
   "source": [
    "# YOUR CODE HERE\n"
   ]
  },
  {
   "cell_type": "markdown",
   "id": "60f27767",
   "metadata": {},
   "source": [
    "Finally, if you would like to get some particular simple summary statistic about a column in a `DataFrame` or a `Series`, there is usually a helpful `pandas` function to make that happen.\n",
    "\n",
    "As an example, to see the mean of the `points` column, we can use the `.mean()` function."
   ]
  },
  {
   "cell_type": "code",
   "execution_count": null,
   "id": "4fd823a1",
   "metadata": {
    "deletable": false,
    "nbgrader": {
     "cell_type": "code",
     "checksum": "71c59d8ab9f35bb8309eccd301620060",
     "grade": false,
     "grade_id": "cell-dc3caa94c4250892",
     "locked": false,
     "schema_version": 3,
     "solution": true,
     "task": false
    }
   },
   "outputs": [],
   "source": [
    "# YOUR CODE HERE\n"
   ]
  },
  {
   "cell_type": "markdown",
   "id": "a14661d4",
   "metadata": {},
   "source": [
    "##  <a name=\"summary\">Summary</a>\n",
    "To conclude, you should now be able to:\n",
    "\n",
    "1. View your data.\n",
    "2. Obtain general info from your data.\n",
    "3. Obtain special info from your data.\n",
    "\n",
    "Congratulations, that concludes this lesson. In the next lesson, we will explore on the common operations such as slicing, selecting and extracting the `DataFrame` in `pandas`. \n",
    "\n",
    "See you!"
   ]
  },
  {
   "cell_type": "markdown",
   "id": "preceding-protection",
   "metadata": {},
   "source": [
    "## <a name=\"reference\">Reference</a>\n",
    "* [Dataset Source](https://www.kaggle.com/zynicide/wine-reviews)\n",
    "\n",
    "<font size=2>[Back to Top](#top)</font>"
   ]
  }
 ],
 "metadata": {
  "kernelspec": {
   "display_name": "Python 3",
   "language": "python",
   "name": "python3"
  },
  "language_info": {
   "codemirror_mode": {
    "name": "ipython",
    "version": 3
   },
   "file_extension": ".py",
   "mimetype": "text/x-python",
   "name": "python",
   "nbconvert_exporter": "python",
   "pygments_lexer": "ipython3",
   "version": "3.7.10"
  }
 },
 "nbformat": 4,
 "nbformat_minor": 5
}
