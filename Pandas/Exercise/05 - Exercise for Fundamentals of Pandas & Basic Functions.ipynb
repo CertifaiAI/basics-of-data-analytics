{
 "cells": [
  {
   "cell_type": "markdown",
   "id": "massive-geometry",
   "metadata": {
    "deletable": false,
    "editable": false
   },
   "source": [
    "## ![logo](../../img/license_header_logo.png)\n",
    "> **Copyright &copy; 2021 CertifAI Sdn. Bhd.**<br>\n",
    " <br>\n",
    "This program is part of OSRFramework. You can redistribute it and/or modify\n",
    "<br>it under the terms of the GNU Affero General Public License as published by\n",
    "<br>the Free Software Foundation, either version 3 of the License, or\n",
    "<br>(at your option) any later version.\n",
    "<br>\n",
    "<br>This program is distributed in the hope that it will be useful,\n",
    "<br>but WITHOUT ANY WARRANTY; without even the implied warranty of\n",
    "<br>MERCHANTABILITY or FITNESS FOR A PARTICULAR PURPOSE.  See the\n",
    "<br>GNU Affero General Public License for more details.\n",
    "<br>\n",
    "<br>You should have received a copy of the GNU Affero General Public License\n",
    "<br>along with this program.  If not, see <http://www.gnu.org/licenses/>."
   ]
  },
  {
   "cell_type": "markdown",
   "id": "increasing-waters",
   "metadata": {},
   "source": [
    "# <a name=\"top\">05 - Exercise for Fundamentals of Pandas & Basic Functions</a>\n",
    "Authored by: Scotrraaj Gopal - scotrraaj.gopal@certifai.ai"
   ]
  },
  {
   "cell_type": "markdown",
   "id": "referenced-perspective",
   "metadata": {},
   "source": [
    "## <a name=\"description\">Notebook Description</a>\n",
    "\n",
    "One is able to consolidate their understanding during practical use of the knowledge. This notebook contains exercises to test your understanding and help you identify which application needs more reading.\n",
    "\n",
    "By the end of this exercise, you will be able to:\n",
    "\n",
    "1. Relate and apply the fundamental methods in `pandas`.\n",
    "2. Explain and use the basic functions in `pandas`."
   ]
  },
  {
   "cell_type": "markdown",
   "id": "variable-lancaster",
   "metadata": {},
   "source": [
    "## Notebook Outline\n",
    "Here's the outline for this tutorial:\n",
    "1. [Notebook Description](#description)\n",
    "2. [Notebook Configurations](#configuration)\n",
    "3. [Section I - Fundamentals of `pandas`](#fundamentals)\n",
    "4. [Section II - Basic Functions](#basic)\n",
    "5. [Summary](#summary)\n",
    "6. [Reference](#reference)"
   ]
  },
  {
   "cell_type": "markdown",
   "id": "included-nickel",
   "metadata": {},
   "source": [
    "## <a name=\"configuration\">Notebook Configurations</a>\n",
    "\n",
    "**Task 0:** Import `pandas` with alias `pd`.\n",
    "\n",
    "**Expected output:**\n",
    ">![05-00](../../img/pandas/05-00.png)"
   ]
  },
  {
   "cell_type": "code",
   "execution_count": null,
   "id": "alpha-bidding",
   "metadata": {
    "deletable": false,
    "nbgrader": {
     "cell_type": "code",
     "checksum": "e5f72ea5045913b43279403bd2de94b9",
     "grade": false,
     "grade_id": "cell-826f6d99baefdbd6",
     "locked": false,
     "schema_version": 3,
     "solution": true,
     "task": false
    }
   },
   "outputs": [],
   "source": [
    "# YOUR CODE HERE\n",
    "\n",
    "\n",
    "dir(pd)"
   ]
  },
  {
   "cell_type": "markdown",
   "id": "44a58644",
   "metadata": {},
   "source": [
    "## <a name=\"fundamentals\">Section I - Fundamentals of `pandas`</a>\n",
    "\n",
    "**Task I-1:** Create a `DataFrame` object called `groceries` that looks like the expected output.\n",
    "\n",
    "**Expected Output:**\n",
    ">![05-01](../../img/pandas/05-01.png)"
   ]
  },
  {
   "cell_type": "code",
   "execution_count": null,
   "id": "94dc7207",
   "metadata": {
    "deletable": false,
    "nbgrader": {
     "cell_type": "code",
     "checksum": "d31f22ca81525df60baf74c8eee239a9",
     "grade": false,
     "grade_id": "cell-86508d003120641d",
     "locked": false,
     "schema_version": 3,
     "solution": true,
     "task": false
    }
   },
   "outputs": [],
   "source": [
    "# YOUR CODE HERE\n",
    "\n",
    "\n",
    "groceries"
   ]
  },
  {
   "cell_type": "markdown",
   "id": "fe887046",
   "metadata": {},
   "source": [
    "**Task I-2:** Create a `DataFrame` object called `grocery_sales` that looks like the expected output.\n",
    "\n",
    "**Expected Output:**\n",
    ">![05-02](../../img/pandas/05-02.png)"
   ]
  },
  {
   "cell_type": "code",
   "execution_count": null,
   "id": "64ba0f93",
   "metadata": {
    "deletable": false,
    "nbgrader": {
     "cell_type": "code",
     "checksum": "2d40d5031048e587b21a358a50c7e575",
     "grade": false,
     "grade_id": "cell-d0e220c6a28147af",
     "locked": false,
     "schema_version": 3,
     "solution": true,
     "task": false
    }
   },
   "outputs": [],
   "source": [
    "# YOUR CODE HERE\n",
    "\n",
    "\n",
    "grocery_sales"
   ]
  },
  {
   "cell_type": "markdown",
   "id": "22d121ba",
   "metadata": {},
   "source": [
    "**Task I-3:** Create a `Series` object called `recipe` that looks like the expected output.\n",
    "\n",
    "**Expected Output:**\n",
    ">![05-03](../../img/pandas/05-03.png)"
   ]
  },
  {
   "cell_type": "code",
   "execution_count": null,
   "id": "bbf30e3c",
   "metadata": {
    "deletable": false,
    "nbgrader": {
     "cell_type": "code",
     "checksum": "05fb26d6697eb59edfdf42d1181c8a24",
     "grade": false,
     "grade_id": "cell-c6b3baa4a5fd53e9",
     "locked": false,
     "schema_version": 3,
     "solution": true,
     "task": false
    }
   },
   "outputs": [],
   "source": [
    "# YOUR CODE HERE\n",
    "\n",
    "\n",
    "recipe"
   ]
  },
  {
   "cell_type": "markdown",
   "id": "ee4f316b",
   "metadata": {},
   "source": [
    "**Task I-4:** Load the CSV file at `../../Datasets/pandas/winemag-data-130k-v2.csv` in the `csv_data` variable.\n",
    "\n",
    "**Expected Output:**\n",
    ">![05-04](../../img/pandas/05-04.png)"
   ]
  },
  {
   "cell_type": "code",
   "execution_count": null,
   "id": "31d62414",
   "metadata": {
    "deletable": false,
    "nbgrader": {
     "cell_type": "code",
     "checksum": "1b17945a0e83947fea9aec578c9f9cee",
     "grade": false,
     "grade_id": "cell-5e3642cca632d36c",
     "locked": false,
     "schema_version": 3,
     "solution": true,
     "task": false
    }
   },
   "outputs": [],
   "source": [
    "# YOUR CODE HERE\n",
    "\n",
    "\n",
    "csv_data"
   ]
  },
  {
   "cell_type": "markdown",
   "id": "0ef72069",
   "metadata": {},
   "source": [
    "**Task I-5:** Save the `grocery_sales`variable in a CSV file entitled `sales.csv`. Open `sales.csv`.\n",
    "\n",
    "**Expected Output:**\n",
    ">![05-05](../../img/pandas/05-05.png)"
   ]
  },
  {
   "cell_type": "code",
   "execution_count": null,
   "id": "997d99c4",
   "metadata": {
    "deletable": false,
    "nbgrader": {
     "cell_type": "code",
     "checksum": "5e451db26324add92540f0010d45d6e9",
     "grade": false,
     "grade_id": "cell-d76f04c1a68c443c",
     "locked": false,
     "schema_version": 3,
     "solution": true,
     "task": false
    }
   },
   "outputs": [],
   "source": [
    "# YOUR CODE HERE\n"
   ]
  },
  {
   "cell_type": "markdown",
   "id": "79f0867f",
   "metadata": {},
   "source": [
    "## <a name=\"basic\">Section II - Basic Functions</a>\n",
    "**Task II-1:** Load the CSV file at `../../Datasets/pandas/winemag-data-130k-v2.csv` in the `wine` variable and show only the first three rows.\n",
    "\n",
    "**Expected Output:**\n",
    ">![05-04](../../img/pandas/05-04.png)"
   ]
  },
  {
   "cell_type": "code",
   "execution_count": null,
   "id": "249d362e",
   "metadata": {
    "deletable": false,
    "nbgrader": {
     "cell_type": "code",
     "checksum": "46e3b1f811cc8ee6275040f3b3f96dd0",
     "grade": false,
     "grade_id": "cell-bf969b77ead5d2e7",
     "locked": false,
     "schema_version": 3,
     "solution": true,
     "task": false
    }
   },
   "outputs": [],
   "source": [
    "# YOUR CODE HERE\n"
   ]
  },
  {
   "cell_type": "markdown",
   "id": "c0b2e6b8",
   "metadata": {},
   "source": [
    "**Task II-2:** Obtain the median of the `points` column in the `wine` object.\n",
    "\n",
    "**Expected Output:**\n",
    "\n",
    "> 88.0"
   ]
  },
  {
   "cell_type": "code",
   "execution_count": null,
   "id": "0336f24e",
   "metadata": {
    "deletable": false,
    "nbgrader": {
     "cell_type": "code",
     "checksum": "7083a09aae36554ccecd32538cd1e68c",
     "grade": false,
     "grade_id": "cell-bf0708ce509d3be4",
     "locked": false,
     "schema_version": 3,
     "solution": true,
     "task": false
    }
   },
   "outputs": [],
   "source": [
    "# YOUR CODE HERE\n"
   ]
  },
  {
   "cell_type": "markdown",
   "id": "948f66ee",
   "metadata": {},
   "source": [
    "**Task II-3:** List out the countries in the dataset without any duplicates.\n",
    "\n",
    "**Expected Output:**\n",
    "\n",
    ">![05-06](../../img/pandas/05-06.png)"
   ]
  },
  {
   "cell_type": "code",
   "execution_count": null,
   "id": "88e83acd",
   "metadata": {
    "deletable": false,
    "nbgrader": {
     "cell_type": "code",
     "checksum": "38dcf2640ee860358eb861d329c3dfcd",
     "grade": false,
     "grade_id": "cell-b982d764b231c00e",
     "locked": false,
     "schema_version": 3,
     "solution": true,
     "task": false
    }
   },
   "outputs": [],
   "source": [
    "# YOUR CODE HERE\n"
   ]
  },
  {
   "cell_type": "markdown",
   "id": "7079dfcd",
   "metadata": {},
   "source": [
    "**Task II-4:** Obtain the number of times that each country appear in the dataset.\n",
    "\n",
    "**Expected Output:**\n",
    "\n",
    ">![05-07](../../img/pandas/05-07.png)"
   ]
  },
  {
   "cell_type": "code",
   "execution_count": null,
   "id": "1da2ff91",
   "metadata": {
    "deletable": false,
    "nbgrader": {
     "cell_type": "code",
     "checksum": "3f2b924550d523e37f14b4e74ae522ef",
     "grade": false,
     "grade_id": "cell-eb898559c0095e95",
     "locked": false,
     "schema_version": 3,
     "solution": true,
     "task": false
    }
   },
   "outputs": [],
   "source": [
    "# YOUR CODE HERE\n"
   ]
  },
  {
   "cell_type": "markdown",
   "id": "b877299f",
   "metadata": {},
   "source": [
    "**Task II-5:** Carry out the centering transformation on the `price` column and save it in the `centered_price` variable. This transformation can be done by **subtracting the mean of the column from every datapoint**.</br></br>\n",
    "\n",
    "\n",
    "<text><center>*Centering transformation is quite common while preprocessing data for Machine Learning application*</center></text>\n",
    "\n",
    "**Expected Output:**\n",
    "\n",
    ">![05-08](../../img/pandas/05-08.png)"
   ]
  },
  {
   "cell_type": "code",
   "execution_count": null,
   "id": "2061c986",
   "metadata": {
    "deletable": false,
    "nbgrader": {
     "cell_type": "code",
     "checksum": "104f3a03a7e9df52bc1c66dad429ea7b",
     "grade": false,
     "grade_id": "cell-d2e74ef10303202a",
     "locked": false,
     "schema_version": 3,
     "solution": true,
     "task": false
    }
   },
   "outputs": [],
   "source": [
    "# YOUR CODE HERE\n",
    "\n",
    "\n",
    "centered_price"
   ]
  },
  {
   "cell_type": "markdown",
   "id": "a14661d4",
   "metadata": {},
   "source": [
    "##  <a name=\"summary\">Summary</a>\n",
    "To conclude, you should now be able to:\n",
    "\n",
    "1. Relate and apply the fundamental methods in `pandas`.\n",
    "2. Explain and use the basic functions in `pandas`.\n",
    "\n",
    "Congratulations, you have completed this exercise!"
   ]
  },
  {
   "cell_type": "markdown",
   "id": "preceding-protection",
   "metadata": {},
   "source": [
    "## <a name=\"reference\">Reference</a>\n",
    "* [Dataset Source](https://www.kaggle.com/zynicide/wine-reviews)\n",
    "* [Question Reference](https://www.kaggle.com/learn/pandas)\n",
    "\n",
    "<font size=2>[Back to Top](#top)</font>"
   ]
  }
 ],
 "metadata": {
  "kernelspec": {
   "display_name": "Python 3",
   "language": "python",
   "name": "python3"
  },
  "language_info": {
   "codemirror_mode": {
    "name": "ipython",
    "version": 3
   },
   "file_extension": ".py",
   "mimetype": "text/x-python",
   "name": "python",
   "nbconvert_exporter": "python",
   "pygments_lexer": "ipython3",
   "version": "3.7.10"
  }
 },
 "nbformat": 4,
 "nbformat_minor": 5
}