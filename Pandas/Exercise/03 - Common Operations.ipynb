{
 "cells": [
  {
   "cell_type": "markdown",
   "id": "massive-geometry",
   "metadata": {
    "deletable": false,
    "editable": false
   },
   "source": [
    "## ![logo](../../img/license_header_logo.png)\n",
    "> **Copyright &copy; 2021 CertifAI Sdn. Bhd.**<br>\n",
    " <br>\n",
    "This program is part of OSRFramework. You can redistribute it and/or modify\n",
    "<br>it under the terms of the GNU Affero General Public License as published by\n",
    "<br>the Free Software Foundation, either version 3 of the License, or\n",
    "<br>(at your option) any later version.\n",
    "<br>\n",
    "<br>This program is distributed in the hope that it will be useful,\n",
    "<br>but WITHOUT ANY WARRANTY; without even the implied warranty of\n",
    "<br>MERCHANTABILITY or FITNESS FOR A PARTICULAR PURPOSE.  See the\n",
    "<br>GNU Affero General Public License for more details.\n",
    "<br>\n",
    "<br>You should have received a copy of the GNU Affero General Public License\n",
    "<br>along with this program.  If not, see <http://www.gnu.org/licenses/>."
   ]
  },
  {
   "cell_type": "markdown",
   "id": "increasing-waters",
   "metadata": {},
   "source": [
    "# <a name=\"top\">03 - Common Operations</a>\n",
    "Authored by: Scotrraaj Gopal - scotrraaj.gopal@certifai.ai"
   ]
  },
  {
   "cell_type": "markdown",
   "id": "referenced-perspective",
   "metadata": {},
   "source": [
    "## <a name=\"description\">Notebook Description</a>\n",
    "\n",
    "Selecting particular values from a `pandas` DataFrame or Series to work on is an important step in practically any data operation you'll perform, therefore one of the first things you should learn when dealing with data in Python is how to quickly and effectively choose the data points important to you.\n",
    "\n",
    "By the end of this tutorial, you will be able to:\n",
    "\n",
    "1. Understand the difference between `.iloc` and `.loc`.\n",
    "2. Slice and select your data through index, labels and conditions.\n",
    "3. Obtain data by columns and by rows."
   ]
  },
  {
   "cell_type": "markdown",
   "id": "variable-lancaster",
   "metadata": {},
   "source": [
    "## Notebook Outline\n",
    "Here's the outline for this tutorial:\n",
    "1. [Notebook Description](#description)\n",
    "2. [Notebook Configurations](#configuration)\n",
    "3. [Native Accessors](#native)\n",
    "4. [Indexing in `pandas`](#index)\n",
    "    - [`.iloc` - Index based selection](#iloc)\n",
    "    - [`.loc` - Label based selection](#loc)\n",
    "5. [Filtering with Conditions](#conditions)\n",
    "6. [Summary](#summary)\n",
    "7. [Reference](#reference)"
   ]
  },
  {
   "cell_type": "markdown",
   "id": "included-nickel",
   "metadata": {},
   "source": [
    "## <a name=\"configuration\">Notebook Configurations</a>\n",
    "\n",
    "Import the `pandas` module and the dataset from `../../Datasets/pandas/winemag-data-130k-v2.csv`. Name the `DataFrame` object `reviews`."
   ]
  },
  {
   "cell_type": "code",
   "execution_count": null,
   "id": "alpha-bidding",
   "metadata": {
    "deletable": false,
    "nbgrader": {
     "cell_type": "code",
     "checksum": "64072c097497043fc79ad23912c2e429",
     "grade": false,
     "grade_id": "cell-826f6d99baefdbd6",
     "locked": false,
     "schema_version": 3,
     "solution": true,
     "task": false
    }
   },
   "outputs": [],
   "source": [
    "# YOUR CODE HERE\n",
    "\n",
    "reviews"
   ]
  },
  {
   "cell_type": "markdown",
   "id": "44a58644",
   "metadata": {},
   "source": [
    "## <a name=\"native\">Native Accessors</a>\n",
    "\n",
    "The Python and Numpy indexing operators `\"[ ]\"` and attribute operators `\".\"`provide quick and easy access to `pandas` data structures across a wide range of use cases. Say we have a `car` object, for example. It might have a `brand` property, which we can access by calling `car.brand`.\n",
    "\n",
    "Columns in a `DataFrame` object work very much similar in the same way. Let's try to access the `country` property of the `reviews` dataframe."
   ]
  },
  {
   "cell_type": "code",
   "execution_count": null,
   "id": "94dc7207",
   "metadata": {
    "deletable": false,
    "nbgrader": {
     "cell_type": "code",
     "checksum": "dcdb072ba5c7fafef516291c0b99568c",
     "grade": false,
     "grade_id": "cell-86508d003120641d",
     "locked": false,
     "schema_version": 3,
     "solution": true,
     "task": false
    }
   },
   "outputs": [],
   "source": [
    "# Access 'country' property\n",
    "# YOUR CODE HERE\n"
   ]
  },
  {
   "cell_type": "markdown",
   "id": "e8544983",
   "metadata": {},
   "source": [
    "What if you were interested with only the 5th country in that column?\n",
    "> *Note: The first element is in index 0*"
   ]
  },
  {
   "cell_type": "code",
   "execution_count": null,
   "id": "2a7dd8bb",
   "metadata": {
    "deletable": false,
    "nbgrader": {
     "cell_type": "code",
     "checksum": "d9e80d5f1f49514be497a0f1621ca85a",
     "grade": false,
     "grade_id": "cell-b6c0eca32278c73c",
     "locked": false,
     "schema_version": 3,
     "solution": true,
     "task": false
    }
   },
   "outputs": [],
   "source": [
    "# Get 5th country in 'country' column\n",
    "# YOUR CODE HERE\n"
   ]
  },
  {
   "cell_type": "markdown",
   "id": "abb95fc5",
   "metadata": {},
   "source": [
    "What if you were interested with a range of rows? For example, you'd like to know the 6th up until the 9th country in that column.\n",
    "\n",
    "You can either list down every row that you want with `[5,6,7,8]`, or you can also slice them out using `[5:9]`.\n",
    "\n",
    "> *The convention that you have to keep in mind when using square brackets to slice is* `[start:stop:step]`*, in which the default step is equal to 1*"
   ]
  },
  {
   "cell_type": "code",
   "execution_count": null,
   "id": "23ed1a15",
   "metadata": {
    "deletable": false,
    "nbgrader": {
     "cell_type": "code",
     "checksum": "ac9a9660ad5c6f7f9b648acb6ab68a86",
     "grade": false,
     "grade_id": "cell-3acc6387abadcc38",
     "locked": false,
     "schema_version": 3,
     "solution": true,
     "task": false
    }
   },
   "outputs": [],
   "source": [
    "# Listing down the index interested\n",
    "# YOUR CODE HERE\n"
   ]
  },
  {
   "cell_type": "code",
   "execution_count": null,
   "id": "99f6399f",
   "metadata": {
    "deletable": false,
    "nbgrader": {
     "cell_type": "code",
     "checksum": "e475f8356e7c5a238ee20abfe3c72f2a",
     "grade": false,
     "grade_id": "cell-4c8c85b02ab3263c",
     "locked": false,
     "schema_version": 3,
     "solution": true,
     "task": false
    }
   },
   "outputs": [],
   "source": [
    "# Slicing\n",
    "# YOUR CODE HERE\n"
   ]
  },
  {
   "cell_type": "markdown",
   "id": "fe887046",
   "metadata": {},
   "source": [
    "We can also use the indexing operator (`[ ]`) to do the same thing."
   ]
  },
  {
   "cell_type": "code",
   "execution_count": null,
   "id": "76e4826d",
   "metadata": {
    "deletable": false,
    "nbgrader": {
     "cell_type": "code",
     "checksum": "cb0f42a0720ad8a482c77fb5004ad02b",
     "grade": false,
     "grade_id": "cell-d0e220c6a28147af",
     "locked": false,
     "schema_version": 3,
     "solution": true,
     "task": false
    }
   },
   "outputs": [],
   "source": [
    "# Access 'country' property\n",
    "# YOUR CODE HERE\n"
   ]
  },
  {
   "cell_type": "code",
   "execution_count": null,
   "id": "64ba0f93",
   "metadata": {
    "deletable": false,
    "nbgrader": {
     "cell_type": "code",
     "checksum": "c2dfa4888555edb0f47580db2b7bff26",
     "grade": false,
     "grade_id": "cell-d081994b14469d0c",
     "locked": false,
     "schema_version": 3,
     "solution": true,
     "task": false
    }
   },
   "outputs": [],
   "source": [
    "# Get 5th country in 'country' column\n",
    "# YOUR CODE HERE\n"
   ]
  },
  {
   "cell_type": "code",
   "execution_count": null,
   "id": "62ccd8df",
   "metadata": {
    "deletable": false,
    "nbgrader": {
     "cell_type": "code",
     "checksum": "4173b208bad2b3dbeb4cbd0ff6a35b31",
     "grade": false,
     "grade_id": "cell-bb9c696868b14a76",
     "locked": false,
     "schema_version": 3,
     "solution": true,
     "task": false
    }
   },
   "outputs": [],
   "source": [
    "# Listing down the index interested\n",
    "# YOUR CODE HERE\n"
   ]
  },
  {
   "cell_type": "code",
   "execution_count": null,
   "id": "d1967030",
   "metadata": {
    "deletable": false,
    "nbgrader": {
     "cell_type": "code",
     "checksum": "43dd5b976be6398371ff793b6757eef8",
     "grade": false,
     "grade_id": "cell-9a5a5e268499d190",
     "locked": false,
     "schema_version": 3,
     "solution": true,
     "task": false
    }
   },
   "outputs": [],
   "source": [
    "# Slicing\n",
    "# YOUR CODE HERE\n"
   ]
  },
  {
   "cell_type": "markdown",
   "id": "79f0867f",
   "metadata": {},
   "source": [
    "## <a name=\"index\">Indexing in `pandas`</a>\n",
    "The indexing and attribute operators are great as they work just like they do in the rest of the Python ecosystem. As a beginner, this makes them easy to be picked up and used. `pandas` has its own accessor operators which can be really handy when doing more advanced operations.\n",
    "\n",
    "### <a name=\"iloc\">`.iloc` - Index based selection</a>\n",
    "\n",
    "The `.iloc` method is what you're looking for to select data based on its numerical position in the data.\n",
    "\n",
    "> *Note: Both* `.iloc` *and* `.loc` *are row-first, column-second expressions. This is contrary to how we do things in Python, where columns come before rows.*\n",
    "\n",
    "Using `.iloc`, let's try to access the element of the `DataFrame` in the 7th row in the `\"designation\"` column. *(Hint: What's the index of the column with this label?)*"
   ]
  },
  {
   "cell_type": "code",
   "execution_count": null,
   "id": "249d362e",
   "metadata": {
    "deletable": false,
    "nbgrader": {
     "cell_type": "code",
     "checksum": "46e3b1f811cc8ee6275040f3b3f96dd0",
     "grade": false,
     "grade_id": "cell-bf969b77ead5d2e7",
     "locked": false,
     "schema_version": 3,
     "solution": true,
     "task": false
    }
   },
   "outputs": [],
   "source": [
    "# YOUR CODE HERE\n"
   ]
  },
  {
   "cell_type": "markdown",
   "id": "c0b2e6b8",
   "metadata": {},
   "source": [
    "The `:` operator, which is also native Python, signifies \"everything\" on its own. However, when used in conjunction with other selectors, it may be used to represent a range of values. \n",
    "\n",
    "To pick the `\"designation\"` column from only the first, second, and third rows with `.iloc`, we can do it as the following."
   ]
  },
  {
   "cell_type": "code",
   "execution_count": null,
   "id": "0336f24e",
   "metadata": {
    "deletable": false,
    "nbgrader": {
     "cell_type": "code",
     "checksum": "bdb15243c6dd3b5d2bed47be9e13ea1b",
     "grade": false,
     "grade_id": "cell-bf0708ce509d3be4",
     "locked": false,
     "schema_version": 3,
     "solution": true,
     "task": false
    }
   },
   "outputs": [],
   "source": [
    "# YOUR CODE HERE\n",
    "\n",
    "\n",
    "# Try also by listing down the interested index\n",
    "# YOUR CODE HERE\n"
   ]
  },
  {
   "cell_type": "markdown",
   "id": "f3b1e93d",
   "metadata": {},
   "source": [
    "Moreover, it is important to understand that negative values can be utilised in selection. This will **begin counting forwards from the end** of the values. \n",
    "\n",
    "To illustrate this, here are the bottom 7 elements of the `\"designation\"` column."
   ]
  },
  {
   "cell_type": "code",
   "execution_count": null,
   "id": "721b01ae",
   "metadata": {
    "deletable": false,
    "nbgrader": {
     "cell_type": "code",
     "checksum": "4d759b61a9f08a42e107541238d7514b",
     "grade": false,
     "grade_id": "cell-c781dda9780ddd4f",
     "locked": false,
     "schema_version": 3,
     "solution": true,
     "task": false
    }
   },
   "outputs": [],
   "source": [
    "# YOUR CODE HERE\n"
   ]
  },
  {
   "cell_type": "markdown",
   "id": "948f66ee",
   "metadata": {},
   "source": [
    "### <a name=\"loc\">`.loc` - Label based selection</a>\n",
    "\n",
    "The `.loc` method is beneficial when trying to select data based on the data index values which could be in any data types including `int64`, `object` and more.\n",
    "\n",
    "Now, let's try to access the same element in the 7th row in the `\"designation\"` column but this time using `.loc`."
   ]
  },
  {
   "cell_type": "code",
   "execution_count": null,
   "id": "88e83acd",
   "metadata": {
    "deletable": false,
    "nbgrader": {
     "cell_type": "code",
     "checksum": "38dcf2640ee860358eb861d329c3dfcd",
     "grade": false,
     "grade_id": "cell-b982d764b231c00e",
     "locked": false,
     "schema_version": 3,
     "solution": true,
     "task": false
    }
   },
   "outputs": [],
   "source": [
    "# YOUR CODE HERE\n"
   ]
  },
  {
   "cell_type": "code",
   "execution_count": null,
   "id": "f1c56a6e",
   "metadata": {
    "deletable": false,
    "nbgrader": {
     "cell_type": "code",
     "checksum": "de500a642140c65e9daa64fa29e29a2f",
     "grade": false,
     "grade_id": "cell-fbe3cacb29270627",
     "locked": false,
     "schema_version": 3,
     "solution": true,
     "task": false
    }
   },
   "outputs": [],
   "source": [
    "# Try to get the 7th row for every column up until \"designation\"\n",
    "# YOUR CODE HERE\n"
   ]
  },
  {
   "cell_type": "markdown",
   "id": "7079dfcd",
   "metadata": {},
   "source": [
    "Observe that when you used the `:` operator with `\"designation\"`, the `\"designation\"` was included in the result. It occurs because both `.iloc` and `.loc` use slightly different indexing schemes from each other. This behaviour is something that you need to be aware of when choosing between them.\n",
    "\n",
    "For example, you have a `DataFrame`, `df` indexed with numerics from `[0, 1, 2, .... 1000]`. Using `df.iloc[0:1000]` returns 1000 entries while `df.loc[0:1000]` returns 1001! To get 1000 elements with `.loc`, you will need to go one lower and write `df.loc[0:999]`."
   ]
  },
  {
   "cell_type": "code",
   "execution_count": null,
   "id": "86a3639a",
   "metadata": {},
   "outputs": [],
   "source": [
    "# Test it out for yourself.\n",
    "\n",
    "# import numpy as np\n",
    "# data = np.random.randn(1001,2)\n",
    "# df = pd.DataFrame(data)\n",
    "# df.iloc[:1000].shape\n",
    "# # df.iloc[:1000].shape"
   ]
  },
  {
   "cell_type": "markdown",
   "id": "b877299f",
   "metadata": {},
   "source": [
    "## <a name=\"conditions\">Filtering with Conditions</a>\n",
    "\n",
    "We've gone over how to select rows and columns, but what if we wanted to make a conditional selection? While analyzing our data, often we will have questions running in our head. One will be able to tap into the answers to those queries with a smart use of conditions.\n",
    "\n",
    "For example, suppose we want to know which of the wines in Italy are better than the average? Let's work step by step into answerring that question."
   ]
  },
  {
   "cell_type": "code",
   "execution_count": null,
   "id": "2061c986",
   "metadata": {
    "deletable": false,
    "nbgrader": {
     "cell_type": "code",
     "checksum": "77979a6bfd5a57661d4a534e3ad9a1cc",
     "grade": false,
     "grade_id": "cell-d2e74ef10303202a",
     "locked": false,
     "schema_version": 3,
     "solution": true,
     "task": false
    }
   },
   "outputs": [],
   "source": [
    "# YOUR CODE HERE\n"
   ]
  },
  {
   "cell_type": "markdown",
   "id": "3f1295ab",
   "metadata": {},
   "source": [
    "The operation above created a `Series` of boolean values based on the `country` of each entry. This series can then be used inside of `.loc` to select the appropriate data."
   ]
  },
  {
   "cell_type": "code",
   "execution_count": null,
   "id": "b9a39298",
   "metadata": {
    "deletable": false,
    "nbgrader": {
     "cell_type": "code",
     "checksum": "f290775c59ab5a05534f9db2fcf50e64",
     "grade": false,
     "grade_id": "cell-fb03366a24363ac2",
     "locked": false,
     "schema_version": 3,
     "solution": true,
     "task": false
    }
   },
   "outputs": [],
   "source": [
    "# YOUR CODE HERE\n"
   ]
  },
  {
   "cell_type": "markdown",
   "id": "60f27767",
   "metadata": {},
   "source": [
    "Awesome! Now for one more condition. We wanted to know which of the wines were better than average. So, we can base our presumptions based on the points for each wine. Wines are reviewed on a 80-100 point scale, and we can find the mean of all the points with `reviews.points.mean()`.\n",
    "\n",
    "Let's bring both of these conditions together with the ampersand symbol (&) and save our filtered table into `topItalyWines`."
   ]
  },
  {
   "cell_type": "code",
   "execution_count": null,
   "id": "4fd823a1",
   "metadata": {
    "deletable": false,
    "nbgrader": {
     "cell_type": "code",
     "checksum": "ce06007693548ce8fbb126bc706dd45e",
     "grade": false,
     "grade_id": "cell-dc3caa94c4250892",
     "locked": false,
     "schema_version": 3,
     "solution": true,
     "task": false
    }
   },
   "outputs": [],
   "source": [
    "# YOUR CODE HERE\n",
    "\n",
    "\n",
    "topItalyWines"
   ]
  },
  {
   "cell_type": "markdown",
   "id": "4f93331f",
   "metadata": {},
   "source": [
    "What if we wanted to have the same conditions but we would like to include another `country`, say `Brazil`?\n",
    "\n",
    "You can chain the `isin()` method to the first condition and put a list as arguments. Save the results in the variable `topItalyBrazilWines`."
   ]
  },
  {
   "cell_type": "code",
   "execution_count": null,
   "id": "ae59c7d3",
   "metadata": {
    "deletable": false,
    "nbgrader": {
     "cell_type": "code",
     "checksum": "31b99c7fb338f1aee046acf9a3b0f295",
     "grade": true,
     "grade_id": "cell-935d9094c7814fcf",
     "locked": false,
     "points": 0,
     "schema_version": 3,
     "solution": true,
     "task": false
    }
   },
   "outputs": [],
   "source": [
    "# YOUR CODE HERE\n",
    "\n",
    "\n",
    "topItalyBrazilWines"
   ]
  },
  {
   "cell_type": "markdown",
   "id": "a14661d4",
   "metadata": {},
   "source": [
    "Amazing. As you progress in your abilities to filter, you will be able to answer more and more complex questions, critical to your analysis. That is why good data scientists must not only know to code, but must also possess the creativity to ask the right questions.\n",
    "\n",
    "##  <a name=\"summary\">Summary</a>\n",
    "To conclude, you should now be able to:\n",
    "\n",
    "1. Understand the difference between `.iloc` and `.loc`.\n",
    "2. Slice and select your data through index, labels and conditions.\n",
    "3. Obtain data by columns and by rows.\n",
    "\n",
    "Congratulations, that concludes this lesson. In the next tutorial, we'll learn on how to clean up our data and deal with missing values.\n",
    "\n",
    "See you!"
   ]
  },
  {
   "cell_type": "markdown",
   "id": "preceding-protection",
   "metadata": {},
   "source": [
    "## <a name=\"reference\">Reference</a>\n",
    "* [Dataset Source](https://www.kaggle.com/zynicide/wine-reviews)\n",
    "\n",
    "<font size=2>[Back to Top](#top)</font>"
   ]
  }
 ],
 "metadata": {
  "kernelspec": {
   "display_name": "Python 3",
   "language": "python",
   "name": "python3"
  },
  "language_info": {
   "codemirror_mode": {
    "name": "ipython",
    "version": 3
   },
   "file_extension": ".py",
   "mimetype": "text/x-python",
   "name": "python",
   "nbconvert_exporter": "python",
   "pygments_lexer": "ipython3",
   "version": "3.7.10"
  }
 },
 "nbformat": 4,
 "nbformat_minor": 5
}