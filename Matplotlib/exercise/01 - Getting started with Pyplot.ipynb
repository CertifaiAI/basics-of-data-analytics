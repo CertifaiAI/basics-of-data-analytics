{
 "cells": [
  {
   "cell_type": "markdown",
   "metadata": {
    "deletable": false,
    "editable": false,
    "nbgrader": {
     "checksum": "ef2b2dc35254d06508732193e3e6f1aa",
     "grade": false,
     "grade_id": "cell-bfd15e5f8d335758",
     "locked": true,
     "schema_version": 3,
     "solution": false,
     "task": false
    }
   },
   "source": [
    "![logo](../../img/license_header_logo.png)\n",
    "> **Copyright &copy; 2021 CertifAI Sdn. Bhd.**<br>\n",
    " <br>\n",
    "This program and the accompanying materials are made available under the\n",
    "terms of the [Apache License, Version 2.0](https://www.apache.org/licenses/LICENSE-2.0). <br>\n",
    "Unless required by applicable law or agreed to in writing, software\n",
    "distributed under the License is distributed on an \"AS IS\" BASIS, WITHOUT\n",
    "WARRANTIES OR CONDITIONS OF ANY KIND, either express or implied. See the\n",
    "License for the specific language governing permissions and limitations\n",
    "under the License. <br>\n",
    "<br>**SPDX-License-Identifier: Apache-2.0**"
   ]
  },
  {
   "cell_type": "markdown",
   "metadata": {
    "deletable": false,
    "editable": false,
    "nbgrader": {
     "checksum": "d74759810ac54fe221f1b0f21748bb13",
     "grade": false,
     "grade_id": "cell-13ea2be51fcfdef3",
     "locked": true,
     "schema_version": 3,
     "solution": false,
     "task": false
    }
   },
   "source": [
    "# 01 -  Getting started with Pyplot\n",
    "## Introduction\n",
    "Pyplot is a module of Matplotlib which provides simple functions to add plot element. In this hands-on, we will demonstrate the \n",
    "ways of using `Pyplot` to plot the graph.\n",
    "## What will we accomplish?\n",
    "1. Use `Pyplot` to plot perform single plot\n",
    "2. Formating the style of plot and line properties\n",
    "3. Plot multiple plots in one figure\n",
    "    1. Stacking subplots in two directions\n",
    "4. Text in Matplotlib Plots\n",
    "    1. Label for x- and y-axis\n",
    "    2. Move the label position\n",
    "    3. Manipulate font and create math equation label by using math TeX\n",
    "    4. Add text to figure, annotations and legend\n",
    "\n",
    "## Notebook Outline\n",
    "Below is the outline for this tutorial:\n",
    "1. [Single plot](#Singleplot)\n",
    "    1. [Formating the style of plot and line properties](#properties)\n",
    "2. [Multiple plot in one figure](#Multiple)\n",
    "    1. [Stacking subplots in two directions ](#stack)\n",
    "3. [Text in Matplotlib Plots](#text)\n",
    "    1. [Label for x- and y-axis](#label) \n",
    "    2. [Move the label position](#position)\n",
    "    3. [Manipulate font and create math equation label by using TeX](#tex)\n",
    "    4. [Add text to figure,annotations and legend](#figure)\n",
    "4. [Exercise](#Exercise)\n",
    "5. [Summary](#Summary)\n",
    "6. [Reference](#Reference)\n",
    "\n",
    "First, let's import the Pyplot library"
   ]
  },
  {
   "cell_type": "code",
   "execution_count": null,
   "metadata": {
    "deletable": false,
    "editable": false,
    "nbgrader": {
     "checksum": "f15e5c46dc00159e93a2f3ee47caccea",
     "grade": false,
     "grade_id": "cell-bf4cd8ce979cea76",
     "locked": true,
     "schema_version": 3,
     "solution": false,
     "task": false
    }
   },
   "outputs": [],
   "source": [
    "import matplotlib.pyplot as plt \n",
    "import numpy as np"
   ]
  },
  {
   "cell_type": "markdown",
   "metadata": {
    "deletable": false,
    "editable": false,
    "nbgrader": {
     "checksum": "e755adec9fe5441ff5cfbcebdc285ba1",
     "grade": false,
     "grade_id": "cell-cacc0bfc9a000e93",
     "locked": true,
     "schema_version": 3,
     "solution": false,
     "task": false
    }
   },
   "source": [
    "##  <a name=\"Singleplot\">Single plot</a>\n",
    "Let's try to create our first plot by using `plt` function<br>\n",
    "`plt.title` is used to set the plot title as `(\"First plot\")`<br>\n",
    "`plt.xlabel` is used to set the title for x-axis<br>\n",
    "`plt.ylabel` is used to set the title for y-axis<br>\n",
    "`plt.plot` is used to plot the graph by inputing the x-axis elements and y-axis elements\n",
    ">**Expected Result** :<br>\n",
    "![image](https://user-images.githubusercontent.com/59526258/114670294-6ba90a80-9d35-11eb-8b65-6b1060ff258e.png)"
   ]
  },
  {
   "cell_type": "code",
   "execution_count": null,
   "metadata": {
    "deletable": false,
    "nbgrader": {
     "checksum": "76917c2a4e1b06da0d75cd330ce08148",
     "grade": false,
     "grade_id": "cell-61d6e9449e373b75",
     "locked": false,
     "schema_version": 3,
     "solution": true,
     "task": false
    }
   },
   "outputs": [],
   "source": [
    "x = [1,2,3,4,5]\n",
    "y = [2,4,6,8,10]\n",
    "# YOUR CODE HERE\n"
   ]
  },
  {
   "cell_type": "markdown",
   "metadata": {},
   "source": [
    "### <a name=\"properties\">Formating the style of plot and line properties</a>\n",
    "Let's try to use `plt.figure()` to fix the plot size `(figsize =(10,6))` base on above figure<br>\n",
    "`plt.figure` is use to configure the size of the plot <br>\n",
    "*`plt.figure(figsize = (width in inches,height in inches))`* \n",
    ">**Expected Result** :<br>\n",
    "![image](https://user-images.githubusercontent.com/59526258/114670422-8bd8c980-9d35-11eb-8e3b-fad976da6612.png)"
   ]
  },
  {
   "cell_type": "code",
   "execution_count": null,
   "metadata": {
    "deletable": false,
    "nbgrader": {
     "checksum": "625c6141db4e8ad410c7bbe09a5f34ea",
     "grade": false,
     "grade_id": "cell-32216dc042469bf7",
     "locked": false,
     "schema_version": 3,
     "solution": true,
     "task": false
    }
   },
   "outputs": [],
   "source": [
    "# YOUR CODE HERE\n"
   ]
  },
  {
   "cell_type": "markdown",
   "metadata": {},
   "source": [
    "Let's try to pass in the optional third argument which is `[fmt]` in the form of a string that indicates the colour and line type of the plot. The default format is **b-** which means a solid blue line. For more `[fmt]` details, please refer [here](https://matplotlib.org/stable/api/_as_gen/matplotlib.pyplot.plot.html)\n",
    "![image](https://user-images.githubusercontent.com/59526258/113560019-e9ce2880-9634-11eb-821d-b735a99f4f23.png)\n",
    "\n",
    "![image](https://user-images.githubusercontent.com/59526258/113560381-7e388b00-9635-11eb-892e-5024f3e46028.png)\n",
    "\n",
    "Let's try to change the plot into the green circle and red triangle by assign the `[fmt]` with `go` and `r^`.<br>\n",
    "Frist plot -> plot with green circle<br>\n",
    "Second plot -> plot with red triangle<br>\n",
    "*`go` -> green circle*<br>\n",
    "*`r^` -> red triangle*<br>\n",
    "\n",
    ">**Expected Result** :<br>\n",
    "![image](https://user-images.githubusercontent.com/59526258/114670760-f12cba80-9d35-11eb-91fe-9a8f9e997647.png)\n",
    "![image](https://user-images.githubusercontent.com/59526258/114670831-00ac0380-9d36-11eb-99f0-c302f81492dd.png)"
   ]
  },
  {
   "cell_type": "code",
   "execution_count": null,
   "metadata": {},
   "outputs": [],
   "source": [
    "plt.figure(figsize = (10,6))\n",
    "plt.title(\"First plot\")\n",
    "plt.xlabel(\"X-axis\")\n",
    "plt.ylabel(\"Y-axis\")\n",
    "plt.plot(x,y,'go')\n",
    "plt.show()\n",
    "plt.figure(figsize = (10,6))\n",
    "plt.title(\"Second plot\")\n",
    "plt.xlabel(\"X-axis\")\n",
    "plt.ylabel(\"Y-axis\")\n",
    "plt.plot(x,y,'go')\n",
    "plt.plot(x,y,'r^')\n",
    "plt.show()"
   ]
  },
  {
   "cell_type": "markdown",
   "metadata": {},
   "source": [
    "## <a name=\"Multiple\">Multiple plot in one figure</a>\n",
    "We can use a method called `subplot()` from the Matplotlib to add more than one plots in one figure. The `subplot()` method takes three arguments `subplot(nrows, ncols, index, **kwargs)`.<br>\n",
    "*`nrows` -> number of rows*<br>\n",
    "*`ncols` -> number of columns*<br>\n",
    "*`index` -> index number of the sub-plot*<br>\n",
    "\n",
    "For example, we want to create two sub-plots in one figure such that it comes in one row and two columns. Hence, we need the pass the arguments in such a way that `(1,2,1)` and `(1,2,2)` in the `subplot()` method. \n",
    "\n",
    ">*Noted that we can use `suptitle()` method to create a centralized title for the figure.*\n",
    "\n",
    "Let's try to create a subplot by using the previous first and second plot.\n",
    ">**Expected Result** :<br>\n",
    "\n",
    "![image](https://user-images.githubusercontent.com/59526258/114655623-24178400-9d1f-11eb-94e7-44632b7c67e1.png)"
   ]
  },
  {
   "cell_type": "code",
   "execution_count": null,
   "metadata": {
    "deletable": false,
    "nbgrader": {
     "checksum": "63c86a869c2827c5ca7593f085fc36c5",
     "grade": false,
     "grade_id": "cell-b3e62687c2d60baa",
     "locked": false,
     "schema_version": 3,
     "solution": true,
     "task": false
    }
   },
   "outputs": [],
   "source": [
    "# YOUR CODE HERE\n"
   ]
  },
  {
   "cell_type": "markdown",
   "metadata": {},
   "source": [
    "We may arrange our subplot arrange into two rows and a single column by pass the arguments `(2,1,1)` and `(2,1,2)`\n",
    ">**Expected Result** :<br>\n",
    "\n",
    "![image](https://user-images.githubusercontent.com/59526258/114655701-50330500-9d1f-11eb-9d20-756dc2546afd.png)"
   ]
  },
  {
   "cell_type": "code",
   "execution_count": null,
   "metadata": {
    "deletable": false,
    "nbgrader": {
     "checksum": "d3edac3b08c52a1224e0d24780e7b0ab",
     "grade": false,
     "grade_id": "cell-268944bfb9003246",
     "locked": false,
     "schema_version": 3,
     "solution": true,
     "task": false
    }
   },
   "outputs": [],
   "source": [
    "# YOUR CODE HERE\n"
   ]
  },
  {
   "cell_type": "markdown",
   "metadata": {},
   "source": [
    "As you can notice that the axis is overlapping in the subplot figure and the figure size is too small to view. Hence, we can use another method called `subplots` to configure the figsize. <br>\n",
    "\n",
    ">*Notes: Different between `subplot` and `subplots` is the 's' at the end of the word*\n",
    "\n",
    "The `subplots` method takes two arguments `nrows` and `ncols` as the number of rows and number of columns respectively. This method creates two objects: `figure` and `axes` which store in `fig` and `ax` which can be used to change the figure and axes level attributes respectively. <br>\n",
    "\n",
    "We may make the `sharex = True` to make both subplots share the same x-axis.\n",
    "For more details, please refer to [here](https://matplotlib.org/stable/gallery/subplots_axes_and_figures/subplots_demo.html)\n",
    "\n",
    "\n",
    ">**Expected Result** :<br>\n",
    "![image](https://user-images.githubusercontent.com/59526258/114671016-351fbf80-9d36-11eb-848f-885d32ff455c.png)"
   ]
  },
  {
   "cell_type": "code",
   "execution_count": null,
   "metadata": {
    "deletable": false,
    "nbgrader": {
     "checksum": "1518851c4e205b070aab837c8df63b14",
     "grade": false,
     "grade_id": "cell-34cd6ec7d1ea019b",
     "locked": false,
     "schema_version": 3,
     "solution": true,
     "task": false
    }
   },
   "outputs": [],
   "source": [
    "# YOUR CODE HERE\n"
   ]
  },
  {
   "cell_type": "markdown",
   "metadata": {},
   "source": [
    "### <a name=\"stack\">Stacking subplots in two directions</a>\n",
    "We can use `subplots()` to stack the plots when you have many subplots\n",
    ">**Expected Result** :<br>\n",
    "![image](https://user-images.githubusercontent.com/59526258/114655807-86708480-9d1f-11eb-9428-dc8eea9882d6.png)"
   ]
  },
  {
   "cell_type": "code",
   "execution_count": null,
   "metadata": {
    "deletable": false,
    "nbgrader": {
     "checksum": "1289e9b946b238e9ee91aad9851f1eaa",
     "grade": false,
     "grade_id": "cell-50ec879ede918bb8",
     "locked": false,
     "schema_version": 3,
     "solution": true,
     "task": false
    }
   },
   "outputs": [],
   "source": [
    "# YOUR CODE HERE\n"
   ]
  },
  {
   "cell_type": "markdown",
   "metadata": {},
   "source": [
    "## <a name=\"text\">Text in Matplotlib Plots</a>\n",
    "Matplotlib has extensive text support including support for mathematical expressions by implements TeX math symbols and add annotations to the plot. The user has great control over the text properties such as font size, font weight, text location and colour,etc. <br>\n",
    "\n",
    "The `text` method takes few arguments such as x,y and text where:<br>\n",
    "x,y -> the coordinates of the text locate <br>\n",
    "text -> user define text<br>\n",
    "\n",
    "For details, please refer [here](https://matplotlib.org/stable/api/text_api.html#matplotlib.text.Text.set_size)\n",
    "![image](https://user-images.githubusercontent.com/59526258/113817895-9e895680-97a9-11eb-91e0-3db4b438feed.png)\n",
    "Let's have a look on the example shown in below to have a more clear picture about text in plot"
   ]
  },
  {
   "cell_type": "code",
   "execution_count": null,
   "metadata": {},
   "outputs": [],
   "source": [
    "fig = plt.figure(figsize=(10,6))\n",
    "ax = fig.add_subplot()\n",
    "fig.subplots_adjust(top=0.85)\n",
    "\n",
    "# Set titles for the figure and the subplot respectively\n",
    "fig.suptitle('bold figure suptitle', fontsize=14, fontweight='bold')\n",
    "ax.set_title('axes title')\n",
    "\n",
    "# Set label for x-axis and y-axis\n",
    "ax.set_xlabel('xlabel')\n",
    "ax.set_ylabel('ylabel')\n",
    "\n",
    "# Set both x- and y-axis limits to [0, 10] instead of default [0, 1]\n",
    "ax.axis([0, 10, 0, 10])\n",
    "\n",
    "#text\n",
    "# ax.text takes bbox keyword argument, and when given, a box around the text is drawn.\n",
    "# Pad -> height of the boxes\n",
    "# alpha -> colour intensity of the boxes\n",
    "ax.text(3, 8, 'boxed italics text in data coords', style='italic',\n",
    "        bbox={'facecolor': 'red', 'alpha': 0.5, 'pad': 10})\n",
    "\n",
    "# Use Math TeX as the user define word\n",
    "ax.text(2, 6, r'an equation: $E=mc^2$', fontsize=15)\n",
    "\n",
    "# Green color text with fontsize 15\n",
    "ax.text(8, 0.01, 'colored text in axes coords',\n",
    "        verticalalignment='bottom', horizontalalignment='right',\n",
    "        color='green', fontsize=15)\n",
    "\n",
    "# Annotation\n",
    "# location of the annotation\n",
    "ax.plot([2], [1], 'o')\n",
    "# annotation with using arrow\n",
    "ax.annotate('annotate', xy=(2, 1), xytext=(3, 4),\n",
    "            arrowprops=dict(facecolor='black', shrink=0.05))\n",
    "\n",
    "plt.show()"
   ]
  },
  {
   "cell_type": "markdown",
   "metadata": {},
   "source": [
    "### <a name=\"label\">Label for x- and y-axis</a>\n",
    "We can specify the labels for x- and y-axis by using `set_xlabel` and `set_ylabel` methods\n",
    ">**Expected Result** :<br>\n",
    "![image](https://user-images.githubusercontent.com/59526258/114655867-a142f900-9d1f-11eb-8682-7be680e36d15.png)"
   ]
  },
  {
   "cell_type": "code",
   "execution_count": null,
   "metadata": {
    "deletable": false,
    "nbgrader": {
     "checksum": "9365d513965074ac33364e24f09a5aaf",
     "grade": false,
     "grade_id": "cell-99e371dc00a8c49c",
     "locked": false,
     "schema_version": 3,
     "solution": true,
     "task": false
    }
   },
   "outputs": [],
   "source": [
    "x1 = np.linspace(0.0, 5.0, 100)\n",
    "y1 = np.cos(2 * np.pi * x1) * np.exp(-x1)\n",
    "# YOUR CODE HERE\n",
    "\n",
    "\n",
    "plt.show()"
   ]
  },
  {
   "cell_type": "markdown",
   "metadata": {},
   "source": [
    "### <a name=\"position\">Move the label position</a>\n",
    "The `set_xlabel` and `set_ylabel` take the argument `labelpad` which use for spacing the label in the point from the axes bounding box. For more details, please refer [here](https://matplotlib.org/stable/api/_as_gen/matplotlib.axes.Axes.set_xlabel.html)\n",
    ">**Expected Result** :<br>\n",
    "![image](https://user-images.githubusercontent.com/59526258/114655900-b7e95000-9d1f-11eb-9162-6a3c640978d4.png)"
   ]
  },
  {
   "cell_type": "code",
   "execution_count": null,
   "metadata": {
    "deletable": false,
    "nbgrader": {
     "checksum": "e414120cc81a0992be4eaee6d301e8e2",
     "grade": false,
     "grade_id": "cell-7754ad3e2d0a5f99",
     "locked": false,
     "schema_version": 3,
     "solution": true,
     "task": false
    }
   },
   "outputs": [],
   "source": [
    "# YOUR CODE HERE\n"
   ]
  },
  {
   "cell_type": "markdown",
   "metadata": {},
   "source": [
    "The other way to change the position of the label is to manually specify the label positions by using `loc`. For more details, please refer to [here]\n",
    "(https://matplotlib.org/stable/api/_as_gen/matplotlib.axes.Axes.set_xlabel.html)\n",
    ">**Expected Result** :<br>\n",
    "![image](https://user-images.githubusercontent.com/59526258/114655933-cafc2000-9d1f-11eb-9987-240dccf89bc6.png)"
   ]
  },
  {
   "cell_type": "code",
   "execution_count": null,
   "metadata": {
    "deletable": false,
    "nbgrader": {
     "checksum": "ce0d9826ec0f01334ec81c8138e99212",
     "grade": false,
     "grade_id": "cell-ab64f6ba88a280fc",
     "locked": false,
     "schema_version": 3,
     "solution": true,
     "task": false
    }
   },
   "outputs": [],
   "source": [
    "# YOUR CODE HERE\n"
   ]
  },
  {
   "cell_type": "markdown",
   "metadata": {},
   "source": [
    "###  <a name=\"tex\">Manipulate font and create math equation label by using TeX</a>\n",
    "Matplotlib does provide a module call `FontProperties`. It is used to configure the font properties like `Time New Roman`. Furthermore, the font size and font weight of the title, x- and y-axis can be customized by the user. For more details, please refer [here](https://matplotlib.org/stable/api/text_api.html#matplotlib.text.Text)\n"
   ]
  },
  {
   "cell_type": "code",
   "execution_count": null,
   "metadata": {},
   "outputs": [],
   "source": [
    "from matplotlib.font_manager import FontProperties\n",
    "# set font properties\n",
    "font = FontProperties()\n",
    "font.set_family('serif')\n",
    "font.set_name('Times New Roman')\n",
    "font.set_style('italic')\n",
    "\n",
    "fig, ax = plt.subplots(figsize=(10, 6))\n",
    "ax.plot(x1, np.cumsum(y1**2))\n",
    "\n",
    "# Adjust the font size of x-axis\n",
    "ax.set_xlabel('time [s] \\n This was a long experiment',fontproperties = font,fontsize='x-large')\n",
    "\n",
    "# Use Math TeX to make the math symbols as y-axis\n",
    "# Adjust the font size and font weight of y-axis\n",
    "ax.set_ylabel(r'$\\int\\ Y^2\\ dt\\ \\ [V^2 s]$',fontsize='x-large', fontweight='bold')\n",
    "plt.show()"
   ]
  },
  {
   "cell_type": "markdown",
   "metadata": {},
   "source": [
    "### <a name=\"figure\">Add text to figure,annotations and legend</a>\n",
    "Annotations - Annotate certain point in plot. For details in annotations, please refer to [here](https://matplotlib.org/stable/api/_as_gen/matplotlib.axes.Axes.annotate.html) <br>\n",
    "Legend - Legend for a plot. For details in legend, please refer to [here](https://matplotlib.org/stable/tutorials/intermediate/legend_guide.html)"
   ]
  },
  {
   "cell_type": "code",
   "execution_count": null,
   "metadata": {},
   "outputs": [],
   "source": [
    "# Original plot\n",
    "np.random.seed(0)\n",
    "ser = np.random.randn(100) #time series data\n",
    "fig = plt.figure(figsize=(12,8)) \n",
    "ax = fig.add_subplot(111)\n",
    "plt.grid()\n",
    "ax.plot(ser)"
   ]
  },
  {
   "cell_type": "markdown",
   "metadata": {},
   "source": [
    "For annotation, the `annotate()` takes in two arguments,<br>\n",
    "text -> The text of the annotation.<br>\n",
    "xy -> The point (x, y) to annotate. <br>\n",
    "In this annotations example as shown below, `arrowprops` is used to add in the arrow graphic and point to the `xy` location.<br>\n",
    "For details of annotations, please refer to [here](https://matplotlib.org/stable/api/_as_gen/matplotlib.axes.Axes.annotate.html)\n",
    "![image](https://user-images.githubusercontent.com/59526258/113684220-996bcf00-96f7-11eb-92f9-337c5f4e40f2.png)"
   ]
  },
  {
   "cell_type": "code",
   "execution_count": null,
   "metadata": {},
   "outputs": [],
   "source": [
    "# After add text to figure, annotations and legend\n",
    "fig = plt.figure(figsize=(12,8)) \n",
    "ax = fig.add_subplot(111)\n",
    "plt.grid()\n",
    "ax.plot(ser,label=\"Stock Price\")\n",
    "#title\n",
    "ax.set_title('Time Series Plot', fontsize=18, fontweight='bold')\n",
    "\n",
    "# Axis title\n",
    "ax.set_xlabel('Day', fontsize=15)\n",
    "ax.set_ylabel('Value', fontsize=15)\n",
    "\n",
    "# Axis limits\n",
    "ax.axis([0,100, -5, 5])\n",
    "\n",
    "# Text\n",
    "# ax.text takes bbox keyword argument, and when given, a box around the text is drawn.\n",
    "ax.text(3, 4, 'Random Noise', style='italic', fontsize=12,\n",
    "        bbox={'facecolor': 'grey', 'alpha': 0.5, 'pad': 10})\n",
    "\n",
    "# Red color text with fontsize 15\n",
    "ax.text(60, 4.1, 'No continuous trend observed', fontsize=15,  color='red')\n",
    "\n",
    "# Annotation\n",
    "# Location of the annotation\n",
    "ax.plot([24], [2.26], 'o')\n",
    "\n",
    "# Annotation with using arrow\n",
    "ax.annotate('peak', xy=(24, 2.26), xytext=(40, 4), fontsize=12,\n",
    "            arrowprops=dict(facecolor='black', shrink=0.05))\n",
    "\n",
    "# Add in legend, loc is use to change the location of the legend\n",
    "ax.legend(loc = \"lower center\")"
   ]
  },
  {
   "cell_type": "markdown",
   "metadata": {},
   "source": [
    "## <a name=\"Exercise\">Exercise</a>\n",
    "\n",
    "### Introduction\n",
    "You are given a set of data that contain the number of COVID-19 cases in Malaysia. You are required to use method in matplotlib to create a visualize plot base on the **Expected Result** \n",
    "\n",
    ">**Instruction:**<br>\n",
    "    1. Create a subplot for the COVID-19 cases base on the **Expected Result** by using `covid_confirm`,`covid_deaths`,`covid_recover`<br>\n",
    "    2. Set your font properties of x-axis, y-axis and title with `fontsize ='large'` and `fontweight = 'normal'`<br>\n",
    "    3. The figsize for each subplot is `figsize=(10,6)`\n",
    "\n",
    ">**Expected Result:**\n",
    "![image](https://user-images.githubusercontent.com/59526258/113832568-5115e500-97bb-11eb-851e-a7f78a867022.png)"
   ]
  },
  {
   "cell_type": "code",
   "execution_count": null,
   "metadata": {
    "deletable": false,
    "editable": false,
    "nbgrader": {
     "checksum": "6271557e592427a41da85502e63cde44",
     "grade": false,
     "grade_id": "cell-b3493bcd57362c6e",
     "locked": true,
     "schema_version": 3,
     "solution": false,
     "task": false
    }
   },
   "outputs": [],
   "source": [
    "from pathlib import Path\n",
    "import pandas as pd\n",
    "\n",
    "# Read and preprocess the dataset\n",
    "dataste_dir_path = Path().resolve().parent/'Datasets'\n",
    "data_dir_path = dataste_dir_path/'covid_19_data.csv'\n",
    "covid_data = pd.read_csv(data_dir_path)\n",
    "new_covid_data = covid_data.loc[covid_data[\"Country/Region\"] == 'Malaysia']\n",
    "new_covid_data = new_covid_data.set_index(pd.to_datetime(new_covid_data[\"ObservationDate\"]))\n",
    "new_covid_data = new_covid_data.drop(columns = ['SNo','ObservationDate','Province/State','Country/Region','Last Update'])\n",
    "new_covid_data.head()"
   ]
  },
  {
   "cell_type": "code",
   "execution_count": null,
   "metadata": {
    "deletable": false,
    "editable": false,
    "nbgrader": {
     "checksum": "84f6ff5db5274ae4bad32d474f917862",
     "grade": false,
     "grade_id": "cell-183af34ee6d6640c",
     "locked": true,
     "schema_version": 3,
     "solution": false,
     "task": false
    }
   },
   "outputs": [],
   "source": [
    "# Save the data base on columns name\n",
    "covid_confirm = new_covid_data.Confirmed\n",
    "covid_deaths = new_covid_data.Deaths\n",
    "covid_recover = new_covid_data.Recovered"
   ]
  },
  {
   "cell_type": "code",
   "execution_count": null,
   "metadata": {
    "deletable": false,
    "nbgrader": {
     "checksum": "610587d8f08e7f1532bdb37f5b3db802",
     "grade": false,
     "grade_id": "cell-5190983b856c80f0",
     "locked": false,
     "schema_version": 3,
     "solution": true,
     "task": false
    }
   },
   "outputs": [],
   "source": [
    "# YOUR CODE HERE\n"
   ]
  },
  {
   "cell_type": "markdown",
   "metadata": {},
   "source": [
    "#  <a name=\"Summary\">Summary</a>\n",
    "From this tutorial, you should have learned:\n",
    "1. Use `Pyplot` to create a single plot.\n",
    "2. Formating the plot style and line properties.\n",
    "3. Plot multiple plots in one figure using subplot and subplots.\n",
    "4. Customize text, annotations and legend into figure.\n",
    "\n",
    "Congratulations, that concludes this lesson.    "
   ]
  },
  {
   "cell_type": "markdown",
   "metadata": {},
   "source": [
    "#  <a name=\"Reference\">Reference</a>\n",
    "1. [Matplotlib Tutorial: Learn basics of Python’s powerful Plotting library](https://towardsdatascience.com/matplotlib-tutorial-learn-basics-of-pythons-powerful-plotting-library-b5d1b8f67596)\n",
    "2. [Matplotlib Tips: How to Add Text on Plots](https://towardsdatascience.com/matplotlib-tips-how-to-add-text-on-plots-33a87bdd7605)\n",
    "3. [Matplotlib Documentation](https://matplotlib.org/stable/contents.html) "
   ]
  }
 ],
 "metadata": {
  "celltoolbar": "Edit Metadata",
  "kernelspec": {
   "display_name": "Python 3",
   "language": "python",
   "name": "python3"
  },
  "language_info": {
   "codemirror_mode": {
    "name": "ipython",
    "version": 3
   },
   "file_extension": ".py",
   "mimetype": "text/x-python",
   "name": "python",
   "nbconvert_exporter": "python",
   "pygments_lexer": "ipython3",
   "version": "3.7.9"
  },
  "varInspector": {
   "cols": {
    "lenName": 16,
    "lenType": 16,
    "lenVar": 40
   },
   "kernels_config": {
    "python": {
     "delete_cmd_postfix": "",
     "delete_cmd_prefix": "del ",
     "library": "var_list.py",
     "varRefreshCmd": "print(var_dic_list())"
    },
    "r": {
     "delete_cmd_postfix": ") ",
     "delete_cmd_prefix": "rm(",
     "library": "var_list.r",
     "varRefreshCmd": "cat(var_dic_list()) "
    }
   },
   "types_to_exclude": [
    "module",
    "function",
    "builtin_function_or_method",
    "instance",
    "_Feature"
   ],
   "window_display": false
  }
 },
 "nbformat": 4,
 "nbformat_minor": 4
}
