{
 "cells": [
  {
   "cell_type": "markdown",
   "id": "proved-dairy",
   "metadata": {
    "deletable": false,
    "editable": false
   },
   "source": [
    "![logo](../../img/license_header_logo.png)\n",
    "> **Copyright &copy; 2021 CertifAI Sdn. Bhd.**<br>\n",
    " <br>\n",
    "This program and the accompanying materials are made available under the\n",
    "terms of the [Apache License, Version 2.0](https://www.apache.org/licenses/LICENSE-2.0). <br>\n",
    "Unless required by applicable law or agreed to in writing, software\n",
    "distributed under the License is distributed on an \"AS IS\" BASIS, WITHOUT\n",
    "WARRANTIES OR CONDITIONS OF ANY KIND, either express or implied. See the\n",
    "License for the specific language governing permissions and limitations\n",
    "under the License. <br>\n",
    "<br>**SPDX-License-Identifier: Apache-2.0**"
   ]
  },
  {
   "cell_type": "markdown",
   "id": "offensive-model",
   "metadata": {},
   "source": [
    "## <a name=\"Exercise\">Exercise</a>\n",
    "\n",
    "### Introduction\n",
    "You are given a set of data that contain the number of COVID-19 cases in Malaysia. You are required to use method in matplotlib to create a visualize plot base on the **Expected Result** \n",
    "\n",
    "## Notebook Outline\n",
    "Below is the outline for this exercise:\n",
    "1. [Exercise](#Exercise)\n",
    "2. [Summary](#Summary)\n",
    "3. [Reference](#Reference)\n",
    "\n",
    ">**Instruction:**<br>\n",
    "    1. Create a subplot for the COVID-19 cases base on the **Expected Result** by using `covid_confirm`,`covid_deaths`,`covid_recover`<br>\n",
    "    2. Set your font properties of x-axis, y-axis and title with `fontsize ='large'` and `fontweight = 'normal'`<br>\n",
    "    3. The figsize for each subplot is `figsize=(10,6)`\n",
    "\n",
    ">**Expected Result:**\n",
    "![image](https://user-images.githubusercontent.com/59526258/113832568-5115e500-97bb-11eb-851e-a7f78a867022.png)"
   ]
  },
  {
   "cell_type": "code",
   "execution_count": 1,
   "id": "solved-magazine",
   "metadata": {},
   "outputs": [
    {
     "data": {
      "text/html": [
       "<div>\n",
       "<style scoped>\n",
       "    .dataframe tbody tr th:only-of-type {\n",
       "        vertical-align: middle;\n",
       "    }\n",
       "\n",
       "    .dataframe tbody tr th {\n",
       "        vertical-align: top;\n",
       "    }\n",
       "\n",
       "    .dataframe thead th {\n",
       "        text-align: right;\n",
       "    }\n",
       "</style>\n",
       "<table border=\"1\" class=\"dataframe\">\n",
       "  <thead>\n",
       "    <tr style=\"text-align: right;\">\n",
       "      <th></th>\n",
       "      <th>Confirmed</th>\n",
       "      <th>Deaths</th>\n",
       "      <th>Recovered</th>\n",
       "    </tr>\n",
       "    <tr>\n",
       "      <th>ObservationDate</th>\n",
       "      <th></th>\n",
       "      <th></th>\n",
       "      <th></th>\n",
       "    </tr>\n",
       "  </thead>\n",
       "  <tbody>\n",
       "    <tr>\n",
       "      <th>2020-01-23</th>\n",
       "      <td>0.0</td>\n",
       "      <td>0.0</td>\n",
       "      <td>0.0</td>\n",
       "    </tr>\n",
       "    <tr>\n",
       "      <th>2020-01-25</th>\n",
       "      <td>3.0</td>\n",
       "      <td>0.0</td>\n",
       "      <td>0.0</td>\n",
       "    </tr>\n",
       "    <tr>\n",
       "      <th>2020-01-26</th>\n",
       "      <td>4.0</td>\n",
       "      <td>0.0</td>\n",
       "      <td>0.0</td>\n",
       "    </tr>\n",
       "    <tr>\n",
       "      <th>2020-01-27</th>\n",
       "      <td>4.0</td>\n",
       "      <td>0.0</td>\n",
       "      <td>0.0</td>\n",
       "    </tr>\n",
       "    <tr>\n",
       "      <th>2020-01-28</th>\n",
       "      <td>4.0</td>\n",
       "      <td>0.0</td>\n",
       "      <td>0.0</td>\n",
       "    </tr>\n",
       "  </tbody>\n",
       "</table>\n",
       "</div>"
      ],
      "text/plain": [
       "                 Confirmed  Deaths  Recovered\n",
       "ObservationDate                              \n",
       "2020-01-23             0.0     0.0        0.0\n",
       "2020-01-25             3.0     0.0        0.0\n",
       "2020-01-26             4.0     0.0        0.0\n",
       "2020-01-27             4.0     0.0        0.0\n",
       "2020-01-28             4.0     0.0        0.0"
      ]
     },
     "execution_count": 1,
     "metadata": {},
     "output_type": "execute_result"
    }
   ],
   "source": [
    "from pathlib import Path\n",
    "import pandas as pd\n",
    "import matplotlib.pyplot as plt \n",
    "import numpy as np\n",
    "\n",
    "# Read and preprocess the dataset\n",
    "dataste_dir_path = Path().resolve().parent.parent/'Datasets'\n",
    "data_dir_path = dataste_dir_path/'covid_19_data.csv'\n",
    "covid_data = pd.read_csv(data_dir_path)\n",
    "new_covid_data = covid_data.loc[covid_data[\"Country/Region\"] == 'Malaysia']\n",
    "new_covid_data = new_covid_data.set_index(pd.to_datetime(new_covid_data[\"ObservationDate\"]))\n",
    "new_covid_data = new_covid_data.drop(columns = ['SNo','ObservationDate','Province/State','Country/Region','Last Update'])\n",
    "new_covid_data.head()"
   ]
  },
  {
   "cell_type": "code",
   "execution_count": 2,
   "id": "spanish-slovakia",
   "metadata": {},
   "outputs": [],
   "source": [
    "# Save the data base on columns name\n",
    "covid_confirm = new_covid_data.Confirmed\n",
    "covid_deaths = new_covid_data.Deaths\n",
    "covid_recover = new_covid_data.Recovered"
   ]
  },
  {
   "cell_type": "code",
   "execution_count": 3,
   "id": "clear-highway",
   "metadata": {
    "nbgrader": {
     "grade": false,
     "grade_id": "cell-0e7d2989391d66e8",
     "locked": false,
     "schema_version": 3,
     "solution": true,
     "task": false
    }
   },
   "outputs": [
    {
     "data": {
      "text/plain": [
       "Text(0.0, 0.5, 'Number of Cases')"
      ]
     },
     "execution_count": 3,
     "metadata": {},
     "output_type": "execute_result"
    },
    {
     "data": {
      "image/png": "[encoded data removed]",
      "text/plain": [
       "<Figure size 720x432 with 3 Axes>"
      ]
     },
     "metadata": {
      "needs_background": "light"
     },
     "output_type": "display_data"
    }
   ],
   "source": [
    "### BEGIN SOLUTION\n",
    "fig, ax = plt.subplots(nrows=3 , ncols=1, figsize=(10,6),sharex=True)\n",
    "ax[0].plot(covid_confirm,'r-',label = ' COVID-19 Confirmed Case')\n",
    "ax[1].plot(covid_deaths,label = \" COVID-19  Death Case\")\n",
    "ax[2].plot(covid_recover,'g-',label = \"COVID-19  Recovered Case\")\n",
    "ax[2].set_xlabel(\"Date\",fontsize ='large' ,fontweight = 'normal')\n",
    "plt.suptitle(\"Status Of COVID-19 in Malaysia\")\n",
    "for i in range(3):\n",
    "    ax[i].legend()\n",
    "fig.text(0.0,0.5,\"Number of Cases\",ha ='center',va='center',rotation = 'vertical',fontsize ='large' ,fontweight = 'normal')\n",
    "### END SOLUTION"
   ]
  },
  {
   "cell_type": "markdown",
   "id": "political-celtic",
   "metadata": {},
   "source": [
    "#  <a name=\"Summary\">Summary</a>\n",
    "From this exercise, you should have learned:\n",
    "1. Use `Pyplot` to create a single plot.\n",
    "2. Formating the plot style and line properties.\n",
    "3. Plot multiple plots in one figure using subplot and subplots.\n",
    "4. Customize text, annotations and legend into figure.\n",
    "\n",
    "Congratulations, that concludes this exercise.    "
   ]
  },
  {
   "cell_type": "markdown",
   "id": "impressive-guard",
   "metadata": {},
   "source": [
    "#  <a name=\"Reference\">Reference</a>\n",
    "1. [Matplotlib Tutorial: Learn basics of Python’s powerful Plotting library](https://towardsdatascience.com/matplotlib-tutorial-learn-basics-of-pythons-powerful-plotting-library-b5d1b8f67596)\n",
    "2. [Matplotlib Tips: How to Add Text on Plots](https://towardsdatascience.com/matplotlib-tips-how-to-add-text-on-plots-33a87bdd7605)\n",
    "3. [Matplotlib Documentation](https://matplotlib.org/stable/contents.html) "
   ]
  }
 ],
 "metadata": {
  "celltoolbar": "Create Assignment",
  "kernelspec": {
   "display_name": "Python 3",
   "language": "python",
   "name": "python3"
  },
  "language_info": {
   "codemirror_mode": {
    "name": "ipython",
    "version": 3
   },
   "file_extension": ".py",
   "mimetype": "text/x-python",
   "name": "python",
   "nbconvert_exporter": "python",
   "pygments_lexer": "ipython3",
   "version": "3.7.9"
  },
  "varInspector": {
   "cols": {
    "lenName": 16,
    "lenType": 16,
    "lenVar": 40
   },
   "kernels_config": {
    "python": {
     "delete_cmd_postfix": "",
     "delete_cmd_prefix": "del ",
     "library": "var_list.py",
     "varRefreshCmd": "print(var_dic_list())"
    },
    "r": {
     "delete_cmd_postfix": ") ",
     "delete_cmd_prefix": "rm(",
     "library": "var_list.r",
     "varRefreshCmd": "cat(var_dic_list()) "
    }
   },
   "types_to_exclude": [
    "module",
    "function",
    "builtin_function_or_method",
    "instance",
    "_Feature"
   ],
   "window_display": false
  }
 },
 "nbformat": 4,
 "nbformat_minor": 5
}
