{
 "cells": [
  {
   "cell_type": "markdown",
   "id": "stuck-factor",
   "metadata": {
    "deletable": false,
    "editable": false
   },
   "source": [
    "![logo](../../img/license_header_logo.png)\n",
    "> **Copyright &copy; 2021 CertifAI Sdn. Bhd.**<br>\n",
    " <br>\n",
    "This program and the accompanying materials are made available under the\n",
    "terms of the [Apache License, Version 2.0](https://www.apache.org/licenses/LICENSE-2.0). <br>\n",
    "Unless required by applicable law or agreed to in writing, software\n",
    "distributed under the License is distributed on an \"AS IS\" BASIS, WITHOUT\n",
    "WARRANTIES OR CONDITIONS OF ANY KIND, either express or implied. See the\n",
    "License for the specific language governing permissions and limitations\n",
    "under the License. <br>\n",
    "<br>**SPDX-License-Identifier: Apache-2.0**"
   ]
  },
  {
   "cell_type": "markdown",
   "id": "israeli-plenty",
   "metadata": {},
   "source": [
    "## <a name=\"Exercise \">Exercise</a>\n",
    "### Introduction\n",
    "You are given a set of data that contain the number of COVID-19 cases in Malaysia. You are required to create:\n",
    "1. Histogram for each column data: `Confirmed`, `Death`, `Recovered`.\n",
    "2. Boxplot for each column data: `Confirmed`, `Death`, `Recovered`.\n",
    "3. Scatter plot between `Confirmed` and `Deaths` cases.\n",
    "\n",
    "### Notebook Outline\n",
    "Below is the outline for this tutorial:\n",
    "1. [Exercise](#Exercise)\n",
    "2. [Summary](#Summary)\n",
    "3. [Reference](#Reference)\n",
    "\n",
    "First, let us read and preprocess the COVID-19 dataset."
   ]
  },
  {
   "cell_type": "code",
   "execution_count": 3,
   "id": "given-slovenia",
   "metadata": {},
   "outputs": [
    {
     "data": {
      "text/html": [
       "<div>\n",
       "<style scoped>\n",
       "    .dataframe tbody tr th:only-of-type {\n",
       "        vertical-align: middle;\n",
       "    }\n",
       "\n",
       "    .dataframe tbody tr th {\n",
       "        vertical-align: top;\n",
       "    }\n",
       "\n",
       "    .dataframe thead th {\n",
       "        text-align: right;\n",
       "    }\n",
       "</style>\n",
       "<table border=\"1\" class=\"dataframe\">\n",
       "  <thead>\n",
       "    <tr style=\"text-align: right;\">\n",
       "      <th></th>\n",
       "      <th>Confirmed</th>\n",
       "      <th>Deaths</th>\n",
       "      <th>Recovered</th>\n",
       "    </tr>\n",
       "    <tr>\n",
       "      <th>ObservationDate</th>\n",
       "      <th></th>\n",
       "      <th></th>\n",
       "      <th></th>\n",
       "    </tr>\n",
       "  </thead>\n",
       "  <tbody>\n",
       "    <tr>\n",
       "      <th>2020-01-23</th>\n",
       "      <td>0.0</td>\n",
       "      <td>0.0</td>\n",
       "      <td>0.0</td>\n",
       "    </tr>\n",
       "    <tr>\n",
       "      <th>2020-01-25</th>\n",
       "      <td>3.0</td>\n",
       "      <td>0.0</td>\n",
       "      <td>0.0</td>\n",
       "    </tr>\n",
       "    <tr>\n",
       "      <th>2020-01-26</th>\n",
       "      <td>4.0</td>\n",
       "      <td>0.0</td>\n",
       "      <td>0.0</td>\n",
       "    </tr>\n",
       "    <tr>\n",
       "      <th>2020-01-27</th>\n",
       "      <td>4.0</td>\n",
       "      <td>0.0</td>\n",
       "      <td>0.0</td>\n",
       "    </tr>\n",
       "    <tr>\n",
       "      <th>2020-01-28</th>\n",
       "      <td>4.0</td>\n",
       "      <td>0.0</td>\n",
       "      <td>0.0</td>\n",
       "    </tr>\n",
       "  </tbody>\n",
       "</table>\n",
       "</div>"
      ],
      "text/plain": [
       "                 Confirmed  Deaths  Recovered\n",
       "ObservationDate                              \n",
       "2020-01-23             0.0     0.0        0.0\n",
       "2020-01-25             3.0     0.0        0.0\n",
       "2020-01-26             4.0     0.0        0.0\n",
       "2020-01-27             4.0     0.0        0.0\n",
       "2020-01-28             4.0     0.0        0.0"
      ]
     },
     "execution_count": 3,
     "metadata": {},
     "output_type": "execute_result"
    }
   ],
   "source": [
    "from pathlib import Path\n",
    "import matplotlib.pyplot as plt\n",
    "import numpy as np\n",
    "import pandas as pd\n",
    "# Read and preprocess the dataset\n",
    "dataste_dir_path = Path().resolve().parent.parent/'Datasets'\n",
    "data_dir_path = dataste_dir_path/'covid_19_data.csv'\n",
    "covid_data = pd.read_csv(data_dir_path)\n",
    "new_covid_data = covid_data.loc[covid_data[\"Country/Region\"] == 'Malaysia']\n",
    "new_covid_data = new_covid_data.set_index(pd.to_datetime(new_covid_data[\"ObservationDate\"]))\n",
    "new_covid_data = new_covid_data.drop(columns = ['SNo','ObservationDate','Province/State','Country/Region','Last Update'])\n",
    "new_covid_data.head()"
   ]
  },
  {
   "cell_type": "markdown",
   "id": "instant-roommate",
   "metadata": {},
   "source": [
    ">**Instruction:**<br>\n",
    "Set your default plot size to (8,6) by using `plt.rcParams[\"figure.figsize\"]`\n",
    "    \n",
    ">**Expected Result:**<br>\n",
    "`print(plt.rcParams[\"figure.figsize\"])`:<br>\n",
    "`[8.0, 6.0]`"
   ]
  },
  {
   "cell_type": "code",
   "execution_count": 4,
   "id": "japanese-housing",
   "metadata": {
    "nbgrader": {
     "grade": false,
     "grade_id": "cell-a0236c00a9b42a1d",
     "locked": false,
     "schema_version": 3,
     "solution": true,
     "task": false
    }
   },
   "outputs": [],
   "source": [
    "### BEGIN SOLUTION\n",
    "plt.rcParams[\"figure.figsize\"] = (8,6)\n",
    "### END SOLUTION"
   ]
  },
  {
   "cell_type": "code",
   "execution_count": 5,
   "id": "particular-purchase",
   "metadata": {},
   "outputs": [
    {
     "name": "stdout",
     "output_type": "stream",
     "text": [
      "[8.0, 6.0]\n"
     ]
    }
   ],
   "source": [
    "print(plt.rcParams[\"figure.figsize\"])"
   ]
  },
  {
   "cell_type": "markdown",
   "id": "composed-contrast",
   "metadata": {},
   "source": [
    ">**Instruction:**<br>\n",
    "    1. Create a histogram for each column data in `new_covid_data`<br>\n",
    "    2. The plot result must be similar to **Expected Result**<br>\n",
    "    \n",
    ">**Expected Result:**<br>\n",
    "![image](https://user-images.githubusercontent.com/59526258/114000954-0fa23a00-988e-11eb-9c33-ac9a28053e0f.png)"
   ]
  },
  {
   "cell_type": "code",
   "execution_count": 6,
   "id": "stable-calendar",
   "metadata": {
    "nbgrader": {
     "grade": false,
     "grade_id": "cell-73001cef1eaca179",
     "locked": false,
     "schema_version": 3,
     "solution": true,
     "task": false
    }
   },
   "outputs": [
    {
     "data": {
      "image/png": "[encoded data removed]",
      "text/plain": [
       "<Figure size 576x432 with 3 Axes>"
      ]
     },
     "metadata": {
      "needs_background": "light"
     },
     "output_type": "display_data"
    }
   ],
   "source": [
    "### BEGIN SOLUTION\n",
    "fig, ax = plt.subplots(nrows=3,ncols=1)\n",
    "color = ['green','red','blue']\n",
    "plt.suptitle(\"COVID-19 Cases in Malaysia\")\n",
    "for index in range(len(new_covid_data.columns)):\n",
    "    ax[index].hist(new_covid_data[str(new_covid_data.columns[index])],label = new_covid_data.columns[index],\n",
    "                  color = color[index])\n",
    "    ax[index].legend()\n",
    "### END SOLUTION"
   ]
  },
  {
   "cell_type": "markdown",
   "id": "gentle-percentage",
   "metadata": {},
   "source": [
    ">**Instruction:**<br>\n",
    "    1. Create a box plot for each column data in `new_covid_data`.<br>\n",
    "    2. The plot result must be similar to **Expected Result**.<br>\n",
    "    \n",
    ">*Hints: use `set_xticklabels` to help you changing the x-label.*\n",
    "    \n",
    ">**Expected Result:**<br>\n",
    "![image](https://user-images.githubusercontent.com/59526258/114003230-28abea80-9890-11eb-9c9d-61cef8daf257.png)"
   ]
  },
  {
   "cell_type": "code",
   "execution_count": 7,
   "id": "illegal-conservation",
   "metadata": {
    "nbgrader": {
     "grade": false,
     "grade_id": "cell-847e7e8655188ff2",
     "locked": false,
     "schema_version": 3,
     "solution": true,
     "task": false
    }
   },
   "outputs": [
    {
     "data": {
      "image/png": "[encoded data removed]",
      "text/plain": [
       "<Figure size 576x432 with 3 Axes>"
      ]
     },
     "metadata": {
      "needs_background": "light"
     },
     "output_type": "display_data"
    }
   ],
   "source": [
    "# Creating plot\n",
    "### BEGIN SOLUTION\n",
    "fig, ax = plt.subplots(nrows=3,ncols=1)\n",
    "plt.suptitle(\"COVID-19 Cases in Malaysia\")\n",
    "for index in range(len(new_covid_data.columns)):\n",
    "    ax[index].boxplot(new_covid_data[str(new_covid_data.columns[index])])  \n",
    "    ax[index].set_xticklabels([new_covid_data.columns[index]])\n",
    "### END SOLUTION"
   ]
  },
  {
   "cell_type": "markdown",
   "id": "increased-discussion",
   "metadata": {},
   "source": [
    ">**Instruction:**<br>\n",
    "    1. Create a scatter plot to examine the relationship between `Confirmed` and `Deaths` with `alpha = 0.5`.<br>\n",
    "    2. The plot result must be similar to the **Expected Result**.<br>\n",
    "    \n",
    "    \n",
    ">**Expected Result:**<br>\n",
    "![image](https://user-images.githubusercontent.com/59526258/114004060-de773900-9890-11eb-99ea-f7c6aa4de9d3.png)"
   ]
  },
  {
   "cell_type": "code",
   "execution_count": 8,
   "id": "chicken-method",
   "metadata": {
    "nbgrader": {
     "grade": false,
     "grade_id": "cell-413c3cf61a3cff34",
     "locked": false,
     "schema_version": 3,
     "solution": true,
     "task": false
    }
   },
   "outputs": [
    {
     "data": {
      "text/plain": [
       "Text(0, 0.5, 'Deaths Cases')"
      ]
     },
     "execution_count": 8,
     "metadata": {},
     "output_type": "execute_result"
    },
    {
     "data": {
      "image/png": "[encoded data removed]",
      "text/plain": [
       "<Figure size 576x432 with 1 Axes>"
      ]
     },
     "metadata": {
      "needs_background": "light"
     },
     "output_type": "display_data"
    }
   ],
   "source": [
    "### BEGIN SOLUTION\n",
    "plt.scatter(new_covid_data.Confirmed,new_covid_data.Deaths,alpha=0.5)\n",
    "plt.suptitle(\"COVID-19 Cases in Malaysia\")\n",
    "plt.xlabel(\"Confirmed Cases\")\n",
    "plt.ylabel(\"Deaths Cases\")\n",
    "### END SOLUTION"
   ]
  },
  {
   "cell_type": "markdown",
   "id": "practical-clinton",
   "metadata": {},
   "source": [
    "# <a name=\"Summary\">Summary</a>\n",
    "From this tutorial, you should have learned:\n",
    "1. Creating different types of graphs with Pyplot.\n",
    "2. Familiar with the process of creating Histogram, Scatter Plot and Boxplot.\n",
    "\n",
    "Congratulations, that concludes this lesson. "
   ]
  },
  {
   "cell_type": "markdown",
   "id": "friendly-solomon",
   "metadata": {},
   "source": [
    "##  <a name=\"Reference\">Reference</a>\n",
    "1. [Headstart to Plotting Graphs using Matplotlib library](https://www.analyticsvidhya.com/blog/2020/10/headstart-to-plotting-graphs-using-matplotlib-library/)\n",
    "2. [Matplotlib Histograms](https://www.w3schools.com/python/matplotlib_histograms.asp)\n",
    "3. [Matplotlib Scatter Plot - Tutorial and Examples](https://stackabuse.com/matplotlib-scatterplot-tutorial-and-examples/)"
   ]
  }
 ],
 "metadata": {
  "celltoolbar": "Create Assignment",
  "kernelspec": {
   "display_name": "Python 3",
   "language": "python",
   "name": "python3"
  },
  "language_info": {
   "codemirror_mode": {
    "name": "ipython",
    "version": 3
   },
   "file_extension": ".py",
   "mimetype": "text/x-python",
   "name": "python",
   "nbconvert_exporter": "python",
   "pygments_lexer": "ipython3",
   "version": "3.7.9"
  },
  "varInspector": {
   "cols": {
    "lenName": 16,
    "lenType": 16,
    "lenVar": 40
   },
   "kernels_config": {
    "python": {
     "delete_cmd_postfix": "",
     "delete_cmd_prefix": "del ",
     "library": "var_list.py",
     "varRefreshCmd": "print(var_dic_list())"
    },
    "r": {
     "delete_cmd_postfix": ") ",
     "delete_cmd_prefix": "rm(",
     "library": "var_list.r",
     "varRefreshCmd": "cat(var_dic_list()) "
    }
   },
   "types_to_exclude": [
    "module",
    "function",
    "builtin_function_or_method",
    "instance",
    "_Feature"
   ],
   "window_display": false
  }
 },
 "nbformat": 4,
 "nbformat_minor": 5
}
