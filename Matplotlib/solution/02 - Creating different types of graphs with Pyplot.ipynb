{
 "cells": [
  {
   "cell_type": "markdown",
   "id": "precise-seeker",
   "metadata": {
    "deletable": false,
    "editable": false
   },
   "source": [
    "![logo](../../img/license_header_logo.png)\n",
    "> **Copyright &copy; 2021 CertifAI Sdn. Bhd.**<br>\n",
    " <br>\n",
    "This program and the accompanying materials are made available under the\n",
    "terms of the [Apache License, Version 2.0](https://www.apache.org/licenses/LICENSE-2.0). <br>\n",
    "Unless required by applicable law or agreed to in writing, software\n",
    "distributed under the License is distributed on an \"AS IS\" BASIS, WITHOUT\n",
    "WARRANTIES OR CONDITIONS OF ANY KIND, either express or implied. See the\n",
    "License for the specific language governing permissions and limitations\n",
    "under the License. <br>\n",
    "<br>**SPDX-License-Identifier: Apache-2.0**"
   ]
  },
  {
   "cell_type": "markdown",
   "id": "inner-chicago",
   "metadata": {},
   "source": [
    "# 02 - Creating different types of graphs with Pyplot\n",
    "## Introduction\n",
    "There are different types of plots available in Matplotlib, each has its usage with certain specific data. Proper selection of plots is very essential and this needs to be understood before moving forward with the creation of plots. The most commonly used plots are:\n",
    "1. Bar Plots\n",
    "2. Histograms\n",
    "3. Pie Plots\n",
    "4. Area Plots\n",
    "5. Scatter Plots\n",
    "6. Time Series Graph\n",
    "\n",
    "## Notebook Outline\n",
    "Below is the outline for this tutorial:\n",
    "1. [Histograms](#Histograms)\n",
    "2. [Scatter plot](#Scatter)\n",
    "    1. [Scatter plot with groups / categorical data](#categorical)\n",
    "3. [Box plot](#Box)\n",
    "    1. [Multiple box plot](#Multiple) \n",
    "4. [Customizing Matplotlib with rcParams](#Customizing)\n",
    "5. [Exercise](#Exercise)\n",
    "6. [Summary](#Summary)\n",
    "7. [Reference](#Reference)\n",
    "\n",
    "\n",
    "## What will we accomplish?\n",
    "In this hands-on, we will focus on creating the histogram, scatter plot, box plot and the way to plot with categorical variable. Beside, we will demonstrate how to fix the figure size for all the plot by using `rcParams`\n",
    "    \n",
    "First, let's import the Pyplot library"
   ]
  },
  {
   "cell_type": "code",
   "execution_count": 1,
   "id": "solar-anxiety",
   "metadata": {
    "nbgrader": {
     "grade": false,
     "grade_id": "cell-fbf36810e0667a78",
     "locked": false,
     "schema_version": 3,
     "solution": true,
     "task": false
    }
   },
   "outputs": [],
   "source": [
    "### BEGIN SOLUTION\n",
    "import matplotlib.pyplot as plt\n",
    "import numpy as np\n",
    "### END SOLUTION"
   ]
  },
  {
   "cell_type": "markdown",
   "id": "smooth-crime",
   "metadata": {},
   "source": [
    "## <a name=\"Histograms\">Histograms</a>\n",
    "Histograms are created using `plt.hist()` function. It has an attribute `bin` that takes into input the range/nature of bins you want for the histogram. Leaving the `bin` attribute empty will assign the default bin value which is 10. For details, please refer to [here](https://matplotlib.org/stable/api/_as_gen/matplotlib.pyplot.hist.html)\n",
    "![image](https://user-images.githubusercontent.com/59526258/113844926-917b6000-97c7-11eb-9403-f0f76f8f9e6e.png)\n"
   ]
  },
  {
   "cell_type": "markdown",
   "id": "talented-concentration",
   "metadata": {},
   "source": [
    "For example, you have to collect personal height data from 250 students. You plan to use a histogram to visualize your data.\n",
    ">**Expected Result** :<br>\n",
    "![image](https://user-images.githubusercontent.com/59526258/114672697-01459980-9d38-11eb-940c-994f2e187d9c.png)"
   ]
  },
  {
   "cell_type": "code",
   "execution_count": 2,
   "id": "stone-mayor",
   "metadata": {
    "nbgrader": {
     "grade": false,
     "grade_id": "cell-47a4bdb3948bc6bc",
     "locked": false,
     "schema_version": 3,
     "solution": true,
     "task": false
    }
   },
   "outputs": [
    {
     "data": {
      "image/png": "[encoded data removed]",
      "text/plain": [
       "<Figure size 432x288 with 1 Axes>"
      ]
     },
     "metadata": {
      "needs_background": "light"
     },
     "output_type": "display_data"
    }
   ],
   "source": [
    "np.random.seed(0)\n",
    "# Random generate data with mean = 170 , standard deviation = 10 for 250 student\n",
    "x = np.random.normal(170, 10, 250)\n",
    "### BEGIN SOLUTION\n",
    "plt.hist(x)\n",
    "plt.title(\"Height for 250 student\")\n",
    "plt.xlabel(\"Height(cm)\")\n",
    "plt.ylabel(\"Number of student\")\n",
    "plt.show() \n",
    "### END SOLUTION"
   ]
  },
  {
   "cell_type": "markdown",
   "id": "characteristic-ghana",
   "metadata": {},
   "source": [
    "You can specify the limit of the bins by assigning it to `bins` attributes\n",
    ">**Expected Result** :<br>\n",
    "![image](https://user-images.githubusercontent.com/59526258/114672870-2fc37480-9d38-11eb-880e-372f109e6731.png)"
   ]
  },
  {
   "cell_type": "code",
   "execution_count": 3,
   "id": "internal-broadway",
   "metadata": {
    "nbgrader": {
     "grade": false,
     "grade_id": "cell-844ca6ce64320b73",
     "locked": false,
     "schema_version": 3,
     "solution": true,
     "task": false
    }
   },
   "outputs": [
    {
     "data": {
      "image/png": "[encoded data removed]",
      "text/plain": [
       "<Figure size 432x288 with 1 Axes>"
      ]
     },
     "metadata": {
      "needs_background": "light"
     },
     "output_type": "display_data"
    }
   ],
   "source": [
    "bins = np.arange(120,220,5)\n",
    "### BEGIN SOLUTION\n",
    "plt.hist(x,bins=bins )\n",
    "plt.title(\"Height for 250 student\")\n",
    "plt.xlabel(\"Height(cm)\")\n",
    "plt.ylabel(\"Number of student\")\n",
    "plt.show() \n",
    "### END SOLUTION"
   ]
  },
  {
   "cell_type": "markdown",
   "id": "pressed-funeral",
   "metadata": {},
   "source": [
    "##  <a name=\"Scatter\">Scatter plot</a>\n",
    "Scatter plot can be created using `plt.scatter()` function. It has some useful attributes that we need to encounter such as : \n",
    "![image](https://user-images.githubusercontent.com/59526258/113953545-a64d0780-984a-11eb-9222-6cc37649ed0d.png)\n",
    "Please refer [here](https://matplotlib.org/stable/api/_as_gen/matplotlib.pyplot.scatter.html) for more details in the scatter plot.\n",
    "\n",
    "As an example, we take residential home sales in Ames, Iowa between 2006 and 2010 as data for scatter plot visualization. The data set contains many explanatory variables on the quality and quantity of physical attributes of residential homes in Iowa sold between 2006 and 2010. Most of the variables describe information a typical home buyer would like to know about a property (square footage, number of bedrooms and bathrooms, size of lot, etc.). "
   ]
  },
  {
   "cell_type": "code",
   "execution_count": 4,
   "id": "utility-aquatic",
   "metadata": {},
   "outputs": [
    {
     "data": {
      "text/html": [
       "<div>\n",
       "<style scoped>\n",
       "    .dataframe tbody tr th:only-of-type {\n",
       "        vertical-align: middle;\n",
       "    }\n",
       "\n",
       "    .dataframe tbody tr th {\n",
       "        vertical-align: top;\n",
       "    }\n",
       "\n",
       "    .dataframe thead th {\n",
       "        text-align: right;\n",
       "    }\n",
       "</style>\n",
       "<table border=\"1\" class=\"dataframe\">\n",
       "  <thead>\n",
       "    <tr style=\"text-align: right;\">\n",
       "      <th></th>\n",
       "      <th>Order</th>\n",
       "      <th>PID</th>\n",
       "      <th>MS SubClass</th>\n",
       "      <th>MS Zoning</th>\n",
       "      <th>Lot Frontage</th>\n",
       "      <th>Lot Area</th>\n",
       "      <th>Street</th>\n",
       "      <th>Alley</th>\n",
       "      <th>Lot Shape</th>\n",
       "      <th>Land Contour</th>\n",
       "      <th>...</th>\n",
       "      <th>Pool Area</th>\n",
       "      <th>Pool QC</th>\n",
       "      <th>Fence</th>\n",
       "      <th>Misc Feature</th>\n",
       "      <th>Misc Val</th>\n",
       "      <th>Mo Sold</th>\n",
       "      <th>Yr Sold</th>\n",
       "      <th>Sale Type</th>\n",
       "      <th>Sale Condition</th>\n",
       "      <th>SalePrice</th>\n",
       "    </tr>\n",
       "  </thead>\n",
       "  <tbody>\n",
       "    <tr>\n",
       "      <th>0</th>\n",
       "      <td>1</td>\n",
       "      <td>526301100</td>\n",
       "      <td>20</td>\n",
       "      <td>RL</td>\n",
       "      <td>141.0</td>\n",
       "      <td>31770</td>\n",
       "      <td>Pave</td>\n",
       "      <td>NaN</td>\n",
       "      <td>IR1</td>\n",
       "      <td>Lvl</td>\n",
       "      <td>...</td>\n",
       "      <td>0</td>\n",
       "      <td>NaN</td>\n",
       "      <td>NaN</td>\n",
       "      <td>NaN</td>\n",
       "      <td>0</td>\n",
       "      <td>5</td>\n",
       "      <td>2010</td>\n",
       "      <td>WD</td>\n",
       "      <td>Normal</td>\n",
       "      <td>215000</td>\n",
       "    </tr>\n",
       "    <tr>\n",
       "      <th>1</th>\n",
       "      <td>2</td>\n",
       "      <td>526350040</td>\n",
       "      <td>20</td>\n",
       "      <td>RH</td>\n",
       "      <td>80.0</td>\n",
       "      <td>11622</td>\n",
       "      <td>Pave</td>\n",
       "      <td>NaN</td>\n",
       "      <td>Reg</td>\n",
       "      <td>Lvl</td>\n",
       "      <td>...</td>\n",
       "      <td>0</td>\n",
       "      <td>NaN</td>\n",
       "      <td>MnPrv</td>\n",
       "      <td>NaN</td>\n",
       "      <td>0</td>\n",
       "      <td>6</td>\n",
       "      <td>2010</td>\n",
       "      <td>WD</td>\n",
       "      <td>Normal</td>\n",
       "      <td>105000</td>\n",
       "    </tr>\n",
       "    <tr>\n",
       "      <th>2</th>\n",
       "      <td>3</td>\n",
       "      <td>526351010</td>\n",
       "      <td>20</td>\n",
       "      <td>RL</td>\n",
       "      <td>81.0</td>\n",
       "      <td>14267</td>\n",
       "      <td>Pave</td>\n",
       "      <td>NaN</td>\n",
       "      <td>IR1</td>\n",
       "      <td>Lvl</td>\n",
       "      <td>...</td>\n",
       "      <td>0</td>\n",
       "      <td>NaN</td>\n",
       "      <td>NaN</td>\n",
       "      <td>Gar2</td>\n",
       "      <td>12500</td>\n",
       "      <td>6</td>\n",
       "      <td>2010</td>\n",
       "      <td>WD</td>\n",
       "      <td>Normal</td>\n",
       "      <td>172000</td>\n",
       "    </tr>\n",
       "    <tr>\n",
       "      <th>3</th>\n",
       "      <td>4</td>\n",
       "      <td>526353030</td>\n",
       "      <td>20</td>\n",
       "      <td>RL</td>\n",
       "      <td>93.0</td>\n",
       "      <td>11160</td>\n",
       "      <td>Pave</td>\n",
       "      <td>NaN</td>\n",
       "      <td>Reg</td>\n",
       "      <td>Lvl</td>\n",
       "      <td>...</td>\n",
       "      <td>0</td>\n",
       "      <td>NaN</td>\n",
       "      <td>NaN</td>\n",
       "      <td>NaN</td>\n",
       "      <td>0</td>\n",
       "      <td>4</td>\n",
       "      <td>2010</td>\n",
       "      <td>WD</td>\n",
       "      <td>Normal</td>\n",
       "      <td>244000</td>\n",
       "    </tr>\n",
       "    <tr>\n",
       "      <th>4</th>\n",
       "      <td>5</td>\n",
       "      <td>527105010</td>\n",
       "      <td>60</td>\n",
       "      <td>RL</td>\n",
       "      <td>74.0</td>\n",
       "      <td>13830</td>\n",
       "      <td>Pave</td>\n",
       "      <td>NaN</td>\n",
       "      <td>IR1</td>\n",
       "      <td>Lvl</td>\n",
       "      <td>...</td>\n",
       "      <td>0</td>\n",
       "      <td>NaN</td>\n",
       "      <td>MnPrv</td>\n",
       "      <td>NaN</td>\n",
       "      <td>0</td>\n",
       "      <td>3</td>\n",
       "      <td>2010</td>\n",
       "      <td>WD</td>\n",
       "      <td>Normal</td>\n",
       "      <td>189900</td>\n",
       "    </tr>\n",
       "  </tbody>\n",
       "</table>\n",
       "<p>5 rows × 82 columns</p>\n",
       "</div>"
      ],
      "text/plain": [
       "   Order        PID  MS SubClass MS Zoning  Lot Frontage  Lot Area Street  \\\n",
       "0      1  526301100           20        RL         141.0     31770   Pave   \n",
       "1      2  526350040           20        RH          80.0     11622   Pave   \n",
       "2      3  526351010           20        RL          81.0     14267   Pave   \n",
       "3      4  526353030           20        RL          93.0     11160   Pave   \n",
       "4      5  527105010           60        RL          74.0     13830   Pave   \n",
       "\n",
       "  Alley Lot Shape Land Contour  ... Pool Area Pool QC  Fence Misc Feature  \\\n",
       "0   NaN       IR1          Lvl  ...         0     NaN    NaN          NaN   \n",
       "1   NaN       Reg          Lvl  ...         0     NaN  MnPrv          NaN   \n",
       "2   NaN       IR1          Lvl  ...         0     NaN    NaN         Gar2   \n",
       "3   NaN       Reg          Lvl  ...         0     NaN    NaN          NaN   \n",
       "4   NaN       IR1          Lvl  ...         0     NaN  MnPrv          NaN   \n",
       "\n",
       "  Misc Val Mo Sold Yr Sold Sale Type  Sale Condition  SalePrice  \n",
       "0        0       5    2010       WD           Normal     215000  \n",
       "1        0       6    2010       WD           Normal     105000  \n",
       "2    12500       6    2010       WD           Normal     172000  \n",
       "3        0       4    2010       WD           Normal     244000  \n",
       "4        0       3    2010       WD           Normal     189900  \n",
       "\n",
       "[5 rows x 82 columns]"
      ]
     },
     "execution_count": 4,
     "metadata": {},
     "output_type": "execute_result"
    }
   ],
   "source": [
    "import pandas as pd\n",
    "house_data = pd.read_csv('https://raw.githubusercontent.com/josephpconley/R/master/openintrostat/OpenIntroLabs/(4)%20lab4/data%20%26%20custom%20code/AmesHousing.csv')\n",
    "house_data.head()"
   ]
  },
  {
   "cell_type": "markdown",
   "id": "appropriate-voltage",
   "metadata": {},
   "source": [
    "We will create a scatter plot by taking Living Area Above Ground(Gr Liv Area) and Sales Price as axes to study the correlation between them. Let's take `alpha = 0.5` to create a better result.\n",
    ">*Notes: alpha -> The alpha blending value, between 0 (transparent) and 1 (opaque).*\n",
    "\n",
    ">**Expected Result** :<br>\n",
    "![image](https://user-images.githubusercontent.com/59526258/114673083-69947b00-9d38-11eb-97c1-5b7bf4155d63.png)"
   ]
  },
  {
   "cell_type": "code",
   "execution_count": 5,
   "id": "pharmaceutical-seventh",
   "metadata": {
    "nbgrader": {
     "grade": false,
     "grade_id": "cell-6c6025539d9287ca",
     "locked": false,
     "schema_version": 3,
     "solution": true,
     "task": false
    }
   },
   "outputs": [
    {
     "data": {
      "text/plain": [
       "<matplotlib.collections.PathCollection at 0x20f748e9888>"
      ]
     },
     "execution_count": 5,
     "metadata": {},
     "output_type": "execute_result"
    },
    {
     "data": {
      "image/png": "[encoded data removed]",
      "text/plain": [
       "<Figure size 432x288 with 1 Axes>"
      ]
     },
     "metadata": {
      "needs_background": "light"
     },
     "output_type": "display_data"
    }
   ],
   "source": [
    "x= house_data['Gr Liv Area']\n",
    "y = house_data['SalePrice']\n",
    "\n",
    "### BEGIN SOLUTION\n",
    "plt.xlabel(\"Living Area Above Ground\")\n",
    "plt.ylabel(\"House Price\")\n",
    "plt.scatter(x,y,alpha=0.5)\n",
    "### END SOLUTION"
   ]
  },
  {
   "cell_type": "markdown",
   "id": "integral-retailer",
   "metadata": {},
   "source": [
    "As we can observe from the scatter plot, the more area there is above ground level, the higher the price of the house was."
   ]
  },
  {
   "cell_type": "markdown",
   "id": "middle-study",
   "metadata": {},
   "source": [
    "###  <a name=\"categorical\">Scatter plot with groups / categorical data</a>\n",
    "Categorical data can be visualized using a scatter plot to have a clear picture of how the data is been grouped.\n",
    "\n",
    ">**Expected Result** :<br>\n",
    "![image](https://user-images.githubusercontent.com/59526258/114673233-8cbf2a80-9d38-11eb-8843-38d99aaed96c.png)\n"
   ]
  },
  {
   "cell_type": "code",
   "execution_count": 6,
   "id": "racial-minority",
   "metadata": {
    "nbgrader": {
     "grade": false,
     "grade_id": "cell-eea7330e1ffb1da7",
     "locked": false,
     "schema_version": 3,
     "solution": true,
     "task": false
    }
   },
   "outputs": [
    {
     "data": {
      "image/png": "[encoded data removed]",
      "text/plain": [
       "<Figure size 432x288 with 1 Axes>"
      ]
     },
     "metadata": {
      "needs_background": "light"
     },
     "output_type": "display_data"
    }
   ],
   "source": [
    "# Create data\n",
    "N = 60\n",
    "g1 = (0.6 + 0.6 * np.random.rand(N), np.random.rand(N))\n",
    "g2 = (0.4+0.3 * np.random.rand(N), 0.5*np.random.rand(N))\n",
    "g3 = (0.3*np.random.rand(N),0.3*np.random.rand(N))\n",
    "\n",
    "data = (g1, g2, g3)\n",
    "colors = (\"red\", \"green\", \"blue\")\n",
    "groups = (\"coffee\", \"tea\", \"water\")\n",
    "### BEGIN SOLUTION\n",
    "for data, color, group in zip(data, colors, groups):\n",
    "    x, y = data\n",
    "    plt.scatter(x, y, alpha=0.8, c=color, edgecolors='none', s=30, label=group)\n",
    "plt.title('Types of drinks')\n",
    "plt.legend(loc=2)\n",
    "plt.show()\n",
    "### END SOLUTION\n"
   ]
  },
  {
   "cell_type": "markdown",
   "id": "institutional-direction",
   "metadata": {},
   "source": [
    "## <a name=\"Box\">Box plot</a>\n",
    ">*A Box Plot is also known as Whisker plot is created to display the summary of the set of data values having properties like minimum, first quartile, median, third quartile and maximum. In the box plot, a box is created from the first quartile to the third quartile, a verticle line is also there which goes through the box at the median. Here x-axis denotes the data to be plotted while the y-axis shows the frequency distribution.* - ***GeeksforGeeks***\n",
    "\n",
    "![image](https://user-images.githubusercontent.com/59526258/113961101-18781900-9858-11eb-9ee4-68bb19efb9f0.png)\n",
    "For box plot details, please refer to [here](https://matplotlib.org/stable/api/_as_gen/matplotlib.pyplot.boxplot.html)\n",
    "\n",
    "Let's start with a single box plot\n",
    ">**Expected Result** :<br>\n",
    "![image](https://user-images.githubusercontent.com/59526258/114673463-cb54e500-9d38-11eb-839d-74926d13e3d0.png)"
   ]
  },
  {
   "cell_type": "code",
   "execution_count": 7,
   "id": "flush-drunk",
   "metadata": {
    "nbgrader": {
     "grade": false,
     "grade_id": "cell-f6b28b8cd4d08a66",
     "locked": false,
     "schema_version": 3,
     "solution": true,
     "task": false
    }
   },
   "outputs": [
    {
     "data": {
      "image/png": "[encoded data removed]",
      "text/plain": [
       "<Figure size 432x288 with 1 Axes>"
      ]
     },
     "metadata": {
      "needs_background": "light"
     },
     "output_type": "display_data"
    }
   ],
   "source": [
    "# Creating dataset\n",
    "np.random.seed(10)\n",
    "data = np.random.normal(100, 10, 200)\n",
    "  \n",
    "# Creating plot\n",
    "\n",
    "### BEGIN SOLUTION\n",
    "plt.boxplot(data)\n",
    "  \n",
    "# show plot\n",
    "plt.show()\n",
    "### END SOLUTION"
   ]
  },
  {
   "cell_type": "markdown",
   "id": "common-folder",
   "metadata": {},
   "source": [
    "As you can notice, the mean of the data is around 100, lower quartile is about 95, upper quartile is about 106. Besides, the data contains few outliers.\n",
    "\n",
    ">*Notes: You may convert the data into Pandas series and use `df.describe()` to print the statistical value*"
   ]
  },
  {
   "cell_type": "code",
   "execution_count": 8,
   "id": "corresponding-wagon",
   "metadata": {},
   "outputs": [
    {
     "data": {
      "text/plain": [
       "count    200.000000\n",
       "mean     100.743069\n",
       "std        9.786932\n",
       "min       70.204032\n",
       "25%       95.160958\n",
       "50%      100.943684\n",
       "75%      106.637529\n",
       "max      124.676511\n",
       "dtype: float64"
      ]
     },
     "execution_count": 8,
     "metadata": {},
     "output_type": "execute_result"
    }
   ],
   "source": [
    "series = pd.Series(data)\n",
    "series.describe()"
   ]
  },
  {
   "cell_type": "markdown",
   "id": "dangerous-marijuana",
   "metadata": {},
   "source": [
    "### <a name=\"Multiple\">Multiple box plot </a>\n",
    "Let's try to create multiple box plot\n",
    ">**Expected Result** :<br>\n",
    "![image](https://user-images.githubusercontent.com/59526258/114673641-fb03ed00-9d38-11eb-9229-24b8e9b5dfbf.png)"
   ]
  },
  {
   "cell_type": "code",
   "execution_count": 9,
   "id": "irish-battle",
   "metadata": {
    "nbgrader": {
     "grade": false,
     "grade_id": "cell-75fa22a013b54b8c",
     "locked": false,
     "schema_version": 3,
     "solution": true,
     "task": false
    }
   },
   "outputs": [
    {
     "data": {
      "image/png": "[encoded data removed]",
      "text/plain": [
       "<Figure size 432x288 with 1 Axes>"
      ]
     },
     "metadata": {
      "needs_background": "light"
     },
     "output_type": "display_data"
    }
   ],
   "source": [
    "# Creating dataset\n",
    "np.random.seed(10)\n",
    "  \n",
    "data_1 = np.random.normal(100, 10, 200)\n",
    "data_2 = np.random.normal(90, 20, 200)\n",
    "data_3 = np.random.normal(80, 30, 200)\n",
    "data_4 = np.random.normal(70, 40, 200)\n",
    "data = [data_1, data_2, data_3, data_4]\n",
    "\n",
    "### BEGIN SOLUTION\n",
    "plt.boxplot(data)\n",
    "plt.show()\n",
    "### END SOLUTION"
   ]
  },
  {
   "cell_type": "markdown",
   "id": "responsible-retrieval",
   "metadata": {},
   "source": [
    "##  <a name=\"Customizing\">Customizing Matplotlib with rcParams</a>\n",
    "Each time Matplotlib loads, it defines a runtime configuration (rc) containing the default styles for every plot element you create. This configuration can be adjusted at any time using the `plt.rc` convenience routine. For details, please refer to [here](https://jakevdp.github.io/PythonDataScienceHandbook/04.11-settings-and-stylesheets.html).\n",
    "\n",
    "Let's try to change the figure size to (10,8) using `plt.rcParams[\"figure.figsize\"]`"
   ]
  },
  {
   "cell_type": "code",
   "execution_count": 10,
   "id": "empirical-lease",
   "metadata": {
    "nbgrader": {
     "grade": false,
     "grade_id": "cell-2a2f1dc68d5738d1",
     "locked": false,
     "schema_version": 3,
     "solution": true,
     "task": false
    }
   },
   "outputs": [],
   "source": [
    "### BEGIN SOLUTION\n",
    "plt.rcParams[\"figure.figsize\"] = (10,8)\n",
    "### END SOLUTION"
   ]
  },
  {
   "cell_type": "markdown",
   "id": "liberal-reggae",
   "metadata": {},
   "source": [
    "Let's plot the box plot again and observe the difference "
   ]
  },
  {
   "cell_type": "code",
   "execution_count": 11,
   "id": "pregnant-singer",
   "metadata": {},
   "outputs": [
    {
     "data": {
      "image/png": "[encoded data removed]",
      "text/plain": [
       "<Figure size 720x576 with 1 Axes>"
      ]
     },
     "metadata": {
      "needs_background": "light"
     },
     "output_type": "display_data"
    }
   ],
   "source": [
    "# Creating plot\n",
    "plt.boxplot(data)\n",
    "  \n",
    "# show plot\n",
    "plt.show()"
   ]
  },
  {
   "cell_type": "markdown",
   "id": "asian-witch",
   "metadata": {},
   "source": [
    "As you notice, the figure size has enlarged to (10,8) without specifically using `plt.figure()`. Please feel free to try on other plots as well."
   ]
  },
  {
   "cell_type": "markdown",
   "id": "engaged-filename",
   "metadata": {},
   "source": [
    "## <a name=\"Exercise \">Exercise</a>\n",
    "### Introduction\n",
    "You are given a set of data that contain the number of COVID-19 cases in Malaysia. You are required to create:\n",
    "1. Histogram for each column data: `Confirmed`, `Death`, `Recovered`.\n",
    "2. Boxplot for each column data: `Confirmed`, `Death`, `Recovered`.\n",
    "3. Scatter plot between `Confirmed` and `Deaths` cases.\n",
    "\n",
    "First, let us read and preprocess the COVID-19 dataset."
   ]
  },
  {
   "cell_type": "code",
   "execution_count": 12,
   "id": "median-inquiry",
   "metadata": {},
   "outputs": [
    {
     "data": {
      "text/html": [
       "<div>\n",
       "<style scoped>\n",
       "    .dataframe tbody tr th:only-of-type {\n",
       "        vertical-align: middle;\n",
       "    }\n",
       "\n",
       "    .dataframe tbody tr th {\n",
       "        vertical-align: top;\n",
       "    }\n",
       "\n",
       "    .dataframe thead th {\n",
       "        text-align: right;\n",
       "    }\n",
       "</style>\n",
       "<table border=\"1\" class=\"dataframe\">\n",
       "  <thead>\n",
       "    <tr style=\"text-align: right;\">\n",
       "      <th></th>\n",
       "      <th>Confirmed</th>\n",
       "      <th>Deaths</th>\n",
       "      <th>Recovered</th>\n",
       "    </tr>\n",
       "    <tr>\n",
       "      <th>ObservationDate</th>\n",
       "      <th></th>\n",
       "      <th></th>\n",
       "      <th></th>\n",
       "    </tr>\n",
       "  </thead>\n",
       "  <tbody>\n",
       "    <tr>\n",
       "      <th>2020-01-23</th>\n",
       "      <td>0.0</td>\n",
       "      <td>0.0</td>\n",
       "      <td>0.0</td>\n",
       "    </tr>\n",
       "    <tr>\n",
       "      <th>2020-01-25</th>\n",
       "      <td>3.0</td>\n",
       "      <td>0.0</td>\n",
       "      <td>0.0</td>\n",
       "    </tr>\n",
       "    <tr>\n",
       "      <th>2020-01-26</th>\n",
       "      <td>4.0</td>\n",
       "      <td>0.0</td>\n",
       "      <td>0.0</td>\n",
       "    </tr>\n",
       "    <tr>\n",
       "      <th>2020-01-27</th>\n",
       "      <td>4.0</td>\n",
       "      <td>0.0</td>\n",
       "      <td>0.0</td>\n",
       "    </tr>\n",
       "    <tr>\n",
       "      <th>2020-01-28</th>\n",
       "      <td>4.0</td>\n",
       "      <td>0.0</td>\n",
       "      <td>0.0</td>\n",
       "    </tr>\n",
       "  </tbody>\n",
       "</table>\n",
       "</div>"
      ],
      "text/plain": [
       "                 Confirmed  Deaths  Recovered\n",
       "ObservationDate                              \n",
       "2020-01-23             0.0     0.0        0.0\n",
       "2020-01-25             3.0     0.0        0.0\n",
       "2020-01-26             4.0     0.0        0.0\n",
       "2020-01-27             4.0     0.0        0.0\n",
       "2020-01-28             4.0     0.0        0.0"
      ]
     },
     "execution_count": 12,
     "metadata": {},
     "output_type": "execute_result"
    }
   ],
   "source": [
    "from pathlib import Path\n",
    "\n",
    "# Read and preprocess the dataset\n",
    "dataste_dir_path = Path().resolve().parent.parent/'Datasets'\n",
    "data_dir_path = dataste_dir_path/'covid_19_data.csv'\n",
    "covid_data = pd.read_csv(data_dir_path)\n",
    "new_covid_data = covid_data.loc[covid_data[\"Country/Region\"] == 'Malaysia']\n",
    "new_covid_data = new_covid_data.set_index(pd.to_datetime(new_covid_data[\"ObservationDate\"]))\n",
    "new_covid_data = new_covid_data.drop(columns = ['SNo','ObservationDate','Province/State','Country/Region','Last Update'])\n",
    "new_covid_data.head()"
   ]
  },
  {
   "cell_type": "markdown",
   "id": "efficient-eight",
   "metadata": {},
   "source": [
    ">**Instruction:**<br>\n",
    "Set your default plot size to (8,6) by using `plt.rcParams[\"figure.figsize\"]`\n",
    "    \n",
    ">**Expected Result:**<br>\n",
    "`print(plt.rcParams[\"figure.figsize\"])`:<br>\n",
    "`[8.0, 6.0]`"
   ]
  },
  {
   "cell_type": "code",
   "execution_count": 13,
   "id": "signed-patient",
   "metadata": {
    "nbgrader": {
     "grade": false,
     "grade_id": "cell-8fd7b2d0a3e196b9",
     "locked": false,
     "schema_version": 3,
     "solution": true,
     "task": false
    }
   },
   "outputs": [],
   "source": [
    "### BEGIN SOLUTION\n",
    "plt.rcParams[\"figure.figsize\"] = (8,6)\n",
    "### END SOLUTION"
   ]
  },
  {
   "cell_type": "code",
   "execution_count": 14,
   "id": "traditional-cruise",
   "metadata": {},
   "outputs": [
    {
     "name": "stdout",
     "output_type": "stream",
     "text": [
      "[8.0, 6.0]\n"
     ]
    }
   ],
   "source": [
    "print(plt.rcParams[\"figure.figsize\"])"
   ]
  },
  {
   "cell_type": "markdown",
   "id": "moved-pride",
   "metadata": {},
   "source": [
    ">**Instruction:**<br>\n",
    "    1. Create a histogram for each column data in `new_covid_data`<br>\n",
    "    2. The plot result must be similar to **Expected Result**<br>\n",
    "    \n",
    ">**Expected Result:**<br>\n",
    "![image](https://user-images.githubusercontent.com/59526258/114000954-0fa23a00-988e-11eb-9c33-ac9a28053e0f.png)\n"
   ]
  },
  {
   "cell_type": "code",
   "execution_count": 15,
   "id": "illegal-lucas",
   "metadata": {
    "nbgrader": {
     "grade": false,
     "grade_id": "cell-cb3a5e3be7d72b22",
     "locked": false,
     "schema_version": 3,
     "solution": true,
     "task": false
    }
   },
   "outputs": [
    {
     "data": {
      "image/png": "[encoded data removed]",
      "text/plain": [
       "<Figure size 576x432 with 3 Axes>"
      ]
     },
     "metadata": {
      "needs_background": "light"
     },
     "output_type": "display_data"
    }
   ],
   "source": [
    "### BEGIN SOLUTION\n",
    "fig, ax = plt.subplots(nrows=3,ncols=1)\n",
    "color = ['green','red','blue']\n",
    "plt.suptitle(\"COVID-19 Cases in Malaysia\")\n",
    "for index in range(len(new_covid_data.columns)):\n",
    "    ax[index].hist(new_covid_data[str(new_covid_data.columns[index])],label = new_covid_data.columns[index],\n",
    "                  color = color[index])\n",
    "    ax[index].legend()\n",
    "### END SOLUTION"
   ]
  },
  {
   "cell_type": "markdown",
   "id": "light-phoenix",
   "metadata": {},
   "source": [
    ">**Instruction:**<br>\n",
    "    1. Create a box plot for each column data in `new_covid_data`.<br>\n",
    "    2. The plot result must be similar to **Expected Result**.<br>\n",
    "    \n",
    ">*Hints: use `set_xticklabels` to help you changing the x-label.*\n",
    "    \n",
    ">**Expected Result:**<br>\n",
    "![image](https://user-images.githubusercontent.com/59526258/114003230-28abea80-9890-11eb-9c9d-61cef8daf257.png)"
   ]
  },
  {
   "cell_type": "code",
   "execution_count": 16,
   "id": "vietnamese-massage",
   "metadata": {
    "nbgrader": {
     "grade": false,
     "grade_id": "cell-f7d9f8edc689680b",
     "locked": false,
     "schema_version": 3,
     "solution": true,
     "task": false
    }
   },
   "outputs": [
    {
     "data": {
      "image/png": "[encoded data removed]",
      "text/plain": [
       "<Figure size 576x432 with 3 Axes>"
      ]
     },
     "metadata": {
      "needs_background": "light"
     },
     "output_type": "display_data"
    }
   ],
   "source": [
    "# Creating plot\n",
    "### BEGIN SOLUTION\n",
    "fig, ax = plt.subplots(nrows=3,ncols=1)\n",
    "plt.suptitle(\"COVID-19 Cases in Malaysia\")\n",
    "for index in range(len(new_covid_data.columns)):\n",
    "    ax[index].boxplot(new_covid_data[str(new_covid_data.columns[index])])  \n",
    "    ax[index].set_xticklabels([new_covid_data.columns[index]])\n",
    "### END SOLUTION"
   ]
  },
  {
   "cell_type": "markdown",
   "id": "fossil-cornell",
   "metadata": {},
   "source": [
    ">**Instruction:**<br>\n",
    "    1. Create a scatter plot to examine the relationship between `Confirmed` and `Deaths` with `alpha = 0.5`.<br>\n",
    "    2. The plot result must be similar to the **Expected Result**.<br>\n",
    "    \n",
    "    \n",
    ">**Expected Result:**<br>\n",
    "![image](https://user-images.githubusercontent.com/59526258/114004060-de773900-9890-11eb-99ea-f7c6aa4de9d3.png)"
   ]
  },
  {
   "cell_type": "code",
   "execution_count": 17,
   "id": "demanding-favor",
   "metadata": {
    "nbgrader": {
     "grade": false,
     "grade_id": "cell-c1e218dcb3fba4cc",
     "locked": false,
     "schema_version": 3,
     "solution": true,
     "task": false
    }
   },
   "outputs": [
    {
     "data": {
      "text/plain": [
       "Text(0, 0.5, 'Deaths Cases')"
      ]
     },
     "execution_count": 17,
     "metadata": {},
     "output_type": "execute_result"
    },
    {
     "data": {
      "image/png": "[encoded data removed]",
      "text/plain": [
       "<Figure size 576x432 with 1 Axes>"
      ]
     },
     "metadata": {
      "needs_background": "light"
     },
     "output_type": "display_data"
    }
   ],
   "source": [
    "### BEGIN SOLUTION\n",
    "plt.scatter(new_covid_data.Confirmed,new_covid_data.Deaths,alpha=0.5)\n",
    "plt.suptitle(\"COVID-19 Cases in Malaysia\")\n",
    "plt.xlabel(\"Confirmed Cases\")\n",
    "plt.ylabel(\"Deaths Cases\")\n",
    "### END SOLUTION"
   ]
  },
  {
   "cell_type": "markdown",
   "id": "exact-manhattan",
   "metadata": {},
   "source": [
    "# <a name=\"Summary\">Summary</a>\n",
    "From this tutorial, you should have learned:\n",
    "1. Creating different types of graphs with Pyplot.\n",
    "2. Familiar with the process of creating Histogram, Scatter Plot and Boxplot.\n",
    "\n",
    "Congratulations, that concludes this lesson. "
   ]
  },
  {
   "cell_type": "markdown",
   "id": "capital-explosion",
   "metadata": {},
   "source": [
    "##  <a name=\"Reference\">Reference</a>\n",
    "1. [Headstart to Plotting Graphs using Matplotlib library](https://www.analyticsvidhya.com/blog/2020/10/headstart-to-plotting-graphs-using-matplotlib-library/)\n",
    "2. [Matplotlib Histograms](https://www.w3schools.com/python/matplotlib_histograms.asp)\n",
    "3. [Matplotlib Scatter Plot - Tutorial and Examples](https://stackabuse.com/matplotlib-scatterplot-tutorial-and-examples/)"
   ]
  }
 ],
 "metadata": {
  "celltoolbar": "Edit Metadata",
  "kernelspec": {
   "display_name": "Python 3",
   "language": "python",
   "name": "python3"
  },
  "language_info": {
   "codemirror_mode": {
    "name": "ipython",
    "version": 3
   },
   "file_extension": ".py",
   "mimetype": "text/x-python",
   "name": "python",
   "nbconvert_exporter": "python",
   "pygments_lexer": "ipython3",
   "version": "3.7.9"
  },
  "varInspector": {
   "cols": {
    "lenName": 16,
    "lenType": 16,
    "lenVar": 40
   },
   "kernels_config": {
    "python": {
     "delete_cmd_postfix": "",
     "delete_cmd_prefix": "del ",
     "library": "var_list.py",
     "varRefreshCmd": "print(var_dic_list())"
    },
    "r": {
     "delete_cmd_postfix": ") ",
     "delete_cmd_prefix": "rm(",
     "library": "var_list.r",
     "varRefreshCmd": "cat(var_dic_list()) "
    }
   },
   "types_to_exclude": [
    "module",
    "function",
    "builtin_function_or_method",
    "instance",
    "_Feature"
   ],
   "window_display": false
  }
 },
 "nbformat": 4,
 "nbformat_minor": 5
}
