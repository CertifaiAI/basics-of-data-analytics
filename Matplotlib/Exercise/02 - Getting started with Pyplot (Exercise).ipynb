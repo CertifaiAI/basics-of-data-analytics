{
 "cells": [
  {
   "cell_type": "markdown",
   "id": "proved-dairy",
   "metadata": {
    "deletable": false,
    "editable": false
   },
   "source": [
    "![logo](../../img/license_header_logo.png)\n",
    "> **Copyright &copy; 2021 CertifAI Sdn. Bhd.**<br>\n",
    " <br>\n",
    "This program is part of OSRFramework. You can redistribute it and/or modify\n",
    "<br>it under the terms of the GNU Affero General Public License as published by\n",
    "<br>the Free Software Foundation, either version 3 of the License, or\n",
    "<br>(at your option) any later version.\n",
    "<br>\n",
    "<br>This program is distributed in the hope that it will be useful,\n",
    "<br>but WITHOUT ANY WARRANTY; without even the implied warranty of\n",
    "<br>MERCHANTABILITY or FITNESS FOR A PARTICULAR PURPOSE.  See the\n",
    "<br>GNU Affero General Public License for more details.\n",
    "<br>\n",
    "<br>You should have received a copy of the GNU Affero General Public License\n",
    "<br>along with this program.  If not, see <http://www.gnu.org/licenses/>."
   ]
  },
  {
   "cell_type": "markdown",
   "id": "offensive-model",
   "metadata": {},
   "source": [
    "# 02 - Getting started with Pyplot (Exercise)\n",
    "## Introduction\n",
    "You are given a set of data that contain the number of COVID-19 cases in Malaysia. You are required to use the method in `matplotlib` to create a visualize plot base on the **Expected Result** \n",
    "\n",
    "## Notebook Outline\n",
    "Below is the outline for this exercise:\n",
    "1. [Summary](#Summary)\n",
    "2. [Reference](#Reference)\n",
    "\n",
    ">**Instruction:**<br>\n",
    "    1. Create a subplot for the COVID-19 cases based on the **Expected Result** by using `covid_confirm`,`covid_deaths`,`covid_recover`<br>\n",
    "    2. Set your font properties of x-axis, y-axis and title with `fontsize ='large'` and `fontweight = 'normal'`<br>\n",
    "    3. The figure size for each subplot is `figsize=(10,6)`\n",
    "\n",
    ">**Expected Result:**\n",
    "![image](https://user-images.githubusercontent.com/59526258/113832568-5115e500-97bb-11eb-851e-a7f78a867022.png)"
   ]
  },
  {
   "cell_type": "code",
   "execution_count": null,
   "id": "solved-magazine",
   "metadata": {},
   "outputs": [],
   "source": [
    "from pathlib import Path\n",
    "import pandas as pd\n",
    "import matplotlib.pyplot as plt \n",
    "import numpy as np\n",
    "\n",
    "# Read and preprocess the dataset\n",
    "dataste_dir_path = Path().resolve().parent.parent/'Datasets'\n",
    "data_dir_path = dataste_dir_path/'covid_19_data.csv'\n",
    "covid_data = pd.read_csv(data_dir_path)\n",
    "new_covid_data = covid_data.loc[covid_data[\"Country/Region\"] == 'Malaysia']\n",
    "new_covid_data = new_covid_data.set_index(pd.to_datetime(new_covid_data[\"ObservationDate\"]))\n",
    "new_covid_data = new_covid_data.drop(columns = ['SNo','ObservationDate','Province/State','Country/Region','Last Update'])\n",
    "new_covid_data.head()"
   ]
  },
  {
   "cell_type": "code",
   "execution_count": null,
   "id": "spanish-slovakia",
   "metadata": {},
   "outputs": [],
   "source": [
    "# Save the data based on columns name\n",
    "covid_confirm = new_covid_data.Confirmed\n",
    "covid_deaths = new_covid_data.Deaths\n",
    "covid_recover = new_covid_data.Recovered"
   ]
  },
  {
   "cell_type": "code",
   "execution_count": null,
   "id": "clear-highway",
   "metadata": {
    "deletable": false,
    "nbgrader": {
     "cell_type": "code",
     "checksum": "445411290e319f7de937919533275a7b",
     "grade": false,
     "grade_id": "cell-0e7d2989391d66e8",
     "locked": false,
     "schema_version": 3,
     "solution": true,
     "task": false
    }
   },
   "outputs": [],
   "source": [
    "# YOUR CODE HERE\n"
   ]
  },
  {
   "cell_type": "markdown",
   "id": "political-celtic",
   "metadata": {},
   "source": [
    "#  <a name=\"Summary\">Summary</a>\n",
    "From this exercise, you should have learned:\n",
    "1. Use `Pyplot` to create a single plot.\n",
    "2. Formating the plot style and line properties.\n",
    "3. Plot multiple plots in one figure using subplot and subplots.\n",
    "4. Customize text, annotations and legend into the figure.\n",
    "\n",
    "Congratulations, that concludes this exercise.    "
   ]
  },
  {
   "cell_type": "markdown",
   "id": "impressive-guard",
   "metadata": {},
   "source": [
    "#  <a name=\"Reference\">Reference</a>\n",
    "1. [Matplotlib Tutorial: Learn basics of Python’s powerful Plotting library](https://towardsdatascience.com/matplotlib-tutorial-learn-basics-of-pythons-powerful-plotting-library-b5d1b8f67596)\n",
    "2. [Matplotlib Tips: How to Add Text on Plots](https://towardsdatascience.com/matplotlib-tips-how-to-add-text-on-plots-33a87bdd7605)\n",
    "3. [Matplotlib Documentation](https://matplotlib.org/stable/contents.html) "
   ]
  }
 ],
 "metadata": {
  "kernelspec": {
   "display_name": "Python 3",
   "language": "python",
   "name": "python3"
  },
  "language_info": {
   "codemirror_mode": {
    "name": "ipython",
    "version": 3
   },
   "file_extension": ".py",
   "mimetype": "text/x-python",
   "name": "python",
   "nbconvert_exporter": "python",
   "pygments_lexer": "ipython3",
   "version": "3.7.9"
  },
  "varInspector": {
   "cols": {
    "lenName": 16,
    "lenType": 16,
    "lenVar": 40
   },
   "kernels_config": {
    "python": {
     "delete_cmd_postfix": "",
     "delete_cmd_prefix": "del ",
     "library": "var_list.py",
     "varRefreshCmd": "print(var_dic_list())"
    },
    "r": {
     "delete_cmd_postfix": ") ",
     "delete_cmd_prefix": "rm(",
     "library": "var_list.r",
     "varRefreshCmd": "cat(var_dic_list()) "
    }
   },
   "types_to_exclude": [
    "module",
    "function",
    "builtin_function_or_method",
    "instance",
    "_Feature"
   ],
   "window_display": false
  }
 },
 "nbformat": 4,
 "nbformat_minor": 5
}