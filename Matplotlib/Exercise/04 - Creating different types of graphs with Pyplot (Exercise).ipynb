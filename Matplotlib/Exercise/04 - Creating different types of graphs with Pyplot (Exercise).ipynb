{
 "cells": [
  {
   "cell_type": "markdown",
   "id": "stuck-factor",
   "metadata": {
    "deletable": false,
    "editable": false
   },
   "source": [
    "![logo](../../img/license_header_logo.png)\n",
    "> **Copyright &copy; 2021 CertifAI Sdn. Bhd.**<br>\n",
    " <br>\n",
    "This program and the accompanying materials are made available under the\n",
    "terms of the [Apache License, Version 2.0](https://www.apache.org/licenses/LICENSE-2.0). <br>\n",
    "Unless required by applicable law or agreed to in writing, software\n",
    "distributed under the License is distributed on an \"AS IS\" BASIS, WITHOUT\n",
    "WARRANTIES OR CONDITIONS OF ANY KIND, either express or implied. See the\n",
    "License for the specific language governing permissions and limitations\n",
    "under the License. <br>\n",
    "<br>**SPDX-License-Identifier: Apache-2.0**"
   ]
  },
  {
   "cell_type": "markdown",
   "id": "israeli-plenty",
   "metadata": {},
   "source": [
    "# 04 - Creating different types of graphs with Pyplot (Exercise)\n",
    "## Introduction\n",
    "You are given a set of data that contain the number of COVID-19 cases in Malaysia. You are required to create:\n",
    "1. Histogram for each column data: `Confirmed`, `Death`, `Recovered`.\n",
    "2. Boxplot for each column data: `Confirmed`, `Death`, `Recovered`.\n",
    "3. Scatter plot between `Confirmed` and `Deaths` cases.\n",
    "\n",
    "## Notebook Outline\n",
    "Below is the outline for this tutorial:\n",
    "1. [Summary](#Summary)\n",
    "2. [Reference](#Reference)\n",
    "\n",
    "First, let us read and preprocess the COVID-19 dataset."
   ]
  },
  {
   "cell_type": "code",
   "execution_count": null,
   "id": "given-slovenia",
   "metadata": {},
   "outputs": [],
   "source": [
    "from pathlib import Path\n",
    "import matplotlib.pyplot as plt\n",
    "import numpy as np\n",
    "import pandas as pd\n",
    "# Read and preprocess the dataset\n",
    "dataste_dir_path = Path().resolve().parent.parent/'Datasets'\n",
    "data_dir_path = dataste_dir_path/'covid_19_data.csv'\n",
    "covid_data = pd.read_csv(data_dir_path)\n",
    "new_covid_data = covid_data.loc[covid_data[\"Country/Region\"] == 'Malaysia']\n",
    "new_covid_data = new_covid_data.set_index(pd.to_datetime(new_covid_data[\"ObservationDate\"]))\n",
    "new_covid_data = new_covid_data.drop(columns = ['SNo','ObservationDate','Province/State','Country/Region','Last Update'])\n",
    "new_covid_data.head()"
   ]
  },
  {
   "cell_type": "markdown",
   "id": "instant-roommate",
   "metadata": {},
   "source": [
    ">**Instruction:**<br>\n",
    "Set your default plot size to (8,6) by using `plt.rcParams[\"figure.figsize\"]`\n",
    "    \n",
    ">**Expected Result:**<br>\n",
    "`print(plt.rcParams[\"figure.figsize\"])`:<br>\n",
    "`[8.0, 6.0]`"
   ]
  },
  {
   "cell_type": "code",
   "execution_count": null,
   "id": "japanese-housing",
   "metadata": {
    "deletable": false,
    "nbgrader": {
     "cell_type": "code",
     "checksum": "29122e1bf9ac444b519884ab811ffbe8",
     "grade": false,
     "grade_id": "cell-a0236c00a9b42a1d",
     "locked": false,
     "schema_version": 3,
     "solution": true,
     "task": false
    }
   },
   "outputs": [],
   "source": [
    "# YOUR CODE HERE\n"
   ]
  },
  {
   "cell_type": "code",
   "execution_count": null,
   "id": "particular-purchase",
   "metadata": {},
   "outputs": [],
   "source": [
    "print(plt.rcParams[\"figure.figsize\"])"
   ]
  },
  {
   "cell_type": "markdown",
   "id": "composed-contrast",
   "metadata": {},
   "source": [
    ">**Instruction:**<br>\n",
    "    1. Create a histogram for each column data in `new_covid_data`<br>\n",
    "    2. The plot result must be similar to **Expected Result**<br>\n",
    "    \n",
    ">**Expected Result:**<br>\n",
    "![image](https://user-images.githubusercontent.com/59526258/114000954-0fa23a00-988e-11eb-9c33-ac9a28053e0f.png)"
   ]
  },
  {
   "cell_type": "code",
   "execution_count": null,
   "id": "stable-calendar",
   "metadata": {
    "deletable": false,
    "nbgrader": {
     "cell_type": "code",
     "checksum": "dc2b232895fca68db0007ef0968efb76",
     "grade": false,
     "grade_id": "cell-73001cef1eaca179",
     "locked": false,
     "schema_version": 3,
     "solution": true,
     "task": false
    }
   },
   "outputs": [],
   "source": [
    "# YOUR CODE HERE\n"
   ]
  },
  {
   "cell_type": "markdown",
   "id": "gentle-percentage",
   "metadata": {},
   "source": [
    ">**Instruction:**<br>\n",
    "    1. Create a box plot for each column data in `new_covid_data`.<br>\n",
    "    2. The plot result must be similar to **Expected Result**.<br>\n",
    "    \n",
    ">*Hints: use `set_xticklabels` to help you changing the x-label.*\n",
    "    \n",
    ">**Expected Result:**<br>\n",
    "![image](https://user-images.githubusercontent.com/59526258/114003230-28abea80-9890-11eb-9c9d-61cef8daf257.png)"
   ]
  },
  {
   "cell_type": "code",
   "execution_count": null,
   "id": "illegal-conservation",
   "metadata": {
    "deletable": false,
    "nbgrader": {
     "cell_type": "code",
     "checksum": "9de067c1cc1fe8a84fafec70e2bfeebd",
     "grade": false,
     "grade_id": "cell-847e7e8655188ff2",
     "locked": false,
     "schema_version": 3,
     "solution": true,
     "task": false
    }
   },
   "outputs": [],
   "source": [
    "# Creating plot\n",
    "# YOUR CODE HERE\n"
   ]
  },
  {
   "cell_type": "markdown",
   "id": "increased-discussion",
   "metadata": {},
   "source": [
    ">**Instruction:**<br>\n",
    "    1. Create a scatter plot to examine the relationship between `Confirmed` and `Deaths` with `alpha = 0.5`.<br>\n",
    "    2. The plot result must be similar to the **Expected Result**.<br>\n",
    "    \n",
    "    \n",
    ">**Expected Result:**<br>\n",
    "![image](https://user-images.githubusercontent.com/59526258/114004060-de773900-9890-11eb-99ea-f7c6aa4de9d3.png)"
   ]
  },
  {
   "cell_type": "code",
   "execution_count": null,
   "id": "chicken-method",
   "metadata": {
    "deletable": false,
    "nbgrader": {
     "cell_type": "code",
     "checksum": "3f0265f5a9a4d4acf5a9e934961cb8be",
     "grade": false,
     "grade_id": "cell-413c3cf61a3cff34",
     "locked": false,
     "schema_version": 3,
     "solution": true,
     "task": false
    }
   },
   "outputs": [],
   "source": [
    "# YOUR CODE HERE\n"
   ]
  },
  {
   "cell_type": "markdown",
   "id": "practical-clinton",
   "metadata": {},
   "source": [
    "# <a name=\"Summary\">Summary</a>\n",
    "From this tutorial, you should have learned:\n",
    "1. Creating different types of graphs with Pyplot.\n",
    "2. Familiar with the process of creating Histogram, Scatter Plot and Boxplot.\n",
    "\n",
    "Congratulations, that concludes this lesson. "
   ]
  },
  {
   "cell_type": "markdown",
   "id": "friendly-solomon",
   "metadata": {},
   "source": [
    "##  <a name=\"Reference\">Reference</a>\n",
    "1. [Headstart to Plotting Graphs using Matplotlib library](https://www.analyticsvidhya.com/blog/2020/10/headstart-to-plotting-graphs-using-matplotlib-library/)\n",
    "2. [Matplotlib Histograms](https://www.w3schools.com/python/matplotlib_histograms.asp)\n",
    "3. [Matplotlib Scatter Plot - Tutorial and Examples](https://stackabuse.com/matplotlib-scatterplot-tutorial-and-examples/)"
   ]
  }
 ],
 "metadata": {
  "kernelspec": {
   "display_name": "Python 3",
   "language": "python",
   "name": "python3"
  },
  "language_info": {
   "codemirror_mode": {
    "name": "ipython",
    "version": 3
   },
   "file_extension": ".py",
   "mimetype": "text/x-python",
   "name": "python",
   "nbconvert_exporter": "python",
   "pygments_lexer": "ipython3",
   "version": "3.7.9"
  },
  "varInspector": {
   "cols": {
    "lenName": 16,
    "lenType": 16,
    "lenVar": 40
   },
   "kernels_config": {
    "python": {
     "delete_cmd_postfix": "",
     "delete_cmd_prefix": "del ",
     "library": "var_list.py",
     "varRefreshCmd": "print(var_dic_list())"
    },
    "r": {
     "delete_cmd_postfix": ") ",
     "delete_cmd_prefix": "rm(",
     "library": "var_list.r",
     "varRefreshCmd": "cat(var_dic_list()) "
    }
   },
   "types_to_exclude": [
    "module",
    "function",
    "builtin_function_or_method",
    "instance",
    "_Feature"
   ],
   "window_display": false
  }
 },
 "nbformat": 4,
 "nbformat_minor": 5
}
