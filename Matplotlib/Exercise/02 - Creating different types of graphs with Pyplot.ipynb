{
 "cells": [
  {
   "cell_type": "markdown",
   "id": "precise-seeker",
   "metadata": {
    "deletable": false,
    "editable": false
   },
   "source": [
    "![logo](../../img/license_header_logo.png)\n",
    "> **Copyright &copy; 2021 CertifAI Sdn. Bhd.**<br>\n",
    " <br>\n",
    "This program and the accompanying materials are made available under the\n",
    "terms of the [Apache License, Version 2.0](https://www.apache.org/licenses/LICENSE-2.0). <br>\n",
    "Unless required by applicable law or agreed to in writing, software\n",
    "distributed under the License is distributed on an \"AS IS\" BASIS, WITHOUT\n",
    "WARRANTIES OR CONDITIONS OF ANY KIND, either express or implied. See the\n",
    "License for the specific language governing permissions and limitations\n",
    "under the License. <br>\n",
    "<br>**SPDX-License-Identifier: Apache-2.0**"
   ]
  },
  {
   "cell_type": "markdown",
   "id": "inner-chicago",
   "metadata": {},
   "source": [
    "# 02 - Creating different types of graphs with Pyplot\n",
    "## Introduction\n",
    "There are different types of plots available in Matplotlib, each has its usage with certain specific data. Proper selection of plots is very essential and this needs to be understood before moving forward with the creation of plots. The most commonly used plots are:\n",
    "1. Bar Plots\n",
    "2. Histograms\n",
    "3. Pie Plots\n",
    "4. Area Plots\n",
    "5. Scatter Plots\n",
    "6. Time Series Graph\n",
    "\n",
    "## Notebook Outline\n",
    "Below is the outline for this tutorial:\n",
    "1. [Histograms](#Histograms)\n",
    "2. [Scatter plot](#Scatter)\n",
    "    1. [Scatter plot with groups / categorical data](#categorical)\n",
    "3. [Box plot](#Box)\n",
    "    1. [Multiple box plot](#Multiple) \n",
    "4. [Customizing Matplotlib with rcParams](#Customizing)\n",
    "5. [Summary](#Summary)\n",
    "6. [Reference](#Reference)\n",
    "\n",
    "\n",
    "\n",
    "## What will we accomplish?\n",
    "In this hands-on, we will focus on creating the histogram, scatter plot, box plot and the way to plot with categorical variable. Beside, we will demonstrate how to fix the figure size for all the plot by using `rcParams`\n",
    "    \n",
    "First, let's import the Pyplot library"
   ]
  },
  {
   "cell_type": "code",
   "execution_count": null,
   "id": "solar-anxiety",
   "metadata": {
    "deletable": false,
    "nbgrader": {
     "cell_type": "code",
     "checksum": "6c4733ecf89fe855e6f6cf4101c7746d",
     "grade": false,
     "grade_id": "cell-fbf36810e0667a78",
     "locked": false,
     "schema_version": 3,
     "solution": true,
     "task": false
    }
   },
   "outputs": [],
   "source": [
    "# YOUR CODE HERE\n"
   ]
  },
  {
   "cell_type": "markdown",
   "id": "smooth-crime",
   "metadata": {},
   "source": [
    "## <a name=\"Histograms\">Histograms</a>\n",
    "Histograms are created using `plt.hist()` function. It has an attribute `bin` that takes into input the range/nature of bins you want for the histogram. Leaving the `bin` attribute empty will assign the default bin value which is 10. For details, please refer to [here](https://matplotlib.org/stable/api/_as_gen/matplotlib.pyplot.hist.html)\n",
    "![image](https://user-images.githubusercontent.com/59526258/113844926-917b6000-97c7-11eb-9403-f0f76f8f9e6e.png)\n"
   ]
  },
  {
   "cell_type": "markdown",
   "id": "talented-concentration",
   "metadata": {},
   "source": [
    "For example, you have to collect personal height data from 250 students. You plan to use a histogram to visualize your data.\n",
    ">**Expected Result** :<br>\n",
    "![image](https://user-images.githubusercontent.com/59526258/114672697-01459980-9d38-11eb-940c-994f2e187d9c.png)"
   ]
  },
  {
   "cell_type": "code",
   "execution_count": null,
   "id": "stone-mayor",
   "metadata": {
    "deletable": false,
    "nbgrader": {
     "cell_type": "code",
     "checksum": "e42c49754ba8afc185ee58ad4537ca9a",
     "grade": false,
     "grade_id": "cell-47a4bdb3948bc6bc",
     "locked": false,
     "schema_version": 3,
     "solution": true,
     "task": false
    }
   },
   "outputs": [],
   "source": [
    "np.random.seed(0)\n",
    "# Random generate data with mean = 170 , standard deviation = 10 for 250 student\n",
    "x = np.random.normal(170, 10, 250)\n",
    "# YOUR CODE HERE\n"
   ]
  },
  {
   "cell_type": "markdown",
   "id": "characteristic-ghana",
   "metadata": {},
   "source": [
    "You can specify the limit of the bins by assigning it to `bins` attributes\n",
    ">**Expected Result** :<br>\n",
    "![image](https://user-images.githubusercontent.com/59526258/114672870-2fc37480-9d38-11eb-880e-372f109e6731.png)"
   ]
  },
  {
   "cell_type": "code",
   "execution_count": null,
   "id": "internal-broadway",
   "metadata": {
    "deletable": false,
    "nbgrader": {
     "cell_type": "code",
     "checksum": "8575abcbb90fac14c22056b61c4da258",
     "grade": false,
     "grade_id": "cell-844ca6ce64320b73",
     "locked": false,
     "schema_version": 3,
     "solution": true,
     "task": false
    }
   },
   "outputs": [],
   "source": [
    "bins = np.arange(120,220,5)\n",
    "# YOUR CODE HERE\n"
   ]
  },
  {
   "cell_type": "markdown",
   "id": "pressed-funeral",
   "metadata": {},
   "source": [
    "##  <a name=\"Scatter\">Scatter plot</a>\n",
    "Scatter plot can be created using `plt.scatter()` function. It has some useful attributes that we need to encounter such as : \n",
    "![image](https://user-images.githubusercontent.com/59526258/113953545-a64d0780-984a-11eb-9222-6cc37649ed0d.png)\n",
    "Please refer [here](https://matplotlib.org/stable/api/_as_gen/matplotlib.pyplot.scatter.html) for more details in the scatter plot.\n",
    "\n",
    "As an example, we take residential home sales in Ames, Iowa between 2006 and 2010 as data for scatter plot visualization. The data set contains many explanatory variables on the quality and quantity of physical attributes of residential homes in Iowa sold between 2006 and 2010. Most of the variables describe information a typical home buyer would like to know about a property (square footage, number of bedrooms and bathrooms, size of lot, etc.). "
   ]
  },
  {
   "cell_type": "code",
   "execution_count": null,
   "id": "utility-aquatic",
   "metadata": {},
   "outputs": [],
   "source": [
    "import pandas as pd\n",
    "house_data = pd.read_csv('https://raw.githubusercontent.com/josephpconley/R/master/openintrostat/OpenIntroLabs/(4)%20lab4/data%20%26%20custom%20code/AmesHousing.csv')\n",
    "house_data.head()"
   ]
  },
  {
   "cell_type": "markdown",
   "id": "appropriate-voltage",
   "metadata": {},
   "source": [
    "We will create a scatter plot by taking Living Area Above Ground(Gr Liv Area) and Sales Price as axes to study the correlation between them. Let's take `alpha = 0.5` to create a better result.\n",
    ">*Notes: alpha -> The alpha blending value, between 0 (transparent) and 1 (opaque).*\n",
    "\n",
    ">**Expected Result** :<br>\n",
    "![image](https://user-images.githubusercontent.com/59526258/114673083-69947b00-9d38-11eb-97c1-5b7bf4155d63.png)"
   ]
  },
  {
   "cell_type": "code",
   "execution_count": null,
   "id": "pharmaceutical-seventh",
   "metadata": {
    "deletable": false,
    "nbgrader": {
     "cell_type": "code",
     "checksum": "3cff209cc67d4f8332b7885aa024a926",
     "grade": false,
     "grade_id": "cell-6c6025539d9287ca",
     "locked": false,
     "schema_version": 3,
     "solution": true,
     "task": false
    }
   },
   "outputs": [],
   "source": [
    "x= house_data['Gr Liv Area']\n",
    "y = house_data['SalePrice']\n",
    "\n",
    "# YOUR CODE HERE\n"
   ]
  },
  {
   "cell_type": "markdown",
   "id": "integral-retailer",
   "metadata": {},
   "source": [
    "As we can observe from the scatter plot, the more area there is above ground level, the higher the price of the house was."
   ]
  },
  {
   "cell_type": "markdown",
   "id": "middle-study",
   "metadata": {},
   "source": [
    "###  <a name=\"categorical\">Scatter plot with groups / categorical data</a>\n",
    "Categorical data can be visualized using a scatter plot to have a clear picture of how the data is been grouped.\n",
    "\n",
    ">**Expected Result** :<br>\n",
    "![image](https://user-images.githubusercontent.com/59526258/114673233-8cbf2a80-9d38-11eb-8843-38d99aaed96c.png)\n"
   ]
  },
  {
   "cell_type": "code",
   "execution_count": null,
   "id": "racial-minority",
   "metadata": {
    "deletable": false,
    "nbgrader": {
     "cell_type": "code",
     "checksum": "ff1c341157441f1e75fc168928e71ad8",
     "grade": false,
     "grade_id": "cell-eea7330e1ffb1da7",
     "locked": false,
     "schema_version": 3,
     "solution": true,
     "task": false
    }
   },
   "outputs": [],
   "source": [
    "# Create data\n",
    "N = 60\n",
    "g1 = (0.6 + 0.6 * np.random.rand(N), np.random.rand(N))\n",
    "g2 = (0.4+0.3 * np.random.rand(N), 0.5*np.random.rand(N))\n",
    "g3 = (0.3*np.random.rand(N),0.3*np.random.rand(N))\n",
    "\n",
    "data = (g1, g2, g3)\n",
    "colors = (\"red\", \"green\", \"blue\")\n",
    "groups = (\"coffee\", \"tea\", \"water\")\n",
    "# YOUR CODE HERE\n",
    "\n"
   ]
  },
  {
   "cell_type": "markdown",
   "id": "institutional-direction",
   "metadata": {},
   "source": [
    "## <a name=\"Box\">Box plot</a>\n",
    ">*A Box Plot is also known as Whisker plot is created to display the summary of the set of data values having properties like minimum, first quartile, median, third quartile and maximum. In the box plot, a box is created from the first quartile to the third quartile, a verticle line is also there which goes through the box at the median. Here x-axis denotes the data to be plotted while the y-axis shows the frequency distribution.* - ***GeeksforGeeks***\n",
    "\n",
    "![image](https://user-images.githubusercontent.com/59526258/113961101-18781900-9858-11eb-9ee4-68bb19efb9f0.png)\n",
    "For box plot details, please refer to [here](https://matplotlib.org/stable/api/_as_gen/matplotlib.pyplot.boxplot.html)\n",
    "\n",
    "Let's start with a single box plot\n",
    ">**Expected Result** :<br>\n",
    "![image](https://user-images.githubusercontent.com/59526258/114673463-cb54e500-9d38-11eb-839d-74926d13e3d0.png)"
   ]
  },
  {
   "cell_type": "code",
   "execution_count": null,
   "id": "flush-drunk",
   "metadata": {
    "deletable": false,
    "nbgrader": {
     "cell_type": "code",
     "checksum": "c73f57fcf8b2bd680dbfc6f29edf6bd6",
     "grade": false,
     "grade_id": "cell-f6b28b8cd4d08a66",
     "locked": false,
     "schema_version": 3,
     "solution": true,
     "task": false
    }
   },
   "outputs": [],
   "source": [
    "# Creating dataset\n",
    "np.random.seed(10)\n",
    "data = np.random.normal(100, 10, 200)\n",
    "  \n",
    "# Creating plot\n",
    "\n",
    "# YOUR CODE HERE\n"
   ]
  },
  {
   "cell_type": "markdown",
   "id": "common-folder",
   "metadata": {},
   "source": [
    "As you can notice, the mean of the data is around 100, lower quartile is about 95, upper quartile is about 106. Besides, the data contains few outliers.\n",
    "\n",
    ">*Notes: You may convert the data into Pandas series and use `df.describe()` to print the statistical value*"
   ]
  },
  {
   "cell_type": "code",
   "execution_count": null,
   "id": "corresponding-wagon",
   "metadata": {},
   "outputs": [],
   "source": [
    "series = pd.Series(data)\n",
    "series.describe()"
   ]
  },
  {
   "cell_type": "markdown",
   "id": "dangerous-marijuana",
   "metadata": {},
   "source": [
    "### <a name=\"Multiple\">Multiple box plot </a>\n",
    "Let's try to create multiple box plot\n",
    ">**Expected Result** :<br>\n",
    "![image](https://user-images.githubusercontent.com/59526258/114673641-fb03ed00-9d38-11eb-9229-24b8e9b5dfbf.png)"
   ]
  },
  {
   "cell_type": "code",
   "execution_count": null,
   "id": "irish-battle",
   "metadata": {
    "deletable": false,
    "nbgrader": {
     "cell_type": "code",
     "checksum": "5c844d57a0b5f88f130d995e1a9dcc11",
     "grade": false,
     "grade_id": "cell-75fa22a013b54b8c",
     "locked": false,
     "schema_version": 3,
     "solution": true,
     "task": false
    }
   },
   "outputs": [],
   "source": [
    "# Creating dataset\n",
    "np.random.seed(10)\n",
    "  \n",
    "data_1 = np.random.normal(100, 10, 200)\n",
    "data_2 = np.random.normal(90, 20, 200)\n",
    "data_3 = np.random.normal(80, 30, 200)\n",
    "data_4 = np.random.normal(70, 40, 200)\n",
    "data = [data_1, data_2, data_3, data_4]\n",
    "\n",
    "# YOUR CODE HERE\n"
   ]
  },
  {
   "cell_type": "markdown",
   "id": "responsible-retrieval",
   "metadata": {},
   "source": [
    "##  <a name=\"Customizing\">Customizing Matplotlib with rcParams</a>\n",
    "Each time Matplotlib loads, it defines a runtime configuration (rc) containing the default styles for every plot element you create. This configuration can be adjusted at any time using the `plt.rc` convenience routine. For details, please refer to [here](https://jakevdp.github.io/PythonDataScienceHandbook/04.11-settings-and-stylesheets.html).\n",
    "\n",
    "Let's try to change the figure size to (10,8) using `plt.rcParams[\"figure.figsize\"]`"
   ]
  },
  {
   "cell_type": "code",
   "execution_count": null,
   "id": "empirical-lease",
   "metadata": {
    "deletable": false,
    "nbgrader": {
     "cell_type": "code",
     "checksum": "e52534768e4058d696d588669691da45",
     "grade": false,
     "grade_id": "cell-2a2f1dc68d5738d1",
     "locked": false,
     "schema_version": 3,
     "solution": true,
     "task": false
    }
   },
   "outputs": [],
   "source": [
    "# YOUR CODE HERE\n"
   ]
  },
  {
   "cell_type": "markdown",
   "id": "liberal-reggae",
   "metadata": {},
   "source": [
    "Let's plot the box plot again and observe the difference "
   ]
  },
  {
   "cell_type": "code",
   "execution_count": null,
   "id": "pregnant-singer",
   "metadata": {},
   "outputs": [],
   "source": [
    "# Creating plot\n",
    "plt.boxplot(data)\n",
    "  \n",
    "# show plot\n",
    "plt.show()"
   ]
  },
  {
   "cell_type": "markdown",
   "id": "asian-witch",
   "metadata": {},
   "source": [
    "As you notice, the figure size has enlarged to (10,8) without specifically using `plt.figure()`. Please feel free to try on other plots as well."
   ]
  },
  {
   "cell_type": "markdown",
   "id": "exact-manhattan",
   "metadata": {},
   "source": [
    "# <a name=\"Summary\">Summary</a>\n",
    "From this tutorial, you should have learned:\n",
    "1. Creating different types of graphs with Pyplot.\n",
    "2. Familiar with the process of creating Histogram, Scatter Plot and Boxplot.\n",
    "\n",
    "Congratulations, that concludes this lesson. "
   ]
  },
  {
   "cell_type": "markdown",
   "id": "capital-explosion",
   "metadata": {},
   "source": [
    "##  <a name=\"Reference\">Reference</a>\n",
    "1. [Headstart to Plotting Graphs using Matplotlib library](https://www.analyticsvidhya.com/blog/2020/10/headstart-to-plotting-graphs-using-matplotlib-library/)\n",
    "2. [Matplotlib Histograms](https://www.w3schools.com/python/matplotlib_histograms.asp)\n",
    "3. [Matplotlib Scatter Plot - Tutorial and Examples](https://stackabuse.com/matplotlib-scatterplot-tutorial-and-examples/)"
   ]
  }
 ],
 "metadata": {
  "kernelspec": {
   "display_name": "Python 3",
   "language": "python",
   "name": "python3"
  },
  "language_info": {
   "codemirror_mode": {
    "name": "ipython",
    "version": 3
   },
   "file_extension": ".py",
   "mimetype": "text/x-python",
   "name": "python",
   "nbconvert_exporter": "python",
   "pygments_lexer": "ipython3",
   "version": "3.7.9"
  },
  "varInspector": {
   "cols": {
    "lenName": 16,
    "lenType": 16,
    "lenVar": 40
   },
   "kernels_config": {
    "python": {
     "delete_cmd_postfix": "",
     "delete_cmd_prefix": "del ",
     "library": "var_list.py",
     "varRefreshCmd": "print(var_dic_list())"
    },
    "r": {
     "delete_cmd_postfix": ") ",
     "delete_cmd_prefix": "rm(",
     "library": "var_list.r",
     "varRefreshCmd": "cat(var_dic_list()) "
    }
   },
   "types_to_exclude": [
    "module",
    "function",
    "builtin_function_or_method",
    "instance",
    "_Feature"
   ],
   "window_display": false
  }
 },
 "nbformat": 4,
 "nbformat_minor": 5
}
