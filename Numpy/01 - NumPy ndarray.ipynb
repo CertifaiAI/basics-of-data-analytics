{
 "cells": [
  {
   "cell_type": "markdown",
   "id": "massive-geometry",
   "metadata": {
    "deletable": false,
    "editable": false
   },
   "source": [
    "![logo](../img/license_header_logo.png)\n",
    "> **Copyright &copy; 2021 CertifAI Sdn. Bhd.**<br>\n",
    " <br>\n",
    "This program and the accompanying materials are made available under the\n",
    "terms of the [Apache License, Version 2.0](https://www.apache.org/licenses/LICENSE-2.0). <br>\n",
    "Unless required by applicable law or agreed to in writing, software\n",
    "distributed under the License is distributed on an \"AS IS\" BASIS, WITHOUT\n",
    "WARRANTIES OR CONDITIONS OF ANY KIND, either express or implied. See the\n",
    "License for the specific language governing permissions and limitations\n",
    "under the License. <br>\n",
    "<br>**SPDX-License-Identifier: Apache-2.0**"
   ]
  },
  {
   "cell_type": "markdown",
   "id": "increasing-waters",
   "metadata": {},
   "source": [
    "# 01 - Numpy Arrays\n",
    "Authored by: [Kian Yang Lee](https://github.com/KianYang-Lee) - kianyang.lee@certifai.ai"
   ]
  },
  {
   "cell_type": "markdown",
   "id": "referenced-perspective",
   "metadata": {},
   "source": [
    "## <a name=\"description\">Notebook Description</a>\n",
    "\n",
    "This notebook will works only on `numpy` module, a popular `python` library for numerical computation. This notebook serves as an introduction to the most important data object in the module, which is `numpy array`. \n",
    "\n",
    "By the end of this tutorial, you will be able to:\n",
    "\n",
    "1. Explain about `numpy ndarray` object\n",
    "2. Apply `numpy.arange()` method to create simple `ndarray`\n",
    "3. Apply `numpy.ndim`, `numpy.size`, `numpy.shape` and `numpy.dtype` attributes to access these attributes of the relevant `ndarray` object"
   ]
  },
  {
   "cell_type": "markdown",
   "id": "variable-lancaster",
   "metadata": {},
   "source": [
    "## Notebook Outline\n",
    "Below is the outline for this tutorial:\n",
    "1. [Notebook Description](#description)\n",
    "2. [Notebook Configurations](#configuration)\n",
    "3. [Introduction to `numpy ndarray`](#intro)\n",
    "4. [Attributes of `ndarray`](#attributes)<br>\n",
    "5. [Another Example](#eg)<br>\n",
    "6. [n-dimensional Array](#n-dims)\n",
    "7. [Reference](#reference)"
   ]
  },
  {
   "cell_type": "markdown",
   "id": "included-nickel",
   "metadata": {},
   "source": [
    "## <a name=\"configuration\">Notebook Configurations</a>\n",
    "This notebook will works only on `numpy` module, a popular `python` library for numerical computation. It is common for people to import it using the alias `np`."
   ]
  },
  {
   "cell_type": "code",
   "execution_count": 1,
   "id": "alpha-bidding",
   "metadata": {},
   "outputs": [],
   "source": [
    "import numpy as np"
   ]
  },
  {
   "cell_type": "markdown",
   "id": "pacific-vietnamese",
   "metadata": {},
   "source": [
    "## <a name=\"intro\">Introduction to `numpy ndarray`</a>\n",
    "The main object that the `numpy` module revolves around is the homogeneous, multidimensional array. It is also known as `numpy ndarray` as it can handles and store n-dimensional arrays. An example of `numpy array` looks like this:\n",
    "<div align=\"center\"> $[[ 0., 1., 2.],$ </div>\n",
    "<div align=\"center\"> $[ 3., 4., 5.]]$<br>\n",
    "\n",
    "It is evident that an `ndarray` is a table of elements (you can imagine them as a spreadsheet). One caveat is that all of them are of the same data type (it is float in the example). They are indexed by a tuple of non-negative integers, which corresponds to the respective dimension. Another name for dimensions in `numpy` are axes.\n",
    "\n",
    "In the example above, the array has 2 axes. The first axis (rows) has a length of 2 because there are two elements (rows) in that dimension. On the other hadn, the second axis (columns) has a length of 3 because there are three elements (columns) in that dimension.\n",
    "    \n",
    "We can easily create an `numpy ndarray` with just one line of code. Let's do that and recreate the example we have above."
   ]
  },
  {
   "cell_type": "code",
   "execution_count": 2,
   "id": "destroyed-boston",
   "metadata": {},
   "outputs": [
    {
     "data": {
      "text/plain": [
       "array([0, 1, 2, 3, 4, 5])"
      ]
     },
     "execution_count": 2,
     "metadata": {},
     "output_type": "execute_result"
    }
   ],
   "source": [
    "np.arange(6)"
   ]
  },
  {
   "cell_type": "markdown",
   "id": "confidential-chance",
   "metadata": {},
   "source": [
    "`np.arange()` returns evenly spaced within the provided interval. In the above example, only the `stop` value is indicated and the default starts from 0, hence the values in the `ndarray` are from 0 to 5 (`stop` value is exclusive).\n",
    "\n",
    "Based on the printed result, can you guess what is the dimension and shape of the `ndarray`?"
   ]
  },
  {
   "cell_type": "markdown",
   "id": "living-fiction",
   "metadata": {},
   "source": [
    "## <a name=\"attributes\">Attributes of `ndarray`</a>\n",
    "\n",
    "Perhaps it is time to talk about the different attributes for `ndarray` object. Here is a non-exhaustive list of commonly used ones:\n",
    "* `ndarray.ndim`: returns the number of axes (or dimension) of the array.\n",
    "* `ndarray.shape`: returns a tuple of integers where each integer represents the size (total number of elements) in each dimension.\n",
    "* `ndarray.size`: returns the total number of elements of the array\n",
    "* `ndarray.dtype`: returns an object that indicates what are the types of elements in the array.\n",
    "\n",
    "Before we make use of and call each `ndarray`'s attribute, can you roughly guess what each attribute will return?"
   ]
  },
  {
   "cell_type": "code",
   "execution_count": 3,
   "id": "derived-grove",
   "metadata": {},
   "outputs": [
    {
     "name": "stdout",
     "output_type": "stream",
     "text": [
      "For the array [0 1 2 3 4 5]:\n",
      "\n",
      "\n",
      "The number of dimensions is: 1\n",
      "The shape is: (6,)\n",
      "The size is: 6\n",
      "The data type is: int32\n"
     ]
    }
   ],
   "source": [
    "arr1 = np.arange(6)\n",
    "\n",
    "print(f\"For the array {arr1}:\\n\\n\") \n",
    "print(\"The number of dimensions is: \"+str(arr1.ndim))\n",
    "print(\"The shape is: \"+str(arr1.shape))\n",
    "print(\"The size is: \"+str(arr1.size))\n",
    "print(\"The data type is: \"+str(arr1.dtype))"
   ]
  },
  {
   "cell_type": "markdown",
   "id": "enormous-imaging",
   "metadata": {},
   "source": [
    "Are you able to answer correctly? The `ndarray` is of only one axis, that is why it has the shape `(6,)`. This is also known as one-dimensional vector. It is advisable to convert this into a 2-dimensional matrix as it would result in weird complications when performing numerical computations with other `ndarray` of different shape."
   ]
  },
  {
   "cell_type": "markdown",
   "id": "artistic-acoustic",
   "metadata": {},
   "source": [
    "## <a name=\"eg\">Another Example</a>\n",
    "Let's take a look on another example, whereby this time we will be checking the attributes for a two-dimensional `ndarray`. Before we inspect the attributes, can you roughly guess what are the number of dimensions, shape, size and data type for this `ndarray` below?"
   ]
  },
  {
   "cell_type": "code",
   "execution_count": 4,
   "id": "indian-being",
   "metadata": {},
   "outputs": [
    {
     "name": "stdout",
     "output_type": "stream",
     "text": [
      "For the array \n",
      " [[0 1 2]\n",
      " [3 4 5]]\n",
      "\n",
      "\n",
      "The number of dimensions is: 2\n",
      "The shape is: (2, 3)\n",
      "The size is: 6\n",
      "The data type is: int32\n"
     ]
    }
   ],
   "source": [
    "arr2 = np.arange(6).reshape(2, 3)\n",
    "\n",
    "print(f\"For the array \\n {arr2}\\n\\n\") \n",
    "print(\"The number of dimensions is: \"+str(arr2.ndim))\n",
    "print(\"The shape is: \"+str(arr2.shape))\n",
    "print(\"The size is: \"+str(arr2.size))\n",
    "print(\"The data type is: \"+str(arr2.dtype))"
   ]
  },
  {
   "cell_type": "markdown",
   "id": "recent-extra",
   "metadata": {},
   "source": [
    "A few things that we can observe here. First, the data type is still `int32`. Next, since the same `np.arange()` method and arguments are used, it result in the same number of elements that are created. \n",
    "\n",
    "However, the difference lies in the number of dimension and shape, where it is now of the shape `(2,3)`, where `2` represents the number of elements (rows) in the first axis and `3` represents the number of elements (columns) in the second axis. It has a total of 2 dimensions, so the `ndim` attribute returns 2."
   ]
  },
  {
   "cell_type": "markdown",
   "id": "renewable-dealing",
   "metadata": {},
   "source": [
    "## <a name=\"n-dims\">n-dimensional Array</a>\n",
    "The strength of `numpy` lies in the ability of handling and storing n-dimensional array in an efficient manner. It is computationally more efficient compared to the native `Python array`. This characteristic enables it to become the module-of-choice when it comes to data analytics and processing using `Python`, as often data analytics requires the user to look through and manipulate a large table of elements with many dimensions. In fact, a lot of the other modules such as `scikit-learn`, `pytorch` and `tensorflow` leverages upon `numpy ndarray` in their module.\n",
    "\n",
    "Let's create a 4-dimensional `ndarray` as one last check before we ends this tutorial."
   ]
  },
  {
   "cell_type": "code",
   "execution_count": 5,
   "id": "voluntary-front",
   "metadata": {},
   "outputs": [
    {
     "name": "stdout",
     "output_type": "stream",
     "text": [
      "For the array \n",
      " [[[[ 0  1  2  3]\n",
      "   [ 4  5  6  7]\n",
      "   [ 8  9 10 11]]\n",
      "\n",
      "  [[12 13 14 15]\n",
      "   [16 17 18 19]\n",
      "   [20 21 22 23]]]]\n",
      "\n",
      "\n",
      "The number of dimensions is: 4\n",
      "The shape is: (1, 2, 3, 4)\n",
      "The size is: 24\n",
      "The data type is: int32\n"
     ]
    }
   ],
   "source": [
    "arr3 = np.arange(24).reshape(1, 2, 3, 4)\n",
    "\n",
    "print(f\"For the array \\n {arr3}\\n\\n\") \n",
    "print(\"The number of dimensions is: \"+str(arr3.ndim))\n",
    "print(\"The shape is: \"+str(arr3.shape))\n",
    "print(\"The size is: \"+str(arr3.size))\n",
    "print(\"The data type is: \"+str(arr3.dtype))"
   ]
  },
  {
   "cell_type": "markdown",
   "id": "preceding-protection",
   "metadata": {},
   "source": [
    "## <a name=\"reference\">Reference</a>\n",
    "* [NumPy Quickstart](https://numpy.org/doc/stable/user/quickstart.html)"
   ]
  }
 ],
 "metadata": {
  "kernelspec": {
   "display_name": "Python 3",
   "language": "python",
   "name": "python3"
  },
  "language_info": {
   "codemirror_mode": {
    "name": "ipython",
    "version": 3
   },
   "file_extension": ".py",
   "mimetype": "text/x-python",
   "name": "python",
   "nbconvert_exporter": "python",
   "pygments_lexer": "ipython3",
   "version": "3.7.10"
  }
 },
 "nbformat": 4,
 "nbformat_minor": 5
}
