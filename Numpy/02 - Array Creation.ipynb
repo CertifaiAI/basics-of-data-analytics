{
 "cells": [
  {
   "cell_type": "markdown",
   "id": "bright-privilege",
   "metadata": {
    "deletable": false,
    "editable": false
   },
   "source": [
    "![logo](../img/license_header_logo.png)\n",
    "> **Copyright &copy; 2021 CertifAI Sdn. Bhd.**<br>\n",
    " <br>\n",
    "This program and the accompanying materials are made available under the\n",
    "terms of the [Apache License, Version 2.0](https://www.apache.org/licenses/LICENSE-2.0). <br>\n",
    "Unless required by applicable law or agreed to in writing, software\n",
    "distributed under the License is distributed on an \"AS IS\" BASIS, WITHOUT\n",
    "WARRANTIES OR CONDITIONS OF ANY KIND, either express or implied. See the\n",
    "License for the specific language governing permissions and limitations\n",
    "under the License. <br>\n",
    "<br>**SPDX-License-Identifier: Apache-2.0**"
   ]
  },
  {
   "cell_type": "markdown",
   "id": "competent-thumb",
   "metadata": {},
   "source": [
    "# 02 - Array Creation\n",
    "Authored by: [Kian Yang Lee](https://github.com/KianYang-Lee) - kianyang.lee@certifai.ai"
   ]
  },
  {
   "cell_type": "markdown",
   "id": "viral-welsh",
   "metadata": {},
   "source": [
    "## <a name=\"description\">Notebook Description</a>\n",
    "\n",
    "This notebook describes various ways to create `numpy ndarray`. It is especially suitable for beginners new to `numpy` module .\n",
    "\n",
    "By the end of this tutorial, you will be able to:\n",
    "\n",
    "1. Explain about how `numpy ndarray` can be created\n",
    "2. Apply `numpy.arange`, `numpy.array`, `numpy.zeros`, `numpy.ones` and `numpy.empty` methods to create `numpy ndarray`\n",
    "3. Explain and apply `numpy.dtype` and `astype()` methods to specify and modify `numpy data-type`"
   ]
  },
  {
   "cell_type": "markdown",
   "id": "secret-helen",
   "metadata": {},
   "source": [
    "## Notebook Outline\n",
    "Below is the outline for this tutorial:\n",
    "1. [Notebook Description](#description)\n",
    "2. [Notebook Configurations](#configuration)\n",
    "3. [Method 1: Create a Range of Evenly Spaced Values](#arange)\n",
    "3. [Method 2: Create from `list` or `tuple`](#array)\n",
    "4. [Method 3: Zeros, Ones and Empty](#similar)\n",
    "5. [`ndarray` Data-type](#dtype)"
   ]
  },
  {
   "cell_type": "markdown",
   "id": "chicken-reservation",
   "metadata": {},
   "source": [
    "## <a name=\"configuration\">Notebook Configurations</a>\n",
    "This notebook will works only on `numpy` module, a popular `python` library for numerical computation. It is common for people to import it using the alias `np`."
   ]
  },
  {
   "cell_type": "code",
   "execution_count": 1,
   "id": "coupled-nicholas",
   "metadata": {},
   "outputs": [],
   "source": [
    "import numpy as np"
   ]
  },
  {
   "cell_type": "markdown",
   "id": "waiting-tradition",
   "metadata": {},
   "source": [
    "## <a name=\"arange\">Method 1: Create a Range of Evenly-spaced Values</a>\n",
    "`numpy.arange()` method is a simple way to create an `ndarray`. It is akin to `Python`'s `range` function, but instead of returning a `list` object, it returns a `ndarray` object. It takes only one mandatory argument which is `stop` to include create the array with values up to but not including the `stop` value provided. In this case, the `start` will default to 0 and `step` default to 1, as shown below."
   ]
  },
  {
   "cell_type": "code",
   "execution_count": 2,
   "id": "bound-panic",
   "metadata": {},
   "outputs": [
    {
     "data": {
      "text/plain": [
       "array([0, 1, 2, 3, 4, 5, 6, 7, 8, 9])"
      ]
     },
     "execution_count": 2,
     "metadata": {},
     "output_type": "execute_result"
    }
   ],
   "source": [
    "np.arange(10) # 10 is not included in the ndarray"
   ]
  },
  {
   "cell_type": "markdown",
   "id": "underlying-throw",
   "metadata": {},
   "source": [
    "Users can also specify the `start` and `step` argument to have a more specific control of the `ndarray` object. Bear in mind that the values which are generated are within the half-open interval `[start, stop)`."
   ]
  },
  {
   "cell_type": "code",
   "execution_count": 3,
   "id": "suffering-arrival",
   "metadata": {},
   "outputs": [
    {
     "data": {
      "text/plain": [
       "array([2, 3, 4, 5, 6, 7, 8, 9])"
      ]
     },
     "execution_count": 3,
     "metadata": {},
     "output_type": "execute_result"
    }
   ],
   "source": [
    "# demonstrating with only start and stop arguments\n",
    "np.arange(start=2, stop=10) # 3 is included but not 10"
   ]
  },
  {
   "cell_type": "code",
   "execution_count": 4,
   "id": "cheap-spelling",
   "metadata": {},
   "outputs": [
    {
     "data": {
      "text/plain": [
       "array([2, 4, 6, 8])"
      ]
     },
     "execution_count": 4,
     "metadata": {},
     "output_type": "execute_result"
    }
   ],
   "source": [
    "# demonstrating with start, stop and step arguments\n",
    "np.arange(start=2, stop=10, step=2) # next value is 2 more of previous"
   ]
  },
  {
   "cell_type": "markdown",
   "id": "satisfactory-strand",
   "metadata": {},
   "source": [
    "The downside of this method is that it can only create `ndarray` with one axis. An additional step of reshaping would be needed to produce `ndarray` with more than one axes."
   ]
  },
  {
   "cell_type": "markdown",
   "id": "parliamentary-scanning",
   "metadata": {},
   "source": [
    "## <a name=\"array\">Method 2: Create from `list` or `tuple`</a>\n",
    "A simple way to create an `ndarray` is by calling `numpy.array()` method and by providing `list` or `tuple` as the argument. This is intuitive for users that are already familiar with `Python` as `list` and `tuple` are the native data structures."
   ]
  },
  {
   "cell_type": "code",
   "execution_count": 5,
   "id": "emotional-press",
   "metadata": {},
   "outputs": [
    {
     "data": {
      "text/plain": [
       "array([0, 1, 2])"
      ]
     },
     "execution_count": 5,
     "metadata": {},
     "output_type": "execute_result"
    }
   ],
   "source": [
    "# using list \n",
    "np.array([0, 1, 2])"
   ]
  },
  {
   "cell_type": "code",
   "execution_count": 6,
   "id": "phantom-present",
   "metadata": {},
   "outputs": [
    {
     "data": {
      "text/plain": [
       "array([0, 1, 2])"
      ]
     },
     "execution_count": 6,
     "metadata": {},
     "output_type": "execute_result"
    }
   ],
   "source": [
    "# using tuple\n",
    "np.array((0, 1, 2))"
   ]
  },
  {
   "cell_type": "markdown",
   "id": "respiratory-diamond",
   "metadata": {},
   "source": [
    "Above shows two different arguments, `list` and `tuple`, that were used for `np.array()` method but the same result is achieved. \n",
    "\n",
    "Nonetheless, one common error among beginners is providing `array()` method with multiple arguments instead of a sequence. Like the one shown below:"
   ]
  },
  {
   "cell_type": "code",
   "execution_count": 7,
   "id": "unable-apache",
   "metadata": {},
   "outputs": [
    {
     "name": "stdout",
     "output_type": "stream",
     "text": [
      "only 2 non-keyword arguments accepted\n",
      "Multiple arguments are provided! Please provide only one argument!\n"
     ]
    }
   ],
   "source": [
    "# this will result in ValueError\n",
    "try:\n",
    "    np.array(0, 1, 2)\n",
    "except ValueError as error:\n",
    "    print(error)\n",
    "    print(\"Multiple arguments are provided! Please provide only one argument!\")"
   ]
  },
  {
   "cell_type": "markdown",
   "id": "living-circular",
   "metadata": {},
   "source": [
    "Below is the same block of code except the difference lies in only one argument is provided. This can be successfully run."
   ]
  },
  {
   "cell_type": "code",
   "execution_count": 8,
   "id": "corporate-myrtle",
   "metadata": {},
   "outputs": [],
   "source": [
    "# this will not result in ValueError\n",
    "try:\n",
    "    np.array((0, 1, 2))\n",
    "except ValueError as error:\n",
    "    print(error)\n",
    "    print(\"Multiple arguments are provided! Please provide only one argument!\")"
   ]
  },
  {
   "cell_type": "markdown",
   "id": "stopped-brazil",
   "metadata": {},
   "source": [
    "To construct `ndarray` with multiple dimensions, just input sequences of sequences as the argument. "
   ]
  },
  {
   "cell_type": "code",
   "execution_count": 9,
   "id": "fabulous-devil",
   "metadata": {},
   "outputs": [
    {
     "data": {
      "text/plain": [
       "array([[0, 1, 2],\n",
       "       [3, 4, 5]])"
      ]
     },
     "execution_count": 9,
     "metadata": {},
     "output_type": "execute_result"
    }
   ],
   "source": [
    "# create 2-dimensional ndarray\n",
    "np.array([ [ 0, 1, 2], \n",
    "          [3, 4, 5] ])"
   ]
  },
  {
   "cell_type": "code",
   "execution_count": 10,
   "id": "convertible-january",
   "metadata": {},
   "outputs": [
    {
     "data": {
      "text/plain": [
       "array([[[ 0,  1,  2],\n",
       "        [ 3,  4,  5],\n",
       "        [ 6,  7,  8]],\n",
       "\n",
       "       [[ 9, 10, 11],\n",
       "        [12, 13, 14],\n",
       "        [15, 16, 17]]])"
      ]
     },
     "execution_count": 10,
     "metadata": {},
     "output_type": "execute_result"
    }
   ],
   "source": [
    "# create 3-dimensional ndarray\n",
    "np.array(\n",
    "    [ \n",
    "        [ \n",
    "            [ 0, 1, 2 ], \n",
    "            [ 3, 4, 5 ], \n",
    "            [ 6, 7, 8 ]\n",
    "        ],\n",
    "        [\n",
    "            [9, 10, 11],\n",
    "            [12, 13, 14],\n",
    "            [15, 16, 17]\n",
    "        ]\n",
    "    ])"
   ]
  },
  {
   "cell_type": "markdown",
   "id": "surrounded-diagnosis",
   "metadata": {},
   "source": [
    "## <a name=\"zeros\">Method 3: Zeros, Ones, and Empty</a>\n",
    "We will be introducing three methods here: `numpy.zeros()`, `numpy.ones()` and `numpy.empty()`. As the name implies, `numpy zeros` generates an `ndarray` of only zeros, `numpy ones` generates an `ndarray` of only ones, and `numpy empty` generates an `ndarray` with random content that is dependent on memory state. Users need to only specify the shape for `ndarray` as the argument for these methods. \n",
    "\n",
    "The default dtype used is `float64`.\n",
    "\n",
    "Below will be a demonstration of creating `ndarray` with the shape `(2, 3)` using the abovementioned methods."
   ]
  },
  {
   "cell_type": "code",
   "execution_count": 11,
   "id": "thrown-intensity",
   "metadata": {},
   "outputs": [
    {
     "data": {
      "text/plain": [
       "array([[0., 0., 0.],\n",
       "       [0., 0., 0.]])"
      ]
     },
     "execution_count": 11,
     "metadata": {},
     "output_type": "execute_result"
    }
   ],
   "source": [
    "np.zeros((2, 3))"
   ]
  },
  {
   "cell_type": "code",
   "execution_count": 12,
   "id": "returning-olive",
   "metadata": {},
   "outputs": [
    {
     "data": {
      "text/plain": [
       "array([[1., 1., 1.],\n",
       "       [1., 1., 1.]])"
      ]
     },
     "execution_count": 12,
     "metadata": {},
     "output_type": "execute_result"
    }
   ],
   "source": [
    "np.ones((2, 3))"
   ]
  },
  {
   "cell_type": "code",
   "execution_count": 13,
   "id": "specified-joyce",
   "metadata": {},
   "outputs": [
    {
     "data": {
      "text/plain": [
       "array([[1., 1., 1.],\n",
       "       [1., 1., 1.]])"
      ]
     },
     "execution_count": 13,
     "metadata": {},
     "output_type": "execute_result"
    }
   ],
   "source": [
    "np.empty((2, 3))"
   ]
  },
  {
   "cell_type": "markdown",
   "id": "neural-exemption",
   "metadata": {},
   "source": [
    "We can see that the data type that is displayed is of the type `float64`."
   ]
  },
  {
   "cell_type": "markdown",
   "id": "social-parent",
   "metadata": {},
   "source": [
    "## <a name=\"dtype\">`ndarray` Data-type</a>\n",
    "The data type of the `ndarray` can be specified during the creation of `ndarray`. We just have to specify what is the `dtype` that is used."
   ]
  },
  {
   "cell_type": "code",
   "execution_count": 14,
   "id": "exempt-subscriber",
   "metadata": {},
   "outputs": [],
   "source": [
    "# specifying an ndarray of one with int32 dtype\n",
    "arr_1 = np.ones((2, 3), dtype=\"int32\")"
   ]
  },
  {
   "cell_type": "code",
   "execution_count": 15,
   "id": "metropolitan-management",
   "metadata": {},
   "outputs": [
    {
     "data": {
      "text/plain": [
       "dtype('int32')"
      ]
     },
     "execution_count": 15,
     "metadata": {},
     "output_type": "execute_result"
    }
   ],
   "source": [
    "arr_1.dtype"
   ]
  },
  {
   "cell_type": "markdown",
   "id": "confused-regression",
   "metadata": {},
   "source": [
    "One can also modify the `dtype` even after the `ndarray` is created. However, it might cause lost of numerical precision by doing so. Below is an example of converting the `dtype` of `ndarray` after it is created using `astype()` method."
   ]
  },
  {
   "cell_type": "code",
   "execution_count": 16,
   "id": "superior-paradise",
   "metadata": {},
   "outputs": [
    {
     "data": {
      "text/plain": [
       "array([[2.2354    , 3.23423542, 1.234     ],\n",
       "       [5.3452    , 6.35468   , 9.2343    ]])"
      ]
     },
     "execution_count": 16,
     "metadata": {},
     "output_type": "execute_result"
    }
   ],
   "source": [
    "arr_2 = np.array(\n",
    "    [\n",
    "        [2.2354, 3.23423542, 1.234],\n",
    "        [5.3452, 6.35468, 9.2343]\n",
    "    ])\n",
    "arr_2"
   ]
  },
  {
   "cell_type": "code",
   "execution_count": 17,
   "id": "solar-remark",
   "metadata": {},
   "outputs": [
    {
     "data": {
      "text/plain": [
       "dtype('float64')"
      ]
     },
     "execution_count": 17,
     "metadata": {},
     "output_type": "execute_result"
    }
   ],
   "source": [
    "arr_2.dtype"
   ]
  },
  {
   "cell_type": "code",
   "execution_count": 18,
   "id": "curious-earth",
   "metadata": {},
   "outputs": [
    {
     "data": {
      "text/plain": [
       "array([[2, 3, 1],\n",
       "       [5, 6, 9]])"
      ]
     },
     "execution_count": 18,
     "metadata": {},
     "output_type": "execute_result"
    }
   ],
   "source": [
    "arr_2.astype('int32')"
   ]
  },
  {
   "cell_type": "markdown",
   "id": "hidden-adoption",
   "metadata": {},
   "source": [
    "We see the loss of numerical precision, whereby the each element in the `ndarray` contains only the integer information. `numpy` supports a wider variety of numerical types compared to native ones offered by `python`. You can check it out at `numpy`'s official [website](https://numpy.org/devdocs/user/basics.types.html)."
   ]
  },
  {
   "cell_type": "markdown",
   "id": "hourly-thickness",
   "metadata": {},
   "source": [
    "## <a name=\"reference\">Reference</a>\n",
    "* [numpy.ndarray.dtype](https://numpy.org/doc/stable/reference/generated/numpy.ndarray.dtype.html)\n",
    "* [NumPy quickstart](https://numpy.org/doc/stable/user/quickstart.html)"
   ]
  }
 ],
 "metadata": {
  "kernelspec": {
   "display_name": "Python 3",
   "language": "python",
   "name": "python3"
  },
  "language_info": {
   "codemirror_mode": {
    "name": "ipython",
    "version": 3
   },
   "file_extension": ".py",
   "mimetype": "text/x-python",
   "name": "python",
   "nbconvert_exporter": "python",
   "pygments_lexer": "ipython3",
   "version": "3.7.10"
  }
 },
 "nbformat": 4,
 "nbformat_minor": 5
}
