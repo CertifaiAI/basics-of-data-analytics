{
 "cells": [
  {
   "cell_type": "markdown",
   "id": "massive-geometry",
   "metadata": {
    "deletable": false,
    "editable": false
   },
   "source": [
    "![logo](../../img/license_header_logo.png)\n",
    "> **Copyright &copy; 2021 CertifAI Sdn. Bhd.**<br>\n",
    " <br>\n",
    "This program is part of OSRFramework. You can redistribute it and/or modify\n",
    "<br>it under the terms of the GNU Affero General Public License as published by\n",
    "<br>the Free Software Foundation, either version 3 of the License, or\n",
    "<br>(at your option) any later version.\n",
    "<br>\n",
    "<br>This program is distributed in the hope that it will be useful,\n",
    "<br>but WITHOUT ANY WARRANTY; without even the implied warranty of\n",
    "<br>MERCHANTABILITY or FITNESS FOR A PARTICULAR PURPOSE.  See the\n",
    "<br>GNU Affero General Public License for more details.\n",
    "<br>\n",
    "<br>You should have received a copy of the GNU Affero General Public License\n",
    "<br>along with this program.  If not, see <http://www.gnu.org/licenses/>."
   ]
  },
  {
   "cell_type": "markdown",
   "id": "038230ee",
   "metadata": {},
   "source": [
    "# 06 - Exercise for Array Creation & Basic Operations\n",
    "Authored by: [Kian Yang Lee](https://github.com/KianYang-Lee) - kianyang.lee@certifai.ai"
   ]
  },
  {
   "cell_type": "markdown",
   "id": "50c184ae",
   "metadata": {},
   "source": [
    "## <a name=\"description\">Notebook Description</a>\n",
    "\n",
    "This notebook serves as an exercise for users to hone their mastery of `numpy` module.\n",
    "\n",
    "By the end of this tutorial, you will be able to:\n",
    "\n",
    "1. Explain and apply different methods of `ndarray` creation\n",
    "2. Explain and apply different basic operations on `ndarray`"
   ]
  },
  {
   "cell_type": "markdown",
   "id": "9d90a7a1",
   "metadata": {},
   "source": [
    "## Notebook Outline\n",
    "Below is the outline for this tutorial:\n",
    "1. [Notebook Description](#description)\n",
    "2. [Notebook Configurations](#configuration)\n",
    "3. [Section I: Array Creation](#create)\n",
    "4. [Section II: Basic Operations](#operation)\n",
    "5. [Summary](#summary)"
   ]
  },
  {
   "cell_type": "markdown",
   "id": "b5d81ce9",
   "metadata": {},
   "source": [
    "## <a name=\"configuration\">Notebook Configurations</a>\n",
    "**Task 0:** Import `numpy` module as `np` alias.<br><br>\n",
    "**Expected Result:**<br>\n",
    "![06-00](../../img/numpy/06-00.png)"
   ]
  },
  {
   "cell_type": "code",
   "execution_count": null,
   "id": "08ceaeb1",
   "metadata": {
    "deletable": false,
    "nbgrader": {
     "cell_type": "code",
     "checksum": "90701f1b28746f4a401c01a0cb9ccf76",
     "grade": false,
     "grade_id": "cell-462729a3e0ac5942",
     "locked": false,
     "schema_version": 3,
     "solution": true,
     "task": false
    }
   },
   "outputs": [],
   "source": [
    "# YOUR CODE HERE\n",
    "dir(np)"
   ]
  },
  {
   "cell_type": "markdown",
   "id": "977dd127",
   "metadata": {},
   "source": [
    "## <a name=\"create\">Section I: Array Creation</a>"
   ]
  },
  {
   "cell_type": "markdown",
   "id": "33c48595",
   "metadata": {},
   "source": [
    "**Task I-1**: Create a `ndarray` object as below.<br><br>\n",
    "**Expected Result:**<br>\n",
    "![06-I-01](../../img/numpy/06-I-01.png)"
   ]
  },
  {
   "cell_type": "code",
   "execution_count": null,
   "id": "4268b66e",
   "metadata": {
    "deletable": false,
    "nbgrader": {
     "cell_type": "code",
     "checksum": "01c51ae24633fbfe00065775d10c6ce7",
     "grade": false,
     "grade_id": "cell-09b03a332229c31c",
     "locked": false,
     "schema_version": 3,
     "solution": true,
     "task": false
    }
   },
   "outputs": [],
   "source": [
    "# YOUR CODE HERE"
   ]
  },
  {
   "cell_type": "markdown",
   "id": "68dbc095",
   "metadata": {},
   "source": [
    "**Task I-2**: Create a `ndarray` object as below.<br><br>\n",
    "**Expected Result:**<br>\n",
    "![06-I-02](../../img/numpy/06-I-02.png)"
   ]
  },
  {
   "cell_type": "code",
   "execution_count": null,
   "id": "9e177107",
   "metadata": {
    "deletable": false,
    "nbgrader": {
     "cell_type": "code",
     "checksum": "b2af78030165124f48cde659b2f31dd2",
     "grade": false,
     "grade_id": "cell-47674f44a29541c9",
     "locked": false,
     "schema_version": 3,
     "solution": true,
     "task": false
    }
   },
   "outputs": [],
   "source": [
    "# YOUR CODE HERE"
   ]
  },
  {
   "cell_type": "markdown",
   "id": "bcc6a47c",
   "metadata": {},
   "source": [
    "**Task I-3**: Create a `ndarray` object as below.<br><br>\n",
    "**Expected Result:**<br>\n",
    "![06-I-03](../../img/numpy/06-I-03.png)"
   ]
  },
  {
   "cell_type": "code",
   "execution_count": null,
   "id": "f0a95c26",
   "metadata": {
    "deletable": false,
    "nbgrader": {
     "cell_type": "code",
     "checksum": "712c54ca97fd3f7236d4310fd3ed33d3",
     "grade": false,
     "grade_id": "cell-34ebf0d7b8239e23",
     "locked": false,
     "schema_version": 3,
     "solution": true,
     "task": false
    }
   },
   "outputs": [],
   "source": [
    "# YOUR CODE HERE"
   ]
  },
  {
   "cell_type": "markdown",
   "id": "1916c617",
   "metadata": {},
   "source": [
    "**Task I-4**: Create a `ndarray` object as below using `list` object.<br><br>\n",
    "**Expected Result:**<br>\n",
    "![06-I-04](../../img/numpy/06-I-04.png)"
   ]
  },
  {
   "cell_type": "code",
   "execution_count": null,
   "id": "5fa91512",
   "metadata": {
    "deletable": false,
    "nbgrader": {
     "cell_type": "code",
     "checksum": "e20b9427ee7d103861a63decacc55d7c",
     "grade": false,
     "grade_id": "cell-8161ab445060900b",
     "locked": false,
     "schema_version": 3,
     "solution": true,
     "task": false
    }
   },
   "outputs": [],
   "source": [
    "# YOUR CODE HERE"
   ]
  },
  {
   "cell_type": "markdown",
   "id": "20c23aa4",
   "metadata": {},
   "source": [
    "**Task I-5**: Create a `ndarray` object as below using `tuple` object.<br><br>\n",
    "**Expected Result:**<br>\n",
    "![06-I-05](../../img/numpy/06-I-05.png)"
   ]
  },
  {
   "cell_type": "code",
   "execution_count": null,
   "id": "f947f1f4",
   "metadata": {
    "deletable": false,
    "nbgrader": {
     "cell_type": "code",
     "checksum": "e24d7bbf7398c2a7c2d5ffbb9ffc7186",
     "grade": false,
     "grade_id": "cell-f00840f24b7dc876",
     "locked": false,
     "schema_version": 3,
     "solution": true,
     "task": false
    }
   },
   "outputs": [],
   "source": [
    "# YOUR CODE HERE"
   ]
  },
  {
   "cell_type": "markdown",
   "id": "b81c8334",
   "metadata": {},
   "source": [
    "**Task I-6**: Create a `ndarray` object as below.<br><br>\n",
    "**Expected Result:**<br>\n",
    "![06-I-06](../../img/numpy/06-I-06.png)"
   ]
  },
  {
   "cell_type": "code",
   "execution_count": null,
   "id": "3dc6372f",
   "metadata": {
    "deletable": false,
    "nbgrader": {
     "cell_type": "code",
     "checksum": "bd01dd6c8c960d950f9447e4d447a78c",
     "grade": false,
     "grade_id": "cell-ff7423181e989f5e",
     "locked": false,
     "schema_version": 3,
     "solution": true,
     "task": false
    }
   },
   "outputs": [],
   "source": [
    "# YOUR CODE HERE"
   ]
  },
  {
   "cell_type": "markdown",
   "id": "ab915657",
   "metadata": {},
   "source": [
    "**Task I-7**: Create a `ndarray` object as below.<br><br>\n",
    "**Expected Result:**<br>\n",
    "![06-I-07](../../img/numpy/06-I-07.png)"
   ]
  },
  {
   "cell_type": "code",
   "execution_count": null,
   "id": "ec93aa90",
   "metadata": {
    "deletable": false,
    "nbgrader": {
     "cell_type": "code",
     "checksum": "e9a689605aea2972f8a1145fc19294a4",
     "grade": false,
     "grade_id": "cell-eda57412e372a88c",
     "locked": false,
     "schema_version": 3,
     "solution": true,
     "task": false
    }
   },
   "outputs": [],
   "source": [
    "# YOUR CODE HERE"
   ]
  },
  {
   "cell_type": "markdown",
   "id": "bc6f1c97",
   "metadata": {},
   "source": [
    "**Task I-8**: Create a `ndarray` object as below.<br><br>\n",
    "**Expected Result:**<br>\n",
    "![06-I-08](../../img/numpy/06-I-08.png)"
   ]
  },
  {
   "cell_type": "code",
   "execution_count": null,
   "id": "ca721b68",
   "metadata": {
    "deletable": false,
    "nbgrader": {
     "cell_type": "code",
     "checksum": "f41c3d457553e9fc19d6b8433735a8be",
     "grade": false,
     "grade_id": "cell-047b00390e7b29bd",
     "locked": false,
     "schema_version": 3,
     "solution": true,
     "task": false
    }
   },
   "outputs": [],
   "source": [
    "# YOUR CODE HERE"
   ]
  },
  {
   "cell_type": "markdown",
   "id": "c39df5e4",
   "metadata": {},
   "source": [
    "**Task I-9**: Create a `ndarray` object using `numpy.empty` method and print out its `shape`, `size` and `dtype`.<br><br>\n",
    "**Expected Result:**<br>\n",
    "![06-I-09](../../img/numpy/06-I-09.png)"
   ]
  },
  {
   "cell_type": "code",
   "execution_count": null,
   "id": "7d855704",
   "metadata": {
    "deletable": false,
    "nbgrader": {
     "cell_type": "code",
     "checksum": "89716642a0d7b006aa9eaf63077ae433",
     "grade": false,
     "grade_id": "cell-6dc938b4feb4bcb3",
     "locked": false,
     "schema_version": 3,
     "solution": true,
     "task": false
    }
   },
   "outputs": [],
   "source": [
    "# YOUR CODE HERE"
   ]
  },
  {
   "cell_type": "markdown",
   "id": "cc68050f",
   "metadata": {},
   "source": [
    "**Task I-10**: Convert the `dtype` of previous `ndarray` object created in Task I-09 to `int64`. Note that the elements in the `ndarray` might be different depending on your computer memory allocation, just make sure that the `dtype` is `int64`.<br><br>\n",
    "**Expected Result:**<br>\n",
    "![06-I-10](../../img/numpy/06-I-10.png)"
   ]
  },
  {
   "cell_type": "code",
   "execution_count": null,
   "id": "6d207915",
   "metadata": {
    "deletable": false,
    "nbgrader": {
     "cell_type": "code",
     "checksum": "e7f703a77db2b7e54e85c4831818c891",
     "grade": false,
     "grade_id": "cell-0dcab3d82aedb33c",
     "locked": false,
     "schema_version": 3,
     "solution": true,
     "task": false
    }
   },
   "outputs": [],
   "source": [
    "# YOUR CODE HERE"
   ]
  },
  {
   "cell_type": "markdown",
   "id": "520230ce",
   "metadata": {},
   "source": [
    "## <a name=operation>Section II: Basic Operations</a>"
   ]
  },
  {
   "cell_type": "markdown",
   "id": "42714f64",
   "metadata": {},
   "source": [
    "**Task II-1**: Create two `ndarray` object as below.<br><br>\n",
    "**Expected Result:**<br>\n",
    "![06-II-01](../../img/numpy/06-II-01.png)"
   ]
  },
  {
   "cell_type": "code",
   "execution_count": null,
   "id": "6e34e695",
   "metadata": {
    "deletable": false,
    "nbgrader": {
     "cell_type": "code",
     "checksum": "4f7eadec3c51a45bbc50819dd945b253",
     "grade": false,
     "grade_id": "cell-85a011faa616f899",
     "locked": false,
     "schema_version": 3,
     "solution": true,
     "task": false
    }
   },
   "outputs": [],
   "source": [
    "# YOUR CODE HERE"
   ]
  },
  {
   "cell_type": "markdown",
   "id": "52eecefa",
   "metadata": {},
   "source": [
    "**Task II-2**: Return `ndarray` as shown below by performing elementwise addition for `arr_a` and `arr_b`.<br><br>\n",
    "**Expected Result:**<br>\n",
    "![06-II-02](../../img/numpy/06-II-02.png)"
   ]
  },
  {
   "cell_type": "code",
   "execution_count": null,
   "id": "51706320",
   "metadata": {
    "deletable": false,
    "nbgrader": {
     "cell_type": "code",
     "checksum": "f0ac98ba7739c9d5de51199bf4954d1d",
     "grade": false,
     "grade_id": "cell-7bdb501121ebc35a",
     "locked": false,
     "schema_version": 3,
     "solution": true,
     "task": false
    }
   },
   "outputs": [],
   "source": [
    "# YOUR CODE HERE"
   ]
  },
  {
   "cell_type": "markdown",
   "id": "c2fa3974",
   "metadata": {},
   "source": [
    "**Task II-3**: Return `ndarray` as shown below by performing elementwise subtraction for `arr_a` and `arr_b`.<br><br>\n",
    "**Expected Result:**<br>\n",
    "![06-II-03](../../img/numpy/06-II-03.png)"
   ]
  },
  {
   "cell_type": "code",
   "execution_count": null,
   "id": "795ded5f",
   "metadata": {
    "deletable": false,
    "nbgrader": {
     "cell_type": "code",
     "checksum": "17bd386218acc8bd96cb95f0ed30c871",
     "grade": false,
     "grade_id": "cell-e9f05666224ed7e1",
     "locked": false,
     "schema_version": 3,
     "solution": true,
     "task": false
    }
   },
   "outputs": [],
   "source": [
    "# YOUR CODE HERE"
   ]
  },
  {
   "cell_type": "markdown",
   "id": "ed2aa4c3",
   "metadata": {},
   "source": [
    "**Task II-4**: Return `ndarray` as shown below by performing elementwise multiplication for `arr_a` and `arr_b`.<br><br>\n",
    "**Expected Result:**<br>\n",
    "![06-II-04](../../img/numpy/06-II-04.png)"
   ]
  },
  {
   "cell_type": "code",
   "execution_count": null,
   "id": "809c87ff",
   "metadata": {
    "deletable": false,
    "nbgrader": {
     "cell_type": "code",
     "checksum": "ec4a4bd1c4c2acf99c891297f37a0606",
     "grade": false,
     "grade_id": "cell-2caeb3b2e61269ac",
     "locked": false,
     "schema_version": 3,
     "solution": true,
     "task": false
    }
   },
   "outputs": [],
   "source": [
    "# YOUR CODE HERE"
   ]
  },
  {
   "cell_type": "markdown",
   "id": "7f8baff8",
   "metadata": {},
   "source": [
    "**Task II-5**: Return `ndarray` as shown below by performing dividing `arr_b` with `arr_a`.<br><br>\n",
    "**Expected Result:**<br>\n",
    "![06-II-05](../../img/numpy/06-II-05.png)"
   ]
  },
  {
   "cell_type": "code",
   "execution_count": null,
   "id": "c9e85e53",
   "metadata": {
    "deletable": false,
    "nbgrader": {
     "cell_type": "code",
     "checksum": "722f8da091d14dcfc58da1f436d3e6c1",
     "grade": false,
     "grade_id": "cell-042320eef89a3785",
     "locked": false,
     "schema_version": 3,
     "solution": true,
     "task": false
    }
   },
   "outputs": [],
   "source": [
    "# YOUR CODE HERE"
   ]
  },
  {
   "cell_type": "markdown",
   "id": "9e28f34a",
   "metadata": {},
   "source": [
    "**Task II-6**: Return `ndarray` as shown below by performing elementwise addition for `arr_a` and a `int` object with value `9`.<br><br>\n",
    "**Expected Result:**<br>\n",
    "![06-II-06](../../img/numpy/06-II-06.png)"
   ]
  },
  {
   "cell_type": "code",
   "execution_count": null,
   "id": "beb9258b",
   "metadata": {
    "deletable": false,
    "nbgrader": {
     "cell_type": "code",
     "checksum": "66895f98d3f229a3791a112494a55943",
     "grade": false,
     "grade_id": "cell-dd17e6ce206cc347",
     "locked": false,
     "schema_version": 3,
     "solution": true,
     "task": false
    }
   },
   "outputs": [],
   "source": [
    "# YOUR CODE HERE"
   ]
  },
  {
   "cell_type": "markdown",
   "id": "00df35a4",
   "metadata": {},
   "source": [
    "**Task II-7**: Perform matrix multiplication (dot product) with the identity matrix of the given `ndarray`.<br><br>\n",
    "**Expected Result:**<br>\n",
    "![06-II-07](../../img/numpy/06-II-07.png)"
   ]
  },
  {
   "cell_type": "code",
   "execution_count": null,
   "id": "2ea6690c",
   "metadata": {
    "deletable": false,
    "nbgrader": {
     "cell_type": "code",
     "checksum": "98bec0185197362c38c14a9f3489a017",
     "grade": false,
     "grade_id": "cell-d0492631febbda6d",
     "locked": false,
     "schema_version": 3,
     "solution": true,
     "task": false
    }
   },
   "outputs": [],
   "source": [
    "arr_2D = np.array([[9, 99], [8, 88]])\n",
    "# YOUR CODE HERE"
   ]
  },
  {
   "cell_type": "markdown",
   "id": "8384f139",
   "metadata": {},
   "source": [
    "**Task II-8**: Perform exponentent operation on `arr_2D`.<br><br>\n",
    "**Expected Result:**<br>\n",
    "![06-II-08](../../img/numpy/06-II-08.png)"
   ]
  },
  {
   "cell_type": "code",
   "execution_count": null,
   "id": "3e66313d",
   "metadata": {
    "deletable": false,
    "nbgrader": {
     "cell_type": "code",
     "checksum": "9e3d8e24a9b1c98087f0d2bd2cdbe6de",
     "grade": false,
     "grade_id": "cell-d76eaf4f95df0886",
     "locked": false,
     "schema_version": 3,
     "solution": true,
     "task": false
    }
   },
   "outputs": [],
   "source": [
    "# YOUR CODE HERE"
   ]
  },
  {
   "cell_type": "markdown",
   "id": "854f3292",
   "metadata": {},
   "source": [
    "**Task II-9**: Perform logarithm transformation on `arr_2D`.<br><br>\n",
    "**Expected Result:**<br>\n",
    "![06-II-09](../../img/numpy/06-II-09.png)"
   ]
  },
  {
   "cell_type": "code",
   "execution_count": null,
   "id": "307096fd",
   "metadata": {
    "deletable": false,
    "nbgrader": {
     "cell_type": "code",
     "checksum": "13d280830b13ad32021e67780abccdbd",
     "grade": false,
     "grade_id": "cell-3c254598c8ef3187",
     "locked": false,
     "schema_version": 3,
     "solution": true,
     "task": false
    }
   },
   "outputs": [],
   "source": [
    "# YOUR CODE HERE"
   ]
  },
  {
   "cell_type": "markdown",
   "id": "ee1f529f",
   "metadata": {},
   "source": [
    "**Task II-10**: Perform `tangent` operation on `arr_2D`.<br><br>\n",
    "**Expected Result:**<br>\n",
    "![06-II-10](../../img/numpy/06-II-10.png)"
   ]
  },
  {
   "cell_type": "code",
   "execution_count": null,
   "id": "e18c34cf",
   "metadata": {
    "deletable": false,
    "nbgrader": {
     "cell_type": "code",
     "checksum": "f29dbe0b60887df7a0eb43f54827538f",
     "grade": false,
     "grade_id": "cell-19460998824b26d1",
     "locked": false,
     "schema_version": 3,
     "solution": true,
     "task": false
    }
   },
   "outputs": [],
   "source": [
    "# YOUR CODE HERE"
   ]
  },
  {
   "cell_type": "markdown",
   "id": "a35f3e7f",
   "metadata": {},
   "source": [
    "##  <a name=\"summary\">Summary</a>\n",
    "To conclude, you should now be able to:\n",
    "1. Explain and apply different methods of `ndarray` creation\n",
    "2. Explain and apply different basic operations on `ndarray`<br><br>\n",
    "Congratulations for completing this exercise!    "
   ]
  }
 ],
 "metadata": {
  "kernelspec": {
   "display_name": "Python 3",
   "language": "python",
   "name": "python3"
  },
  "language_info": {
   "codemirror_mode": {
    "name": "ipython",
    "version": 3
   },
   "file_extension": ".py",
   "mimetype": "text/x-python",
   "name": "python",
   "nbconvert_exporter": "python",
   "pygments_lexer": "ipython3",
   "version": "3.7.10"
  }
 },
 "nbformat": 4,
 "nbformat_minor": 5
}