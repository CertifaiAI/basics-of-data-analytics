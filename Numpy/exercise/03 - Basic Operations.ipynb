{
 "cells": [
  {
   "cell_type": "markdown",
   "id": "embedded-microphone",
   "metadata": {
    "deletable": false,
    "editable": false
   },
   "source": [
    "![logo](../../img/license_header_logo.png)\n",
    "> **Copyright &copy; 2021 CertifAI Sdn. Bhd.**<br>\n",
    " <br>\n",
    "This program is part of OSRFramework. You can redistribute it and/or modify\n",
    "<br>it under the terms of the GNU Affero General Public License as published by\n",
    "<br>the Free Software Foundation, either version 3 of the License, or\n",
    "<br>(at your option) any later version.\n",
    "<br>\n",
    "<br>This program is distributed in the hope that it will be useful,\n",
    "<br>but WITHOUT ANY WARRANTY; without even the implied warranty of\n",
    "<br>MERCHANTABILITY or FITNESS FOR A PARTICULAR PURPOSE.  See the\n",
    "<br>GNU Affero General Public License for more details.\n",
    "<br>\n",
    "<br>You should have received a copy of the GNU Affero General Public License\n",
    "<br>along with this program.  If not, see <http://www.gnu.org/licenses/>."
   ]
  },
  {
   "cell_type": "markdown",
   "id": "romance-momentum",
   "metadata": {},
   "source": [
    "# 03 - Basic Operations\n",
    "Authored by: [Kian Yang Lee](https://github.com/KianYang-Lee) - kianyang.lee@certifai.ai"
   ]
  },
  {
   "cell_type": "markdown",
   "id": "spare-glory",
   "metadata": {},
   "source": [
    "## <a name=\"description\">Notebook Description</a>\n",
    "\n",
    "Arithmetic is an important building block of numerical computational module. `numpy` supports a wide variety of mathematical operations, which some of the essential ones will be covered in this notebook.\n",
    "\n",
    "By the end of this tutorial, you will be able to:\n",
    "\n",
    "1. Apply basic arithmetics on `ndarray`\n",
    "2. Apply dot product/matrix multiplication on `ndarray`\n",
    "3. Apply universal functions on `ndarray`"
   ]
  },
  {
   "cell_type": "markdown",
   "id": "following-hearts",
   "metadata": {},
   "source": [
    "## Notebook Outline\n",
    "Below is the outline for this tutorial:\n",
    "1. [Notebook Description](#description)\n",
    "2. [Notebook Configurations](#configuration)\n",
    "3. [Basic Arithmetics between `ndarray`](#arithmetics)\n",
    "4. [Operations between Scalar and `ndarray`](#scalar)\n",
    "5. [Matrix Multiplication](#mmul)\n",
    "6. [Universal Functions](#ufunc)\n",
    "7. [Summary](#summary)\n",
    "8. [Reference](#reference)"
   ]
  },
  {
   "cell_type": "markdown",
   "id": "purple-ladder",
   "metadata": {},
   "source": [
    "## <a name=\"configuration\">Notebook Configurations</a>\n",
    "This notebook will works only on `numpy` module, a popular `python` library for numerical computation. It is common for people to import it using the alias `np`."
   ]
  },
  {
   "cell_type": "code",
   "execution_count": null,
   "id": "thick-armenia",
   "metadata": {
    "deletable": false,
    "nbgrader": {
     "cell_type": "code",
     "checksum": "19e81ada5f7ab77f258046832ace8ce8",
     "grade": false,
     "grade_id": "cell-42ecb465435355d4",
     "locked": false,
     "schema_version": 3,
     "solution": true,
     "task": false
    }
   },
   "outputs": [],
   "source": [
    "# YOUR CODE HERE"
   ]
  },
  {
   "cell_type": "markdown",
   "id": "global-power",
   "metadata": {},
   "source": [
    "## <a name=\"arithmetics\">Basic Arithmetics between `ndarray`</a>\n",
    "Let's initialize two arrays for the arithmetic operations."
   ]
  },
  {
   "cell_type": "code",
   "execution_count": null,
   "id": "restricted-broadcasting",
   "metadata": {
    "deletable": false,
    "nbgrader": {
     "cell_type": "code",
     "checksum": "a5996496aed28eb3dcc22f844a73edb7",
     "grade": false,
     "grade_id": "cell-12d0da5895f5eeee",
     "locked": false,
     "schema_version": 3,
     "solution": true,
     "task": false
    }
   },
   "outputs": [],
   "source": [
    "# YOUR CODE HERE"
   ]
  },
  {
   "cell_type": "markdown",
   "id": "personalized-progressive",
   "metadata": {},
   "source": [
    "We can perform arithmetics on `numpy ndarray` using arithmetic operators. The arithmetic operation will be applied elementwise. The operation will return a new `ndarray` with the relevant result by default. You can choose either just specifying the operators or using the methods provided by `numpy` to perform the operations, both return the same result."
   ]
  },
  {
   "cell_type": "code",
   "execution_count": null,
   "id": "regulation-canada",
   "metadata": {
    "deletable": false,
    "nbgrader": {
     "cell_type": "code",
     "checksum": "5ab9d24d91d62175d3e15f78d84740ec",
     "grade": false,
     "grade_id": "cell-61bc4aae1836b400",
     "locked": false,
     "schema_version": 3,
     "solution": true,
     "task": false
    }
   },
   "outputs": [],
   "source": [
    "# elementwise subtraction\n",
    "# YOUR CODE HERE\n",
    "\n",
    "# assert for array equality\n",
    "# YOUR CODE HERE"
   ]
  },
  {
   "cell_type": "code",
   "execution_count": null,
   "id": "bound-suspension",
   "metadata": {
    "deletable": false,
    "nbgrader": {
     "cell_type": "code",
     "checksum": "aed91c27817e7d2d62eb5dd14d37612e",
     "grade": false,
     "grade_id": "cell-7e4a1c84b7a9f174",
     "locked": false,
     "schema_version": 3,
     "solution": true,
     "task": false
    }
   },
   "outputs": [],
   "source": [
    "# elementwise addition (either way works)\n",
    "# YOUR CODE HERE"
   ]
  },
  {
   "cell_type": "code",
   "execution_count": null,
   "id": "insured-appreciation",
   "metadata": {
    "deletable": false,
    "nbgrader": {
     "cell_type": "code",
     "checksum": "a430fdea753411ae587cb1be66cda5dd",
     "grade": false,
     "grade_id": "cell-726df9efab35ee25",
     "locked": false,
     "schema_version": 3,
     "solution": true,
     "task": false
    }
   },
   "outputs": [],
   "source": [
    "# elementwise multiplication (either way works)\n",
    "# YOUR CODE HERE"
   ]
  },
  {
   "cell_type": "code",
   "execution_count": null,
   "id": "electoral-memorial",
   "metadata": {
    "deletable": false,
    "nbgrader": {
     "cell_type": "code",
     "checksum": "90095174366cabd59e68a4532718e97e",
     "grade": false,
     "grade_id": "cell-1e1d8e67e7a2caeb",
     "locked": false,
     "schema_version": 3,
     "solution": true,
     "task": false
    }
   },
   "outputs": [],
   "source": [
    "# elementwise division (either way works)\n",
    "# YOUR CODE HERE"
   ]
  },
  {
   "cell_type": "markdown",
   "id": "7d9e8790",
   "metadata": {},
   "source": [
    "## <a name=\"scalar\">Operations between Scalar and `ndarray`</a>\n",
    "`numpy` does not limit its operations between objects of `ndarray` only. It can also be applied to scalar values. The way this works is that `numpy` will broadcast scalar values to the same size of the other `ndarray`. Example of this would be:"
   ]
  },
  {
   "cell_type": "code",
   "execution_count": null,
   "id": "6dd9e79a",
   "metadata": {
    "deletable": false,
    "nbgrader": {
     "cell_type": "code",
     "checksum": "e385029b7759799a71e094cc003151be",
     "grade": false,
     "grade_id": "cell-5cb607124611b446",
     "locked": false,
     "schema_version": 3,
     "solution": true,
     "task": false
    }
   },
   "outputs": [],
   "source": [
    "# elementwise addition by broadcasting\n",
    "# YOUR CODE HERE"
   ]
  },
  {
   "cell_type": "code",
   "execution_count": null,
   "id": "46b93019",
   "metadata": {
    "deletable": false,
    "nbgrader": {
     "cell_type": "code",
     "checksum": "742feef90b84475fd65d90641c1d6ecf",
     "grade": false,
     "grade_id": "cell-9085ef8f1777a604",
     "locked": false,
     "schema_version": 3,
     "solution": true,
     "task": false
    }
   },
   "outputs": [],
   "source": [
    "# elementwise subtraction by broadcasting\n",
    "# YOUR CODE HERE"
   ]
  },
  {
   "cell_type": "code",
   "execution_count": null,
   "id": "742cf540",
   "metadata": {
    "deletable": false,
    "nbgrader": {
     "cell_type": "code",
     "checksum": "0b1ee9f0a4a4589b4fddfc005ccb3330",
     "grade": false,
     "grade_id": "cell-bc0534d81351510a",
     "locked": false,
     "schema_version": 3,
     "solution": true,
     "task": false
    }
   },
   "outputs": [],
   "source": [
    "# elementwise multiplication by broadcasting\n",
    "# YOUR CODE HERE"
   ]
  },
  {
   "cell_type": "code",
   "execution_count": null,
   "id": "3022460a",
   "metadata": {
    "deletable": false,
    "nbgrader": {
     "cell_type": "code",
     "checksum": "8a6b5f6dc96f8bc01c981680f7c4029f",
     "grade": false,
     "grade_id": "cell-e0678754b5675f18",
     "locked": false,
     "schema_version": 3,
     "solution": true,
     "task": false
    }
   },
   "outputs": [],
   "source": [
    "# elementwise division by broadcasting\n",
    "# YOUR CODE HERE"
   ]
  },
  {
   "cell_type": "markdown",
   "id": "d4c96b49",
   "metadata": {},
   "source": [
    "It can even works even when the other object is not a scalar value. When the two `ndarray` are of different sizes, the smaller one will be broadcasted in order to meet the size of the bigger `ndarray` before the operation is performed."
   ]
  },
  {
   "cell_type": "code",
   "execution_count": null,
   "id": "d290c7bc",
   "metadata": {
    "deletable": false,
    "nbgrader": {
     "cell_type": "code",
     "checksum": "f8cbf01864dea193b2403da27e81b64b",
     "grade": false,
     "grade_id": "cell-3e23d6d757df06bc",
     "locked": false,
     "schema_version": 3,
     "solution": true,
     "task": false
    }
   },
   "outputs": [],
   "source": [
    "# YOUR CODE HERE"
   ]
  },
  {
   "cell_type": "markdown",
   "id": "38e8f0a0",
   "metadata": {},
   "source": [
    "Take note that certain restrictions need to be met for broadcasting to happen. For example, the operation below will not work."
   ]
  },
  {
   "cell_type": "code",
   "execution_count": null,
   "id": "da496f0f",
   "metadata": {
    "deletable": false,
    "nbgrader": {
     "cell_type": "code",
     "checksum": "46fa68e3829c674dd021434852d8f30f",
     "grade": false,
     "grade_id": "cell-4566073f6159f6a7",
     "locked": false,
     "schema_version": 3,
     "solution": true,
     "task": false
    }
   },
   "outputs": [],
   "source": [
    "# YOUR CODE HERE"
   ]
  },
  {
   "cell_type": "code",
   "execution_count": null,
   "id": "7e7461ee",
   "metadata": {
    "deletable": false,
    "nbgrader": {
     "cell_type": "code",
     "checksum": "5ede13e8f9de776725c57d35c566979c",
     "grade": false,
     "grade_id": "cell-0d21eb4dd45f3dbc",
     "locked": false,
     "schema_version": 3,
     "solution": true,
     "task": false
    }
   },
   "outputs": [],
   "source": [
    "try:\n",
    "    # YOUR CODE HERE\n",
    "except ValueError as error:\n",
    "    print(error)"
   ]
  },
  {
   "cell_type": "markdown",
   "id": "e4d795dd",
   "metadata": {},
   "source": [
    "## <a name=\"mmul\">Matrix Multiplication</a>\n",
    "Do note the difference between `*` that performs a elementwise multiplication and `@` that performs a dot product operation. Take a look at the difference between the two operations in the example below."
   ]
  },
  {
   "cell_type": "code",
   "execution_count": null,
   "id": "333fd523",
   "metadata": {
    "deletable": false,
    "nbgrader": {
     "cell_type": "code",
     "checksum": "e86311e1cc3c3796b6d7d3b4960502e6",
     "grade": false,
     "grade_id": "cell-453caf90ae3f543e",
     "locked": false,
     "schema_version": 3,
     "solution": true,
     "task": false
    }
   },
   "outputs": [],
   "source": [
    "# YOUR CODE HERE"
   ]
  },
  {
   "cell_type": "code",
   "execution_count": null,
   "id": "c50fe86b",
   "metadata": {
    "deletable": false,
    "nbgrader": {
     "cell_type": "code",
     "checksum": "7ff49ed9672b498a5d75f35c2895c820",
     "grade": false,
     "grade_id": "cell-d76ace1cfba4e085",
     "locked": false,
     "schema_version": 3,
     "solution": true,
     "task": false
    }
   },
   "outputs": [],
   "source": [
    "print(\"The dot product of a matrix with identity matrix of the same size should return the identical matrix: \")\n",
    "# YOUR CODE HERE"
   ]
  },
  {
   "cell_type": "code",
   "execution_count": null,
   "id": "f884c6de",
   "metadata": {
    "deletable": false,
    "nbgrader": {
     "cell_type": "code",
     "checksum": "a25711da07d3e518e58c93ce576be34f",
     "grade": false,
     "grade_id": "cell-4b7280eb3986a8b0",
     "locked": false,
     "schema_version": 3,
     "solution": true,
     "task": false
    }
   },
   "outputs": [],
   "source": [
    "print(\"The elementwise multiplication of a matrix with identity matrix of the same size returns something else: \")\n",
    "# YOUR CODE HERE"
   ]
  },
  {
   "cell_type": "markdown",
   "id": "49d7b501",
   "metadata": {},
   "source": [
    "Another method to perform dot product is by using `numpy.dot` method, as shown below:"
   ]
  },
  {
   "cell_type": "code",
   "execution_count": null,
   "id": "35e1fb8c",
   "metadata": {
    "deletable": false,
    "nbgrader": {
     "cell_type": "code",
     "checksum": "b19a18e317c57c69eb61fc6137b58e98",
     "grade": false,
     "grade_id": "cell-bc035826279b32d0",
     "locked": false,
     "schema_version": 3,
     "solution": true,
     "task": false
    }
   },
   "outputs": [],
   "source": [
    "# YOUR CODE HERE"
   ]
  },
  {
   "cell_type": "markdown",
   "id": "5512667f",
   "metadata": {},
   "source": [
    "Of course, one thing to note is that matrix multiplication is not commutative, thus the order matters! For example:"
   ]
  },
  {
   "cell_type": "code",
   "execution_count": null,
   "id": "0982cd95",
   "metadata": {
    "deletable": false,
    "nbgrader": {
     "cell_type": "code",
     "checksum": "aa743399a4c63f2c0db2073cbcb0ccf9",
     "grade": false,
     "grade_id": "cell-495695646febd270",
     "locked": false,
     "schema_version": 3,
     "solution": true,
     "task": false
    }
   },
   "outputs": [],
   "source": [
    "# YOUR CODE HERE\n",
    "\n",
    "try:\n",
    "    # YOUR CODE HERE\n",
    "except AssertionError as msg:\n",
    "    print(msg)"
   ]
  },
  {
   "cell_type": "code",
   "execution_count": null,
   "id": "797d92f1",
   "metadata": {
    "deletable": false,
    "nbgrader": {
     "cell_type": "code",
     "checksum": "2d6a11b1685c3ed291509e7f55d2091a",
     "grade": false,
     "grade_id": "cell-de5151eaf2733a43",
     "locked": false,
     "schema_version": 3,
     "solution": true,
     "task": false
    }
   },
   "outputs": [],
   "source": [
    "# dot product of arr_4 and arr_3\n",
    "# YOUR CODE HERE"
   ]
  },
  {
   "cell_type": "code",
   "execution_count": null,
   "id": "dacee94e",
   "metadata": {
    "deletable": false,
    "nbgrader": {
     "cell_type": "code",
     "checksum": "a4f790848dc2ec277992035f08cd1687",
     "grade": false,
     "grade_id": "cell-9c372b5ad0a4ca7c",
     "locked": false,
     "schema_version": 3,
     "solution": true,
     "task": false
    }
   },
   "outputs": [],
   "source": [
    "# dot product of arr_3 and arr_4\n",
    "# YOUR CODE HERE"
   ]
  },
  {
   "cell_type": "markdown",
   "id": "97bdc86a",
   "metadata": {},
   "source": [
    "## <a name=\"ufunc\">Universal Functions</a>\n",
    "Other general mathematical functions with the likes of sin, cos and exp are available in `numpy` under the names of universal functions (`ufunc`). They operate elementwise on arrays and return a new array result of the operation."
   ]
  },
  {
   "cell_type": "code",
   "execution_count": null,
   "id": "3200c8ac",
   "metadata": {
    "deletable": false,
    "nbgrader": {
     "cell_type": "code",
     "checksum": "68e36c2ec6592a2e1b208fe4aee71222",
     "grade": false,
     "grade_id": "cell-e6f828e32766b803",
     "locked": false,
     "schema_version": 3,
     "solution": true,
     "task": false
    }
   },
   "outputs": [],
   "source": [
    "# YOUR CODE HERE"
   ]
  },
  {
   "cell_type": "code",
   "execution_count": null,
   "id": "fdb2f796",
   "metadata": {
    "deletable": false,
    "nbgrader": {
     "cell_type": "code",
     "checksum": "5c5421902a5ec2bc588ec3515548d88e",
     "grade": false,
     "grade_id": "cell-ca7b8d6947f40b01",
     "locked": false,
     "schema_version": 3,
     "solution": true,
     "task": false
    }
   },
   "outputs": [],
   "source": [
    "# YOUR CODE HERE"
   ]
  },
  {
   "cell_type": "code",
   "execution_count": null,
   "id": "6c7c6acc",
   "metadata": {
    "deletable": false,
    "nbgrader": {
     "cell_type": "code",
     "checksum": "3cc31354854d7183ed6e524996ccd19f",
     "grade": false,
     "grade_id": "cell-f8e30b33be82c3c6",
     "locked": false,
     "schema_version": 3,
     "solution": true,
     "task": false
    }
   },
   "outputs": [],
   "source": [
    "# YOUR CODE HERE"
   ]
  },
  {
   "cell_type": "code",
   "execution_count": null,
   "id": "a7f2b61d",
   "metadata": {
    "deletable": false,
    "nbgrader": {
     "cell_type": "code",
     "checksum": "28832ee67a72ffc734e0faca5e28b940",
     "grade": false,
     "grade_id": "cell-d6c83753e46b4917",
     "locked": false,
     "schema_version": 3,
     "solution": true,
     "task": false
    }
   },
   "outputs": [],
   "source": [
    "# YOUR CODE HERE"
   ]
  },
  {
   "cell_type": "markdown",
   "id": "87e5b7e4",
   "metadata": {},
   "source": [
    "You can take a look at a more comprehensive list of `ufunc` at `numpy`'s [website](https://numpy.org/doc/stable/reference/ufuncs.html)."
   ]
  },
  {
   "cell_type": "markdown",
   "id": "b44ae837",
   "metadata": {},
   "source": [
    "##  <a name=\"summary\">Summary</a>\n",
    "To conclude, you should now be able to:\n",
    "1. Apply basic arithmetics on `ndarray`\n",
    "2. Apply dot product/matrix multiplication on `ndarray`\n",
    "3. Apply universal functions on `ndarray`<br><br>\n",
    "Congratulations, that concludes this lesson."
   ]
  },
  {
   "cell_type": "markdown",
   "id": "e44f3232",
   "metadata": {},
   "source": [
    "## <a name=\"reference\">Reference</a>\n",
    "* [Universal Functions (ufunc)](https://numpy.org/doc/stable/reference/ufuncs.html)\n",
    "* [NumPy Quickstart](https://numpy.org/doc/stable/user/quickstart.html)"
   ]
  }
 ],
 "metadata": {
  "kernelspec": {
   "display_name": "Python 3",
   "language": "python",
   "name": "python3"
  },
  "language_info": {
   "codemirror_mode": {
    "name": "ipython",
    "version": 3
   },
   "file_extension": ".py",
   "mimetype": "text/x-python",
   "name": "python",
   "nbconvert_exporter": "python",
   "pygments_lexer": "ipython3",
   "version": "3.7.10"
  }
 },
 "nbformat": 4,
 "nbformat_minor": 5
}