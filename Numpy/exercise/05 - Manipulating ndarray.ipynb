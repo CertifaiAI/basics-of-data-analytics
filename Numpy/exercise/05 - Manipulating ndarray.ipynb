{
 "cells": [
  {
   "cell_type": "markdown",
   "id": "676fa207",
   "metadata": {
    "deletable": false,
    "editable": false
   },
   "source": [
    "![logo](../../img/license_header_logo.png)\n",
    "> **Copyright &copy; 2021 CertifAI Sdn. Bhd.**<br>\n",
    " <br>\n",
    "This program is part of OSRFramework. You can redistribute it and/or modify\n",
    "<br>it under the terms of the GNU Affero General Public License as published by\n",
    "<br>the Free Software Foundation, either version 3 of the License, or\n",
    "<br>(at your option) any later version.\n",
    "<br>\n",
    "<br>This program is distributed in the hope that it will be useful,\n",
    "<br>but WITHOUT ANY WARRANTY; without even the implied warranty of\n",
    "<br>MERCHANTABILITY or FITNESS FOR A PARTICULAR PURPOSE.  See the\n",
    "<br>GNU Affero General Public License for more details.\n",
    "<br>\n",
    "<br>You should have received a copy of the GNU Affero General Public License\n",
    "<br>along with this program.  If not, see <http://www.gnu.org/licenses/>."
   ]
  },
  {
   "cell_type": "markdown",
   "id": "d4247ebd",
   "metadata": {},
   "source": [
    "# 05 - Manipulating ndarray \n",
    "Authored by: [Kian Yang Lee](https://github.com/KianYang-Lee) - kianyang.lee@certifai.ai"
   ]
  },
  {
   "cell_type": "markdown",
   "id": "eafa312d",
   "metadata": {},
   "source": [
    "## <a name=\"description\">Notebook Description</a>\n",
    "\n",
    "This notebook discusses on various methods in manipulating shape of `ndarray`.\n",
    "\n",
    "By the end of this tutorial, you will be able to:\n",
    "\n",
    "1. Modify shape of a `numpy ndarray`\n",
    "2. Apply `-1` as argument when performing shape manipulation\n",
    "3. Stack different `numpy ndarray`s together\n",
    "4. Split `numpy ndarray` into smaller chunks"
   ]
  },
  {
   "cell_type": "markdown",
   "id": "9496715e",
   "metadata": {},
   "source": [
    "## Notebook Outline\n",
    "Below is the outline for this tutorial:\n",
    "1. [Notebook Description](#description)\n",
    "2. [Notebook Configurations](#configuration)\n",
    "3. [Modifying Shape](#shape)\n",
    "4. [`-1` Argument](#-1)\n",
    "5. [Stacking](#stack)\n",
    "6. [Splitting](#split)\n",
    "7. [Summary](#summary)\n",
    "8. [Reference](#reference)"
   ]
  },
  {
   "cell_type": "markdown",
   "id": "cf02500e",
   "metadata": {},
   "source": [
    "## <a name=\"configuration\">Notebook Configurations</a>\n",
    "This notebook will works only on `numpy` module, a popular `python` library for numerical computation. It is common for people to import it using the alias `np`."
   ]
  },
  {
   "cell_type": "code",
   "execution_count": null,
   "id": "30d7ea1f",
   "metadata": {
    "deletable": false,
    "nbgrader": {
     "cell_type": "code",
     "checksum": "7cc4599d4eff494b9ba30946abf858f0",
     "grade": false,
     "grade_id": "cell-c8e7453e96846b24",
     "locked": false,
     "schema_version": 3,
     "solution": true,
     "task": false
    }
   },
   "outputs": [],
   "source": [
    "# YOUR CODE HERE"
   ]
  },
  {
   "cell_type": "markdown",
   "id": "b00ed572",
   "metadata": {},
   "source": [
    "## <a name=\"shape\">Modifying Shape</a>\n",
    "There are various ways to modify the shape of an `ndarray`. The common ones will be demonstrated below. Note that all of them can be called using `numpy` method and pass in the original `ndarray` as an argument or by accessing the methods of the original `ndarray`. All of the methods below return a `view` of the original array, and not the `copy`."
   ]
  },
  {
   "cell_type": "code",
   "execution_count": null,
   "id": "96a452bd",
   "metadata": {
    "deletable": false,
    "nbgrader": {
     "cell_type": "code",
     "checksum": "7846dedeec996f06fd04028858105fb4",
     "grade": false,
     "grade_id": "cell-2c6640a1ac3da58d",
     "locked": false,
     "schema_version": 3,
     "solution": true,
     "task": false
    }
   },
   "outputs": [],
   "source": [
    "# create a ndarray with randomized value\n",
    "# YOUR CODE HERE"
   ]
  },
  {
   "cell_type": "code",
   "execution_count": null,
   "id": "035e8bbb",
   "metadata": {
    "deletable": false,
    "nbgrader": {
     "cell_type": "code",
     "checksum": "794951c321fa9e3e366c8d11a131586e",
     "grade": false,
     "grade_id": "cell-3b1019c5d2c83ea5",
     "locked": false,
     "schema_version": 3,
     "solution": true,
     "task": false
    }
   },
   "outputs": [],
   "source": [
    "# ravel method returns a contiguous flattened ndarray\n",
    "# YOUR CODE HERE"
   ]
  },
  {
   "cell_type": "code",
   "execution_count": null,
   "id": "dbfe2286",
   "metadata": {
    "deletable": false,
    "nbgrader": {
     "cell_type": "code",
     "checksum": "65bbb3785b3e3c1efadb9f6d0a4c8eda",
     "grade": false,
     "grade_id": "cell-eafd9171e8709ba2",
     "locked": false,
     "schema_version": 3,
     "solution": true,
     "task": false
    }
   },
   "outputs": [],
   "source": [
    "# reshape method returns an array with a modified shape\n",
    "# YOUR CODE HERE"
   ]
  },
  {
   "cell_type": "code",
   "execution_count": null,
   "id": "049edd5f",
   "metadata": {
    "deletable": false,
    "nbgrader": {
     "cell_type": "code",
     "checksum": "976ffe521e9e7ebb5e1f1c9f43ed740f",
     "grade": false,
     "grade_id": "cell-20bbc0bc4b5798b2",
     "locked": false,
     "schema_version": 3,
     "solution": true,
     "task": false
    }
   },
   "outputs": [],
   "source": [
    "# transpose method returns a transposed matrix\n",
    "# YOUR CODE HERE"
   ]
  },
  {
   "cell_type": "markdown",
   "id": "7b3fe390",
   "metadata": {},
   "source": [
    "If one wants to straightaway modifies the `ndarray`, one can use `resize`."
   ]
  },
  {
   "cell_type": "code",
   "execution_count": null,
   "id": "4a2cf95e",
   "metadata": {
    "deletable": false,
    "nbgrader": {
     "cell_type": "code",
     "checksum": "aacf06ec8f37e7e4c84e2c36e4241734",
     "grade": false,
     "grade_id": "cell-ae7119eec547c656",
     "locked": false,
     "schema_version": 3,
     "solution": true,
     "task": false
    }
   },
   "outputs": [],
   "source": [
    "# YOUR CODE HERE"
   ]
  },
  {
   "cell_type": "code",
   "execution_count": null,
   "id": "c0a7c54f",
   "metadata": {
    "deletable": false,
    "nbgrader": {
     "cell_type": "code",
     "checksum": "8b16c34b1fef7549a6db48fc4ff02958",
     "grade": false,
     "grade_id": "cell-57ef2e33e5f68cac",
     "locked": false,
     "schema_version": 3,
     "solution": true,
     "task": false
    }
   },
   "outputs": [],
   "source": [
    "# YOUR CODE HERE"
   ]
  },
  {
   "cell_type": "markdown",
   "id": "48f6cbfc",
   "metadata": {},
   "source": [
    "## <a name=\"-1\">`-1` Argument</a>\n",
    "Sometimes, it might be difficult to compute what are the actual dimension for the axes. We can leverage on `numpy`'s module to compute the dimension size. `-1` argument tells `numpy` to compute the required dimension for that particular axis, while satisfying the condition of the rest of the axes (which we need to specify the dimensions that we want explicitly). \n",
    "\n",
    "Example shown below:"
   ]
  },
  {
   "cell_type": "code",
   "execution_count": null,
   "id": "0d8bbbbe",
   "metadata": {
    "deletable": false,
    "nbgrader": {
     "cell_type": "code",
     "checksum": "6dd98e3f1301c4801f494a3d7be91672",
     "grade": false,
     "grade_id": "cell-e2db6d0070ab120b",
     "locked": false,
     "schema_version": 3,
     "solution": true,
     "task": false
    }
   },
   "outputs": [],
   "source": [
    "# create a ndarray\n",
    "# YOUR CODE HERE"
   ]
  },
  {
   "cell_type": "code",
   "execution_count": null,
   "id": "18c45e74",
   "metadata": {
    "deletable": false,
    "nbgrader": {
     "cell_type": "code",
     "checksum": "c37532909f248c4cf248a380a38aee00",
     "grade": false,
     "grade_id": "cell-5cd55a21fd95232e",
     "locked": false,
     "schema_version": 3,
     "solution": true,
     "task": false
    }
   },
   "outputs": [],
   "source": [
    "# create a ndarray with 2 columns\n",
    "# YOUR CODE HERE"
   ]
  },
  {
   "cell_type": "code",
   "execution_count": null,
   "id": "41b6f7ff",
   "metadata": {
    "deletable": false,
    "nbgrader": {
     "cell_type": "code",
     "checksum": "4a1eee8cbc36a192a454e1f44e78e81e",
     "grade": false,
     "grade_id": "cell-e1ad9c45ba62108a",
     "locked": false,
     "schema_version": 3,
     "solution": true,
     "task": false
    }
   },
   "outputs": [],
   "source": [
    "# create a ndarray with 4 columns\n",
    "# YOUR CODE HERE"
   ]
  },
  {
   "cell_type": "code",
   "execution_count": null,
   "id": "b1bd6a81",
   "metadata": {
    "deletable": false,
    "nbgrader": {
     "cell_type": "code",
     "checksum": "6d85294f0684c868729dba34cbec06d6",
     "grade": false,
     "grade_id": "cell-1f9357ac3231606e",
     "locked": false,
     "schema_version": 3,
     "solution": true,
     "task": false
    }
   },
   "outputs": [],
   "source": [
    "# create a ndarray with 5 rows\n",
    "# YOUR CODE HERE"
   ]
  },
  {
   "cell_type": "markdown",
   "id": "3136d702",
   "metadata": {},
   "source": [
    "## <a name=\"stack\">Stacking</a>\n",
    "`ndarray` can also be stacked on each other. Some common stacking methods are as below:"
   ]
  },
  {
   "cell_type": "code",
   "execution_count": null,
   "id": "a3554d2a",
   "metadata": {
    "deletable": false,
    "nbgrader": {
     "cell_type": "code",
     "checksum": "7afbf271b771ab53ecf6603dc8b37106",
     "grade": false,
     "grade_id": "cell-8592375dc2879979",
     "locked": false,
     "schema_version": 3,
     "solution": true,
     "task": false
    }
   },
   "outputs": [],
   "source": [
    "# YOUR CODE HERE"
   ]
  },
  {
   "cell_type": "code",
   "execution_count": null,
   "id": "b3a91027",
   "metadata": {
    "deletable": false,
    "nbgrader": {
     "cell_type": "code",
     "checksum": "ccc92d7ffe4e280869f6e25a15a59c59",
     "grade": false,
     "grade_id": "cell-93c5b1bed5930dfc",
     "locked": false,
     "schema_version": 3,
     "solution": true,
     "task": false
    }
   },
   "outputs": [],
   "source": [
    "# YOUR CODE HERE"
   ]
  },
  {
   "cell_type": "code",
   "execution_count": null,
   "id": "2f1ce90b",
   "metadata": {
    "deletable": false,
    "nbgrader": {
     "cell_type": "code",
     "checksum": "c33966c4116704c36652da29014acde7",
     "grade": false,
     "grade_id": "cell-5b10a7b708635df8",
     "locked": false,
     "schema_version": 3,
     "solution": true,
     "task": false
    }
   },
   "outputs": [],
   "source": [
    "# stacking vertically on first axis\n",
    "# YOUR CODE HERE"
   ]
  },
  {
   "cell_type": "code",
   "execution_count": null,
   "id": "464a387e",
   "metadata": {
    "deletable": false,
    "nbgrader": {
     "cell_type": "code",
     "checksum": "272c78526bc0f6797558cbdb7e74f225",
     "grade": false,
     "grade_id": "cell-c524442b17f4cb91",
     "locked": false,
     "schema_version": 3,
     "solution": true,
     "task": false
    }
   },
   "outputs": [],
   "source": [
    "# stacking horizontally on second axis\n",
    "# YOUR CODE HERE"
   ]
  },
  {
   "cell_type": "markdown",
   "id": "329d23e8",
   "metadata": {},
   "source": [
    "In order to make sense of how the stacking actually works, one can take a look at the `shape` of `ndarray`. The axis with increased size is the axis that the stacking function is operating on. For example, `numpy.hstack` increases the size of second axis, while `numpy.vstack` increases the size of first axis."
   ]
  },
  {
   "cell_type": "code",
   "execution_count": null,
   "id": "b312f70c",
   "metadata": {
    "deletable": false,
    "nbgrader": {
     "cell_type": "code",
     "checksum": "a5e988e0c5ce373dfdc2e0bf23aa360d",
     "grade": false,
     "grade_id": "cell-b97241bbdd28ab11",
     "locked": false,
     "schema_version": 3,
     "solution": true,
     "task": false
    }
   },
   "outputs": [],
   "source": [
    "# YOUR CODE HERE"
   ]
  },
  {
   "cell_type": "code",
   "execution_count": null,
   "id": "98b8b722",
   "metadata": {
    "deletable": false,
    "nbgrader": {
     "cell_type": "code",
     "checksum": "ee06cdeebd3d07f69c8d4206b146eeac",
     "grade": false,
     "grade_id": "cell-07f8e982b9f04324",
     "locked": false,
     "schema_version": 3,
     "solution": true,
     "task": false
    }
   },
   "outputs": [],
   "source": [
    "# YOUR CODE HERE"
   ]
  },
  {
   "cell_type": "markdown",
   "id": "2df3ba99",
   "metadata": {},
   "source": [
    "`numpy.concatenate` allows for more control as users are able to specify the axis for which concatenation should happen."
   ]
  },
  {
   "cell_type": "code",
   "execution_count": null,
   "id": "d60452f7",
   "metadata": {
    "deletable": false,
    "nbgrader": {
     "cell_type": "code",
     "checksum": "a4e02895796587e38c915c1a87547fa1",
     "grade": false,
     "grade_id": "cell-66ca03658d706ea3",
     "locked": false,
     "schema_version": 3,
     "solution": true,
     "task": false
    }
   },
   "outputs": [],
   "source": [
    "# concat along dimension 1\n",
    "# YOUR CODE HERE"
   ]
  },
  {
   "cell_type": "code",
   "execution_count": null,
   "id": "dbce46ad",
   "metadata": {
    "deletable": false,
    "nbgrader": {
     "cell_type": "code",
     "checksum": "24f5a8f5cd82d431c6e0392f55d7135a",
     "grade": false,
     "grade_id": "cell-c4576f7ce2f3b4e9",
     "locked": false,
     "schema_version": 3,
     "solution": true,
     "task": false
    }
   },
   "outputs": [],
   "source": [
    "# concat along dimension 0\n",
    "# YOUR CODE HERE"
   ]
  },
  {
   "cell_type": "markdown",
   "id": "c2c678b8",
   "metadata": {},
   "source": [
    "## <a name=\"split\">Splitting</a>\n",
    "Users can also split one `ndarray` into a few. `numpy.hsplit` splits an `ndarray` along the horizontal axis (column-wise), while `numpy.vsplit` splits an `ndarray` along the vertical axis (row-wise). For the second argument, users can specify either the amount of `ndarray` to be splitted into, or the columns after which splitting should occur."
   ]
  },
  {
   "cell_type": "code",
   "execution_count": null,
   "id": "3b802444",
   "metadata": {
    "deletable": false,
    "nbgrader": {
     "cell_type": "code",
     "checksum": "1bb9735831e924fb6032511bb05e21bc",
     "grade": false,
     "grade_id": "cell-61c80aebb72c77b4",
     "locked": false,
     "schema_version": 3,
     "solution": true,
     "task": false
    }
   },
   "outputs": [],
   "source": [
    "# YOUR CODE HERE"
   ]
  },
  {
   "cell_type": "code",
   "execution_count": null,
   "id": "895219be",
   "metadata": {
    "deletable": false,
    "nbgrader": {
     "cell_type": "code",
     "checksum": "3995a7bef6393bf9bcba3a86a550c3df",
     "grade": false,
     "grade_id": "cell-0754bf91b01d2c3f",
     "locked": false,
     "schema_version": 3,
     "solution": true,
     "task": false
    }
   },
   "outputs": [],
   "source": [
    "# indexing the first ndarray that was spiltted using hsplit method\n",
    "# YOUR CODE HERE"
   ]
  },
  {
   "cell_type": "code",
   "execution_count": null,
   "id": "fda0285d",
   "metadata": {
    "deletable": false,
    "nbgrader": {
     "cell_type": "code",
     "checksum": "afd89247370dfcca97ac6d4f601f769b",
     "grade": false,
     "grade_id": "cell-bf77c59a168f1e99",
     "locked": false,
     "schema_version": 3,
     "solution": true,
     "task": false
    }
   },
   "outputs": [],
   "source": [
    "# indexing the second ndarray that was spiltted using hsplit method\n",
    "# YOUR CODE HERE"
   ]
  },
  {
   "cell_type": "code",
   "execution_count": null,
   "id": "c8de88da",
   "metadata": {
    "deletable": false,
    "nbgrader": {
     "cell_type": "code",
     "checksum": "994f7256ac8d1c505f29170b5518a699",
     "grade": false,
     "grade_id": "cell-53f4a06c74544e25",
     "locked": false,
     "schema_version": 3,
     "solution": true,
     "task": false
    }
   },
   "outputs": [],
   "source": [
    "# split arr_6 column-wise after the third and fifth column\n",
    "# YOUR CODE HERE"
   ]
  },
  {
   "cell_type": "code",
   "execution_count": null,
   "id": "1584b4f0",
   "metadata": {
    "deletable": false,
    "nbgrader": {
     "cell_type": "code",
     "checksum": "5bf930c8c0d1561253f0c821417d2c45",
     "grade": false,
     "grade_id": "cell-7658e44027560b40",
     "locked": false,
     "schema_version": 3,
     "solution": true,
     "task": false
    }
   },
   "outputs": [],
   "source": [
    "# let's recall how arr_6 looks like\n",
    "# YOUR CODE HERE"
   ]
  },
  {
   "cell_type": "code",
   "execution_count": null,
   "id": "7ce9888d",
   "metadata": {
    "deletable": false,
    "nbgrader": {
     "cell_type": "code",
     "checksum": "e57caf2e963573cb94eface9435e4dc0",
     "grade": false,
     "grade_id": "cell-8395d29ff9e1473b",
     "locked": false,
     "schema_version": 3,
     "solution": true,
     "task": false
    }
   },
   "outputs": [],
   "source": [
    "# indexing the first ndarray that was spiltted using vsplit method\n",
    "# YOUR CODE HERE"
   ]
  },
  {
   "cell_type": "code",
   "execution_count": null,
   "id": "ac7b4e52",
   "metadata": {
    "deletable": false,
    "nbgrader": {
     "cell_type": "code",
     "checksum": "a49af0ad4af535f048fdff415c3cb64b",
     "grade": false,
     "grade_id": "cell-6588669a3d132ecd",
     "locked": false,
     "schema_version": 3,
     "solution": true,
     "task": false
    }
   },
   "outputs": [],
   "source": [
    "# indexing the first ndarray that was spiltted using vsplit method\n",
    "# YOUR CODE HERE"
   ]
  },
  {
   "cell_type": "code",
   "execution_count": null,
   "id": "340c9666",
   "metadata": {
    "deletable": false,
    "nbgrader": {
     "cell_type": "code",
     "checksum": "8065bea4b7ea419d745f51c1ab6cfadc",
     "grade": false,
     "grade_id": "cell-eee63bdc5e25763c",
     "locked": false,
     "schema_version": 3,
     "solution": true,
     "task": false
    }
   },
   "outputs": [],
   "source": [
    "# split arr_6 row-wise after the third and fifth row\n",
    "# YOUR CODE HERE"
   ]
  },
  {
   "cell_type": "markdown",
   "id": "768f6c33",
   "metadata": {},
   "source": [
    "One last splitting method that will be introduce here is `numpy.array_split`. Similar with `concatenate`, it allows users to specify which axis to split."
   ]
  },
  {
   "cell_type": "code",
   "execution_count": null,
   "id": "09b28fa6",
   "metadata": {
    "deletable": false,
    "nbgrader": {
     "cell_type": "code",
     "checksum": "97dfa3c9146b206db5df002caff44d51",
     "grade": false,
     "grade_id": "cell-d4918df303d5aac9",
     "locked": false,
     "schema_version": 3,
     "solution": true,
     "task": false
    }
   },
   "outputs": [],
   "source": [
    "# splitting into 3 ndarrays along axis 0\n",
    "# YOUR CODE HERE"
   ]
  },
  {
   "cell_type": "code",
   "execution_count": null,
   "id": "aae1f2ab",
   "metadata": {
    "deletable": false,
    "nbgrader": {
     "cell_type": "code",
     "checksum": "e9348c427a185de3b3a73915572a958f",
     "grade": false,
     "grade_id": "cell-a2e99dbf251bd755",
     "locked": false,
     "schema_version": 3,
     "solution": true,
     "task": false
    }
   },
   "outputs": [],
   "source": [
    "# splitting into 2 ndarrays along axis 1\n",
    "# YOUR CODE HERE"
   ]
  },
  {
   "cell_type": "markdown",
   "id": "3df495a8",
   "metadata": {},
   "source": [
    "##  <a name=\"summary\">Summary</a>\n",
    "To conclude, you should now be able to:\n",
    "1. Modify shape of a `numpy ndarray`\n",
    "2. Apply `-1` as argument when performing shape manipulation\n",
    "3. Stack different `numpy ndarray`s together\n",
    "4. Split `numpy ndarray` into smaller chunks<br><br>\n",
    "Congratulations, that concludes this lesson.    "
   ]
  },
  {
   "cell_type": "markdown",
   "id": "0ae57ebb",
   "metadata": {},
   "source": [
    "## <a name=\"reference\">Reference</a>\n",
    "* [NumPy Quickstart](https://numpy.org/doc/stable/user/quickstart.html)"
   ]
  }
 ],
 "metadata": {
  "kernelspec": {
   "display_name": "Python 3",
   "language": "python",
   "name": "python3"
  },
  "language_info": {
   "codemirror_mode": {
    "name": "ipython",
    "version": 3
   },
   "file_extension": ".py",
   "mimetype": "text/x-python",
   "name": "python",
   "nbconvert_exporter": "python",
   "pygments_lexer": "ipython3",
   "version": "3.7.10"
  }
 },
 "nbformat": 4,
 "nbformat_minor": 5
}