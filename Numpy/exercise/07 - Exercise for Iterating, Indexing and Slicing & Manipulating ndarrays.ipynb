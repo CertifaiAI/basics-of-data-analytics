{
 "cells": [
  {
   "cell_type": "markdown",
   "id": "massive-geometry",
   "metadata": {
    "deletable": false,
    "editable": false
   },
   "source": [
    "![logo](../../img/license_header_logo.png)\n",
    "> **Copyright &copy; 2021 CertifAI Sdn. Bhd.**<br>\n",
    " <br>\n",
    "This program is part of OSRFramework. You can redistribute it and/or modify\n",
    "<br>it under the terms of the GNU Affero General Public License as published by\n",
    "<br>the Free Software Foundation, either version 3 of the License, or\n",
    "<br>(at your option) any later version.\n",
    "<br>\n",
    "<br>This program is distributed in the hope that it will be useful,\n",
    "<br>but WITHOUT ANY WARRANTY; without even the implied warranty of\n",
    "<br>MERCHANTABILITY or FITNESS FOR A PARTICULAR PURPOSE.  See the\n",
    "<br>GNU Affero General Public License for more details.\n",
    "<br>\n",
    "<br>You should have received a copy of the GNU Affero General Public License\n",
    "<br>along with this program.  If not, see <http://www.gnu.org/licenses/>."
   ]
  },
  {
   "cell_type": "markdown",
   "id": "218798cd",
   "metadata": {},
   "source": [
    "# 07 - Exercise for Iterating, Indexing, and Slicing & Manipulating ndarray\n",
    "Authored by: [Kian Yang Lee](https://github.com/KianYang-Lee) - kianyang.lee@certifai.ai"
   ]
  },
  {
   "cell_type": "markdown",
   "id": "0980ad23",
   "metadata": {},
   "source": [
    "## <a name=\"description\">Notebook Description</a>\n",
    "\n",
    "This notebook serves as an exercise for users to hone their mastery of `numpy` module.\n",
    "\n",
    "By the end of this tutorial, you will be able to:\n",
    "\n",
    "1. Perform terating, indexing and slicing operation on `ndarray`\n",
    "2. Manipulate `ndarray`"
   ]
  },
  {
   "cell_type": "markdown",
   "id": "fec48014",
   "metadata": {},
   "source": [
    "## Notebook Outline\n",
    "Below is the outline for this tutorial:\n",
    "1. [Notebook Description](#description)\n",
    "2. [Notebook Configurations](#configuration)\n",
    "3. [Section I: Iterating, Indexing, and Slicing](#iterate)\n",
    "4. [Section II: Manipulating `ndarray`](#manipulate)\n",
    "5. [Summary](#summary)"
   ]
  },
  {
   "cell_type": "markdown",
   "id": "acbf488c",
   "metadata": {},
   "source": [
    "## <a name=\"configuration\">Notebook Configurations</a>\n",
    "**Task 0:** Import `numpy` module as `np` alias.<br><br>\n",
    "**Expected Result:**<br>\n",
    "![06-00](../../img/numpy/06-00.png)"
   ]
  },
  {
   "cell_type": "code",
   "execution_count": null,
   "id": "80879996",
   "metadata": {
    "deletable": false,
    "nbgrader": {
     "cell_type": "code",
     "checksum": "0b20d1a1a750b041a0b4a04006a9fa2a",
     "grade": false,
     "grade_id": "cell-98d75ad9b3f98fa9",
     "locked": false,
     "schema_version": 3,
     "solution": true,
     "task": false
    }
   },
   "outputs": [],
   "source": [
    "# YOUR CODE HERE\n",
    "dir(np)"
   ]
  },
  {
   "cell_type": "markdown",
   "id": "6340b55d",
   "metadata": {},
   "source": [
    "## <a name=\"iterate\">Section I: Iterating, Indexing and Slicing</a>"
   ]
  },
  {
   "cell_type": "markdown",
   "id": "c97da8fb",
   "metadata": {},
   "source": [
    "**Task I-1**: Create a `ndarray` object as below.<br><br>\n",
    "**Expected Result:**<br>\n",
    "![07-I-01](../../img/numpy/07-I-01.png)"
   ]
  },
  {
   "cell_type": "code",
   "execution_count": null,
   "id": "483ab145",
   "metadata": {
    "deletable": false,
    "nbgrader": {
     "cell_type": "code",
     "checksum": "366202a1d7d9eccce6d6f6d68a244e50",
     "grade": false,
     "grade_id": "cell-737ec55afb9e57ec",
     "locked": false,
     "schema_version": 3,
     "solution": true,
     "task": false
    }
   },
   "outputs": [],
   "source": [
    "# YOUR CODE HERE"
   ]
  },
  {
   "cell_type": "markdown",
   "id": "068219d0",
   "metadata": {},
   "source": [
    "**Task I-2**: Write a `for` loop to iterate over each element in the `arr_1` and print them out.<br><br>\n",
    "**Expected Result:**<br>\n",
    "![07-I-02](../../img/numpy/07-I-02.png)"
   ]
  },
  {
   "cell_type": "code",
   "execution_count": null,
   "id": "581e7f5e",
   "metadata": {
    "deletable": false,
    "nbgrader": {
     "cell_type": "code",
     "checksum": "c81bc0eb61fe53af6ec174933d0e9f1b",
     "grade": false,
     "grade_id": "cell-2db9625d7bf6c97f",
     "locked": false,
     "schema_version": 3,
     "solution": true,
     "task": false
    }
   },
   "outputs": [],
   "source": [
    "# YOUR CODE HERE"
   ]
  },
  {
   "cell_type": "markdown",
   "id": "46e8963b",
   "metadata": {},
   "source": [
    "**Task I-3**: Write a `for` loop to iterate over each element in the provided `arr_2` and print them out.<br><br>\n",
    "**Expected Result:**<br>\n",
    "![07-I-03](../../img/numpy/07-I-03.png)"
   ]
  },
  {
   "cell_type": "code",
   "execution_count": null,
   "id": "41572ada",
   "metadata": {
    "deletable": false,
    "nbgrader": {
     "cell_type": "code",
     "checksum": "b061f1d5fd0fc478c2e27185236288ba",
     "grade": false,
     "grade_id": "cell-e14f9e472a7553fd",
     "locked": false,
     "schema_version": 3,
     "solution": true,
     "task": false
    }
   },
   "outputs": [],
   "source": [
    "arr_2 = np.arange(20).reshape(4,5)\n",
    "# YOUR CODE HERE"
   ]
  },
  {
   "cell_type": "markdown",
   "id": "8fe9f9d1",
   "metadata": {},
   "source": [
    "**Task I-4**: Using indexing, extract the third element in `arr_1` (note that counting starts from 0).<br><br>\n",
    "**Expected Result:**<br>\n",
    "![07-I-04](../../img/numpy/07-I-04.png)"
   ]
  },
  {
   "cell_type": "code",
   "execution_count": null,
   "id": "7511abe5",
   "metadata": {
    "deletable": false,
    "nbgrader": {
     "cell_type": "code",
     "checksum": "86290f900db6e29bf7171031c883a6bc",
     "grade": false,
     "grade_id": "cell-d2abc7e0bcdb9ee5",
     "locked": false,
     "schema_version": 3,
     "solution": true,
     "task": false
    }
   },
   "outputs": [],
   "source": [
    "# YOUR CODE HERE"
   ]
  },
  {
   "cell_type": "markdown",
   "id": "e284f43a",
   "metadata": {},
   "source": [
    "**Task I-5**: Using indexing, extract the element in the third row and second column in `arr_2` (note that counting starts from 0).<br><br>\n",
    "**Expected Result:**<br>\n",
    "![07-I-05](../../img/numpy/07-I-05.png)"
   ]
  },
  {
   "cell_type": "code",
   "execution_count": null,
   "id": "04d98e64",
   "metadata": {
    "deletable": false,
    "nbgrader": {
     "cell_type": "code",
     "checksum": "d18ca632504902315f245aac64fedb80",
     "grade": false,
     "grade_id": "cell-a4d0aeeb1c44a49f",
     "locked": false,
     "schema_version": 3,
     "solution": true,
     "task": false
    }
   },
   "outputs": [],
   "source": [
    "# YOUR CODE HERE"
   ]
  },
  {
   "cell_type": "markdown",
   "id": "32aa12e9",
   "metadata": {},
   "source": [
    "**Task I-6**: Using slicing operation, return a slice containing the third element up until last element (inclusive) in `arr_1` (note that counting starts from 0).<br><br>\n",
    "**Expected Result:**<br>\n",
    "![07-I-06](../../img/numpy/07-I-06.png)"
   ]
  },
  {
   "cell_type": "code",
   "execution_count": null,
   "id": "068ce460",
   "metadata": {
    "deletable": false,
    "nbgrader": {
     "cell_type": "code",
     "checksum": "efd6b68395fc301da2bc1450c962aae5",
     "grade": false,
     "grade_id": "cell-c994056eccf2e2fb",
     "locked": false,
     "schema_version": 3,
     "solution": true,
     "task": false
    }
   },
   "outputs": [],
   "source": [
    "# YOUR CODE HERE"
   ]
  },
  {
   "cell_type": "markdown",
   "id": "39ce9b04",
   "metadata": {},
   "source": [
    "**Task I-7**: Using slicing operation, return a slice containing the second element up until second last element (inclusive) in `arr_1` (note that counting starts from 0).<br><br>\n",
    "**Expected Result:**<br>\n",
    "![07-I-07](../../img/numpy/07-I-07.png)"
   ]
  },
  {
   "cell_type": "code",
   "execution_count": null,
   "id": "f73b8f98",
   "metadata": {
    "deletable": false,
    "nbgrader": {
     "cell_type": "code",
     "checksum": "68082081d09c578244d9db316970e467",
     "grade": false,
     "grade_id": "cell-2f405d0312e930e0",
     "locked": false,
     "schema_version": 3,
     "solution": true,
     "task": false
    }
   },
   "outputs": [],
   "source": [
    "# YOUR CODE HERE"
   ]
  },
  {
   "cell_type": "markdown",
   "id": "a94e592b",
   "metadata": {},
   "source": [
    "**Task I-8**: Using slicing operation, return a slice containing the elements that are located in first and second row, and third column until second last column.<br><br>\n",
    "**Expected Result:**<br>\n",
    "![07-I-08](../../img/numpy/07-I-08.png)"
   ]
  },
  {
   "cell_type": "code",
   "execution_count": null,
   "id": "76b76b75",
   "metadata": {
    "deletable": false,
    "nbgrader": {
     "cell_type": "code",
     "checksum": "8b6230cbe995c0691336832839f2d67a",
     "grade": false,
     "grade_id": "cell-26a66a2e5430f9f0",
     "locked": false,
     "schema_version": 3,
     "solution": true,
     "task": false
    }
   },
   "outputs": [],
   "source": [
    "# YOUR CODE HERE"
   ]
  },
  {
   "cell_type": "markdown",
   "id": "a21c20d9",
   "metadata": {},
   "source": [
    "**Task I-9**: Make a copy of the entire slice of `arr_2`.<br><br>\n",
    "**Expected Result:**<br>\n",
    "![07-I-09](../../img/numpy/07-I-09.png)"
   ]
  },
  {
   "cell_type": "code",
   "execution_count": null,
   "id": "11d1d508",
   "metadata": {
    "deletable": false,
    "nbgrader": {
     "cell_type": "code",
     "checksum": "15ca53b4e86d6d6ea34d96d847cf97df",
     "grade": false,
     "grade_id": "cell-c8bdc07597e5e390",
     "locked": false,
     "schema_version": 3,
     "solution": true,
     "task": false
    }
   },
   "outputs": [],
   "source": [
    "arr_copy = np.array(())\n",
    "# YOUR CODE HERE\n",
    "try:\n",
    "    assert not np.may_share_memory(arr_copy, arr_2), print(\"arr_copy is not a new copy!\")\n",
    "    print(\"arr_copy is not a view of the original array.\")\n",
    "except AssertionError as error:\n",
    "    error"
   ]
  },
  {
   "cell_type": "markdown",
   "id": "0846a9b3",
   "metadata": {},
   "source": [
    "## <a name=\"manipulate\">Section II: Manipulating `ndarray`</a>"
   ]
  },
  {
   "cell_type": "markdown",
   "id": "2f8b6bc7",
   "metadata": {},
   "source": [
    "**Task II-1**: Flatten the `arr_3` into 1D array.<br><br>\n",
    "**Expected Result:**<br>\n",
    "![07-II-01](../../img/numpy/07-II-01.png)"
   ]
  },
  {
   "cell_type": "code",
   "execution_count": null,
   "id": "8c32cfc0",
   "metadata": {
    "deletable": false,
    "nbgrader": {
     "cell_type": "code",
     "checksum": "62955f4a22d8886b2a914584428a0d3a",
     "grade": false,
     "grade_id": "cell-6e2cae9fced20bda",
     "locked": false,
     "schema_version": 3,
     "solution": true,
     "task": false
    }
   },
   "outputs": [],
   "source": [
    "arr_3 = np.ones((4,3))\n",
    "# YOUR CODE HERE"
   ]
  },
  {
   "cell_type": "markdown",
   "id": "1b05e44d",
   "metadata": {},
   "source": [
    "**Task II-2**: Reshape the `arr_3` into `ndarray` with shape `(3, 4)`.<br><br>\n",
    "**Expected Result:**<br>\n",
    "![07-II-02](../../img/numpy/07-II-02.png)"
   ]
  },
  {
   "cell_type": "code",
   "execution_count": null,
   "id": "7a87fb9e",
   "metadata": {
    "deletable": false,
    "nbgrader": {
     "cell_type": "code",
     "checksum": "e4b1977dfd5721cfc5b3dc0e8d4d2a57",
     "grade": false,
     "grade_id": "cell-d3e3b36571133e3f",
     "locked": false,
     "schema_version": 3,
     "solution": true,
     "task": false
    }
   },
   "outputs": [],
   "source": [
    "# YOUR CODE HERE"
   ]
  },
  {
   "cell_type": "markdown",
   "id": "fd6c153e",
   "metadata": {},
   "source": [
    "**Task II-3**: Transpose the provided `arr_4` array.<br><br>\n",
    "**Expected Result:**<br>\n",
    "![07-II-03](../../img/numpy/07-II-03.png)"
   ]
  },
  {
   "cell_type": "code",
   "execution_count": null,
   "id": "6cde76d7",
   "metadata": {
    "deletable": false,
    "nbgrader": {
     "cell_type": "code",
     "checksum": "1cfdb52d14359f647385858a2c86a9ff",
     "grade": false,
     "grade_id": "cell-04e205d9b0dfd71f",
     "locked": false,
     "schema_version": 3,
     "solution": true,
     "task": false
    }
   },
   "outputs": [],
   "source": [
    "np.random.seed(23)\n",
    "arr_4 = np.random.rand(2,5)\n",
    "print(\"Prior to transpose operation: \")\n",
    "print(arr_4)\n",
    "print(\"Post transpose operation: \")\n",
    "# YOUR CODE HERE"
   ]
  },
  {
   "cell_type": "markdown",
   "id": "db47b43b",
   "metadata": {},
   "source": [
    "**Task II-4**: Stack provided `arr_5` and `arr_6` vertically (along the first axis).<br><br>\n",
    "**Expected Result:**<br>\n",
    "![07-II-04](../../img/numpy/07-II-04.png)"
   ]
  },
  {
   "cell_type": "code",
   "execution_count": null,
   "id": "cc375d23",
   "metadata": {
    "deletable": false,
    "nbgrader": {
     "cell_type": "code",
     "checksum": "254f607b063f6a1285b0ed5cc32e620d",
     "grade": false,
     "grade_id": "cell-5c5448df004e3a2c",
     "locked": false,
     "schema_version": 3,
     "solution": true,
     "task": false
    }
   },
   "outputs": [],
   "source": [
    "arr_5 = np.ones((3,3))\n",
    "arr_6 = np.zeros((3,3))\n",
    "print(\"Prior to stacking: \")\n",
    "print(\"arr_5: \")\n",
    "print(arr_5)\n",
    "print(\"\\n\\narr_6: \")\n",
    "print(arr_6)\n",
    "print(\"After stacking: \")\n",
    "# YOUR CODE HERE"
   ]
  },
  {
   "cell_type": "markdown",
   "id": "fc3a18ed",
   "metadata": {},
   "source": [
    "**Task II-5**: Stack provided `arr_5` and `arr_6` horizontally (along second axis).<br><br>\n",
    "**Expected Result:**<br>\n",
    "![07-II-05](../../img/numpy/07-II-05.png)"
   ]
  },
  {
   "cell_type": "code",
   "execution_count": null,
   "id": "836cd45f",
   "metadata": {
    "deletable": false,
    "nbgrader": {
     "cell_type": "code",
     "checksum": "df7d08d2c8b61a6729f95356b7d97f28",
     "grade": false,
     "grade_id": "cell-46d0df964746defe",
     "locked": false,
     "schema_version": 3,
     "solution": true,
     "task": false
    }
   },
   "outputs": [],
   "source": [
    "print(\"Prior to stacking: \")\n",
    "print(\"arr_5: \")\n",
    "print(arr_5)\n",
    "print(\"\\n\\narr_6: \")\n",
    "print(arr_6)\n",
    "print(\"After stacking: \")\n",
    "# YOUR CODE HERE"
   ]
  },
  {
   "cell_type": "markdown",
   "id": "f2d9f8a2",
   "metadata": {},
   "source": [
    "**Task II-6**: Split the provided `arr_7` horizontally (along the second axis) into two `ndarray`s.<br><br>\n",
    "**Expected Result:**<br>\n",
    "![07-II-06](../../img/numpy/07-II-06.png)"
   ]
  },
  {
   "cell_type": "code",
   "execution_count": null,
   "id": "d26e079f",
   "metadata": {
    "deletable": false,
    "nbgrader": {
     "cell_type": "code",
     "checksum": "d7b582e6f645f8d8cd43587b3406c75f",
     "grade": false,
     "grade_id": "cell-4d73326f63889881",
     "locked": false,
     "schema_version": 3,
     "solution": true,
     "task": false
    }
   },
   "outputs": [],
   "source": [
    "arr_7 = np.arange(64).reshape(8,8)\n",
    "print(\"Prior to splitting: \")\n",
    "print(arr_7)\n",
    "print(\"After splitting: \")\n",
    "# YOUR CODE HERE"
   ]
  },
  {
   "cell_type": "markdown",
   "id": "009fdbf8",
   "metadata": {},
   "source": [
    "**Task II-7**: Split the provided `arr_7` vertically (along the first axis) into two `ndarray`s after second row and fourth row.<br><br>\n",
    "**Expected Result:**<br>\n",
    "![07-II-07](../../img/numpy/07-II-07.png)"
   ]
  },
  {
   "cell_type": "code",
   "execution_count": null,
   "id": "eade9113",
   "metadata": {
    "deletable": false,
    "nbgrader": {
     "cell_type": "code",
     "checksum": "1bd56acbed95bf2c59ba8794d76d761c",
     "grade": false,
     "grade_id": "cell-92d6ff3ecc8d2a3b",
     "locked": false,
     "schema_version": 3,
     "solution": true,
     "task": false
    }
   },
   "outputs": [],
   "source": [
    "print(\"Prior to splitting: \")\n",
    "print(arr_7)\n",
    "print(\"After splitting: \")\n",
    "# YOUR CODE HERE"
   ]
  },
  {
   "cell_type": "markdown",
   "id": "975dc66c",
   "metadata": {},
   "source": [
    "##  <a name=\"summary\">Summary</a>\n",
    "To conclude, you should now be able to:\n",
    "1. Perform terating, indexing and slicing operation on `ndarray`\n",
    "2. Manipulate `ndarray`<br><br>\n",
    "Congratulations for completing this exercise!    "
   ]
  }
 ],
 "metadata": {
  "kernelspec": {
   "display_name": "Python 3",
   "language": "python",
   "name": "python3"
  },
  "language_info": {
   "codemirror_mode": {
    "name": "ipython",
    "version": 3
   },
   "file_extension": ".py",
   "mimetype": "text/x-python",
   "name": "python",
   "nbconvert_exporter": "python",
   "pygments_lexer": "ipython3",
   "version": "3.7.10"
  }
 },
 "nbformat": 4,
 "nbformat_minor": 5
}