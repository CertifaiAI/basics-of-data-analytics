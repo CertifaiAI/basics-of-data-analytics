{
 "cells": [
  {
   "cell_type": "markdown",
   "id": "bright-privilege",
   "metadata": {
    "deletable": false,
    "editable": false
   },
   "source": [
    "![logo](../../img/license_header_logo.png)\n",
    "> **Copyright &copy; 2021 CertifAI Sdn. Bhd.**<br>\n",
    " <br>\n",
    "This program is part of OSRFramework. You can redistribute it and/or modify\n",
    "<br>it under the terms of the GNU Affero General Public License as published by\n",
    "<br>the Free Software Foundation, either version 3 of the License, or\n",
    "<br>(at your option) any later version.\n",
    "<br>\n",
    "<br>This program is distributed in the hope that it will be useful,\n",
    "<br>but WITHOUT ANY WARRANTY; without even the implied warranty of\n",
    "<br>MERCHANTABILITY or FITNESS FOR A PARTICULAR PURPOSE.  See the\n",
    "<br>GNU Affero General Public License for more details.\n",
    "<br>\n",
    "<br>You should have received a copy of the GNU Affero General Public License\n",
    "<br>along with this program.  If not, see <http://www.gnu.org/licenses/>."
   ]
  },
  {
   "cell_type": "markdown",
   "id": "competent-thumb",
   "metadata": {},
   "source": [
    "# 02 - Array Creation\n",
    "Authored by: [Kian Yang Lee](https://github.com/KianYang-Lee) - kianyang.lee@certifai.ai"
   ]
  },
  {
   "cell_type": "markdown",
   "id": "viral-welsh",
   "metadata": {},
   "source": [
    "## <a name=\"description\">Notebook Description</a>\n",
    "\n",
    "This notebook describes various ways to create `numpy ndarray`. It is especially suitable for beginners new to `numpy` module.\n",
    "\n",
    "By the end of this tutorial, you will be able to:\n",
    "\n",
    "1. Explain about how `numpy ndarray` can be created\n",
    "2. Apply `numpy.arange`, `numpy.array`, `numpy.zeros`, `numpy.ones` and `numpy.empty` methods to create `numpy ndarray`\n",
    "3. Explain and apply `numpy.dtype` and `astype()` methods to specify and modify `numpy data-type`"
   ]
  },
  {
   "cell_type": "markdown",
   "id": "secret-helen",
   "metadata": {},
   "source": [
    "## Notebook Outline\n",
    "Below is the outline for this tutorial:\n",
    "1. [Notebook Description](#description)\n",
    "2. [Notebook Configurations](#configuration)\n",
    "3. [Method 1: Create a Range of Evenly Spaced Values](#arange)\n",
    "3. [Method 2: Create from `list` or `tuple`](#array)\n",
    "4. [Method 3: Zeros, Ones and Empty](#similar)\n",
    "5. [`ndarray` Data-type](#dtype)\n",
    "6. [Summary](#summary)\n",
    "7. [Reference](#reference)"
   ]
  },
  {
   "cell_type": "markdown",
   "id": "chicken-reservation",
   "metadata": {},
   "source": [
    "## <a name=\"configuration\">Notebook Configurations</a>\n",
    "This notebook will works only on `numpy` module, a popular `python` library for numerical computation. It is common for people to import it using the alias `np`."
   ]
  },
  {
   "cell_type": "code",
   "execution_count": null,
   "id": "coupled-nicholas",
   "metadata": {
    "deletable": false,
    "nbgrader": {
     "cell_type": "code",
     "checksum": "df97906e34ef4d827e456a340d6aa7c2",
     "grade": false,
     "grade_id": "cell-ddac515c015bc6b2",
     "locked": false,
     "schema_version": 3,
     "solution": true,
     "task": false
    }
   },
   "outputs": [],
   "source": [
    "# YOUR CODE HERE"
   ]
  },
  {
   "cell_type": "markdown",
   "id": "waiting-tradition",
   "metadata": {},
   "source": [
    "## <a name=\"arange\">Method 1: Create a Range of Evenly-spaced Values</a>\n",
    "`numpy.arange()` method is a simple way to create an `ndarray`. It is akin to `Python`'s `range` function, but instead of returning a `list` object, it returns a `ndarray` object. It takes only one mandatory argument which is `stop` to include create the array with values up to but not including the `stop` value provided. In this case, the `start` will default to 0 and `step` default to 1, as shown below."
   ]
  },
  {
   "cell_type": "code",
   "execution_count": null,
   "id": "bound-panic",
   "metadata": {
    "deletable": false,
    "nbgrader": {
     "cell_type": "code",
     "checksum": "6e348a28b26366c280299738174768d7",
     "grade": false,
     "grade_id": "cell-f73a39869cc70a29",
     "locked": false,
     "schema_version": 3,
     "solution": true,
     "task": false
    }
   },
   "outputs": [],
   "source": [
    "# 10 is not included in the ndarray\n",
    "# YOUR CODE HERE"
   ]
  },
  {
   "cell_type": "markdown",
   "id": "underlying-throw",
   "metadata": {},
   "source": [
    "Users can also specify the `start` and `step` argument to have a more specific control of the `ndarray` object. Bear in mind that the values which are generated are within the half-open interval `[start, stop)`."
   ]
  },
  {
   "cell_type": "code",
   "execution_count": null,
   "id": "suffering-arrival",
   "metadata": {
    "deletable": false,
    "nbgrader": {
     "cell_type": "code",
     "checksum": "5fab3542acba1866cec143cac701f6bf",
     "grade": false,
     "grade_id": "cell-9f75e117ad1d3193",
     "locked": false,
     "schema_version": 3,
     "solution": true,
     "task": false
    }
   },
   "outputs": [],
   "source": [
    "# demonstrating with only start and stop arguments\n",
    "# 3 is included but not 10\n",
    "# YOUR CODE HERE"
   ]
  },
  {
   "cell_type": "code",
   "execution_count": null,
   "id": "cheap-spelling",
   "metadata": {
    "deletable": false,
    "nbgrader": {
     "cell_type": "code",
     "checksum": "403eca661e8c9b8299813cfe992f29ca",
     "grade": false,
     "grade_id": "cell-a6192e3008a8402a",
     "locked": false,
     "schema_version": 3,
     "solution": true,
     "task": false
    }
   },
   "outputs": [],
   "source": [
    "# demonstrating with start, stop and step arguments\n",
    "# next value is 2 more of previous\n",
    "# YOUR CODE HERE"
   ]
  },
  {
   "cell_type": "markdown",
   "id": "satisfactory-strand",
   "metadata": {},
   "source": [
    "The downside of this method is that it can only create `ndarray` with one axis. An additional step of reshaping would be needed to produce `ndarray` with more than one axes."
   ]
  },
  {
   "cell_type": "markdown",
   "id": "parliamentary-scanning",
   "metadata": {},
   "source": [
    "## <a name=\"array\">Method 2: Create from `list` or `tuple`</a>\n",
    "A simple way to create an `ndarray` is by calling `numpy.array()` method and by providing `list` or `tuple` as the argument. This is intuitive for users that are already familiar with `Python` as `list` and `tuple` are the native data structures."
   ]
  },
  {
   "cell_type": "code",
   "execution_count": null,
   "id": "emotional-press",
   "metadata": {
    "deletable": false,
    "nbgrader": {
     "cell_type": "code",
     "checksum": "b7679f5ad4f219f4c3c81ae8883d79bc",
     "grade": false,
     "grade_id": "cell-bc2a863ad134f3d2",
     "locked": false,
     "schema_version": 3,
     "solution": true,
     "task": false
    }
   },
   "outputs": [],
   "source": [
    "# using list \n",
    "# YOUR CODE HERE"
   ]
  },
  {
   "cell_type": "code",
   "execution_count": null,
   "id": "phantom-present",
   "metadata": {
    "deletable": false,
    "nbgrader": {
     "cell_type": "code",
     "checksum": "80aa6f26d870e61697b62e5802411951",
     "grade": false,
     "grade_id": "cell-291fa35aa1b48b8f",
     "locked": false,
     "schema_version": 3,
     "solution": true,
     "task": false
    }
   },
   "outputs": [],
   "source": [
    "# using tuple\n",
    "# YOUR CODE HERE"
   ]
  },
  {
   "cell_type": "markdown",
   "id": "respiratory-diamond",
   "metadata": {},
   "source": [
    "Above shows two different arguments, `list` and `tuple`, that were used for `np.array()` method but the same result is achieved. \n",
    "\n",
    "Nonetheless, one common error among beginners is providing `array()` method with multiple arguments instead of a sequence. Like the one shown below:"
   ]
  },
  {
   "cell_type": "code",
   "execution_count": null,
   "id": "unable-apache",
   "metadata": {
    "deletable": false,
    "nbgrader": {
     "cell_type": "code",
     "checksum": "9ac5a05cfc21bfac268d272d485114b9",
     "grade": false,
     "grade_id": "cell-c048aebd715680d5",
     "locked": false,
     "schema_version": 3,
     "solution": true,
     "task": false
    }
   },
   "outputs": [],
   "source": [
    "# this will result in ValueError\n",
    "\n",
    "try:\n",
    "    # YOUR CODE HERE\n",
    "except ValueError as error:\n",
    "    print(error)\n",
    "    print(\"Multiple arguments are provided! Please provide only one argument!\")"
   ]
  },
  {
   "cell_type": "markdown",
   "id": "living-circular",
   "metadata": {},
   "source": [
    "Below is the same block of code except the difference lies in only one argument is provided. This can be successfully run."
   ]
  },
  {
   "cell_type": "code",
   "execution_count": null,
   "id": "corporate-myrtle",
   "metadata": {
    "deletable": false,
    "nbgrader": {
     "cell_type": "code",
     "checksum": "d8fdb3bcdac3ec43f553e22695e7d33a",
     "grade": false,
     "grade_id": "cell-df37c467c5e1fa46",
     "locked": false,
     "schema_version": 3,
     "solution": true,
     "task": false
    }
   },
   "outputs": [],
   "source": [
    "# this will not result in ValueError\n",
    "try:\n",
    "    # YOUR CODE HERE\n",
    "except ValueError as error:\n",
    "    print(error)\n",
    "    print(\"Multiple arguments are provided! Please provide only one argument!\")"
   ]
  },
  {
   "cell_type": "markdown",
   "id": "stopped-brazil",
   "metadata": {},
   "source": [
    "To construct `ndarray` with multiple dimensions, just input sequences of sequences as the argument. "
   ]
  },
  {
   "cell_type": "code",
   "execution_count": null,
   "id": "fabulous-devil",
   "metadata": {
    "deletable": false,
    "nbgrader": {
     "cell_type": "code",
     "checksum": "4c3910de29354b8197495a798cc0b6ea",
     "grade": false,
     "grade_id": "cell-a23b46a820ac6cc6",
     "locked": false,
     "schema_version": 3,
     "solution": true,
     "task": false
    }
   },
   "outputs": [],
   "source": [
    "# create 2-dimensional ndarray\n",
    "# YOUR CODE HERE"
   ]
  },
  {
   "cell_type": "code",
   "execution_count": null,
   "id": "convertible-january",
   "metadata": {
    "deletable": false,
    "nbgrader": {
     "cell_type": "code",
     "checksum": "91cfe19897af229e0363e93f6741b649",
     "grade": false,
     "grade_id": "cell-09c8f8b28acf17fb",
     "locked": false,
     "schema_version": 3,
     "solution": true,
     "task": false
    }
   },
   "outputs": [],
   "source": [
    "# create 3-dimensional ndarray\n",
    "# YOUR CODE HERE"
   ]
  },
  {
   "cell_type": "markdown",
   "id": "surrounded-diagnosis",
   "metadata": {},
   "source": [
    "## <a name=\"zeros\">Method 3: Zeros, Ones, and Empty</a>\n",
    "We will be introducing three methods here: `numpy.zeros()`, `numpy.ones()` and `numpy.empty()`. As the name implies, `numpy zeros` generates an `ndarray` of only zeros, `numpy ones` generates an `ndarray` of only ones, and `numpy empty` generates an `ndarray` with random content that is dependent on memory state. Users need to only specify the shape for `ndarray` as the argument for these methods. \n",
    "\n",
    "The default dtype used is `float64`.\n",
    "\n",
    "Below will be a demonstration of creating `ndarray` with the shape `(2, 3)` using the abovementioned methods."
   ]
  },
  {
   "cell_type": "code",
   "execution_count": null,
   "id": "thrown-intensity",
   "metadata": {
    "deletable": false,
    "nbgrader": {
     "cell_type": "code",
     "checksum": "7450d557d3d2ebc76c237d5169ad5211",
     "grade": false,
     "grade_id": "cell-a3779b414c076403",
     "locked": false,
     "schema_version": 3,
     "solution": true,
     "task": false
    }
   },
   "outputs": [],
   "source": [
    "# YOUR CODE HERE"
   ]
  },
  {
   "cell_type": "code",
   "execution_count": null,
   "id": "returning-olive",
   "metadata": {
    "deletable": false,
    "nbgrader": {
     "cell_type": "code",
     "checksum": "933353c98938a8aa66df41ae187238d0",
     "grade": false,
     "grade_id": "cell-f1695cb5c6682ae7",
     "locked": false,
     "schema_version": 3,
     "solution": true,
     "task": false
    }
   },
   "outputs": [],
   "source": [
    "# YOUR CODE HERE"
   ]
  },
  {
   "cell_type": "code",
   "execution_count": null,
   "id": "specified-joyce",
   "metadata": {
    "deletable": false,
    "nbgrader": {
     "cell_type": "code",
     "checksum": "95d68eea5fd0937823e95d9dc1044af4",
     "grade": false,
     "grade_id": "cell-38bdd4415e0d615f",
     "locked": false,
     "schema_version": 3,
     "solution": true,
     "task": false
    }
   },
   "outputs": [],
   "source": [
    "# YOUR CODE HERE"
   ]
  },
  {
   "cell_type": "markdown",
   "id": "neural-exemption",
   "metadata": {},
   "source": [
    "We can see that the data type that is displayed is of the type `float64`."
   ]
  },
  {
   "cell_type": "markdown",
   "id": "social-parent",
   "metadata": {},
   "source": [
    "## <a name=\"dtype\">`ndarray` Data-type</a>\n",
    "The data type of the `ndarray` can be specified during the creation of `ndarray`. We just have to specify what is the `dtype` that is used."
   ]
  },
  {
   "cell_type": "code",
   "execution_count": null,
   "id": "exempt-subscriber",
   "metadata": {
    "deletable": false,
    "nbgrader": {
     "cell_type": "code",
     "checksum": "2074a3a12b878f0f93dc605a46b8b8bf",
     "grade": false,
     "grade_id": "cell-a75cbf03c536cdf5",
     "locked": false,
     "schema_version": 3,
     "solution": true,
     "task": false
    }
   },
   "outputs": [],
   "source": [
    "# specifying an ndarray of one with int32 dtype\n",
    "# YOUR CODE HERE"
   ]
  },
  {
   "cell_type": "code",
   "execution_count": null,
   "id": "metropolitan-management",
   "metadata": {
    "deletable": false,
    "nbgrader": {
     "cell_type": "code",
     "checksum": "8032b3434011a56871615393cba4701e",
     "grade": false,
     "grade_id": "cell-6efd81bf2cf04c69",
     "locked": false,
     "schema_version": 3,
     "solution": true,
     "task": false
    }
   },
   "outputs": [],
   "source": [
    "# YOUR CODE HERE"
   ]
  },
  {
   "cell_type": "markdown",
   "id": "confused-regression",
   "metadata": {},
   "source": [
    "One can also modify the `dtype` even after the `ndarray` is created. However, it might cause lost of numerical precision by doing so. Below is an example of converting the `dtype` of `ndarray` after it is created using `astype()` method."
   ]
  },
  {
   "cell_type": "code",
   "execution_count": null,
   "id": "superior-paradise",
   "metadata": {
    "deletable": false,
    "nbgrader": {
     "cell_type": "code",
     "checksum": "6f8b09d9ac737f803c102e2bcd532797",
     "grade": false,
     "grade_id": "cell-31e28c158e507e93",
     "locked": false,
     "schema_version": 3,
     "solution": true,
     "task": false
    }
   },
   "outputs": [],
   "source": [
    "# YOUR CODE HERE"
   ]
  },
  {
   "cell_type": "code",
   "execution_count": null,
   "id": "solar-remark",
   "metadata": {
    "deletable": false,
    "nbgrader": {
     "cell_type": "code",
     "checksum": "2c9d1a46976871c9263b9db876c4f164",
     "grade": false,
     "grade_id": "cell-5c0ad091b9ee1147",
     "locked": false,
     "schema_version": 3,
     "solution": true,
     "task": false
    }
   },
   "outputs": [],
   "source": [
    "# YOUR CODE HERE"
   ]
  },
  {
   "cell_type": "code",
   "execution_count": null,
   "id": "curious-earth",
   "metadata": {
    "deletable": false,
    "nbgrader": {
     "cell_type": "code",
     "checksum": "21fbac08b97ed49378e4137ce1a76456",
     "grade": false,
     "grade_id": "cell-1c606c3968f24a0f",
     "locked": false,
     "schema_version": 3,
     "solution": true,
     "task": false
    }
   },
   "outputs": [],
   "source": [
    "# YOUR CODE HERE"
   ]
  },
  {
   "cell_type": "markdown",
   "id": "hidden-adoption",
   "metadata": {},
   "source": [
    "We see the loss of numerical precision, whereby the each element in the `ndarray` contains only the integer information. `numpy` supports a wider variety of numerical types compared to native ones offered by `python`. You can check it out at `numpy`'s official [website](https://numpy.org/devdocs/user/basics.types.html)."
   ]
  },
  {
   "cell_type": "markdown",
   "id": "9d90bd09",
   "metadata": {},
   "source": [
    "##  <a name=\"summary\">Summary</a>\n",
    "To conclude, you should now be able to:\n",
    "1. Explain about how `numpy ndarray` can be created\n",
    "2. Apply `numpy.arange`, `numpy.array`, `numpy.zeros`, `numpy.ones` and `numpy.empty` methods to create `numpy ndarray`\n",
    "3. Explain and apply `numpy.dtype` and `astype()` methods to specify and modify `numpy data-type`<br><br>\n",
    "Congratulations, that concludes this lesson.    "
   ]
  },
  {
   "cell_type": "markdown",
   "id": "hourly-thickness",
   "metadata": {},
   "source": [
    "## <a name=\"reference\">Reference</a>\n",
    "* [numpy.ndarray.dtype](https://numpy.org/doc/stable/reference/generated/numpy.ndarray.dtype.html)\n",
    "* [NumPy quickstart](https://numpy.org/doc/stable/user/quickstart.html)"
   ]
  }
 ],
 "metadata": {
  "kernelspec": {
   "display_name": "Python 3",
   "language": "python",
   "name": "python3"
  },
  "language_info": {
   "codemirror_mode": {
    "name": "ipython",
    "version": 3
   },
   "file_extension": ".py",
   "mimetype": "text/x-python",
   "name": "python",
   "nbconvert_exporter": "python",
   "pygments_lexer": "ipython3",
   "version": "3.7.10"
  }
 },
 "nbformat": 4,
 "nbformat_minor": 5
}