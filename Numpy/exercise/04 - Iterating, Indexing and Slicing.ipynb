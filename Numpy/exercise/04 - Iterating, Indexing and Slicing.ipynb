{
 "cells": [
  {
   "cell_type": "markdown",
   "id": "36336478",
   "metadata": {
    "deletable": false,
    "editable": false
   },
   "source": [
    "![logo](../../img/license_header_logo.png)\n",
    "> **Copyright &copy; 2021 CertifAI Sdn. Bhd.**<br>\n",
    " <br>\n",
    "This program and the accompanying materials are made available under the\n",
    "terms of the [Apache License, Version 2.0](https://www.apache.org/licenses/LICENSE-2.0). <br>\n",
    "Unless required by applicable law or agreed to in writing, software\n",
    "distributed under the License is distributed on an \"AS IS\" BASIS, WITHOUT\n",
    "WARRANTIES OR CONDITIONS OF ANY KIND, either express or implied. See the\n",
    "License for the specific language governing permissions and limitations\n",
    "under the License. <br>\n",
    "<br>**SPDX-License-Identifier: Apache-2.0**"
   ]
  },
  {
   "cell_type": "markdown",
   "id": "68f9db57",
   "metadata": {},
   "source": [
    "# 04 - Iterating, Indexing and Slicing\n",
    "Authored by: [Kian Yang Lee](https://github.com/KianYang-Lee) - kianyang.lee@certifai.ai"
   ]
  },
  {
   "cell_type": "markdown",
   "id": "2407459e",
   "metadata": {},
   "source": [
    "## <a name=\"description\">Notebook Description</a>\n",
    "\n",
    "It is important for users to be able to index, slice and iterate through `ndarray` to extract information that are relevant. This tutorial will discuss on some of the common ways to achieve that.\n",
    "\n",
    "By the end of this tutorial, you will be able to:\n",
    "\n",
    "1. Perform iteration over `ndarray`\n",
    "2. Perform basic indexing over `ndarray`\n",
    "3. Perform basic slicing over `ndarray`\n",
    "4. Explain the difference between `view` and `copy`"
   ]
  },
  {
   "cell_type": "markdown",
   "id": "c9260477",
   "metadata": {},
   "source": [
    "## Notebook Outline\n",
    "Below is the outline for this tutorial:\n",
    "1. [Notebook Description](#description)\n",
    "2. [Notebook Configurations](#configuration)\n",
    "3. [Iterating](#iterate)\n",
    "4. [Basic Indexing](#indexing)\n",
    "5. [Basic Slicing](#slicing)\n",
    "6. [View and Copy](#view)\n",
    "7. [Summary](#summary)\n",
    "8. [Reference](#reference)"
   ]
  },
  {
   "cell_type": "markdown",
   "id": "5d0501aa",
   "metadata": {},
   "source": [
    "## <a name=\"configuration\">Notebook Configurations</a>\n",
    "This notebook will works only on `numpy` module, a popular `python` library for numerical computation. It is common for people to import it using the alias `np`."
   ]
  },
  {
   "cell_type": "code",
   "execution_count": null,
   "id": "00c6bcfc",
   "metadata": {
    "deletable": false,
    "nbgrader": {
     "cell_type": "code",
     "checksum": "da56811725487837981ca02e9c0294ff",
     "grade": false,
     "grade_id": "cell-504de81640e88778",
     "locked": false,
     "schema_version": 3,
     "solution": true,
     "task": false
    }
   },
   "outputs": [],
   "source": [
    "# YOUR CODE HERE"
   ]
  },
  {
   "cell_type": "markdown",
   "id": "e36c638e",
   "metadata": {},
   "source": [
    "## <a name=\"iterate\">Iterating</a>\n",
    "`numpy ndarray` can be iterated over, much like a `list` object. One just need to write a `for` loop to do so."
   ]
  },
  {
   "cell_type": "code",
   "execution_count": null,
   "id": "a0db60a6",
   "metadata": {
    "deletable": false,
    "nbgrader": {
     "cell_type": "code",
     "checksum": "127c18eeece0e8719aeddd5346921d6b",
     "grade": false,
     "grade_id": "cell-dd8441e23b21bbd8",
     "locked": false,
     "schema_version": 3,
     "solution": true,
     "task": false
    }
   },
   "outputs": [],
   "source": [
    "# YOUR CODE HERE"
   ]
  },
  {
   "cell_type": "code",
   "execution_count": null,
   "id": "a103915f",
   "metadata": {
    "deletable": false,
    "nbgrader": {
     "cell_type": "code",
     "checksum": "471c632c3e9259e65139a03f2a6d65d1",
     "grade": false,
     "grade_id": "cell-8eed973d602bf99a",
     "locked": false,
     "schema_version": 3,
     "solution": true,
     "task": false
    }
   },
   "outputs": [],
   "source": [
    "# for loop to iterate ndarray\n",
    "# YOUR CODE HERE"
   ]
  },
  {
   "cell_type": "markdown",
   "id": "eae17089",
   "metadata": {},
   "source": [
    "One can also perform mathematical operations while iterating, or whatever operation that is needed."
   ]
  },
  {
   "cell_type": "code",
   "execution_count": null,
   "id": "41c1559d",
   "metadata": {
    "deletable": false,
    "nbgrader": {
     "cell_type": "code",
     "checksum": "1b7ad3cf393bdd85a1a9b68f83a07937",
     "grade": false,
     "grade_id": "cell-37f152f1fae09998",
     "locked": false,
     "schema_version": 3,
     "solution": true,
     "task": false
    }
   },
   "outputs": [],
   "source": [
    "# YOUR CODE HERE"
   ]
  },
  {
   "cell_type": "markdown",
   "id": "3464ab93",
   "metadata": {},
   "source": [
    "it is quite different when one wishes to iterate over n-dimensional `ndarray`. The first axis will be iterated when one does so, as shown below."
   ]
  },
  {
   "cell_type": "code",
   "execution_count": null,
   "id": "28f247ad",
   "metadata": {
    "deletable": false,
    "nbgrader": {
     "cell_type": "code",
     "checksum": "7eaeb3ef7238d27dcdff485e3dfd6964",
     "grade": false,
     "grade_id": "cell-8d9b7f8e3c7cdb84",
     "locked": false,
     "schema_version": 3,
     "solution": true,
     "task": false
    }
   },
   "outputs": [],
   "source": [
    "# YOUR CODE HERE"
   ]
  },
  {
   "cell_type": "code",
   "execution_count": null,
   "id": "8b775254",
   "metadata": {
    "deletable": false,
    "nbgrader": {
     "cell_type": "code",
     "checksum": "403ff046f4b40b24265761801fc6a0e7",
     "grade": false,
     "grade_id": "cell-e8e61ea70760ab60",
     "locked": false,
     "schema_version": 3,
     "solution": true,
     "task": false
    }
   },
   "outputs": [],
   "source": [
    "# YOUR CODE HERE"
   ]
  },
  {
   "cell_type": "markdown",
   "id": "987b8713",
   "metadata": {},
   "source": [
    "## <a name=\"indexing\">Basic Indexing</a>\n",
    "Indexing is the process of accessing certain element/s in an iterable object. Indexing an element or elements in `ndarray` is similar to how it is achieved for native `Python` `list`. Below shows the examples:"
   ]
  },
  {
   "cell_type": "code",
   "execution_count": null,
   "id": "581b7842",
   "metadata": {
    "deletable": false,
    "nbgrader": {
     "cell_type": "code",
     "checksum": "235250ba179f6418593ea708b6881411",
     "grade": false,
     "grade_id": "cell-31eaccba610a0579",
     "locked": false,
     "schema_version": 3,
     "solution": true,
     "task": false
    }
   },
   "outputs": [],
   "source": [
    "# YOUR CODE HERE"
   ]
  },
  {
   "cell_type": "markdown",
   "id": "33a9ca43",
   "metadata": {},
   "source": [
    "A few things to observe here. First, as `Python` is a zero-indexed programming language, counting starts from `0`. What this means is that the first index is actually `[0]`. \n",
    "\n",
    "This then brings us to the second point, where a square bracket notation with integer inside can be used to index and access the particular element corresponding to the integer position in the bracket. Refers to the example below to understand how each element in the `ndarray` can be accessed through indexing the right position."
   ]
  },
  {
   "cell_type": "code",
   "execution_count": null,
   "id": "0fe7d1d2",
   "metadata": {
    "deletable": false,
    "nbgrader": {
     "cell_type": "code",
     "checksum": "3fc538272fa979b52240b03b4bfb0045",
     "grade": false,
     "grade_id": "cell-035793e5c869929f",
     "locked": false,
     "schema_version": 3,
     "solution": true,
     "task": false
    }
   },
   "outputs": [],
   "source": [
    "# create a ndarray with size 10\n",
    "# YOUR CODE HERE"
   ]
  },
  {
   "cell_type": "code",
   "execution_count": null,
   "id": "9648dc8b",
   "metadata": {
    "deletable": false,
    "nbgrader": {
     "cell_type": "code",
     "checksum": "54491b3bc74a13787c0be4dbb1f606ce",
     "grade": false,
     "grade_id": "cell-93dda5501fd37f7b",
     "locked": false,
     "schema_version": 3,
     "solution": true,
     "task": false
    }
   },
   "outputs": [],
   "source": [
    "# YOUR CODE HERE"
   ]
  },
  {
   "cell_type": "code",
   "execution_count": null,
   "id": "fda9ee78",
   "metadata": {
    "deletable": false,
    "nbgrader": {
     "cell_type": "code",
     "checksum": "e0f017b60a780041ac203d82a00a949b",
     "grade": false,
     "grade_id": "cell-16bd4698141fcd9a",
     "locked": false,
     "schema_version": 3,
     "solution": true,
     "task": false
    }
   },
   "outputs": [],
   "source": [
    "# create a for loop to print element at each index position using indexing\n",
    "# YOUR CODE HERE"
   ]
  },
  {
   "cell_type": "markdown",
   "id": "d701254d",
   "metadata": {},
   "source": [
    "What were demonstrated above is basic indexing on 1-dimensional `ndarray`. Indexing for n-dimensional `ndarray` works more or less the same. Let's try to index a 2-dimensional `ndarray`. For easy understanding, let's create a `ndarray` with values in the half-interval `[0, 6)` and of shape `(2, 3)`."
   ]
  },
  {
   "cell_type": "code",
   "execution_count": null,
   "id": "18de5d49",
   "metadata": {
    "deletable": false,
    "nbgrader": {
     "cell_type": "code",
     "checksum": "084e9eff959c916981ce486da8afffde",
     "grade": false,
     "grade_id": "cell-1b201f5c87013b01",
     "locked": false,
     "schema_version": 3,
     "solution": true,
     "task": false
    }
   },
   "outputs": [],
   "source": [
    "# YOUR CODE HERE"
   ]
  },
  {
   "cell_type": "code",
   "execution_count": null,
   "id": "37fa3f03",
   "metadata": {
    "deletable": false,
    "nbgrader": {
     "cell_type": "code",
     "checksum": "226ef08c057a4c11f26e8211f919c2b6",
     "grade": false,
     "grade_id": "cell-355b59e18f99bcb6",
     "locked": false,
     "schema_version": 3,
     "solution": true,
     "task": false
    }
   },
   "outputs": [],
   "source": [
    "# YOUR CODE HERE"
   ]
  },
  {
   "cell_type": "markdown",
   "id": "39ccbe49",
   "metadata": {},
   "source": [
    "Users have to know that the first value in the resultant tuple from `shape` attribute actually refers to the first axis (row) and second value in the tuple actually refers to the second axis (column). This is how axes in `numpy` are annotated. With that knowledge, we can start to index elements from `ndarray` of whatever dimension."
   ]
  },
  {
   "cell_type": "code",
   "execution_count": null,
   "id": "c156c6a3",
   "metadata": {
    "deletable": false,
    "nbgrader": {
     "cell_type": "code",
     "checksum": "b5ef66ca6d55b90dc24842f331b02a1a",
     "grade": false,
     "grade_id": "cell-1446019cbaa664a5",
     "locked": false,
     "schema_version": 3,
     "solution": true,
     "task": false
    }
   },
   "outputs": [],
   "source": [
    "# index element 4\n",
    "# second row, second column\n",
    "# YOUR CODE HERE"
   ]
  },
  {
   "cell_type": "code",
   "execution_count": null,
   "id": "7b102e00",
   "metadata": {
    "deletable": false,
    "nbgrader": {
     "cell_type": "code",
     "checksum": "6b924cdbcc9dc73ef8e4ead59295f503",
     "grade": false,
     "grade_id": "cell-eca6ed90db1fc4e7",
     "locked": false,
     "schema_version": 3,
     "solution": true,
     "task": false
    }
   },
   "outputs": [],
   "source": [
    "# index element 2\n",
    "# first row, third column\n",
    "# YOUR CODE HERE"
   ]
  },
  {
   "cell_type": "markdown",
   "id": "ca132247",
   "metadata": {},
   "source": [
    "Users can also place a tuple as the singular argument instead of multiple arguments."
   ]
  },
  {
   "cell_type": "code",
   "execution_count": null,
   "id": "9284d1f9",
   "metadata": {
    "deletable": false,
    "nbgrader": {
     "cell_type": "code",
     "checksum": "514ee809757438986e1323ce5ede9170",
     "grade": false,
     "grade_id": "cell-5199ae5b749c7557",
     "locked": false,
     "schema_version": 3,
     "solution": true,
     "task": false
    }
   },
   "outputs": [],
   "source": [
    "# YOUR CODE HERE"
   ]
  },
  {
   "cell_type": "markdown",
   "id": "0edaccf2",
   "metadata": {},
   "source": [
    "## <a name=\"slicing\">Basic Slicing</a>\n",
    "Slicing refers to the process of extracting a customized portion of the `ndarray`. It uses bracket notation and a colon to control the number of elements to be extracted. For example:"
   ]
  },
  {
   "cell_type": "code",
   "execution_count": null,
   "id": "b75f2f58",
   "metadata": {
    "deletable": false,
    "nbgrader": {
     "cell_type": "code",
     "checksum": "3448a66e65d33b44e0fa52d73cef0e95",
     "grade": false,
     "grade_id": "cell-28cb8264e5e08468",
     "locked": false,
     "schema_version": 3,
     "solution": true,
     "task": false
    }
   },
   "outputs": [],
   "source": [
    "# YOUR CODE HERE"
   ]
  },
  {
   "cell_type": "code",
   "execution_count": null,
   "id": "914cc5e4",
   "metadata": {
    "deletable": false,
    "nbgrader": {
     "cell_type": "code",
     "checksum": "14774e61627da70f306fd6d86b1f6aa7",
     "grade": false,
     "grade_id": "cell-830b25fdfb873e50",
     "locked": false,
     "schema_version": 3,
     "solution": true,
     "task": false
    }
   },
   "outputs": [],
   "source": [
    "# return a slice from beginning to end (entire ndarray)\n",
    "# YOUR CODE HERE"
   ]
  },
  {
   "cell_type": "code",
   "execution_count": null,
   "id": "39c24bdc",
   "metadata": {
    "deletable": false,
    "nbgrader": {
     "cell_type": "code",
     "checksum": "eaf3374706784142d93d98ca2457d581",
     "grade": false,
     "grade_id": "cell-e9a1cd30cabc39fa",
     "locked": false,
     "schema_version": 3,
     "solution": true,
     "task": false
    }
   },
   "outputs": [],
   "source": [
    "# return a slice from second element to last element \n",
    "# YOUR CODE HERE"
   ]
  },
  {
   "cell_type": "code",
   "execution_count": null,
   "id": "7756d5a6",
   "metadata": {
    "deletable": false,
    "nbgrader": {
     "cell_type": "code",
     "checksum": "55a6ecf0fbaad2df295ad7ae275f1c8d",
     "grade": false,
     "grade_id": "cell-1f1a92a24c625de1",
     "locked": false,
     "schema_version": 3,
     "solution": true,
     "task": false
    }
   },
   "outputs": [],
   "source": [
    "# return a slice from beginning to second last element \n",
    "# YOUR CODE HERE"
   ]
  },
  {
   "cell_type": "markdown",
   "id": "43db046e",
   "metadata": {},
   "source": [
    "Note that `-1` means reverse counting, where here it means that we want the first element counting from backwards (reverse). This is equivalent to below:"
   ]
  },
  {
   "cell_type": "code",
   "execution_count": null,
   "id": "8d19d575",
   "metadata": {
    "deletable": false,
    "nbgrader": {
     "cell_type": "code",
     "checksum": "f7658ed0a1b16cdb79830add96eae5e4",
     "grade": false,
     "grade_id": "cell-ec12aa805d8c037c",
     "locked": false,
     "schema_version": 3,
     "solution": true,
     "task": false
    }
   },
   "outputs": [],
   "source": [
    "# return a slice from beginning to second last element \n",
    "# YOUR CODE HERE"
   ]
  },
  {
   "cell_type": "code",
   "execution_count": null,
   "id": "8bcccd9f",
   "metadata": {
    "deletable": false,
    "nbgrader": {
     "cell_type": "code",
     "checksum": "610e02ed3d928405f00ef431cbe1ef92",
     "grade": false,
     "grade_id": "cell-c346befe091ca179",
     "locked": false,
     "schema_version": 3,
     "solution": true,
     "task": false
    }
   },
   "outputs": [],
   "source": [
    "# assert ndarray equality\n",
    "# YOUR CODE HERE"
   ]
  },
  {
   "cell_type": "markdown",
   "id": "8e70648d",
   "metadata": {},
   "source": [
    "One thing to note is that it is exclusive of the element indicated in the right part of colon. The left part of the colon in square bracket notation indicates which element does the slice starts from, and the right part indicates which element does the slice ends (exclusive of the element). \n",
    "\n",
    "Can you guess what will `arr_4[3:6]` returns?"
   ]
  },
  {
   "cell_type": "code",
   "execution_count": null,
   "id": "97c05802",
   "metadata": {
    "deletable": false,
    "nbgrader": {
     "cell_type": "code",
     "checksum": "802e9ac3200e09120f16e2f40e1a093f",
     "grade": false,
     "grade_id": "cell-a6a52f77f85c956f",
     "locked": false,
     "schema_version": 3,
     "solution": true,
     "task": false
    }
   },
   "outputs": [],
   "source": [
    "# YOUR CODE HERE"
   ]
  },
  {
   "cell_type": "markdown",
   "id": "cee5cff4",
   "metadata": {},
   "source": [
    "It is more or less the same when slicing on n-dimensional `ndarray`. We will use a new 2-dimensional `ndarray` to demonstrate this."
   ]
  },
  {
   "cell_type": "code",
   "execution_count": null,
   "id": "cbe881a3",
   "metadata": {
    "deletable": false,
    "nbgrader": {
     "cell_type": "code",
     "checksum": "c12616c4e86ed79683fe7af290ba5e29",
     "grade": false,
     "grade_id": "cell-31f79592c4e7b6c6",
     "locked": false,
     "schema_version": 3,
     "solution": true,
     "task": false
    }
   },
   "outputs": [],
   "source": [
    "# YOUR CODE HERE"
   ]
  },
  {
   "cell_type": "code",
   "execution_count": null,
   "id": "6595801e",
   "metadata": {
    "deletable": false,
    "nbgrader": {
     "cell_type": "code",
     "checksum": "6e0e092915f17869ab47f4b74d0a4cb9",
     "grade": false,
     "grade_id": "cell-65fe28040dc23d3d",
     "locked": false,
     "schema_version": 3,
     "solution": true,
     "task": false
    }
   },
   "outputs": [],
   "source": [
    "# return the entire ndarray\n",
    "# YOUR CODE HERE"
   ]
  },
  {
   "cell_type": "code",
   "execution_count": null,
   "id": "ed921908",
   "metadata": {
    "deletable": false,
    "nbgrader": {
     "cell_type": "code",
     "checksum": "b69c47603630b522bf63018b25550851",
     "grade": false,
     "grade_id": "cell-9ee10e51d9f7e501",
     "locked": false,
     "schema_version": 3,
     "solution": true,
     "task": false
    }
   },
   "outputs": [],
   "source": [
    "# return a slice containing all the rows and first column\n",
    "# YOUR CODE HERE"
   ]
  },
  {
   "cell_type": "code",
   "execution_count": null,
   "id": "5c3c3201",
   "metadata": {
    "deletable": false,
    "nbgrader": {
     "cell_type": "code",
     "checksum": "83a502b2abc7b99152fdf4ce4fc0f45f",
     "grade": false,
     "grade_id": "cell-f4cbb1a6f3f33185",
     "locked": false,
     "schema_version": 3,
     "solution": true,
     "task": false
    }
   },
   "outputs": [],
   "source": [
    "# return a slice containing only the first row and all the columns\n",
    "# YOUR CODE HERE"
   ]
  },
  {
   "cell_type": "markdown",
   "id": "47e9f6f8",
   "metadata": {},
   "source": [
    "When dealing with n-dimesional `ndarray`, we use comma to separate which axis that we are referring to when we are slicing. Recall that for a 2-dimension `ndarray`, the first axis refers to the row and the second axis refers to the column. \n",
    "\n",
    "Can you guess what will `arr_5[1:2,3:4]` return?"
   ]
  },
  {
   "cell_type": "code",
   "execution_count": null,
   "id": "a7b8ce50",
   "metadata": {
    "deletable": false,
    "nbgrader": {
     "cell_type": "code",
     "checksum": "08835734f146e28a7dcba7dfe738e0c7",
     "grade": false,
     "grade_id": "cell-9b6c8006966ade4e",
     "locked": false,
     "schema_version": 3,
     "solution": true,
     "task": false
    }
   },
   "outputs": [],
   "source": [
    "# YOUR CODE HERE"
   ]
  },
  {
   "cell_type": "markdown",
   "id": "a24762a2",
   "metadata": {},
   "source": [
    "## <a name=\"view\">View and Copy</a>\n",
    "It is time to talk about the difference between `view` and `copy`. `ndarray` slices returns views on the original `ndarray`, which means that the data is not a copy of the original `ndarray`. Any modifications made on the view will affect the source `ndarray`. We will illustrate that point."
   ]
  },
  {
   "cell_type": "code",
   "execution_count": null,
   "id": "1ee83fdb",
   "metadata": {
    "deletable": false,
    "nbgrader": {
     "cell_type": "code",
     "checksum": "01a9169f5cfc9f5936ef77a3c4651528",
     "grade": false,
     "grade_id": "cell-ad7e6b717768031b",
     "locked": false,
     "schema_version": 3,
     "solution": true,
     "task": false
    }
   },
   "outputs": [],
   "source": [
    "# create a new ndarray named arr_ori\n",
    "# YOUR CODE HERE"
   ]
  },
  {
   "cell_type": "code",
   "execution_count": null,
   "id": "112fb39a",
   "metadata": {
    "deletable": false,
    "nbgrader": {
     "cell_type": "code",
     "checksum": "613c866db2eda9aa87798e6def53d79e",
     "grade": false,
     "grade_id": "cell-c062fea6f46a57b8",
     "locked": false,
     "schema_version": 3,
     "solution": true,
     "task": false
    }
   },
   "outputs": [],
   "source": [
    "# slice arr_ori and return a view of it, storing it in variable arr_slice\n",
    "# YOUR CODE HERE"
   ]
  },
  {
   "cell_type": "code",
   "execution_count": null,
   "id": "3733d927",
   "metadata": {
    "deletable": false,
    "nbgrader": {
     "cell_type": "code",
     "checksum": "fc68b86732a680e29ad48916b2566997",
     "grade": false,
     "grade_id": "cell-cfdd44ebca61eab3",
     "locked": false,
     "schema_version": 3,
     "solution": true,
     "task": false
    }
   },
   "outputs": [],
   "source": [
    "# assigning value of 1000 to arr_slice ndarray\n",
    "# YOUR CODE HERE"
   ]
  },
  {
   "cell_type": "code",
   "execution_count": null,
   "id": "9d45b378",
   "metadata": {
    "deletable": false,
    "nbgrader": {
     "cell_type": "code",
     "checksum": "ad30c859d1e11001aed48201a5b8b4f1",
     "grade": false,
     "grade_id": "cell-21788f224a12bc10",
     "locked": false,
     "schema_version": 3,
     "solution": true,
     "task": false
    }
   },
   "outputs": [],
   "source": [
    "# display arr_slice ndarray\n",
    "# YOUR CODE HERE"
   ]
  },
  {
   "cell_type": "code",
   "execution_count": null,
   "id": "1bb75484",
   "metadata": {
    "deletable": false,
    "nbgrader": {
     "cell_type": "code",
     "checksum": "d839bc45fa8ab82f4b9634e3911e9895",
     "grade": false,
     "grade_id": "cell-08a593f6e7286a01",
     "locked": false,
     "schema_version": 3,
     "solution": true,
     "task": false
    }
   },
   "outputs": [],
   "source": [
    "# display arr_ori ndarray\n",
    "# YOUR CODE HERE"
   ]
  },
  {
   "cell_type": "markdown",
   "id": "54735575",
   "metadata": {},
   "source": [
    "We see that the elements in `arr_ori` has changed to `1000` even though no changes were made to it. This is because modifications when made to `arr_slice` are reflected on `arr_ori` since it is just a `view` of the original array.\n",
    "\n",
    "To avoid this complications, one can use the `copy` method, whereby a new `copy` is generated instead of `view` of the original `ndarray`. Demonstrations are as below:"
   ]
  },
  {
   "cell_type": "code",
   "execution_count": null,
   "id": "1d5d8878",
   "metadata": {
    "deletable": false,
    "nbgrader": {
     "cell_type": "code",
     "checksum": "e1aca2eca7855467008520cc0ccfb49e",
     "grade": false,
     "grade_id": "cell-fc59e7a8ce51d1fb",
     "locked": false,
     "schema_version": 3,
     "solution": true,
     "task": false
    }
   },
   "outputs": [],
   "source": [
    "# create a new ndarray named arr_ori\n",
    "# YOUR CODE HERE"
   ]
  },
  {
   "cell_type": "code",
   "execution_count": null,
   "id": "e9211e9a",
   "metadata": {
    "deletable": false,
    "nbgrader": {
     "cell_type": "code",
     "checksum": "91bdfce671f193ee30e92c0163642051",
     "grade": false,
     "grade_id": "cell-daa85f2939999ff3",
     "locked": false,
     "schema_version": 3,
     "solution": true,
     "task": false
    }
   },
   "outputs": [],
   "source": [
    "# slice arr_ori and return a copy of it, storing it in variable arr_slice\n",
    "# YOUR CODE HERE"
   ]
  },
  {
   "cell_type": "code",
   "execution_count": null,
   "id": "958d4590",
   "metadata": {
    "deletable": false,
    "nbgrader": {
     "cell_type": "code",
     "checksum": "174af7b49ff02ba36cfee0a70be5f4a3",
     "grade": false,
     "grade_id": "cell-3c1d5b36cae13713",
     "locked": false,
     "schema_version": 3,
     "solution": true,
     "task": false
    }
   },
   "outputs": [],
   "source": [
    "# assigning value of 1000 to arr_slice ndarray\n",
    "# YOUR CODE HERE"
   ]
  },
  {
   "cell_type": "code",
   "execution_count": null,
   "id": "4b812153",
   "metadata": {
    "deletable": false,
    "nbgrader": {
     "cell_type": "code",
     "checksum": "26016fa0855d0aba1ee9cebfc1eb0f70",
     "grade": false,
     "grade_id": "cell-cb854866ec32af4e",
     "locked": false,
     "schema_version": 3,
     "solution": true,
     "task": false
    }
   },
   "outputs": [],
   "source": [
    "# display arr_slice ndarray\n",
    "# YOUR CODE HERE"
   ]
  },
  {
   "cell_type": "code",
   "execution_count": null,
   "id": "636b7405",
   "metadata": {
    "deletable": false,
    "nbgrader": {
     "cell_type": "code",
     "checksum": "194e0310b781df6bcd1a36f15bbb518a",
     "grade": false,
     "grade_id": "cell-bcf5e557e4b21523",
     "locked": false,
     "schema_version": 3,
     "solution": true,
     "task": false
    }
   },
   "outputs": [],
   "source": [
    "# display arr_ori ndarray\n",
    "# YOUR CODE HERE"
   ]
  },
  {
   "cell_type": "markdown",
   "id": "2d487589",
   "metadata": {},
   "source": [
    "We see that the `arr_ori` is not affected by changes made to `arr_slice`."
   ]
  },
  {
   "cell_type": "markdown",
   "id": "cf390b05",
   "metadata": {},
   "source": [
    "##  <a name=\"summary\">Summary</a>\n",
    "To conclude, you should now be able to:\n",
    "1. Perform iteration over `ndarray`\n",
    "2. Perform basic indexing over `ndarray`\n",
    "3. Perform basic slicing over `ndarray`\n",
    "4. Explain the difference between `view` and `copy`<br><br>\n",
    "Congratulations, that concludes this lesson.    "
   ]
  },
  {
   "cell_type": "markdown",
   "id": "5c1e2a18",
   "metadata": {},
   "source": [
    "## <a name=\"reference\">Reference</a>\n",
    "* [Chapter 4. NumPy Basics: Arrays and Vectorized Computation](https://www.oreilly.com/library/view/python-for-data/9781449323592/ch04.html)\n",
    "* [NumPy Quickstart](https://numpy.org/doc/stable/user/quickstart.html)"
   ]
  }
 ],
 "metadata": {
  "kernelspec": {
   "display_name": "Python 3",
   "language": "python",
   "name": "python3"
  },
  "language_info": {
   "codemirror_mode": {
    "name": "ipython",
    "version": 3
   },
   "file_extension": ".py",
   "mimetype": "text/x-python",
   "name": "python",
   "nbconvert_exporter": "python",
   "pygments_lexer": "ipython3",
   "version": "3.7.10"
  }
 },
 "nbformat": 4,
 "nbformat_minor": 5
}
