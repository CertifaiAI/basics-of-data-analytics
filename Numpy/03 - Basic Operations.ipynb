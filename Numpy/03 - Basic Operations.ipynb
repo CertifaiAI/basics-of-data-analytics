{
 "cells": [
  {
   "cell_type": "markdown",
   "id": "embedded-microphone",
   "metadata": {
    "deletable": false,
    "editable": false
   },
   "source": [
    "![logo](../img/license_header_logo.png)\n",
    "> **Copyright &copy; 2021 CertifAI Sdn. Bhd.**<br>\n",
    " <br>\n",
    "This program and the accompanying materials are made available under the\n",
    "terms of the [Apache License, Version 2.0](https://www.apache.org/licenses/LICENSE-2.0). <br>\n",
    "Unless required by applicable law or agreed to in writing, software\n",
    "distributed under the License is distributed on an \"AS IS\" BASIS, WITHOUT\n",
    "WARRANTIES OR CONDITIONS OF ANY KIND, either express or implied. See the\n",
    "License for the specific language governing permissions and limitations\n",
    "under the License. <br>\n",
    "<br>**SPDX-License-Identifier: Apache-2.0**"
   ]
  },
  {
   "cell_type": "markdown",
   "id": "romance-momentum",
   "metadata": {},
   "source": [
    "# 03 - Basic Arithmetics\n",
    "Authored by: [Kian Yang Lee](https://github.com/KianYang-Lee) - kianyang.lee@certifai.ai"
   ]
  },
  {
   "cell_type": "markdown",
   "id": "spare-glory",
   "metadata": {},
   "source": [
    "## <a name=\"description\">Notebook Description</a>\n",
    "\n",
    "Arithmetic is an important building block of numerical computational module. `numpy` supports a wide variety of mathematical operations, which some of the essential ones will be covered in this notebook.\n",
    "\n",
    "By the end of this tutorial, you will be able to:\n",
    "\n",
    "1. "
   ]
  },
  {
   "cell_type": "markdown",
   "id": "following-hearts",
   "metadata": {},
   "source": [
    "## Notebook Outline\n",
    "Below is the outline for this tutorial:\n",
    "1. [Notebook Description](#description)\n",
    "2. [Notebook Configurations](#configuration)\n",
    "3. [Method 1: Create a Range of Evenly Spaced Values](#arange)\n",
    "3. [Method 2: Create from `list` or `tuple`](#array)\n",
    "4. [Method 3: Zeros, Ones and Empty](#similar)\n",
    "5. [`ndarray` Data-type](#dtype)"
   ]
  },
  {
   "cell_type": "markdown",
   "id": "purple-ladder",
   "metadata": {},
   "source": [
    "## <a name=\"configuration\">Notebook Configurations</a>\n",
    "This notebook will works only on `numpy` module, a popular `python` library for numerical computation. It is common for people to import it using the alias `np`."
   ]
  },
  {
   "cell_type": "code",
   "execution_count": 2,
   "id": "thick-armenia",
   "metadata": {},
   "outputs": [],
   "source": [
    "import numpy as np"
   ]
  },
  {
   "cell_type": "markdown",
   "id": "owned-september",
   "metadata": {},
   "source": [
    "We can perform arithmetics on `numpy ndarray` using arithmetic operators. The arithmetic operation will be applied elementwise. The operation will return a new `ndarray` with the relevant result by default."
   ]
  },
  {
   "cell_type": "markdown",
   "id": "global-power",
   "metadata": {},
   "source": [
    "## <a name=\"arithmetics\">Basic Arithmetics</a>\n",
    "Let's initialize two arrays for the arithmetic operations."
   ]
  },
  {
   "cell_type": "code",
   "execution_count": 6,
   "id": "restricted-broadcasting",
   "metadata": {},
   "outputs": [
    {
     "name": "stdout",
     "output_type": "stream",
     "text": [
      "Array 1 is: \n",
      "\n",
      "[[ 10.  20.  30.  40.  50. 100.]]\n",
      "\n",
      "Array 2 is: \n",
      "\n",
      "[[1. 1. 1. 1. 1. 1.]]\n"
     ]
    }
   ],
   "source": [
    "arr_1 = np.array([[10, 20, 30, 40, 50, 100]], dtype=\"float\")\n",
    "arr_2 = np.ones((1, 6))\n",
    "\n",
    "print(\"Array 1 is: \\n\")\n",
    "print(arr_1)\n",
    "print(\"\\nArray 2 is: \\n\")\n",
    "print(arr_2)"
   ]
  },
  {
   "cell_type": "markdown",
   "id": "personalized-progressive",
   "metadata": {},
   "source": [
    "We can perform arithmetics on `numpy ndarray` using arithmetic operators. The arithmetic operation will be applied elementwise. The operation will return a new `ndarray` with the relevant result by default. You can choose either just specifying the operators or using the methods provided by `numpy` to perform the operations, both return the same result."
   ]
  },
  {
   "cell_type": "code",
   "execution_count": 18,
   "id": "regulation-canada",
   "metadata": {},
   "outputs": [
    {
     "name": "stdout",
     "output_type": "stream",
     "text": [
      "Both methods of performing operation return identical result: \n",
      "True\n",
      "The result is: \n",
      "[[ 9. 19. 29. 39. 49. 99.]]\n"
     ]
    }
   ],
   "source": [
    "# elementwise subtraction\n",
    "arr_1 - arr_2 # using subtract operator\n",
    "np.subtract(arr_1, arr_2) # using numpy method\n",
    "\n",
    "# assert for array equality\n",
    "print(\"Both methods of performing operation return identical result: \")\n",
    "print(np.array_equal(arr_1 - arr_2, np.subtract(arr_1, arr_2)))\n",
    "print(\"The result is: \")\n",
    "print(arr_1 - arr_2)"
   ]
  },
  {
   "cell_type": "code",
   "execution_count": 13,
   "id": "caroline-sensitivity",
   "metadata": {},
   "outputs": [
    {
     "data": {
      "text/plain": [
       "array([[ 9., 19., 29., 39., 49., 99.]])"
      ]
     },
     "execution_count": 13,
     "metadata": {},
     "output_type": "execute_result"
    }
   ],
   "source": [
    "np.subtract(arr_1, arr_2)"
   ]
  },
  {
   "cell_type": "code",
   "execution_count": null,
   "id": "unable-petroleum",
   "metadata": {},
   "outputs": [],
   "source": []
  },
  {
   "cell_type": "code",
   "execution_count": 8,
   "id": "bound-suspension",
   "metadata": {},
   "outputs": [
    {
     "data": {
      "text/plain": [
       "array([[ 11.,  21.,  31.,  41.,  51., 101.]])"
      ]
     },
     "execution_count": 8,
     "metadata": {},
     "output_type": "execute_result"
    }
   ],
   "source": [
    "# elementwise addition\n",
    "arr_1 + arr_2"
   ]
  },
  {
   "cell_type": "code",
   "execution_count": 9,
   "id": "insured-appreciation",
   "metadata": {},
   "outputs": [
    {
     "data": {
      "text/plain": [
       "array([[ 10.,  20.,  30.,  40.,  50., 100.]])"
      ]
     },
     "execution_count": 9,
     "metadata": {},
     "output_type": "execute_result"
    }
   ],
   "source": [
    "# elementwise multiplication\n",
    "arr_1 * arr_2"
   ]
  },
  {
   "cell_type": "code",
   "execution_count": 10,
   "id": "electoral-memorial",
   "metadata": {},
   "outputs": [
    {
     "data": {
      "text/plain": [
       "array([[0.1       , 0.05      , 0.03333333, 0.025     , 0.02      ,\n",
       "        0.01      ]])"
      ]
     },
     "execution_count": 10,
     "metadata": {},
     "output_type": "execute_result"
    }
   ],
   "source": [
    "# elementwise division\n",
    "arr_2 / arr_1"
   ]
  },
  {
   "cell_type": "code",
   "execution_count": null,
   "id": "desperate-belle",
   "metadata": {},
   "outputs": [],
   "source": []
  }
 ],
 "metadata": {
  "kernelspec": {
   "display_name": "Python 3",
   "language": "python",
   "name": "python3"
  },
  "language_info": {
   "codemirror_mode": {
    "name": "ipython",
    "version": 3
   },
   "file_extension": ".py",
   "mimetype": "text/x-python",
   "name": "python",
   "nbconvert_exporter": "python",
   "pygments_lexer": "ipython3",
   "version": "3.7.10"
  }
 },
 "nbformat": 4,
 "nbformat_minor": 5
}
