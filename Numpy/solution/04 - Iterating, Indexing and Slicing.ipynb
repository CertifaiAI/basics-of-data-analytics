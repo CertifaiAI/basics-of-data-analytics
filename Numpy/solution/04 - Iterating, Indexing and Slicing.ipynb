{
 "cells": [
  {
   "cell_type": "markdown",
   "id": "36336478",
   "metadata": {
    "deletable": false,
    "editable": false
   },
   "source": [
    "![logo](../../img/license_header_logo.png)\n",
    "> **Copyright &copy; 2021 CertifAI Sdn. Bhd.**<br>\n",
    " <br>\n",
    "This program is part of OSRFramework. You can redistribute it and/or modify\n",
    "<br>it under the terms of the GNU Affero General Public License as published by\n",
    "<br>the Free Software Foundation, either version 3 of the License, or\n",
    "<br>(at your option) any later version.\n",
    "<br>\n",
    "<br>This program is distributed in the hope that it will be useful,\n",
    "<br>but WITHOUT ANY WARRANTY; without even the implied warranty of\n",
    "<br>MERCHANTABILITY or FITNESS FOR A PARTICULAR PURPOSE.  See the\n",
    "<br>GNU Affero General Public License for more details.\n",
    "<br>\n",
    "<br>You should have received a copy of the GNU Affero General Public License\n",
    "<br>along with this program.  If not, see <http://www.gnu.org/licenses/>."
   ]
  },
  {
   "cell_type": "markdown",
   "id": "68f9db57",
   "metadata": {},
   "source": [
    "# 04 - Iterating, Indexing and Slicing\n",
    "Authored by: [Kian Yang Lee](https://github.com/KianYang-Lee) - kianyang.lee@certifai.ai"
   ]
  },
  {
   "cell_type": "markdown",
   "id": "2407459e",
   "metadata": {},
   "source": [
    "## <a name=\"description\">Notebook Description</a>\n",
    "\n",
    "It is important for users to be able to index, slice and iterate through `ndarray` to extract information that are relevant. This tutorial will discuss on some of the common ways to achieve that.\n",
    "\n",
    "By the end of this tutorial, you will be able to:\n",
    "\n",
    "1. Perform iteration over `ndarray`\n",
    "2. Perform basic indexing over `ndarray`\n",
    "3. Perform basic slicing over `ndarray`\n",
    "4. Explain the difference between `view` and `copy`"
   ]
  },
  {
   "cell_type": "markdown",
   "id": "c9260477",
   "metadata": {},
   "source": [
    "## Notebook Outline\n",
    "Below is the outline for this tutorial:\n",
    "1. [Notebook Description](#description)\n",
    "2. [Notebook Configurations](#configuration)\n",
    "3. [Iterating](#iterate)\n",
    "4. [Basic Indexing](#indexing)\n",
    "5. [Basic Slicing](#slicing)\n",
    "6. [View and Copy](#view)\n",
    "7. [Summary](#summary)\n",
    "8. [Reference](#reference)"
   ]
  },
  {
   "cell_type": "markdown",
   "id": "5d0501aa",
   "metadata": {},
   "source": [
    "## <a name=\"configuration\">Notebook Configurations</a>\n",
    "This notebook will works only on `numpy` module, a popular `python` library for numerical computation. It is common for people to import it using the alias `np`."
   ]
  },
  {
   "cell_type": "code",
   "execution_count": 1,
   "id": "00c6bcfc",
   "metadata": {
    "nbgrader": {
     "grade": false,
     "grade_id": "cell-504de81640e88778",
     "locked": false,
     "schema_version": 3,
     "solution": true,
     "task": false
    }
   },
   "outputs": [],
   "source": [
    "### BEGIN SOLUTION\n",
    "import numpy as np\n",
    "### END SOLUTION"
   ]
  },
  {
   "cell_type": "markdown",
   "id": "e36c638e",
   "metadata": {},
   "source": [
    "## <a name=\"iterate\">Iterating</a>\n",
    "`numpy ndarray` can be iterated over, much like a `list` object. One just need to write a `for` loop to do so."
   ]
  },
  {
   "cell_type": "code",
   "execution_count": 2,
   "id": "a0db60a6",
   "metadata": {
    "nbgrader": {
     "grade": false,
     "grade_id": "cell-dd8441e23b21bbd8",
     "locked": false,
     "schema_version": 3,
     "solution": true,
     "task": false
    }
   },
   "outputs": [
    {
     "data": {
      "text/plain": [
       "array([0, 1, 2, 3, 4])"
      ]
     },
     "execution_count": 2,
     "metadata": {},
     "output_type": "execute_result"
    }
   ],
   "source": [
    "### BEGIN SOLUTION\n",
    "arr = np.arange(5)\n",
    "arr\n",
    "### END SOLUTION"
   ]
  },
  {
   "cell_type": "code",
   "execution_count": 3,
   "id": "a103915f",
   "metadata": {
    "nbgrader": {
     "grade": false,
     "grade_id": "cell-8eed973d602bf99a",
     "locked": false,
     "schema_version": 3,
     "solution": true,
     "task": false
    }
   },
   "outputs": [
    {
     "name": "stdout",
     "output_type": "stream",
     "text": [
      "0\n",
      "1\n",
      "2\n",
      "3\n",
      "4\n"
     ]
    }
   ],
   "source": [
    "# for loop to iterate ndarray\n",
    "### BEGIN SOLUTION\n",
    "for element in arr:\n",
    "    print(element)\n",
    "### END SOLUTION"
   ]
  },
  {
   "cell_type": "markdown",
   "id": "eae17089",
   "metadata": {},
   "source": [
    "One can also perform mathematical operations while iterating, or whatever operation that is needed."
   ]
  },
  {
   "cell_type": "code",
   "execution_count": 4,
   "id": "41c1559d",
   "metadata": {
    "nbgrader": {
     "grade": false,
     "grade_id": "cell-37f152f1fae09998",
     "locked": false,
     "schema_version": 3,
     "solution": true,
     "task": false
    }
   },
   "outputs": [
    {
     "name": "stdout",
     "output_type": "stream",
     "text": [
      "100\n",
      "101\n",
      "102\n",
      "103\n",
      "104\n"
     ]
    }
   ],
   "source": [
    "### BEGIN SOLUTION\n",
    "for element in arr:\n",
    "    print(element + 100)\n",
    "### END SOLUTION"
   ]
  },
  {
   "cell_type": "markdown",
   "id": "3464ab93",
   "metadata": {},
   "source": [
    "it is quite different when one wishes to iterate over n-dimensional `ndarray`. The first axis will be iterated when one does so, as shown below."
   ]
  },
  {
   "cell_type": "code",
   "execution_count": 5,
   "id": "28f247ad",
   "metadata": {
    "nbgrader": {
     "grade": false,
     "grade_id": "cell-8d9b7f8e3c7cdb84",
     "locked": false,
     "schema_version": 3,
     "solution": true,
     "task": false
    }
   },
   "outputs": [
    {
     "data": {
      "text/plain": [
       "array([[ 0,  1,  2,  3,  4,  5,  6,  7,  8,  9],\n",
       "       [10, 11, 12, 13, 14, 15, 16, 17, 18, 19],\n",
       "       [20, 21, 22, 23, 24, 25, 26, 27, 28, 29],\n",
       "       [30, 31, 32, 33, 34, 35, 36, 37, 38, 39],\n",
       "       [40, 41, 42, 43, 44, 45, 46, 47, 48, 49]])"
      ]
     },
     "execution_count": 5,
     "metadata": {},
     "output_type": "execute_result"
    }
   ],
   "source": [
    "### BEGIN SOLUTION\n",
    "arr_2d = np.arange(50).reshape(5, 10)\n",
    "arr_2d\n",
    "### END SOLUTION"
   ]
  },
  {
   "cell_type": "code",
   "execution_count": 6,
   "id": "8b775254",
   "metadata": {
    "nbgrader": {
     "grade": false,
     "grade_id": "cell-e8e61ea70760ab60",
     "locked": false,
     "schema_version": 3,
     "solution": true,
     "task": false
    }
   },
   "outputs": [
    {
     "name": "stdout",
     "output_type": "stream",
     "text": [
      "[0 1 2 3 4 5 6 7 8 9]\n",
      "[10 11 12 13 14 15 16 17 18 19]\n",
      "[20 21 22 23 24 25 26 27 28 29]\n",
      "[30 31 32 33 34 35 36 37 38 39]\n",
      "[40 41 42 43 44 45 46 47 48 49]\n"
     ]
    }
   ],
   "source": [
    "### BEGIN SOLUTION\n",
    "for row in arr_2d:\n",
    "    print(row)\n",
    "### END SOLUTION"
   ]
  },
  {
   "cell_type": "markdown",
   "id": "987b8713",
   "metadata": {},
   "source": [
    "## <a name=\"indexing\">Basic Indexing</a>\n",
    "Indexing is the process of accessing certain element/s in an iterable object. Indexing an element or elements in `ndarray` is similar to how it is achieved for native `Python` `list`. Below shows the examples:"
   ]
  },
  {
   "cell_type": "code",
   "execution_count": 7,
   "id": "581b7842",
   "metadata": {
    "nbgrader": {
     "grade": false,
     "grade_id": "cell-31eaccba610a0579",
     "locked": false,
     "schema_version": 3,
     "solution": true,
     "task": false
    }
   },
   "outputs": [
    {
     "name": "stdout",
     "output_type": "stream",
     "text": [
      "The ndarray created is: \n",
      "\n",
      "\n",
      "[ 0  1  2  3  4  5  6  7  8  9 10]\n",
      "\n",
      "\n",
      " The first element in the ndarray is: \n",
      "0\n",
      "\n",
      "\n",
      " The fifth element in the ndarray is: \n",
      "4\n"
     ]
    }
   ],
   "source": [
    "### BEGIN SOLUTION\n",
    "arr_1 = np.arange(11)\n",
    "\n",
    "print(\"The ndarray created is: \\n\\n\")\n",
    "print(arr_1)\n",
    "print(\"\\n\\n The first element in the ndarray is: \")\n",
    "print(arr_1[0])\n",
    "print(\"\\n\\n The fifth element in the ndarray is: \")\n",
    "print(arr_1[4])\n",
    "### END SOLUTION"
   ]
  },
  {
   "cell_type": "markdown",
   "id": "33a9ca43",
   "metadata": {},
   "source": [
    "A few things to observe here. First, as `Python` is a zero-indexed programming language, counting starts from `0`. What this means is that the first index is actually `[0]`. \n",
    "\n",
    "This then brings us to the second point, where a square bracket notation with integer inside can be used to index and access the particular element corresponding to the integer position in the bracket. Refers to the example below to understand how each element in the `ndarray` can be accessed through indexing the right position."
   ]
  },
  {
   "cell_type": "code",
   "execution_count": 8,
   "id": "0fe7d1d2",
   "metadata": {
    "nbgrader": {
     "grade": false,
     "grade_id": "cell-035793e5c869929f",
     "locked": false,
     "schema_version": 3,
     "solution": true,
     "task": false
    }
   },
   "outputs": [
    {
     "data": {
      "text/plain": [
       "array([ 0,  2,  4,  6,  8, 10, 12, 14, 16, 18])"
      ]
     },
     "execution_count": 8,
     "metadata": {},
     "output_type": "execute_result"
    }
   ],
   "source": [
    "# create a ndarray with size 10\n",
    "### BEGIN SOLUTION\n",
    "arr_2 = np.arange(start=0, stop=20, step=2)\n",
    "arr_2\n",
    "### END SOLUTION"
   ]
  },
  {
   "cell_type": "code",
   "execution_count": 9,
   "id": "9648dc8b",
   "metadata": {
    "nbgrader": {
     "grade": false,
     "grade_id": "cell-93dda5501fd37f7b",
     "locked": false,
     "schema_version": 3,
     "solution": true,
     "task": false
    }
   },
   "outputs": [
    {
     "data": {
      "text/plain": [
       "4"
      ]
     },
     "execution_count": 9,
     "metadata": {},
     "output_type": "execute_result"
    }
   ],
   "source": [
    "### BEGIN SOLUTION\n",
    "arr_2[2]\n",
    "### END SOLUTION"
   ]
  },
  {
   "cell_type": "code",
   "execution_count": 10,
   "id": "fda9ee78",
   "metadata": {
    "nbgrader": {
     "grade": false,
     "grade_id": "cell-16bd4698141fcd9a",
     "locked": false,
     "schema_version": 3,
     "solution": true,
     "task": false
    }
   },
   "outputs": [
    {
     "name": "stdout",
     "output_type": "stream",
     "text": [
      "The ndarray that is to be indexed is: \n",
      "[ 0  2  4  6  8 10 12 14 16 18]\n",
      "\n",
      "\n",
      "\n",
      "The index position now is: 0\n",
      "The corresponding element to the index position is: 0\n",
      "The index position now is: 1\n",
      "The corresponding element to the index position is: 2\n",
      "The index position now is: 2\n",
      "The corresponding element to the index position is: 4\n",
      "The index position now is: 3\n",
      "The corresponding element to the index position is: 6\n",
      "The index position now is: 4\n",
      "The corresponding element to the index position is: 8\n",
      "The index position now is: 5\n",
      "The corresponding element to the index position is: 10\n",
      "The index position now is: 6\n",
      "The corresponding element to the index position is: 12\n",
      "The index position now is: 7\n",
      "The corresponding element to the index position is: 14\n",
      "The index position now is: 8\n",
      "The corresponding element to the index position is: 16\n",
      "The index position now is: 9\n",
      "The corresponding element to the index position is: 18\n"
     ]
    }
   ],
   "source": [
    "# create a for loop to print element at each index position using indexing\n",
    "### BEGIN SOLUTION\n",
    "print(\"The ndarray that is to be indexed is: \")\n",
    "print(arr_2)\n",
    "print(\"\\n\\n\")\n",
    "for index in range(10):\n",
    "    print(f\"The index position now is: {index}\")\n",
    "    print(f\"The corresponding element to the index position is: {arr_2[index]}\")\n",
    "### END SOLUTION"
   ]
  },
  {
   "cell_type": "markdown",
   "id": "d701254d",
   "metadata": {},
   "source": [
    "What were demonstrated above is basic indexing on 1-dimensional `ndarray`. Indexing for n-dimensional `ndarray` works more or less the same. Let's try to index a 2-dimensional `ndarray`. For easy understanding, let's create a `ndarray` with values in the half-interval `[0, 6)` and of shape `(2, 3)`."
   ]
  },
  {
   "cell_type": "code",
   "execution_count": 11,
   "id": "18de5d49",
   "metadata": {
    "nbgrader": {
     "grade": false,
     "grade_id": "cell-1b201f5c87013b01",
     "locked": false,
     "schema_version": 3,
     "solution": true,
     "task": false
    }
   },
   "outputs": [
    {
     "data": {
      "text/plain": [
       "array([[0, 1, 2],\n",
       "       [3, 4, 5]])"
      ]
     },
     "execution_count": 11,
     "metadata": {},
     "output_type": "execute_result"
    }
   ],
   "source": [
    "### BEGIN SOLUTION\n",
    "arr_3 = np.arange(6).reshape(2,3)\n",
    "arr_3\n",
    "### END SOLUTION"
   ]
  },
  {
   "cell_type": "code",
   "execution_count": 12,
   "id": "37fa3f03",
   "metadata": {
    "nbgrader": {
     "grade": false,
     "grade_id": "cell-355b59e18f99bcb6",
     "locked": false,
     "schema_version": 3,
     "solution": true,
     "task": false
    }
   },
   "outputs": [
    {
     "data": {
      "text/plain": [
       "(2, 3)"
      ]
     },
     "execution_count": 12,
     "metadata": {},
     "output_type": "execute_result"
    }
   ],
   "source": [
    "### BEGIN SOLUTION\n",
    "arr_3.shape\n",
    "### END SOLUTION"
   ]
  },
  {
   "cell_type": "markdown",
   "id": "39ccbe49",
   "metadata": {},
   "source": [
    "Users have to know that the first value in the resultant tuple from `shape` attribute actually refers to the first axis (row) and second value in the tuple actually refers to the second axis (column). This is how axes in `numpy` are annotated. With that knowledge, we can start to index elements from `ndarray` of whatever dimension."
   ]
  },
  {
   "cell_type": "code",
   "execution_count": 13,
   "id": "c156c6a3",
   "metadata": {
    "nbgrader": {
     "grade": false,
     "grade_id": "cell-1446019cbaa664a5",
     "locked": false,
     "schema_version": 3,
     "solution": true,
     "task": false
    }
   },
   "outputs": [
    {
     "data": {
      "text/plain": [
       "4"
      ]
     },
     "execution_count": 13,
     "metadata": {},
     "output_type": "execute_result"
    }
   ],
   "source": [
    "# index element 4\n",
    "# second row, second column\n",
    "### BEGIN SOLUTION\n",
    "arr_3[1, 1] \n",
    "### END SOLUTION"
   ]
  },
  {
   "cell_type": "code",
   "execution_count": 14,
   "id": "7b102e00",
   "metadata": {
    "nbgrader": {
     "grade": false,
     "grade_id": "cell-eca6ed90db1fc4e7",
     "locked": false,
     "schema_version": 3,
     "solution": true,
     "task": false
    }
   },
   "outputs": [
    {
     "data": {
      "text/plain": [
       "2"
      ]
     },
     "execution_count": 14,
     "metadata": {},
     "output_type": "execute_result"
    }
   ],
   "source": [
    "# index element 2\n",
    "# first row, third column\n",
    "### BEGIN SOLUTION\n",
    "arr_3[0, 2] \n",
    "### END SOLUTION"
   ]
  },
  {
   "cell_type": "markdown",
   "id": "ca132247",
   "metadata": {},
   "source": [
    "Users can also place a tuple as the singular argument instead of multiple arguments."
   ]
  },
  {
   "cell_type": "code",
   "execution_count": 15,
   "id": "9284d1f9",
   "metadata": {
    "nbgrader": {
     "grade": false,
     "grade_id": "cell-5199ae5b749c7557",
     "locked": false,
     "schema_version": 3,
     "solution": true,
     "task": false
    }
   },
   "outputs": [
    {
     "data": {
      "text/plain": [
       "2"
      ]
     },
     "execution_count": 15,
     "metadata": {},
     "output_type": "execute_result"
    }
   ],
   "source": [
    "### BEGIN SOLUTION\n",
    "arr_3[(0, 2)]\n",
    "### END SOLUTION"
   ]
  },
  {
   "cell_type": "markdown",
   "id": "0edaccf2",
   "metadata": {},
   "source": [
    "## <a name=\"slicing\">Basic Slicing</a>\n",
    "Slicing refers to the process of extracting a customized portion of the `ndarray`. It uses bracket notation and a colon to control the number of elements to be extracted. For example:"
   ]
  },
  {
   "cell_type": "code",
   "execution_count": 16,
   "id": "b75f2f58",
   "metadata": {
    "nbgrader": {
     "grade": false,
     "grade_id": "cell-28cb8264e5e08468",
     "locked": false,
     "schema_version": 3,
     "solution": true,
     "task": false
    }
   },
   "outputs": [
    {
     "data": {
      "text/plain": [
       "array([ 0,  1,  2,  3,  4,  5,  6,  7,  8,  9, 10])"
      ]
     },
     "execution_count": 16,
     "metadata": {},
     "output_type": "execute_result"
    }
   ],
   "source": [
    "### BEGIN SOLUTION\n",
    "arr_4 = np.arange(11)\n",
    "arr_4\n",
    "### END SOLUTION"
   ]
  },
  {
   "cell_type": "code",
   "execution_count": 17,
   "id": "914cc5e4",
   "metadata": {
    "nbgrader": {
     "grade": false,
     "grade_id": "cell-830b25fdfb873e50",
     "locked": false,
     "schema_version": 3,
     "solution": true,
     "task": false
    }
   },
   "outputs": [
    {
     "data": {
      "text/plain": [
       "array([ 0,  1,  2,  3,  4,  5,  6,  7,  8,  9, 10])"
      ]
     },
     "execution_count": 17,
     "metadata": {},
     "output_type": "execute_result"
    }
   ],
   "source": [
    "# return a slice from beginning to end (entire ndarray)\n",
    "### BEGIN SOLUTION\n",
    "arr_4[:] \n",
    "### END SOLUTION"
   ]
  },
  {
   "cell_type": "code",
   "execution_count": 18,
   "id": "39c24bdc",
   "metadata": {
    "nbgrader": {
     "grade": false,
     "grade_id": "cell-e9a1cd30cabc39fa",
     "locked": false,
     "schema_version": 3,
     "solution": true,
     "task": false
    }
   },
   "outputs": [
    {
     "data": {
      "text/plain": [
       "array([ 1,  2,  3,  4,  5,  6,  7,  8,  9, 10])"
      ]
     },
     "execution_count": 18,
     "metadata": {},
     "output_type": "execute_result"
    }
   ],
   "source": [
    "# return a slice from second element to last element \n",
    "### BEGIN SOLUTION\n",
    "arr_4[1:] \n",
    "### END SOLUTION"
   ]
  },
  {
   "cell_type": "code",
   "execution_count": 19,
   "id": "7756d5a6",
   "metadata": {
    "nbgrader": {
     "grade": false,
     "grade_id": "cell-1f1a92a24c625de1",
     "locked": false,
     "schema_version": 3,
     "solution": true,
     "task": false
    }
   },
   "outputs": [
    {
     "data": {
      "text/plain": [
       "array([0, 1, 2, 3, 4, 5, 6, 7, 8, 9])"
      ]
     },
     "execution_count": 19,
     "metadata": {},
     "output_type": "execute_result"
    }
   ],
   "source": [
    "# return a slice from beginning to second last element \n",
    "### BEGIN SOLUTION\n",
    "arr_4[:-1] \n",
    "### END SOLUTION"
   ]
  },
  {
   "cell_type": "markdown",
   "id": "43db046e",
   "metadata": {},
   "source": [
    "Note that `-1` means reverse counting, where here it means that we want the first element counting from backwards (reverse). This is equivalent to below:"
   ]
  },
  {
   "cell_type": "code",
   "execution_count": 20,
   "id": "8d19d575",
   "metadata": {
    "nbgrader": {
     "grade": false,
     "grade_id": "cell-ec12aa805d8c037c",
     "locked": false,
     "schema_version": 3,
     "solution": true,
     "task": false
    }
   },
   "outputs": [
    {
     "data": {
      "text/plain": [
       "array([0, 1, 2, 3, 4, 5, 6, 7, 8, 9])"
      ]
     },
     "execution_count": 20,
     "metadata": {},
     "output_type": "execute_result"
    }
   ],
   "source": [
    "# return a slice from beginning to second last element \n",
    "### BEGIN SOLUTION\n",
    "arr_4[:10] \n",
    "### END SOLUTION"
   ]
  },
  {
   "cell_type": "code",
   "execution_count": 21,
   "id": "8bcccd9f",
   "metadata": {
    "nbgrader": {
     "grade": false,
     "grade_id": "cell-c346befe091ca179",
     "locked": false,
     "schema_version": 3,
     "solution": true,
     "task": false
    }
   },
   "outputs": [
    {
     "data": {
      "text/plain": [
       "True"
      ]
     },
     "execution_count": 21,
     "metadata": {},
     "output_type": "execute_result"
    }
   ],
   "source": [
    "# assert ndarray equality\n",
    "### BEGIN SOLUTION\n",
    "np.array_equal(arr_4[:-1], arr_4[:10]) \n",
    "### END SOLUTION"
   ]
  },
  {
   "cell_type": "markdown",
   "id": "8e70648d",
   "metadata": {},
   "source": [
    "One thing to note is that it is exclusive of the element indicated in the right part of colon. The left part of the colon in square bracket notation indicates which element does the slice starts from, and the right part indicates which element does the slice ends (exclusive of the element). \n",
    "\n",
    "Can you guess what will `arr_4[3:6]` returns?"
   ]
  },
  {
   "cell_type": "code",
   "execution_count": 22,
   "id": "97c05802",
   "metadata": {
    "nbgrader": {
     "grade": false,
     "grade_id": "cell-a6a52f77f85c956f",
     "locked": false,
     "schema_version": 3,
     "solution": true,
     "task": false
    }
   },
   "outputs": [
    {
     "data": {
      "text/plain": [
       "array([3, 4, 5])"
      ]
     },
     "execution_count": 22,
     "metadata": {},
     "output_type": "execute_result"
    }
   ],
   "source": [
    "### BEGIN SOLUTION\n",
    "arr_4[3:6]\n",
    "### END SOLUTION"
   ]
  },
  {
   "cell_type": "markdown",
   "id": "cee5cff4",
   "metadata": {},
   "source": [
    "It is more or less the same when slicing on n-dimensional `ndarray`. We will use a new 2-dimensional `ndarray` to demonstrate this."
   ]
  },
  {
   "cell_type": "code",
   "execution_count": 23,
   "id": "cbe881a3",
   "metadata": {
    "nbgrader": {
     "grade": false,
     "grade_id": "cell-31f79592c4e7b6c6",
     "locked": false,
     "schema_version": 3,
     "solution": true,
     "task": false
    }
   },
   "outputs": [],
   "source": [
    "### BEGIN SOLUTION\n",
    "arr_5 = np.arange(20).reshape(4, 5)\n",
    "### END SOLUTION"
   ]
  },
  {
   "cell_type": "code",
   "execution_count": 24,
   "id": "6595801e",
   "metadata": {
    "nbgrader": {
     "grade": false,
     "grade_id": "cell-65fe28040dc23d3d",
     "locked": false,
     "schema_version": 3,
     "solution": true,
     "task": false
    }
   },
   "outputs": [
    {
     "data": {
      "text/plain": [
       "array([[ 0,  1,  2,  3,  4],\n",
       "       [ 5,  6,  7,  8,  9],\n",
       "       [10, 11, 12, 13, 14],\n",
       "       [15, 16, 17, 18, 19]])"
      ]
     },
     "execution_count": 24,
     "metadata": {},
     "output_type": "execute_result"
    }
   ],
   "source": [
    "# return the entire ndarray\n",
    "### BEGIN SOLUTION\n",
    "arr_5[:] \n",
    "### END SOLUTION"
   ]
  },
  {
   "cell_type": "code",
   "execution_count": 25,
   "id": "ed921908",
   "metadata": {
    "nbgrader": {
     "grade": false,
     "grade_id": "cell-9ee10e51d9f7e501",
     "locked": false,
     "schema_version": 3,
     "solution": true,
     "task": false
    }
   },
   "outputs": [
    {
     "data": {
      "text/plain": [
       "array([ 0,  5, 10, 15])"
      ]
     },
     "execution_count": 25,
     "metadata": {},
     "output_type": "execute_result"
    }
   ],
   "source": [
    "# return a slice containing all the rows and first column\n",
    "### BEGIN SOLUTION\n",
    "arr_5[:, 0] \n",
    "### END SOLUTION"
   ]
  },
  {
   "cell_type": "code",
   "execution_count": 26,
   "id": "5c3c3201",
   "metadata": {
    "nbgrader": {
     "grade": false,
     "grade_id": "cell-f4cbb1a6f3f33185",
     "locked": false,
     "schema_version": 3,
     "solution": true,
     "task": false
    }
   },
   "outputs": [
    {
     "data": {
      "text/plain": [
       "array([0, 1, 2, 3, 4])"
      ]
     },
     "execution_count": 26,
     "metadata": {},
     "output_type": "execute_result"
    }
   ],
   "source": [
    "# return a slice containing only the first row and all the columns\n",
    "### BEGIN SOLUTION\n",
    "arr_5[0, :] \n",
    "### END SOLUTION"
   ]
  },
  {
   "cell_type": "markdown",
   "id": "47e9f6f8",
   "metadata": {},
   "source": [
    "When dealing with n-dimesional `ndarray`, we use comma to separate which axis that we are referring to when we are slicing. Recall that for a 2-dimension `ndarray`, the first axis refers to the row and the second axis refers to the column. \n",
    "\n",
    "Can you guess what will `arr_5[1:2,3:4]` return?"
   ]
  },
  {
   "cell_type": "code",
   "execution_count": 27,
   "id": "a7b8ce50",
   "metadata": {
    "nbgrader": {
     "grade": false,
     "grade_id": "cell-9b6c8006966ade4e",
     "locked": false,
     "schema_version": 3,
     "solution": true,
     "task": false
    }
   },
   "outputs": [
    {
     "data": {
      "text/plain": [
       "array([[8]])"
      ]
     },
     "execution_count": 27,
     "metadata": {},
     "output_type": "execute_result"
    }
   ],
   "source": [
    "### BEGIN SOLUTION\n",
    "arr_5[1:2, 3:4]\n",
    "### END SOLUTION"
   ]
  },
  {
   "cell_type": "markdown",
   "id": "a24762a2",
   "metadata": {},
   "source": [
    "## <a name=\"view\">View and Copy</a>\n",
    "It is time to talk about the difference between `view` and `copy`. `ndarray` slices returns views on the original `ndarray`, which means that the data is not a copy of the original `ndarray`. Any modifications made on the view will affect the source `ndarray`. We will illustrate that point."
   ]
  },
  {
   "cell_type": "code",
   "execution_count": 28,
   "id": "1ee83fdb",
   "metadata": {
    "nbgrader": {
     "grade": false,
     "grade_id": "cell-ad7e6b717768031b",
     "locked": false,
     "schema_version": 3,
     "solution": true,
     "task": false
    }
   },
   "outputs": [
    {
     "data": {
      "text/plain": [
       "array([0, 1, 2, 3, 4, 5, 6, 7])"
      ]
     },
     "execution_count": 28,
     "metadata": {},
     "output_type": "execute_result"
    }
   ],
   "source": [
    "# create a new ndarray named arr_ori\n",
    "### BEGIN SOLUTION\n",
    "arr_ori = np.arange(8)\n",
    "arr_ori\n",
    "### END SOLUTION"
   ]
  },
  {
   "cell_type": "code",
   "execution_count": 29,
   "id": "112fb39a",
   "metadata": {
    "nbgrader": {
     "grade": false,
     "grade_id": "cell-c062fea6f46a57b8",
     "locked": false,
     "schema_version": 3,
     "solution": true,
     "task": false
    }
   },
   "outputs": [
    {
     "data": {
      "text/plain": [
       "array([2, 3, 4, 5, 6, 7])"
      ]
     },
     "execution_count": 29,
     "metadata": {},
     "output_type": "execute_result"
    }
   ],
   "source": [
    "# slice arr_ori and return a view of it, storing it in variable arr_slice\n",
    "### BEGIN SOLUTION\n",
    "arr_slice = arr_ori[2:]\n",
    "arr_slice\n",
    "### END SOLUTION"
   ]
  },
  {
   "cell_type": "code",
   "execution_count": 30,
   "id": "3733d927",
   "metadata": {
    "nbgrader": {
     "grade": false,
     "grade_id": "cell-cfdd44ebca61eab3",
     "locked": false,
     "schema_version": 3,
     "solution": true,
     "task": false
    }
   },
   "outputs": [],
   "source": [
    "# assigning value of 1000 to arr_slice ndarray\n",
    "### BEGIN SOLUTION\n",
    "arr_slice[:] = 1000\n",
    "### END SOLUTION"
   ]
  },
  {
   "cell_type": "code",
   "execution_count": 31,
   "id": "9d45b378",
   "metadata": {
    "nbgrader": {
     "grade": false,
     "grade_id": "cell-21788f224a12bc10",
     "locked": false,
     "schema_version": 3,
     "solution": true,
     "task": false
    }
   },
   "outputs": [
    {
     "data": {
      "text/plain": [
       "array([1000, 1000, 1000, 1000, 1000, 1000])"
      ]
     },
     "execution_count": 31,
     "metadata": {},
     "output_type": "execute_result"
    }
   ],
   "source": [
    "# display arr_slice ndarray\n",
    "### BEGIN SOLUTION\n",
    "arr_slice\n",
    "### END SOLUTION"
   ]
  },
  {
   "cell_type": "code",
   "execution_count": 32,
   "id": "1bb75484",
   "metadata": {
    "nbgrader": {
     "grade": false,
     "grade_id": "cell-08a593f6e7286a01",
     "locked": false,
     "schema_version": 3,
     "solution": true,
     "task": false
    }
   },
   "outputs": [
    {
     "data": {
      "text/plain": [
       "array([   0,    1, 1000, 1000, 1000, 1000, 1000, 1000])"
      ]
     },
     "execution_count": 32,
     "metadata": {},
     "output_type": "execute_result"
    }
   ],
   "source": [
    "# display arr_ori ndarray\n",
    "### BEGIN SOLUTION\n",
    "arr_ori\n",
    "### END SOLUTION"
   ]
  },
  {
   "cell_type": "markdown",
   "id": "54735575",
   "metadata": {},
   "source": [
    "We see that the elements in `arr_ori` has changed to `1000` even though no changes were made to it. This is because modifications when made to `arr_slice` are reflected on `arr_ori` since it is just a `view` of the original array.\n",
    "\n",
    "To avoid this complications, one can use the `copy` method, whereby a new `copy` is generated instead of `view` of the original `ndarray`. Demonstrations are as below:"
   ]
  },
  {
   "cell_type": "code",
   "execution_count": 33,
   "id": "1d5d8878",
   "metadata": {
    "nbgrader": {
     "grade": false,
     "grade_id": "cell-fc59e7a8ce51d1fb",
     "locked": false,
     "schema_version": 3,
     "solution": true,
     "task": false
    }
   },
   "outputs": [
    {
     "data": {
      "text/plain": [
       "array([0, 1, 2, 3, 4, 5, 6, 7])"
      ]
     },
     "execution_count": 33,
     "metadata": {},
     "output_type": "execute_result"
    }
   ],
   "source": [
    "# create a new ndarray named arr_ori\n",
    "### BEGIN SOLUTION\n",
    "arr_ori = np.arange(8)\n",
    "arr_ori\n",
    "### END SOLUTION"
   ]
  },
  {
   "cell_type": "code",
   "execution_count": 34,
   "id": "e9211e9a",
   "metadata": {
    "nbgrader": {
     "grade": false,
     "grade_id": "cell-daa85f2939999ff3",
     "locked": false,
     "schema_version": 3,
     "solution": true,
     "task": false
    }
   },
   "outputs": [
    {
     "data": {
      "text/plain": [
       "array([2, 3, 4, 5, 6, 7])"
      ]
     },
     "execution_count": 34,
     "metadata": {},
     "output_type": "execute_result"
    }
   ],
   "source": [
    "# slice arr_ori and return a copy of it, storing it in variable arr_slice\n",
    "### BEGIN SOLUTION\n",
    "arr_slice = arr_ori[2:].copy()\n",
    "arr_slice\n",
    "### END SOLUTION"
   ]
  },
  {
   "cell_type": "code",
   "execution_count": 35,
   "id": "958d4590",
   "metadata": {
    "nbgrader": {
     "grade": false,
     "grade_id": "cell-3c1d5b36cae13713",
     "locked": false,
     "schema_version": 3,
     "solution": true,
     "task": false
    }
   },
   "outputs": [],
   "source": [
    "# assigning value of 1000 to arr_slice ndarray\n",
    "### BEGIN SOLUTION\n",
    "arr_slice[:] = 1000\n",
    "### END SOLUTION"
   ]
  },
  {
   "cell_type": "code",
   "execution_count": 36,
   "id": "4b812153",
   "metadata": {
    "nbgrader": {
     "grade": false,
     "grade_id": "cell-cb854866ec32af4e",
     "locked": false,
     "schema_version": 3,
     "solution": true,
     "task": false
    }
   },
   "outputs": [
    {
     "data": {
      "text/plain": [
       "array([1000, 1000, 1000, 1000, 1000, 1000])"
      ]
     },
     "execution_count": 36,
     "metadata": {},
     "output_type": "execute_result"
    }
   ],
   "source": [
    "# display arr_slice ndarray\n",
    "### BEGIN SOLUTION\n",
    "arr_slice\n",
    "### END SOLUTION"
   ]
  },
  {
   "cell_type": "code",
   "execution_count": 37,
   "id": "636b7405",
   "metadata": {
    "nbgrader": {
     "grade": false,
     "grade_id": "cell-bcf5e557e4b21523",
     "locked": false,
     "schema_version": 3,
     "solution": true,
     "task": false
    }
   },
   "outputs": [
    {
     "data": {
      "text/plain": [
       "array([0, 1, 2, 3, 4, 5, 6, 7])"
      ]
     },
     "execution_count": 37,
     "metadata": {},
     "output_type": "execute_result"
    }
   ],
   "source": [
    "# display arr_ori ndarray\n",
    "### BEGIN SOLUTION\n",
    "arr_ori\n",
    "### END SOLUTION"
   ]
  },
  {
   "cell_type": "markdown",
   "id": "2d487589",
   "metadata": {},
   "source": [
    "We see that the `arr_ori` is not affected by changes made to `arr_slice`."
   ]
  },
  {
   "cell_type": "markdown",
   "id": "cf390b05",
   "metadata": {},
   "source": [
    "##  <a name=\"summary\">Summary</a>\n",
    "To conclude, you should now be able to:\n",
    "1. Perform iteration over `ndarray`\n",
    "2. Perform basic indexing over `ndarray`\n",
    "3. Perform basic slicing over `ndarray`\n",
    "4. Explain the difference between `view` and `copy`<br><br>\n",
    "Congratulations, that concludes this lesson.    "
   ]
  },
  {
   "cell_type": "markdown",
   "id": "5c1e2a18",
   "metadata": {},
   "source": [
    "## <a name=\"reference\">Reference</a>\n",
    "* [Chapter 4. NumPy Basics: Arrays and Vectorized Computation](https://www.oreilly.com/library/view/python-for-data/9781449323592/ch04.html)\n",
    "* [NumPy Quickstart](https://numpy.org/doc/stable/user/quickstart.html)"
   ]
  }
 ],
 "metadata": {
  "celltoolbar": "Create Assignment",
  "kernelspec": {
   "display_name": "Python 3",
   "language": "python",
   "name": "python3"
  },
  "language_info": {
   "codemirror_mode": {
    "name": "ipython",
    "version": 3
   },
   "file_extension": ".py",
   "mimetype": "text/x-python",
   "name": "python",
   "nbconvert_exporter": "python",
   "pygments_lexer": "ipython3",
   "version": "3.7.10"
  }
 },
 "nbformat": 4,
 "nbformat_minor": 5
}