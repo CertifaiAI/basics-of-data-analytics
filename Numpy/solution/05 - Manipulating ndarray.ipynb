{
 "cells": [
  {
   "cell_type": "markdown",
   "id": "676fa207",
   "metadata": {
    "deletable": false,
    "editable": false
   },
   "source": [
    "![logo](../../img/license_header_logo.png)\n",
    "> **Copyright &copy; 2021 CertifAI Sdn. Bhd.**<br>\n",
    " <br>\n",
    "This program and the accompanying materials are made available under the\n",
    "terms of the [Apache License, Version 2.0](https://www.apache.org/licenses/LICENSE-2.0). <br>\n",
    "Unless required by applicable law or agreed to in writing, software\n",
    "distributed under the License is distributed on an \"AS IS\" BASIS, WITHOUT\n",
    "WARRANTIES OR CONDITIONS OF ANY KIND, either express or implied. See the\n",
    "License for the specific language governing permissions and limitations\n",
    "under the License. <br>\n",
    "<br>**SPDX-License-Identifier: Apache-2.0**"
   ]
  },
  {
   "cell_type": "markdown",
   "id": "d4247ebd",
   "metadata": {},
   "source": [
    "# 05 - Manipulating ndarray \n",
    "Authored by: [Kian Yang Lee](https://github.com/KianYang-Lee) - kianyang.lee@certifai.ai"
   ]
  },
  {
   "cell_type": "markdown",
   "id": "eafa312d",
   "metadata": {},
   "source": [
    "## <a name=\"description\">Notebook Description</a>\n",
    "\n",
    "This notebook discusses on various methods in manipulating shape of `ndarray`.\n",
    "\n",
    "By the end of this tutorial, you will be able to:\n",
    "\n",
    "1. Modify shape of a `numpy ndarray`\n",
    "2. Apply `-1` as argument when performing shape manipulation\n",
    "3. Stack different `numpy ndarray`s together\n",
    "4. Split `numpy ndarray` into smaller chunks"
   ]
  },
  {
   "cell_type": "markdown",
   "id": "9496715e",
   "metadata": {},
   "source": [
    "## Notebook Outline\n",
    "Below is the outline for this tutorial:\n",
    "1. [Notebook Description](#description)\n",
    "2. [Notebook Configurations](#configuration)\n",
    "3. [Modifying Shape](#shape)\n",
    "4. [`-1` Argument](#-1)\n",
    "5. [Stacking](#stack)\n",
    "6. [Splitting](#split)\n",
    "7. [Summary](#summary)\n",
    "8. [Reference](#reference)"
   ]
  },
  {
   "cell_type": "markdown",
   "id": "cf02500e",
   "metadata": {},
   "source": [
    "## <a name=\"configuration\">Notebook Configurations</a>\n",
    "This notebook will works only on `numpy` module, a popular `python` library for numerical computation. It is common for people to import it using the alias `np`."
   ]
  },
  {
   "cell_type": "code",
   "execution_count": 1,
   "id": "30d7ea1f",
   "metadata": {
    "nbgrader": {
     "grade": false,
     "grade_id": "cell-c8e7453e96846b24",
     "locked": false,
     "schema_version": 3,
     "solution": true,
     "task": false
    }
   },
   "outputs": [],
   "source": [
    "### BEGIN SOLUTION\n",
    "import numpy as np\n",
    "### END SOLUTION"
   ]
  },
  {
   "cell_type": "markdown",
   "id": "b00ed572",
   "metadata": {},
   "source": [
    "## <a name=\"shape\">Modifying Shape</a>\n",
    "There are various ways to modify the shape of an `ndarray`. The common ones will be demonstrated below. Note that all of them can be called using `numpy` method and pass in the original `ndarray` as an argument or by accessing the methods of the original `ndarray`. All of the methods below return a `view` of the original array, and not the `copy`."
   ]
  },
  {
   "cell_type": "code",
   "execution_count": 2,
   "id": "96a452bd",
   "metadata": {
    "nbgrader": {
     "grade": false,
     "grade_id": "cell-2c6640a1ac3da58d",
     "locked": false,
     "schema_version": 3,
     "solution": true,
     "task": false
    }
   },
   "outputs": [
    {
     "data": {
      "text/plain": [
       "array([[0.38477312, 0.85970785, 0.94419964, 0.70282489, 0.6336341 ],\n",
       "       [0.60596128, 0.20012684, 0.38738789, 0.25898316, 0.07460728],\n",
       "       [0.28095697, 0.43843415, 0.48324904, 0.86848949, 0.52962938]])"
      ]
     },
     "execution_count": 2,
     "metadata": {},
     "output_type": "execute_result"
    }
   ],
   "source": [
    "# create a ndarray with randomized value\n",
    "### BEGIN SOLUTION\n",
    "np.random.seed(38)\n",
    "arr_1 = np.random.rand(3, 5)\n",
    "arr_1\n",
    "### END SOLUTION"
   ]
  },
  {
   "cell_type": "code",
   "execution_count": 3,
   "id": "035e8bbb",
   "metadata": {
    "nbgrader": {
     "grade": false,
     "grade_id": "cell-3b1019c5d2c83ea5",
     "locked": false,
     "schema_version": 3,
     "solution": true,
     "task": false
    }
   },
   "outputs": [
    {
     "data": {
      "text/plain": [
       "array([0.38477312, 0.85970785, 0.94419964, 0.70282489, 0.6336341 ,\n",
       "       0.60596128, 0.20012684, 0.38738789, 0.25898316, 0.07460728,\n",
       "       0.28095697, 0.43843415, 0.48324904, 0.86848949, 0.52962938])"
      ]
     },
     "execution_count": 3,
     "metadata": {},
     "output_type": "execute_result"
    }
   ],
   "source": [
    "# ravel method returns a contiguous flattened ndarray\n",
    "### BEGIN SOLUTION\n",
    "np.ravel(arr_1)\n",
    "arr_1.ravel()\n",
    "### END SOLUTION"
   ]
  },
  {
   "cell_type": "code",
   "execution_count": 4,
   "id": "dbfe2286",
   "metadata": {
    "nbgrader": {
     "grade": false,
     "grade_id": "cell-eafd9171e8709ba2",
     "locked": false,
     "schema_version": 3,
     "solution": true,
     "task": false
    }
   },
   "outputs": [
    {
     "data": {
      "text/plain": [
       "array([[0.38477312, 0.85970785, 0.94419964],\n",
       "       [0.70282489, 0.6336341 , 0.60596128],\n",
       "       [0.20012684, 0.38738789, 0.25898316],\n",
       "       [0.07460728, 0.28095697, 0.43843415],\n",
       "       [0.48324904, 0.86848949, 0.52962938]])"
      ]
     },
     "execution_count": 4,
     "metadata": {},
     "output_type": "execute_result"
    }
   ],
   "source": [
    "# reshape method returns an array with a modified shape\n",
    "### BEGIN SOLUTION\n",
    "arr_1.reshape(5, 3)\n",
    "np.reshape(arr_1, (5, 3))\n",
    "### END SOLUTION"
   ]
  },
  {
   "cell_type": "code",
   "execution_count": 5,
   "id": "049edd5f",
   "metadata": {
    "nbgrader": {
     "grade": false,
     "grade_id": "cell-20bbc0bc4b5798b2",
     "locked": false,
     "schema_version": 3,
     "solution": true,
     "task": false
    }
   },
   "outputs": [
    {
     "data": {
      "text/plain": [
       "array([[0.38477312, 0.60596128, 0.28095697],\n",
       "       [0.85970785, 0.20012684, 0.43843415],\n",
       "       [0.94419964, 0.38738789, 0.48324904],\n",
       "       [0.70282489, 0.25898316, 0.86848949],\n",
       "       [0.6336341 , 0.07460728, 0.52962938]])"
      ]
     },
     "execution_count": 5,
     "metadata": {},
     "output_type": "execute_result"
    }
   ],
   "source": [
    "# transpose method returns a transposed matrix\n",
    "### BEGIN SOLUTION\n",
    "arr_1.T\n",
    "np.transpose(arr_1)\n",
    "### END SOLUTION"
   ]
  },
  {
   "cell_type": "markdown",
   "id": "7b3fe390",
   "metadata": {},
   "source": [
    "If one wants to straightaway modifies the `ndarray`, one can use `resize`."
   ]
  },
  {
   "cell_type": "code",
   "execution_count": 6,
   "id": "4a2cf95e",
   "metadata": {
    "nbgrader": {
     "grade": false,
     "grade_id": "cell-ae7119eec547c656",
     "locked": false,
     "schema_version": 3,
     "solution": true,
     "task": false
    }
   },
   "outputs": [
    {
     "data": {
      "text/plain": [
       "array([[0.38477312, 0.85970785, 0.94419964, 0.70282489, 0.6336341 ],\n",
       "       [0.60596128, 0.20012684, 0.38738789, 0.25898316, 0.07460728]])"
      ]
     },
     "execution_count": 6,
     "metadata": {},
     "output_type": "execute_result"
    }
   ],
   "source": [
    "### BEGIN SOLUTION\n",
    "np.random.seed(38)\n",
    "arr_2 = np.random.rand(2,5)\n",
    "arr_2\n",
    "### END SOLUTION"
   ]
  },
  {
   "cell_type": "code",
   "execution_count": 7,
   "id": "c0a7c54f",
   "metadata": {
    "nbgrader": {
     "grade": false,
     "grade_id": "cell-57ef2e33e5f68cac",
     "locked": false,
     "schema_version": 3,
     "solution": true,
     "task": false
    }
   },
   "outputs": [
    {
     "data": {
      "text/plain": [
       "array([[0.38477312, 0.85970785],\n",
       "       [0.94419964, 0.70282489],\n",
       "       [0.6336341 , 0.60596128],\n",
       "       [0.20012684, 0.38738789],\n",
       "       [0.25898316, 0.07460728]])"
      ]
     },
     "execution_count": 7,
     "metadata": {},
     "output_type": "execute_result"
    }
   ],
   "source": [
    "### BEGIN SOLUTION\n",
    "arr_2.resize(5, 2) # in-place modifications\n",
    "arr_2\n",
    "### END SOLUTION"
   ]
  },
  {
   "cell_type": "markdown",
   "id": "48f6cbfc",
   "metadata": {},
   "source": [
    "## <a name=\"-1\">`-1` Argument</a>\n",
    "Sometimes, it might be difficult to compute what are the actual dimension for the axes. We can leverage on `numpy`'s module to compute the dimension size. `-1` argument tells `numpy` to compute the required dimension for that particular axis, while satisfying the condition of the rest of the axes (which we need to specify the dimensions that we want explicitly). \n",
    "\n",
    "Example shown below:"
   ]
  },
  {
   "cell_type": "code",
   "execution_count": 8,
   "id": "0d8bbbbe",
   "metadata": {
    "nbgrader": {
     "grade": false,
     "grade_id": "cell-e2db6d0070ab120b",
     "locked": false,
     "schema_version": 3,
     "solution": true,
     "task": false
    }
   },
   "outputs": [
    {
     "data": {
      "text/plain": [
       "array([ 0,  1,  2,  3,  4,  5,  6,  7,  8,  9, 10, 11, 12, 13, 14, 15, 16,\n",
       "       17, 18, 19])"
      ]
     },
     "execution_count": 8,
     "metadata": {},
     "output_type": "execute_result"
    }
   ],
   "source": [
    "# create a ndarray\n",
    "### BEGIN SOLUTION\n",
    "arr_3 = np.arange(20)\n",
    "arr_3\n",
    "### END SOLUTION"
   ]
  },
  {
   "cell_type": "code",
   "execution_count": 9,
   "id": "18c45e74",
   "metadata": {
    "nbgrader": {
     "grade": false,
     "grade_id": "cell-5cd55a21fd95232e",
     "locked": false,
     "schema_version": 3,
     "solution": true,
     "task": false
    }
   },
   "outputs": [
    {
     "data": {
      "text/plain": [
       "array([[ 0,  1],\n",
       "       [ 2,  3],\n",
       "       [ 4,  5],\n",
       "       [ 6,  7],\n",
       "       [ 8,  9],\n",
       "       [10, 11],\n",
       "       [12, 13],\n",
       "       [14, 15],\n",
       "       [16, 17],\n",
       "       [18, 19]])"
      ]
     },
     "execution_count": 9,
     "metadata": {},
     "output_type": "execute_result"
    }
   ],
   "source": [
    "# create a ndarray with 2 columns\n",
    "### BEGIN SOLUTION\n",
    "arr_3.reshape(-1, 2)\n",
    "### END SOLUTION"
   ]
  },
  {
   "cell_type": "code",
   "execution_count": 10,
   "id": "41b6f7ff",
   "metadata": {
    "nbgrader": {
     "grade": true,
     "grade_id": "cell-e1ad9c45ba62108a",
     "locked": true,
     "points": 0,
     "schema_version": 3,
     "solution": false,
     "task": false
    }
   },
   "outputs": [
    {
     "data": {
      "text/plain": [
       "array([[ 0,  1,  2,  3],\n",
       "       [ 4,  5,  6,  7],\n",
       "       [ 8,  9, 10, 11],\n",
       "       [12, 13, 14, 15],\n",
       "       [16, 17, 18, 19]])"
      ]
     },
     "execution_count": 10,
     "metadata": {},
     "output_type": "execute_result"
    }
   ],
   "source": [
    "# create a ndarray with 4 columns\n",
    "### BEGIN SOLUTION\n",
    "arr_3.reshape(-1, 4)\n",
    "### END SOLUTION"
   ]
  },
  {
   "cell_type": "code",
   "execution_count": 11,
   "id": "b1bd6a81",
   "metadata": {
    "nbgrader": {
     "grade": false,
     "grade_id": "cell-1f9357ac3231606e",
     "locked": false,
     "schema_version": 3,
     "solution": true,
     "task": false
    }
   },
   "outputs": [
    {
     "data": {
      "text/plain": [
       "array([[ 0,  1,  2,  3],\n",
       "       [ 4,  5,  6,  7],\n",
       "       [ 8,  9, 10, 11],\n",
       "       [12, 13, 14, 15],\n",
       "       [16, 17, 18, 19]])"
      ]
     },
     "execution_count": 11,
     "metadata": {},
     "output_type": "execute_result"
    }
   ],
   "source": [
    "# create a ndarray with 5 rows\n",
    "### BEGIN SOLUTION\n",
    "arr_3.reshape(5, -1)\n",
    "### END SOLUTION"
   ]
  },
  {
   "cell_type": "markdown",
   "id": "3136d702",
   "metadata": {},
   "source": [
    "## <a name=\"stack\">Stacking</a>\n",
    "`ndarray` can also be stacked on each other. Some common stacking methods are as below:"
   ]
  },
  {
   "cell_type": "code",
   "execution_count": 12,
   "id": "a3554d2a",
   "metadata": {
    "nbgrader": {
     "grade": false,
     "grade_id": "cell-8592375dc2879979",
     "locked": false,
     "schema_version": 3,
     "solution": true,
     "task": false
    }
   },
   "outputs": [
    {
     "data": {
      "text/plain": [
       "array([[ 0,  1,  2,  3,  4,  5,  6,  7,  8,  9],\n",
       "       [10, 11, 12, 13, 14, 15, 16, 17, 18, 19]])"
      ]
     },
     "execution_count": 12,
     "metadata": {},
     "output_type": "execute_result"
    }
   ],
   "source": [
    "### BEGIN SOLUTION\n",
    "arr_4 = np.arange(20).reshape(2, 10)\n",
    "arr_4\n",
    "### END SOLUTION"
   ]
  },
  {
   "cell_type": "code",
   "execution_count": 13,
   "id": "b3a91027",
   "metadata": {
    "nbgrader": {
     "grade": false,
     "grade_id": "cell-93c5b1bed5930dfc",
     "locked": false,
     "schema_version": 3,
     "solution": true,
     "task": false
    }
   },
   "outputs": [
    {
     "data": {
      "text/plain": [
       "array([[20, 21, 22, 23, 24, 25, 26, 27, 28, 29],\n",
       "       [30, 31, 32, 33, 34, 35, 36, 37, 38, 39]])"
      ]
     },
     "execution_count": 13,
     "metadata": {},
     "output_type": "execute_result"
    }
   ],
   "source": [
    "### BEGIN SOLUTION\n",
    "arr_5 = np.arange(start=20, stop=40).reshape(2, 10)\n",
    "arr_5\n",
    "### END SOLUTION"
   ]
  },
  {
   "cell_type": "code",
   "execution_count": 14,
   "id": "2f1ce90b",
   "metadata": {
    "nbgrader": {
     "grade": false,
     "grade_id": "cell-5b10a7b708635df8",
     "locked": false,
     "schema_version": 3,
     "solution": true,
     "task": false
    }
   },
   "outputs": [
    {
     "name": "stdout",
     "output_type": "stream",
     "text": [
      "[[ 0  1  2  3  4  5  6  7  8  9]\n",
      " [10 11 12 13 14 15 16 17 18 19]\n",
      " [20 21 22 23 24 25 26 27 28 29]\n",
      " [30 31 32 33 34 35 36 37 38 39]]\n"
     ]
    }
   ],
   "source": [
    "# stacking vertically on first axis\n",
    "### BEGIN SOLUTION\n",
    "print(np.vstack((arr_4, arr_5)))\n",
    "### END SOLUTION"
   ]
  },
  {
   "cell_type": "code",
   "execution_count": 15,
   "id": "464a387e",
   "metadata": {
    "nbgrader": {
     "grade": false,
     "grade_id": "cell-c524442b17f4cb91",
     "locked": false,
     "schema_version": 3,
     "solution": true,
     "task": false
    }
   },
   "outputs": [
    {
     "name": "stdout",
     "output_type": "stream",
     "text": [
      "[[ 0  1  2  3  4  5  6  7  8  9 20 21 22 23 24 25 26 27 28 29]\n",
      " [10 11 12 13 14 15 16 17 18 19 30 31 32 33 34 35 36 37 38 39]]\n"
     ]
    }
   ],
   "source": [
    "# stacking horizontally on second axis\n",
    "### BEGIN SOLUTION\n",
    "print(np.hstack((arr_4, arr_5)))\n",
    "### END SOLUTION"
   ]
  },
  {
   "cell_type": "markdown",
   "id": "329d23e8",
   "metadata": {},
   "source": [
    "In order to make sense of how the stacking actually works, one can take a look at the `shape` of `ndarray`. The axis with increased size is the axis that the stacking function is operating on. For example, `numpy.hstack` increases the size of second axis, while `numpy.vstack` increases the size of first axis."
   ]
  },
  {
   "cell_type": "code",
   "execution_count": 16,
   "id": "b312f70c",
   "metadata": {
    "nbgrader": {
     "grade": false,
     "grade_id": "cell-b97241bbdd28ab11",
     "locked": false,
     "schema_version": 3,
     "solution": true,
     "task": false
    }
   },
   "outputs": [
    {
     "data": {
      "text/plain": [
       "(2, 20)"
      ]
     },
     "execution_count": 16,
     "metadata": {},
     "output_type": "execute_result"
    }
   ],
   "source": [
    "### BEGIN SOLUTION\n",
    "np.hstack((arr_4, arr_5)).shape\n",
    "### END SOLUTION"
   ]
  },
  {
   "cell_type": "code",
   "execution_count": 17,
   "id": "98b8b722",
   "metadata": {
    "nbgrader": {
     "grade": false,
     "grade_id": "cell-07f8e982b9f04324",
     "locked": false,
     "schema_version": 3,
     "solution": true,
     "task": false
    }
   },
   "outputs": [
    {
     "data": {
      "text/plain": [
       "(4, 10)"
      ]
     },
     "execution_count": 17,
     "metadata": {},
     "output_type": "execute_result"
    }
   ],
   "source": [
    "### BEGIN SOLUTION\n",
    "np.vstack((arr_4, arr_5)).shape\n",
    "### END SOLUTION"
   ]
  },
  {
   "cell_type": "markdown",
   "id": "2df3ba99",
   "metadata": {},
   "source": [
    "`numpy.concatenate` allows for more control as users are able to specify the axis for which concatenation should happen."
   ]
  },
  {
   "cell_type": "code",
   "execution_count": 18,
   "id": "d60452f7",
   "metadata": {
    "nbgrader": {
     "grade": false,
     "grade_id": "cell-66ca03658d706ea3",
     "locked": false,
     "schema_version": 3,
     "solution": true,
     "task": false
    }
   },
   "outputs": [
    {
     "name": "stdout",
     "output_type": "stream",
     "text": [
      "[[ 0  1  2  3  4  5  6  7  8  9 20 21 22 23 24 25 26 27 28 29]\n",
      " [10 11 12 13 14 15 16 17 18 19 30 31 32 33 34 35 36 37 38 39]]\n"
     ]
    }
   ],
   "source": [
    "# concat along dimension 1\n",
    "### BEGIN SOLUTION\n",
    "print(np.concatenate((arr_4, arr_5), 1)) \n",
    "### END SOLUTION"
   ]
  },
  {
   "cell_type": "code",
   "execution_count": 19,
   "id": "dbce46ad",
   "metadata": {
    "nbgrader": {
     "grade": false,
     "grade_id": "cell-c4576f7ce2f3b4e9",
     "locked": false,
     "schema_version": 3,
     "solution": true,
     "task": false
    }
   },
   "outputs": [
    {
     "name": "stdout",
     "output_type": "stream",
     "text": [
      "[[ 0  1  2  3  4  5  6  7  8  9]\n",
      " [10 11 12 13 14 15 16 17 18 19]\n",
      " [20 21 22 23 24 25 26 27 28 29]\n",
      " [30 31 32 33 34 35 36 37 38 39]]\n"
     ]
    }
   ],
   "source": [
    "# concat along dimension 0\n",
    "### BEGIN SOLUTION\n",
    "print(np.concatenate((arr_4, arr_5), 0)) \n",
    "### END SOLUTION"
   ]
  },
  {
   "cell_type": "markdown",
   "id": "c2c678b8",
   "metadata": {},
   "source": [
    "## <a name=\"split\">Splitting</a>\n",
    "Users can also split one `ndarray` into a few. `numpy.hsplit` splits an `ndarray` along the horizontal axis (column-wise), while `numpy.vsplit` splits an `ndarray` along the vertical axis (row-wise). For the second argument, users can specify either the amount of `ndarray` to be splitted into, or the columns after which splitting should occur."
   ]
  },
  {
   "cell_type": "code",
   "execution_count": 20,
   "id": "3b802444",
   "metadata": {
    "nbgrader": {
     "grade": false,
     "grade_id": "cell-61c80aebb72c77b4",
     "locked": false,
     "schema_version": 3,
     "solution": true,
     "task": false
    }
   },
   "outputs": [
    {
     "data": {
      "text/plain": [
       "array([[ 0,  1,  2,  3,  4,  5],\n",
       "       [ 6,  7,  8,  9, 10, 11],\n",
       "       [12, 13, 14, 15, 16, 17],\n",
       "       [18, 19, 20, 21, 22, 23],\n",
       "       [24, 25, 26, 27, 28, 29],\n",
       "       [30, 31, 32, 33, 34, 35]])"
      ]
     },
     "execution_count": 20,
     "metadata": {},
     "output_type": "execute_result"
    }
   ],
   "source": [
    "### BEGIN SOLUTION\n",
    "arr_6 = np.arange(36).reshape(6,6)\n",
    "arr_6\n",
    "### END SOLUTION"
   ]
  },
  {
   "cell_type": "code",
   "execution_count": 21,
   "id": "895219be",
   "metadata": {
    "nbgrader": {
     "grade": false,
     "grade_id": "cell-0754bf91b01d2c3f",
     "locked": false,
     "schema_version": 3,
     "solution": true,
     "task": false
    }
   },
   "outputs": [
    {
     "data": {
      "text/plain": [
       "array([[ 0,  1,  2],\n",
       "       [ 6,  7,  8],\n",
       "       [12, 13, 14],\n",
       "       [18, 19, 20],\n",
       "       [24, 25, 26],\n",
       "       [30, 31, 32]])"
      ]
     },
     "execution_count": 21,
     "metadata": {},
     "output_type": "execute_result"
    }
   ],
   "source": [
    "# indexing the first ndarray that was spiltted using hsplit method\n",
    "### BEGIN SOLUTION\n",
    "np.hsplit(arr_6, 2)[0]\n",
    "### END SOLUTION"
   ]
  },
  {
   "cell_type": "code",
   "execution_count": 22,
   "id": "fda0285d",
   "metadata": {
    "nbgrader": {
     "grade": false,
     "grade_id": "cell-bf77c59a168f1e99",
     "locked": false,
     "schema_version": 3,
     "solution": true,
     "task": false
    }
   },
   "outputs": [
    {
     "data": {
      "text/plain": [
       "array([[ 3,  4,  5],\n",
       "       [ 9, 10, 11],\n",
       "       [15, 16, 17],\n",
       "       [21, 22, 23],\n",
       "       [27, 28, 29],\n",
       "       [33, 34, 35]])"
      ]
     },
     "execution_count": 22,
     "metadata": {},
     "output_type": "execute_result"
    }
   ],
   "source": [
    "# indexing the second ndarray that was spiltted using hsplit method\n",
    "### BEGIN SOLUTION\n",
    "np.hsplit(arr_6, 2)[1]\n",
    "### END SOLUTION"
   ]
  },
  {
   "cell_type": "code",
   "execution_count": 23,
   "id": "c8de88da",
   "metadata": {
    "nbgrader": {
     "grade": false,
     "grade_id": "cell-53f4a06c74544e25",
     "locked": false,
     "schema_version": 3,
     "solution": true,
     "task": false
    }
   },
   "outputs": [
    {
     "data": {
      "text/plain": [
       "[array([[ 0,  1],\n",
       "        [ 6,  7],\n",
       "        [12, 13],\n",
       "        [18, 19],\n",
       "        [24, 25],\n",
       "        [30, 31]]),\n",
       " array([[ 2,  3],\n",
       "        [ 8,  9],\n",
       "        [14, 15],\n",
       "        [20, 21],\n",
       "        [26, 27],\n",
       "        [32, 33]]),\n",
       " array([[ 4,  5],\n",
       "        [10, 11],\n",
       "        [16, 17],\n",
       "        [22, 23],\n",
       "        [28, 29],\n",
       "        [34, 35]])]"
      ]
     },
     "execution_count": 23,
     "metadata": {},
     "output_type": "execute_result"
    }
   ],
   "source": [
    "# split arr_6 column-wise after the third and fifth column\n",
    "### BEGIN SOLUTION\n",
    "np.hsplit(arr_6, (2,4))\n",
    "### END SOLUTION"
   ]
  },
  {
   "cell_type": "code",
   "execution_count": 24,
   "id": "1584b4f0",
   "metadata": {
    "nbgrader": {
     "grade": false,
     "grade_id": "cell-7658e44027560b40",
     "locked": false,
     "schema_version": 3,
     "solution": true,
     "task": false
    }
   },
   "outputs": [
    {
     "data": {
      "text/plain": [
       "array([[ 0,  1,  2,  3,  4,  5],\n",
       "       [ 6,  7,  8,  9, 10, 11],\n",
       "       [12, 13, 14, 15, 16, 17],\n",
       "       [18, 19, 20, 21, 22, 23],\n",
       "       [24, 25, 26, 27, 28, 29],\n",
       "       [30, 31, 32, 33, 34, 35]])"
      ]
     },
     "execution_count": 24,
     "metadata": {},
     "output_type": "execute_result"
    }
   ],
   "source": [
    "# let's recall how arr_6 looks like\n",
    "### BEGIN SOLUTION\n",
    "arr_6\n",
    "### END SOLUTION"
   ]
  },
  {
   "cell_type": "code",
   "execution_count": 25,
   "id": "7ce9888d",
   "metadata": {
    "nbgrader": {
     "grade": false,
     "grade_id": "cell-8395d29ff9e1473b",
     "locked": false,
     "schema_version": 3,
     "solution": true,
     "task": false
    }
   },
   "outputs": [
    {
     "name": "stdout",
     "output_type": "stream",
     "text": [
      "[[ 0  1  2  3  4  5]\n",
      " [ 6  7  8  9 10 11]\n",
      " [12 13 14 15 16 17]]\n"
     ]
    }
   ],
   "source": [
    "# indexing the first ndarray that was spiltted using vsplit method\n",
    "### BEGIN SOLUTION\n",
    "print(np.vsplit(arr_6, 2)[0])\n",
    "### END SOLUTION"
   ]
  },
  {
   "cell_type": "code",
   "execution_count": 26,
   "id": "ac7b4e52",
   "metadata": {
    "nbgrader": {
     "grade": false,
     "grade_id": "cell-6588669a3d132ecd",
     "locked": false,
     "schema_version": 3,
     "solution": true,
     "task": false
    }
   },
   "outputs": [
    {
     "name": "stdout",
     "output_type": "stream",
     "text": [
      "[[18 19 20 21 22 23]\n",
      " [24 25 26 27 28 29]\n",
      " [30 31 32 33 34 35]]\n"
     ]
    }
   ],
   "source": [
    "# indexing the first ndarray that was spiltted using vsplit method\n",
    "### BEGIN SOLUTION\n",
    "print(np.vsplit(arr_6, 2)[1])\n",
    "### END SOLUTION"
   ]
  },
  {
   "cell_type": "code",
   "execution_count": 27,
   "id": "340c9666",
   "metadata": {
    "nbgrader": {
     "grade": false,
     "grade_id": "cell-eee63bdc5e25763c",
     "locked": false,
     "schema_version": 3,
     "solution": true,
     "task": false
    }
   },
   "outputs": [
    {
     "data": {
      "text/plain": [
       "[array([[ 0,  1,  2,  3,  4,  5],\n",
       "        [ 6,  7,  8,  9, 10, 11]]),\n",
       " array([[12, 13, 14, 15, 16, 17],\n",
       "        [18, 19, 20, 21, 22, 23]]),\n",
       " array([[24, 25, 26, 27, 28, 29],\n",
       "        [30, 31, 32, 33, 34, 35]])]"
      ]
     },
     "execution_count": 27,
     "metadata": {},
     "output_type": "execute_result"
    }
   ],
   "source": [
    "# split arr_6 row-wise after the third and fifth row\n",
    "### BEGIN SOLUTION\n",
    "np.vsplit(arr_6, (2,4))\n",
    "### END SOLUTION"
   ]
  },
  {
   "cell_type": "markdown",
   "id": "768f6c33",
   "metadata": {},
   "source": [
    "One last splitting method that will be introduce here is `numpy.array_split`. Similar with `concatenate`, it allows users to specify which axis to split."
   ]
  },
  {
   "cell_type": "code",
   "execution_count": 28,
   "id": "09b28fa6",
   "metadata": {
    "nbgrader": {
     "grade": false,
     "grade_id": "cell-d4918df303d5aac9",
     "locked": false,
     "schema_version": 3,
     "solution": true,
     "task": false
    }
   },
   "outputs": [
    {
     "data": {
      "text/plain": [
       "[array([[ 0,  1,  2,  3,  4,  5],\n",
       "        [ 6,  7,  8,  9, 10, 11]]),\n",
       " array([[12, 13, 14, 15, 16, 17],\n",
       "        [18, 19, 20, 21, 22, 23]]),\n",
       " array([[24, 25, 26, 27, 28, 29],\n",
       "        [30, 31, 32, 33, 34, 35]])]"
      ]
     },
     "execution_count": 28,
     "metadata": {},
     "output_type": "execute_result"
    }
   ],
   "source": [
    "# splitting into 3 ndarrays along axis 0\n",
    "### BEGIN SOLUTION\n",
    "np.array_split(arr_6, 3, 0)\n",
    "### END SOLUTION"
   ]
  },
  {
   "cell_type": "code",
   "execution_count": 29,
   "id": "aae1f2ab",
   "metadata": {
    "nbgrader": {
     "grade": false,
     "grade_id": "cell-a2e99dbf251bd755",
     "locked": false,
     "schema_version": 3,
     "solution": true,
     "task": false
    }
   },
   "outputs": [
    {
     "data": {
      "text/plain": [
       "[array([[ 0,  1],\n",
       "        [ 6,  7],\n",
       "        [12, 13],\n",
       "        [18, 19],\n",
       "        [24, 25],\n",
       "        [30, 31]]),\n",
       " array([[ 2,  3],\n",
       "        [ 8,  9],\n",
       "        [14, 15],\n",
       "        [20, 21],\n",
       "        [26, 27],\n",
       "        [32, 33]]),\n",
       " array([[ 4,  5],\n",
       "        [10, 11],\n",
       "        [16, 17],\n",
       "        [22, 23],\n",
       "        [28, 29],\n",
       "        [34, 35]])]"
      ]
     },
     "execution_count": 29,
     "metadata": {},
     "output_type": "execute_result"
    }
   ],
   "source": [
    "# splitting into 2 ndarrays along axis 1\n",
    "### BEGIN SOLUTION\n",
    "np.array_split(arr_6, 3, 1)\n",
    "### END SOLUTION"
   ]
  },
  {
   "cell_type": "markdown",
   "id": "3df495a8",
   "metadata": {},
   "source": [
    "##  <a name=\"summary\">Summary</a>\n",
    "To conclude, you should now be able to:\n",
    "1. Modify shape of a `numpy ndarray`\n",
    "2. Apply `-1` as argument when performing shape manipulation\n",
    "3. Stack different `numpy ndarray`s together\n",
    "4. Split `numpy ndarray` into smaller chunks<br><br>\n",
    "Congratulations, that concludes this lesson.    "
   ]
  },
  {
   "cell_type": "markdown",
   "id": "0ae57ebb",
   "metadata": {},
   "source": [
    "## <a name=\"reference\">Reference</a>\n",
    "* [NumPy Quickstart](https://numpy.org/doc/stable/user/quickstart.html)"
   ]
  }
 ],
 "metadata": {
  "celltoolbar": "Create Assignment",
  "kernelspec": {
   "display_name": "Python 3",
   "language": "python",
   "name": "python3"
  },
  "language_info": {
   "codemirror_mode": {
    "name": "ipython",
    "version": 3
   },
   "file_extension": ".py",
   "mimetype": "text/x-python",
   "name": "python",
   "nbconvert_exporter": "python",
   "pygments_lexer": "ipython3",
   "version": "3.7.10"
  }
 },
 "nbformat": 4,
 "nbformat_minor": 5
}
