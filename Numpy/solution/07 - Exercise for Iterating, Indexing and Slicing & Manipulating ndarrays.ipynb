{
 "cells": [
  {
   "cell_type": "markdown",
   "id": "massive-geometry",
   "metadata": {
    "deletable": false,
    "editable": false
   },
   "source": [
    "![logo](../../img/license_header_logo.png)\n",
    "> **Copyright &copy; 2021 CertifAI Sdn. Bhd.**<br>\n",
    " <br>\n",
    "This program and the accompanying materials are made available under the\n",
    "terms of the [Apache License, Version 2.0](https://www.apache.org/licenses/LICENSE-2.0). <br>\n",
    "Unless required by applicable law or agreed to in writing, software\n",
    "distributed under the License is distributed on an \"AS IS\" BASIS, WITHOUT\n",
    "WARRANTIES OR CONDITIONS OF ANY KIND, either express or implied. See the\n",
    "License for the specific language governing permissions and limitations\n",
    "under the License. <br>\n",
    "<br>**SPDX-License-Identifier: Apache-2.0**"
   ]
  },
  {
   "cell_type": "markdown",
   "id": "218798cd",
   "metadata": {},
   "source": [
    "# 07 - Exercise for Iterating, Indexing, and Slicing & Manipulating ndarray\n",
    "Authored by: [Kian Yang Lee](https://github.com/KianYang-Lee) - kianyang.lee@certifai.ai"
   ]
  },
  {
   "cell_type": "markdown",
   "id": "0980ad23",
   "metadata": {},
   "source": [
    "## <a name=\"description\">Notebook Description</a>\n",
    "\n",
    "This notebook serves as an exercise for users to hone their mastery of `numpy` module.\n",
    "\n",
    "By the end of this tutorial, you will be able to:\n",
    "\n",
    "1. Perform terating, indexing and slicing operation on `ndarray`\n",
    "2. Manipulate `ndarray`"
   ]
  },
  {
   "cell_type": "markdown",
   "id": "fec48014",
   "metadata": {},
   "source": [
    "## Notebook Outline\n",
    "Below is the outline for this tutorial:\n",
    "1. [Notebook Description](#description)\n",
    "2. [Notebook Configurations](#configuration)\n",
    "3. [Section I: Iterating, Indexing, and Slicing](#iterate)\n",
    "4. [Section II: Manipulating `ndarray`](#manipulate)\n",
    "5. [Summary](#summary)"
   ]
  },
  {
   "cell_type": "markdown",
   "id": "acbf488c",
   "metadata": {},
   "source": [
    "## <a name=\"configuration\">Notebook Configurations</a>\n",
    "**Task 0:** Import `numpy` module as `np` alias.<br><br>\n",
    "**Expected Result:**<br>\n",
    "![06-00](../../img/numpy/06-00.png)"
   ]
  },
  {
   "cell_type": "code",
   "execution_count": 1,
   "id": "80879996",
   "metadata": {
    "nbgrader": {
     "grade": false,
     "grade_id": "cell-98d75ad9b3f98fa9",
     "locked": false,
     "schema_version": 3,
     "solution": true,
     "task": false
    }
   },
   "outputs": [
    {
     "data": {
      "text/plain": [
       "['ALLOW_THREADS',\n",
       " 'AxisError',\n",
       " 'BUFSIZE',\n",
       " 'CLIP',\n",
       " 'ComplexWarning',\n",
       " 'DataSource',\n",
       " 'ERR_CALL',\n",
       " 'ERR_DEFAULT',\n",
       " 'ERR_IGNORE',\n",
       " 'ERR_LOG',\n",
       " 'ERR_PRINT',\n",
       " 'ERR_RAISE',\n",
       " 'ERR_WARN',\n",
       " 'FLOATING_POINT_SUPPORT',\n",
       " 'FPE_DIVIDEBYZERO',\n",
       " 'FPE_INVALID',\n",
       " 'FPE_OVERFLOW',\n",
       " 'FPE_UNDERFLOW',\n",
       " 'False_',\n",
       " 'Inf',\n",
       " 'Infinity',\n",
       " 'MAXDIMS',\n",
       " 'MAY_SHARE_BOUNDS',\n",
       " 'MAY_SHARE_EXACT',\n",
       " 'MachAr',\n",
       " 'ModuleDeprecationWarning',\n",
       " 'NAN',\n",
       " 'NINF',\n",
       " 'NZERO',\n",
       " 'NaN',\n",
       " 'PINF',\n",
       " 'PZERO',\n",
       " 'RAISE',\n",
       " 'RankWarning',\n",
       " 'SHIFT_DIVIDEBYZERO',\n",
       " 'SHIFT_INVALID',\n",
       " 'SHIFT_OVERFLOW',\n",
       " 'SHIFT_UNDERFLOW',\n",
       " 'ScalarType',\n",
       " 'Tester',\n",
       " 'TooHardError',\n",
       " 'True_',\n",
       " 'UFUNC_BUFSIZE_DEFAULT',\n",
       " 'UFUNC_PYVALS_NAME',\n",
       " 'VisibleDeprecationWarning',\n",
       " 'WRAP',\n",
       " '_NoValue',\n",
       " '_UFUNC_API',\n",
       " '__NUMPY_SETUP__',\n",
       " '__all__',\n",
       " '__builtins__',\n",
       " '__cached__',\n",
       " '__config__',\n",
       " '__dir__',\n",
       " '__doc__',\n",
       " '__file__',\n",
       " '__getattr__',\n",
       " '__git_revision__',\n",
       " '__loader__',\n",
       " '__mkl_version__',\n",
       " '__name__',\n",
       " '__package__',\n",
       " '__path__',\n",
       " '__spec__',\n",
       " '__version__',\n",
       " '_add_newdoc_ufunc',\n",
       " '_distributor_init',\n",
       " '_globals',\n",
       " '_mat',\n",
       " '_pytesttester',\n",
       " 'abs',\n",
       " 'absolute',\n",
       " 'absolute_import',\n",
       " 'add',\n",
       " 'add_docstring',\n",
       " 'add_newdoc',\n",
       " 'add_newdoc_ufunc',\n",
       " 'alen',\n",
       " 'all',\n",
       " 'allclose',\n",
       " 'alltrue',\n",
       " 'amax',\n",
       " 'amin',\n",
       " 'angle',\n",
       " 'any',\n",
       " 'append',\n",
       " 'apply_along_axis',\n",
       " 'apply_over_axes',\n",
       " 'arange',\n",
       " 'arccos',\n",
       " 'arccosh',\n",
       " 'arcsin',\n",
       " 'arcsinh',\n",
       " 'arctan',\n",
       " 'arctan2',\n",
       " 'arctanh',\n",
       " 'argmax',\n",
       " 'argmin',\n",
       " 'argpartition',\n",
       " 'argsort',\n",
       " 'argwhere',\n",
       " 'around',\n",
       " 'array',\n",
       " 'array2string',\n",
       " 'array_equal',\n",
       " 'array_equiv',\n",
       " 'array_repr',\n",
       " 'array_split',\n",
       " 'array_str',\n",
       " 'asanyarray',\n",
       " 'asarray',\n",
       " 'asarray_chkfinite',\n",
       " 'ascontiguousarray',\n",
       " 'asfarray',\n",
       " 'asfortranarray',\n",
       " 'asmatrix',\n",
       " 'asscalar',\n",
       " 'atleast_1d',\n",
       " 'atleast_2d',\n",
       " 'atleast_3d',\n",
       " 'average',\n",
       " 'bartlett',\n",
       " 'base_repr',\n",
       " 'binary_repr',\n",
       " 'bincount',\n",
       " 'bitwise_and',\n",
       " 'bitwise_not',\n",
       " 'bitwise_or',\n",
       " 'bitwise_xor',\n",
       " 'blackman',\n",
       " 'block',\n",
       " 'bmat',\n",
       " 'bool',\n",
       " 'bool8',\n",
       " 'bool_',\n",
       " 'broadcast',\n",
       " 'broadcast_arrays',\n",
       " 'broadcast_to',\n",
       " 'busday_count',\n",
       " 'busday_offset',\n",
       " 'busdaycalendar',\n",
       " 'byte',\n",
       " 'byte_bounds',\n",
       " 'bytes0',\n",
       " 'bytes_',\n",
       " 'c_',\n",
       " 'can_cast',\n",
       " 'cast',\n",
       " 'cbrt',\n",
       " 'cdouble',\n",
       " 'ceil',\n",
       " 'cfloat',\n",
       " 'char',\n",
       " 'character',\n",
       " 'chararray',\n",
       " 'choose',\n",
       " 'clip',\n",
       " 'clongdouble',\n",
       " 'clongfloat',\n",
       " 'column_stack',\n",
       " 'common_type',\n",
       " 'compare_chararrays',\n",
       " 'compat',\n",
       " 'complex',\n",
       " 'complex128',\n",
       " 'complex64',\n",
       " 'complex_',\n",
       " 'complexfloating',\n",
       " 'compress',\n",
       " 'concatenate',\n",
       " 'conj',\n",
       " 'conjugate',\n",
       " 'convolve',\n",
       " 'copy',\n",
       " 'copysign',\n",
       " 'copyto',\n",
       " 'core',\n",
       " 'corrcoef',\n",
       " 'correlate',\n",
       " 'cos',\n",
       " 'cosh',\n",
       " 'count_nonzero',\n",
       " 'cov',\n",
       " 'cross',\n",
       " 'csingle',\n",
       " 'ctypeslib',\n",
       " 'cumprod',\n",
       " 'cumproduct',\n",
       " 'cumsum',\n",
       " 'datetime64',\n",
       " 'datetime_as_string',\n",
       " 'datetime_data',\n",
       " 'deg2rad',\n",
       " 'degrees',\n",
       " 'delete',\n",
       " 'deprecate',\n",
       " 'deprecate_with_doc',\n",
       " 'diag',\n",
       " 'diag_indices',\n",
       " 'diag_indices_from',\n",
       " 'diagflat',\n",
       " 'diagonal',\n",
       " 'diff',\n",
       " 'digitize',\n",
       " 'disp',\n",
       " 'divide',\n",
       " 'division',\n",
       " 'divmod',\n",
       " 'dot',\n",
       " 'double',\n",
       " 'dsplit',\n",
       " 'dstack',\n",
       " 'dtype',\n",
       " 'e',\n",
       " 'ediff1d',\n",
       " 'einsum',\n",
       " 'einsum_path',\n",
       " 'emath',\n",
       " 'empty',\n",
       " 'empty_like',\n",
       " 'equal',\n",
       " 'errstate',\n",
       " 'euler_gamma',\n",
       " 'exp',\n",
       " 'exp2',\n",
       " 'expand_dims',\n",
       " 'expm1',\n",
       " 'extract',\n",
       " 'eye',\n",
       " 'fabs',\n",
       " 'fastCopyAndTranspose',\n",
       " 'fft',\n",
       " 'fill_diagonal',\n",
       " 'find_common_type',\n",
       " 'finfo',\n",
       " 'fix',\n",
       " 'flatiter',\n",
       " 'flatnonzero',\n",
       " 'flexible',\n",
       " 'flip',\n",
       " 'fliplr',\n",
       " 'flipud',\n",
       " 'float',\n",
       " 'float16',\n",
       " 'float32',\n",
       " 'float64',\n",
       " 'float_',\n",
       " 'float_power',\n",
       " 'floating',\n",
       " 'floor',\n",
       " 'floor_divide',\n",
       " 'fmax',\n",
       " 'fmin',\n",
       " 'fmod',\n",
       " 'format_float_positional',\n",
       " 'format_float_scientific',\n",
       " 'format_parser',\n",
       " 'frexp',\n",
       " 'frombuffer',\n",
       " 'fromfile',\n",
       " 'fromfunction',\n",
       " 'fromiter',\n",
       " 'frompyfunc',\n",
       " 'fromregex',\n",
       " 'fromstring',\n",
       " 'full',\n",
       " 'full_like',\n",
       " 'fv',\n",
       " 'gcd',\n",
       " 'generic',\n",
       " 'genfromtxt',\n",
       " 'geomspace',\n",
       " 'get_array_wrap',\n",
       " 'get_include',\n",
       " 'get_printoptions',\n",
       " 'getbufsize',\n",
       " 'geterr',\n",
       " 'geterrcall',\n",
       " 'geterrobj',\n",
       " 'gradient',\n",
       " 'greater',\n",
       " 'greater_equal',\n",
       " 'half',\n",
       " 'hamming',\n",
       " 'hanning',\n",
       " 'heaviside',\n",
       " 'histogram',\n",
       " 'histogram2d',\n",
       " 'histogram_bin_edges',\n",
       " 'histogramdd',\n",
       " 'hsplit',\n",
       " 'hstack',\n",
       " 'hypot',\n",
       " 'i0',\n",
       " 'identity',\n",
       " 'iinfo',\n",
       " 'imag',\n",
       " 'in1d',\n",
       " 'index_exp',\n",
       " 'indices',\n",
       " 'inexact',\n",
       " 'inf',\n",
       " 'info',\n",
       " 'infty',\n",
       " 'inner',\n",
       " 'insert',\n",
       " 'int',\n",
       " 'int0',\n",
       " 'int16',\n",
       " 'int32',\n",
       " 'int64',\n",
       " 'int8',\n",
       " 'int_',\n",
       " 'int_asbuffer',\n",
       " 'intc',\n",
       " 'integer',\n",
       " 'interp',\n",
       " 'intersect1d',\n",
       " 'intp',\n",
       " 'invert',\n",
       " 'ipmt',\n",
       " 'irr',\n",
       " 'is_busday',\n",
       " 'isclose',\n",
       " 'iscomplex',\n",
       " 'iscomplexobj',\n",
       " 'isfinite',\n",
       " 'isfortran',\n",
       " 'isin',\n",
       " 'isinf',\n",
       " 'isnan',\n",
       " 'isnat',\n",
       " 'isneginf',\n",
       " 'isposinf',\n",
       " 'isreal',\n",
       " 'isrealobj',\n",
       " 'isscalar',\n",
       " 'issctype',\n",
       " 'issubclass_',\n",
       " 'issubdtype',\n",
       " 'issubsctype',\n",
       " 'iterable',\n",
       " 'ix_',\n",
       " 'kaiser',\n",
       " 'kron',\n",
       " 'lcm',\n",
       " 'ldexp',\n",
       " 'left_shift',\n",
       " 'less',\n",
       " 'less_equal',\n",
       " 'lexsort',\n",
       " 'lib',\n",
       " 'linalg',\n",
       " 'linspace',\n",
       " 'little_endian',\n",
       " 'load',\n",
       " 'loads',\n",
       " 'loadtxt',\n",
       " 'log',\n",
       " 'log10',\n",
       " 'log1p',\n",
       " 'log2',\n",
       " 'logaddexp',\n",
       " 'logaddexp2',\n",
       " 'logical_and',\n",
       " 'logical_not',\n",
       " 'logical_or',\n",
       " 'logical_xor',\n",
       " 'logspace',\n",
       " 'long',\n",
       " 'longcomplex',\n",
       " 'longdouble',\n",
       " 'longfloat',\n",
       " 'longlong',\n",
       " 'lookfor',\n",
       " 'ma',\n",
       " 'mafromtxt',\n",
       " 'mask_indices',\n",
       " 'mat',\n",
       " 'math',\n",
       " 'matmul',\n",
       " 'matrix',\n",
       " 'matrixlib',\n",
       " 'max',\n",
       " 'maximum',\n",
       " 'maximum_sctype',\n",
       " 'may_share_memory',\n",
       " 'mean',\n",
       " 'median',\n",
       " 'memmap',\n",
       " 'meshgrid',\n",
       " 'mgrid',\n",
       " 'min',\n",
       " 'min_scalar_type',\n",
       " 'minimum',\n",
       " 'mintypecode',\n",
       " 'mirr',\n",
       " 'mkl',\n",
       " 'mod',\n",
       " 'modf',\n",
       " 'moveaxis',\n",
       " 'msort',\n",
       " 'multiply',\n",
       " 'nan',\n",
       " 'nan_to_num',\n",
       " 'nanargmax',\n",
       " 'nanargmin',\n",
       " 'nancumprod',\n",
       " 'nancumsum',\n",
       " 'nanmax',\n",
       " 'nanmean',\n",
       " 'nanmedian',\n",
       " 'nanmin',\n",
       " 'nanpercentile',\n",
       " 'nanprod',\n",
       " 'nanquantile',\n",
       " 'nanstd',\n",
       " 'nansum',\n",
       " 'nanvar',\n",
       " 'nbytes',\n",
       " 'ndarray',\n",
       " 'ndenumerate',\n",
       " 'ndfromtxt',\n",
       " 'ndim',\n",
       " 'ndindex',\n",
       " 'nditer',\n",
       " 'negative',\n",
       " 'nested_iters',\n",
       " 'newaxis',\n",
       " 'nextafter',\n",
       " 'nonzero',\n",
       " 'not_equal',\n",
       " 'nper',\n",
       " 'npv',\n",
       " 'numarray',\n",
       " 'number',\n",
       " 'obj2sctype',\n",
       " 'object',\n",
       " 'object0',\n",
       " 'object_',\n",
       " 'ogrid',\n",
       " 'oldnumeric',\n",
       " 'ones',\n",
       " 'ones_like',\n",
       " 'outer',\n",
       " 'packbits',\n",
       " 'pad',\n",
       " 'partition',\n",
       " 'percentile',\n",
       " 'pi',\n",
       " 'piecewise',\n",
       " 'place',\n",
       " 'pmt',\n",
       " 'poly',\n",
       " 'poly1d',\n",
       " 'polyadd',\n",
       " 'polyder',\n",
       " 'polydiv',\n",
       " 'polyfit',\n",
       " 'polyint',\n",
       " 'polymul',\n",
       " 'polynomial',\n",
       " 'polysub',\n",
       " 'polyval',\n",
       " 'positive',\n",
       " 'power',\n",
       " 'ppmt',\n",
       " 'print_function',\n",
       " 'printoptions',\n",
       " 'prod',\n",
       " 'product',\n",
       " 'promote_types',\n",
       " 'ptp',\n",
       " 'put',\n",
       " 'put_along_axis',\n",
       " 'putmask',\n",
       " 'pv',\n",
       " 'quantile',\n",
       " 'r_',\n",
       " 'rad2deg',\n",
       " 'radians',\n",
       " 'random',\n",
       " 'rate',\n",
       " 'ravel',\n",
       " 'ravel_multi_index',\n",
       " 'real',\n",
       " 'real_if_close',\n",
       " 'rec',\n",
       " 'recarray',\n",
       " 'recfromcsv',\n",
       " 'recfromtxt',\n",
       " 'reciprocal',\n",
       " 'record',\n",
       " 'remainder',\n",
       " 'repeat',\n",
       " 'require',\n",
       " 'reshape',\n",
       " 'resize',\n",
       " 'result_type',\n",
       " 'right_shift',\n",
       " 'rint',\n",
       " 'roll',\n",
       " 'rollaxis',\n",
       " 'roots',\n",
       " 'rot90',\n",
       " 'round',\n",
       " 'round_',\n",
       " 'row_stack',\n",
       " 's_',\n",
       " 'safe_eval',\n",
       " 'save',\n",
       " 'savetxt',\n",
       " 'savez',\n",
       " 'savez_compressed',\n",
       " 'sctype2char',\n",
       " 'sctypeDict',\n",
       " 'sctypeNA',\n",
       " 'sctypes',\n",
       " 'searchsorted',\n",
       " 'select',\n",
       " 'set_numeric_ops',\n",
       " 'set_printoptions',\n",
       " 'set_string_function',\n",
       " 'setbufsize',\n",
       " 'setdiff1d',\n",
       " 'seterr',\n",
       " 'seterrcall',\n",
       " 'seterrobj',\n",
       " 'setxor1d',\n",
       " 'shape',\n",
       " 'shares_memory',\n",
       " 'short',\n",
       " 'show_config',\n",
       " 'sign',\n",
       " 'signbit',\n",
       " 'signedinteger',\n",
       " 'sin',\n",
       " 'sinc',\n",
       " 'single',\n",
       " 'singlecomplex',\n",
       " 'sinh',\n",
       " 'size',\n",
       " 'sometrue',\n",
       " 'sort',\n",
       " 'sort_complex',\n",
       " 'source',\n",
       " 'spacing',\n",
       " 'split',\n",
       " 'sqrt',\n",
       " 'square',\n",
       " 'squeeze',\n",
       " 'stack',\n",
       " 'std',\n",
       " 'str',\n",
       " 'str0',\n",
       " 'str_',\n",
       " 'string_',\n",
       " 'subtract',\n",
       " 'sum',\n",
       " 'swapaxes',\n",
       " 'sys',\n",
       " 'take',\n",
       " 'take_along_axis',\n",
       " 'tan',\n",
       " 'tanh',\n",
       " 'tensordot',\n",
       " 'test',\n",
       " 'testing',\n",
       " 'tile',\n",
       " 'timedelta64',\n",
       " 'trace',\n",
       " 'tracemalloc_domain',\n",
       " 'transpose',\n",
       " 'trapz',\n",
       " 'tri',\n",
       " 'tril',\n",
       " 'tril_indices',\n",
       " 'tril_indices_from',\n",
       " 'trim_zeros',\n",
       " 'triu',\n",
       " 'triu_indices',\n",
       " 'triu_indices_from',\n",
       " 'true_divide',\n",
       " 'trunc',\n",
       " 'typeDict',\n",
       " 'typeNA',\n",
       " 'typecodes',\n",
       " 'typename',\n",
       " 'ubyte',\n",
       " 'ufunc',\n",
       " 'uint',\n",
       " 'uint0',\n",
       " 'uint16',\n",
       " 'uint32',\n",
       " 'uint64',\n",
       " 'uint8',\n",
       " 'uintc',\n",
       " 'uintp',\n",
       " 'ulonglong',\n",
       " 'unicode',\n",
       " 'unicode_',\n",
       " 'union1d',\n",
       " 'unique',\n",
       " 'unpackbits',\n",
       " 'unravel_index',\n",
       " 'unsignedinteger',\n",
       " 'unwrap',\n",
       " 'ushort',\n",
       " 'vander',\n",
       " 'var',\n",
       " 'vdot',\n",
       " 'vectorize',\n",
       " 'version',\n",
       " 'void',\n",
       " 'void0',\n",
       " 'vsplit',\n",
       " 'vstack',\n",
       " 'warnings',\n",
       " 'where',\n",
       " 'who',\n",
       " 'zeros',\n",
       " 'zeros_like']"
      ]
     },
     "execution_count": 1,
     "metadata": {},
     "output_type": "execute_result"
    }
   ],
   "source": [
    "### BEGIN SOLUTION\n",
    "import numpy as np\n",
    "### END SOLUTION\n",
    "dir(np)"
   ]
  },
  {
   "cell_type": "markdown",
   "id": "6340b55d",
   "metadata": {},
   "source": [
    "## <a name=\"iterate\">Section I: Iterating, Indexing and Slicing</a>"
   ]
  },
  {
   "cell_type": "markdown",
   "id": "c97da8fb",
   "metadata": {},
   "source": [
    "**Task I-1**: Create a `ndarray` object as below.<br><br>\n",
    "**Expected Result:**<br>\n",
    "![07-I-01](../../img/numpy/07-I-01.png)"
   ]
  },
  {
   "cell_type": "code",
   "execution_count": 2,
   "id": "483ab145",
   "metadata": {
    "nbgrader": {
     "grade": false,
     "grade_id": "cell-737ec55afb9e57ec",
     "locked": false,
     "schema_version": 3,
     "solution": true,
     "task": false
    }
   },
   "outputs": [
    {
     "data": {
      "text/plain": [
       "array([0, 1, 2, 3, 4, 5, 6, 7, 8, 9])"
      ]
     },
     "execution_count": 2,
     "metadata": {},
     "output_type": "execute_result"
    }
   ],
   "source": [
    "### BEGIN SOLUTION\n",
    "arr_1 = np.arange(10)\n",
    "arr_1\n",
    "### END SOLUTION"
   ]
  },
  {
   "cell_type": "markdown",
   "id": "068219d0",
   "metadata": {},
   "source": [
    "**Task I-2**: Write a `for` loop to iterate over each element in the `arr_1` and print them out.<br><br>\n",
    "**Expected Result:**<br>\n",
    "![07-I-02](../../img/numpy/07-I-02.png)"
   ]
  },
  {
   "cell_type": "code",
   "execution_count": 3,
   "id": "581e7f5e",
   "metadata": {
    "nbgrader": {
     "grade": false,
     "grade_id": "cell-2db9625d7bf6c97f",
     "locked": false,
     "schema_version": 3,
     "solution": true,
     "task": false
    }
   },
   "outputs": [
    {
     "name": "stdout",
     "output_type": "stream",
     "text": [
      "0\n",
      "1\n",
      "2\n",
      "3\n",
      "4\n",
      "5\n",
      "6\n",
      "7\n",
      "8\n",
      "9\n"
     ]
    }
   ],
   "source": [
    "### BEGIN SOLUTION\n",
    "for element in arr_1:\n",
    "    print(element)\n",
    "### END SOLUTION"
   ]
  },
  {
   "cell_type": "markdown",
   "id": "46e8963b",
   "metadata": {},
   "source": [
    "**Task I-3**: Write a `for` loop to iterate over each element in the provided `arr_2` and print them out.<br><br>\n",
    "**Expected Result:**<br>\n",
    "![07-I-03](../../img/numpy/07-I-03.png)"
   ]
  },
  {
   "cell_type": "code",
   "execution_count": 4,
   "id": "41572ada",
   "metadata": {
    "nbgrader": {
     "grade": false,
     "grade_id": "cell-e14f9e472a7553fd",
     "locked": false,
     "schema_version": 3,
     "solution": true,
     "task": false
    }
   },
   "outputs": [
    {
     "name": "stdout",
     "output_type": "stream",
     "text": [
      "[0 1 2 3 4]\n",
      "[5 6 7 8 9]\n",
      "[10 11 12 13 14]\n",
      "[15 16 17 18 19]\n"
     ]
    }
   ],
   "source": [
    "arr_2 = np.arange(20).reshape(4,5)\n",
    "### BEGIN SOLUTION\n",
    "for element in arr_2:\n",
    "    print(element)\n",
    "### END SOLUTION"
   ]
  },
  {
   "cell_type": "markdown",
   "id": "8fe9f9d1",
   "metadata": {},
   "source": [
    "**Task I-4**: Using indexing, extract the third element in `arr_1` (note that counting starts from 0).<br><br>\n",
    "**Expected Result:**<br>\n",
    "![07-I-04](../../img/numpy/07-I-04.png)"
   ]
  },
  {
   "cell_type": "code",
   "execution_count": 5,
   "id": "7511abe5",
   "metadata": {
    "nbgrader": {
     "grade": false,
     "grade_id": "cell-d2abc7e0bcdb9ee5",
     "locked": false,
     "schema_version": 3,
     "solution": true,
     "task": false
    }
   },
   "outputs": [
    {
     "data": {
      "text/plain": [
       "2"
      ]
     },
     "execution_count": 5,
     "metadata": {},
     "output_type": "execute_result"
    }
   ],
   "source": [
    "### BEGIN SOLUTION\n",
    "arr_1[2]\n",
    "### END SOLUTION"
   ]
  },
  {
   "cell_type": "markdown",
   "id": "e284f43a",
   "metadata": {},
   "source": [
    "**Task I-5**: Using indexing, extract the element in the third row and second column in `arr_2` (note that counting starts from 0).<br><br>\n",
    "**Expected Result:**<br>\n",
    "![07-I-05](../../img/numpy/07-I-05.png)"
   ]
  },
  {
   "cell_type": "code",
   "execution_count": 6,
   "id": "04d98e64",
   "metadata": {
    "nbgrader": {
     "grade": false,
     "grade_id": "cell-a4d0aeeb1c44a49f",
     "locked": false,
     "schema_version": 3,
     "solution": true,
     "task": false
    }
   },
   "outputs": [
    {
     "data": {
      "text/plain": [
       "11"
      ]
     },
     "execution_count": 6,
     "metadata": {},
     "output_type": "execute_result"
    }
   ],
   "source": [
    "### BEGIN SOLUTION\n",
    "arr_2[2, 1]\n",
    "### END SOLUTION"
   ]
  },
  {
   "cell_type": "markdown",
   "id": "32aa12e9",
   "metadata": {},
   "source": [
    "**Task I-6**: Using slicing operation, return a slice containing the third element up until last element (inclusive) in `arr_1` (note that counting starts from 0).<br><br>\n",
    "**Expected Result:**<br>\n",
    "![07-I-06](../../img/numpy/07-I-06.png)"
   ]
  },
  {
   "cell_type": "code",
   "execution_count": 7,
   "id": "068ce460",
   "metadata": {
    "nbgrader": {
     "grade": false,
     "grade_id": "cell-c994056eccf2e2fb",
     "locked": false,
     "schema_version": 3,
     "solution": true,
     "task": false
    }
   },
   "outputs": [
    {
     "data": {
      "text/plain": [
       "array([2, 3, 4, 5, 6, 7, 8, 9])"
      ]
     },
     "execution_count": 7,
     "metadata": {},
     "output_type": "execute_result"
    }
   ],
   "source": [
    "### BEGIN SOLUTION\n",
    "arr_1[2:]\n",
    "### END SOLUTION"
   ]
  },
  {
   "cell_type": "markdown",
   "id": "39ce9b04",
   "metadata": {},
   "source": [
    "**Task I-7**: Using slicing operation, return a slice containing the second element up until second last element (inclusive) in `arr_1` (note that counting starts from 0).<br><br>\n",
    "**Expected Result:**<br>\n",
    "![07-I-07](../../img/numpy/07-I-07.png)"
   ]
  },
  {
   "cell_type": "code",
   "execution_count": 8,
   "id": "f73b8f98",
   "metadata": {
    "nbgrader": {
     "grade": false,
     "grade_id": "cell-2f405d0312e930e0",
     "locked": false,
     "schema_version": 3,
     "solution": true,
     "task": false
    }
   },
   "outputs": [
    {
     "data": {
      "text/plain": [
       "array([1, 2, 3, 4, 5, 6, 7, 8])"
      ]
     },
     "execution_count": 8,
     "metadata": {},
     "output_type": "execute_result"
    }
   ],
   "source": [
    "### BEGIN SOLUTION\n",
    "arr_1[1:-1]\n",
    "### END SOLUTION"
   ]
  },
  {
   "cell_type": "markdown",
   "id": "a94e592b",
   "metadata": {},
   "source": [
    "**Task I-8**: Using slicing operation, return a slice containing the elements that are located in first and second row, and third column until second last column.<br><br>\n",
    "**Expected Result:**<br>\n",
    "![07-I-08](../../img/numpy/07-I-08.png)"
   ]
  },
  {
   "cell_type": "code",
   "execution_count": 9,
   "id": "76b76b75",
   "metadata": {
    "nbgrader": {
     "grade": false,
     "grade_id": "cell-26a66a2e5430f9f0",
     "locked": false,
     "schema_version": 3,
     "solution": true,
     "task": false
    }
   },
   "outputs": [
    {
     "data": {
      "text/plain": [
       "array([[2, 3],\n",
       "       [7, 8]])"
      ]
     },
     "execution_count": 9,
     "metadata": {},
     "output_type": "execute_result"
    }
   ],
   "source": [
    "### BEGIN SOLUTION\n",
    "arr_2[:2, 2:-1]\n",
    "### END SOLUTION"
   ]
  },
  {
   "cell_type": "markdown",
   "id": "a21c20d9",
   "metadata": {},
   "source": [
    "**Task I-9**: Make a copy of the entire slice of `arr_2`.<br><br>\n",
    "**Expected Result:**<br>\n",
    "![07-I-09](../../img/numpy/07-I-09.png)"
   ]
  },
  {
   "cell_type": "code",
   "execution_count": 10,
   "id": "11d1d508",
   "metadata": {
    "nbgrader": {
     "grade": false,
     "grade_id": "cell-c8bdc07597e5e390",
     "locked": false,
     "schema_version": 3,
     "solution": true,
     "task": false
    }
   },
   "outputs": [
    {
     "name": "stdout",
     "output_type": "stream",
     "text": [
      "arr_copy is not a view of the original array.\n"
     ]
    }
   ],
   "source": [
    "arr_copy = np.array(())\n",
    "### BEGIN SOLUTION\n",
    "arr_copy = arr_2[:].copy()\n",
    "### END SOLUTION\n",
    "try:\n",
    "    assert not np.may_share_memory(arr_copy, arr_2), print(\"arr_copy is not a new copy!\")\n",
    "    print(\"arr_copy is not a view of the original array.\")\n",
    "except AssertionError as error:\n",
    "    error"
   ]
  },
  {
   "cell_type": "markdown",
   "id": "0846a9b3",
   "metadata": {},
   "source": [
    "## <a name=\"manipulate\">Section II: Manipulating `ndarray`</a>"
   ]
  },
  {
   "cell_type": "markdown",
   "id": "2f8b6bc7",
   "metadata": {},
   "source": [
    "**Task II-1**: Flatten the `arr_3` into 1D array.<br><br>\n",
    "**Expected Result:**<br>\n",
    "![07-II-01](../../img/numpy/07-II-01.png)"
   ]
  },
  {
   "cell_type": "code",
   "execution_count": 11,
   "id": "8c32cfc0",
   "metadata": {
    "nbgrader": {
     "grade": false,
     "grade_id": "cell-6e2cae9fced20bda",
     "locked": false,
     "schema_version": 3,
     "solution": true,
     "task": false
    }
   },
   "outputs": [
    {
     "data": {
      "text/plain": [
       "array([1., 1., 1., 1., 1., 1., 1., 1., 1., 1., 1., 1.])"
      ]
     },
     "execution_count": 11,
     "metadata": {},
     "output_type": "execute_result"
    }
   ],
   "source": [
    "arr_3 = np.ones((4,3))\n",
    "### BEGIN SOLUTION\n",
    "arr_3.ravel()\n",
    "### END SOLUTION"
   ]
  },
  {
   "cell_type": "markdown",
   "id": "1b05e44d",
   "metadata": {},
   "source": [
    "**Task II-2**: Reshape the `arr_3` into `ndarray` with shape `(3, 4)`.<br><br>\n",
    "**Expected Result:**<br>\n",
    "![07-II-02](../../img/numpy/07-II-02.png)"
   ]
  },
  {
   "cell_type": "code",
   "execution_count": 12,
   "id": "7a87fb9e",
   "metadata": {
    "nbgrader": {
     "grade": false,
     "grade_id": "cell-d3e3b36571133e3f",
     "locked": false,
     "schema_version": 3,
     "solution": true,
     "task": false
    }
   },
   "outputs": [
    {
     "data": {
      "text/plain": [
       "array([[1., 1., 1., 1.],\n",
       "       [1., 1., 1., 1.],\n",
       "       [1., 1., 1., 1.]])"
      ]
     },
     "execution_count": 12,
     "metadata": {},
     "output_type": "execute_result"
    }
   ],
   "source": [
    "### BEGIN SOLUTION\n",
    "arr_3.reshape(3, 4)\n",
    "### END SOLUTION"
   ]
  },
  {
   "cell_type": "markdown",
   "id": "fd6c153e",
   "metadata": {},
   "source": [
    "**Task II-3**: Transpose the provided `arr_4` array.<br><br>\n",
    "**Expected Result:**<br>\n",
    "![07-II-03](../../img/numpy/07-II-03.png)"
   ]
  },
  {
   "cell_type": "code",
   "execution_count": 13,
   "id": "6cde76d7",
   "metadata": {
    "nbgrader": {
     "grade": false,
     "grade_id": "cell-04e205d9b0dfd71f",
     "locked": false,
     "schema_version": 3,
     "solution": true,
     "task": false
    }
   },
   "outputs": [
    {
     "name": "stdout",
     "output_type": "stream",
     "text": [
      "Prior to transpose operation: \n",
      "[[0.51729788 0.9469626  0.76545976 0.28239584 0.22104536]\n",
      " [0.68622209 0.1671392  0.39244247 0.61805235 0.41193009]]\n",
      "Post transpose operation: \n"
     ]
    },
    {
     "data": {
      "text/plain": [
       "array([[0.51729788, 0.68622209],\n",
       "       [0.9469626 , 0.1671392 ],\n",
       "       [0.76545976, 0.39244247],\n",
       "       [0.28239584, 0.61805235],\n",
       "       [0.22104536, 0.41193009]])"
      ]
     },
     "execution_count": 13,
     "metadata": {},
     "output_type": "execute_result"
    }
   ],
   "source": [
    "np.random.seed(23)\n",
    "arr_4 = np.random.rand(2,5)\n",
    "print(\"Prior to transpose operation: \")\n",
    "print(arr_4)\n",
    "print(\"Post transpose operation: \")\n",
    "### BEGIN SOLUTION\n",
    "arr_4.T\n",
    "### END SOLUTION"
   ]
  },
  {
   "cell_type": "markdown",
   "id": "db47b43b",
   "metadata": {},
   "source": [
    "**Task II-4**: Stack provided `arr_5` and `arr_6` vertically (along the first axis).<br><br>\n",
    "**Expected Result:**<br>\n",
    "![07-II-04](../../img/numpy/07-II-04.png)"
   ]
  },
  {
   "cell_type": "code",
   "execution_count": 14,
   "id": "cc375d23",
   "metadata": {
    "nbgrader": {
     "grade": false,
     "grade_id": "cell-5c5448df004e3a2c",
     "locked": false,
     "schema_version": 3,
     "solution": true,
     "task": false
    }
   },
   "outputs": [
    {
     "name": "stdout",
     "output_type": "stream",
     "text": [
      "Prior to stacking: \n",
      "arr_5: \n",
      "[[1. 1. 1.]\n",
      " [1. 1. 1.]\n",
      " [1. 1. 1.]]\n",
      "\n",
      "\n",
      "arr_6: \n",
      "[[0. 0. 0.]\n",
      " [0. 0. 0.]\n",
      " [0. 0. 0.]]\n",
      "After stacking: \n"
     ]
    },
    {
     "data": {
      "text/plain": [
       "array([[1., 1., 1.],\n",
       "       [1., 1., 1.],\n",
       "       [1., 1., 1.],\n",
       "       [0., 0., 0.],\n",
       "       [0., 0., 0.],\n",
       "       [0., 0., 0.]])"
      ]
     },
     "execution_count": 14,
     "metadata": {},
     "output_type": "execute_result"
    }
   ],
   "source": [
    "arr_5 = np.ones((3,3))\n",
    "arr_6 = np.zeros((3,3))\n",
    "print(\"Prior to stacking: \")\n",
    "print(\"arr_5: \")\n",
    "print(arr_5)\n",
    "print(\"\\n\\narr_6: \")\n",
    "print(arr_6)\n",
    "print(\"After stacking: \")\n",
    "### BEGIN SOLUTION\n",
    "np.vstack((arr_5, arr_6))\n",
    "### END SOLUTION"
   ]
  },
  {
   "cell_type": "markdown",
   "id": "fc3a18ed",
   "metadata": {},
   "source": [
    "**Task II-5**: Stack provided `arr_5` and `arr_6` horizontally (along second axis).<br><br>\n",
    "**Expected Result:**<br>\n",
    "![07-II-05](../../img/numpy/07-II-05.png)"
   ]
  },
  {
   "cell_type": "code",
   "execution_count": 15,
   "id": "836cd45f",
   "metadata": {
    "nbgrader": {
     "grade": false,
     "grade_id": "cell-46d0df964746defe",
     "locked": false,
     "schema_version": 3,
     "solution": true,
     "task": false
    }
   },
   "outputs": [
    {
     "name": "stdout",
     "output_type": "stream",
     "text": [
      "Prior to stacking: \n",
      "arr_5: \n",
      "[[1. 1. 1.]\n",
      " [1. 1. 1.]\n",
      " [1. 1. 1.]]\n",
      "\n",
      "\n",
      "arr_6: \n",
      "[[0. 0. 0.]\n",
      " [0. 0. 0.]\n",
      " [0. 0. 0.]]\n",
      "After stacking: \n"
     ]
    },
    {
     "data": {
      "text/plain": [
       "array([[1., 1., 1., 0., 0., 0.],\n",
       "       [1., 1., 1., 0., 0., 0.],\n",
       "       [1., 1., 1., 0., 0., 0.]])"
      ]
     },
     "execution_count": 15,
     "metadata": {},
     "output_type": "execute_result"
    }
   ],
   "source": [
    "print(\"Prior to stacking: \")\n",
    "print(\"arr_5: \")\n",
    "print(arr_5)\n",
    "print(\"\\n\\narr_6: \")\n",
    "print(arr_6)\n",
    "print(\"After stacking: \")\n",
    "### BEGIN SOLUTION\n",
    "np.hstack((arr_5, arr_6))\n",
    "### END SOLUTION"
   ]
  },
  {
   "cell_type": "markdown",
   "id": "f2d9f8a2",
   "metadata": {},
   "source": [
    "**Task II-6**: Split the provided `arr_7` horizontally (along the second axis) into two `ndarray`s.<br><br>\n",
    "**Expected Result:**<br>\n",
    "![07-II-06](../../img/numpy/07-II-06.png)"
   ]
  },
  {
   "cell_type": "code",
   "execution_count": 16,
   "id": "d26e079f",
   "metadata": {
    "nbgrader": {
     "grade": false,
     "grade_id": "cell-4d73326f63889881",
     "locked": false,
     "schema_version": 3,
     "solution": true,
     "task": false
    }
   },
   "outputs": [
    {
     "name": "stdout",
     "output_type": "stream",
     "text": [
      "Prior to splitting: \n",
      "[[ 0  1  2  3  4  5  6  7]\n",
      " [ 8  9 10 11 12 13 14 15]\n",
      " [16 17 18 19 20 21 22 23]\n",
      " [24 25 26 27 28 29 30 31]\n",
      " [32 33 34 35 36 37 38 39]\n",
      " [40 41 42 43 44 45 46 47]\n",
      " [48 49 50 51 52 53 54 55]\n",
      " [56 57 58 59 60 61 62 63]]\n",
      "After splitting: \n"
     ]
    },
    {
     "data": {
      "text/plain": [
       "[array([[ 0,  1,  2,  3],\n",
       "        [ 8,  9, 10, 11],\n",
       "        [16, 17, 18, 19],\n",
       "        [24, 25, 26, 27],\n",
       "        [32, 33, 34, 35],\n",
       "        [40, 41, 42, 43],\n",
       "        [48, 49, 50, 51],\n",
       "        [56, 57, 58, 59]]),\n",
       " array([[ 4,  5,  6,  7],\n",
       "        [12, 13, 14, 15],\n",
       "        [20, 21, 22, 23],\n",
       "        [28, 29, 30, 31],\n",
       "        [36, 37, 38, 39],\n",
       "        [44, 45, 46, 47],\n",
       "        [52, 53, 54, 55],\n",
       "        [60, 61, 62, 63]])]"
      ]
     },
     "execution_count": 16,
     "metadata": {},
     "output_type": "execute_result"
    }
   ],
   "source": [
    "arr_7 = np.arange(64).reshape(8,8)\n",
    "print(\"Prior to splitting: \")\n",
    "print(arr_7)\n",
    "print(\"After splitting: \")\n",
    "### BEGIN SOLUTION\n",
    "np.hsplit(arr_7, 2)\n",
    "### END SOLUTION"
   ]
  },
  {
   "cell_type": "markdown",
   "id": "009fdbf8",
   "metadata": {},
   "source": [
    "**Task II-7**: Split the provided `arr_7` vertically (along the first axis) into two `ndarray`s after second row and fourth row.<br><br>\n",
    "**Expected Result:**<br>\n",
    "![07-II-07](../../img/numpy/07-II-07.png)"
   ]
  },
  {
   "cell_type": "code",
   "execution_count": 17,
   "id": "eade9113",
   "metadata": {
    "nbgrader": {
     "grade": false,
     "grade_id": "cell-92d6ff3ecc8d2a3b",
     "locked": false,
     "schema_version": 3,
     "solution": true,
     "task": false
    }
   },
   "outputs": [
    {
     "name": "stdout",
     "output_type": "stream",
     "text": [
      "Prior to splitting: \n",
      "[[ 0  1  2  3  4  5  6  7]\n",
      " [ 8  9 10 11 12 13 14 15]\n",
      " [16 17 18 19 20 21 22 23]\n",
      " [24 25 26 27 28 29 30 31]\n",
      " [32 33 34 35 36 37 38 39]\n",
      " [40 41 42 43 44 45 46 47]\n",
      " [48 49 50 51 52 53 54 55]\n",
      " [56 57 58 59 60 61 62 63]]\n",
      "After splitting: \n"
     ]
    },
    {
     "data": {
      "text/plain": [
       "[array([[ 0,  1,  2,  3,  4,  5,  6,  7],\n",
       "        [ 8,  9, 10, 11, 12, 13, 14, 15]]),\n",
       " array([[16, 17, 18, 19, 20, 21, 22, 23],\n",
       "        [24, 25, 26, 27, 28, 29, 30, 31]]),\n",
       " array([[32, 33, 34, 35, 36, 37, 38, 39],\n",
       "        [40, 41, 42, 43, 44, 45, 46, 47],\n",
       "        [48, 49, 50, 51, 52, 53, 54, 55],\n",
       "        [56, 57, 58, 59, 60, 61, 62, 63]])]"
      ]
     },
     "execution_count": 17,
     "metadata": {},
     "output_type": "execute_result"
    }
   ],
   "source": [
    "print(\"Prior to splitting: \")\n",
    "print(arr_7)\n",
    "print(\"After splitting: \")\n",
    "### BEGIN SOLUTION\n",
    "np.vsplit(arr_7, (2, 4))\n",
    "### END SOLUTION"
   ]
  },
  {
   "cell_type": "markdown",
   "id": "975dc66c",
   "metadata": {},
   "source": [
    "##  <a name=\"summary\">Summary</a>\n",
    "To conclude, you should now be able to:\n",
    "1. Perform terating, indexing and slicing operation on `ndarray`\n",
    "2. Manipulate `ndarray`<br><br>\n",
    "Congratulations for completing this exercise!    "
   ]
  }
 ],
 "metadata": {
  "celltoolbar": "Create Assignment",
  "kernelspec": {
   "display_name": "Python 3",
   "language": "python",
   "name": "python3"
  },
  "language_info": {
   "codemirror_mode": {
    "name": "ipython",
    "version": 3
   },
   "file_extension": ".py",
   "mimetype": "text/x-python",
   "name": "python",
   "nbconvert_exporter": "python",
   "pygments_lexer": "ipython3",
   "version": "3.7.10"
  }
 },
 "nbformat": 4,
 "nbformat_minor": 5
}
