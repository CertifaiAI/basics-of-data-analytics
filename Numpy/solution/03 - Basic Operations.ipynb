{
 "cells": [
  {
   "cell_type": "markdown",
   "id": "embedded-microphone",
   "metadata": {
    "deletable": false,
    "editable": false
   },
   "source": [
    "![logo](../img/license_header_logo.png)\n",
    "> **Copyright &copy; 2021 CertifAI Sdn. Bhd.**<br>\n",
    " <br>\n",
    "This program and the accompanying materials are made available under the\n",
    "terms of the [Apache License, Version 2.0](https://www.apache.org/licenses/LICENSE-2.0). <br>\n",
    "Unless required by applicable law or agreed to in writing, software\n",
    "distributed under the License is distributed on an \"AS IS\" BASIS, WITHOUT\n",
    "WARRANTIES OR CONDITIONS OF ANY KIND, either express or implied. See the\n",
    "License for the specific language governing permissions and limitations\n",
    "under the License. <br>\n",
    "<br>**SPDX-License-Identifier: Apache-2.0**"
   ]
  },
  {
   "cell_type": "markdown",
   "id": "romance-momentum",
   "metadata": {},
   "source": [
    "# 03 - Basic Operations\n",
    "Authored by: [Kian Yang Lee](https://github.com/KianYang-Lee) - kianyang.lee@certifai.ai"
   ]
  },
  {
   "cell_type": "markdown",
   "id": "spare-glory",
   "metadata": {},
   "source": [
    "## <a name=\"description\">Notebook Description</a>\n",
    "\n",
    "Arithmetic is an important building block of numerical computational module. `numpy` supports a wide variety of mathematical operations, which some of the essential ones will be covered in this notebook.\n",
    "\n",
    "By the end of this tutorial, you will be able to:\n",
    "\n",
    "1. Apply basic arithmetics on `ndarray`\n",
    "2. Apply dot product/matrix multiplication on `ndarray`\n",
    "3. Apply universal functions on `ndarray`"
   ]
  },
  {
   "cell_type": "markdown",
   "id": "following-hearts",
   "metadata": {},
   "source": [
    "## Notebook Outline\n",
    "Below is the outline for this tutorial:\n",
    "1. [Notebook Description](#description)\n",
    "2. [Notebook Configurations](#configuration)\n",
    "3. [Basic Arithmetics between `ndarray`](#arithmetics)\n",
    "4. [Operations between Scalar and `ndarray`](#scalar)\n",
    "5. [Matrix Multiplication](#mmul)\n",
    "6. [Universal Functions](#ufunc)\n",
    "7. [Summary](#summary)\n",
    "8. [Reference](#reference)"
   ]
  },
  {
   "cell_type": "markdown",
   "id": "purple-ladder",
   "metadata": {},
   "source": [
    "## <a name=\"configuration\">Notebook Configurations</a>\n",
    "This notebook will works only on `numpy` module, a popular `python` library for numerical computation. It is common for people to import it using the alias `np`."
   ]
  },
  {
   "cell_type": "code",
   "execution_count": 1,
   "id": "thick-armenia",
   "metadata": {},
   "outputs": [],
   "source": [
    "### BEGIN SOLUTION\n",
    "import numpy as np\n",
    "### END SOLUTION"
   ]
  },
  {
   "cell_type": "markdown",
   "id": "global-power",
   "metadata": {},
   "source": [
    "## <a name=\"arithmetics\">Basic Arithmetics between `ndarray`</a>\n",
    "Let's initialize two arrays for the arithmetic operations."
   ]
  },
  {
   "cell_type": "code",
   "execution_count": 2,
   "id": "restricted-broadcasting",
   "metadata": {},
   "outputs": [
    {
     "name": "stdout",
     "output_type": "stream",
     "text": [
      "Array 1 is: \n",
      "\n",
      "[[ 10.  20.  30.  40.  50. 100.]]\n",
      "\n",
      "Array 2 is: \n",
      "\n",
      "[[1. 1. 1. 1. 1. 1.]]\n"
     ]
    }
   ],
   "source": [
    "### BEGIN SOLUTION\n",
    "arr_1 = np.array([[10, 20, 30, 40, 50, 100]], dtype=\"float\")\n",
    "arr_2 = np.ones((1, 6))\n",
    "\n",
    "print(\"Array 1 is: \\n\")\n",
    "print(arr_1)\n",
    "print(\"\\nArray 2 is: \\n\")\n",
    "print(arr_2)\n",
    "### END SOLUTION"
   ]
  },
  {
   "cell_type": "markdown",
   "id": "personalized-progressive",
   "metadata": {},
   "source": [
    "We can perform arithmetics on `numpy ndarray` using arithmetic operators. The arithmetic operation will be applied elementwise. The operation will return a new `ndarray` with the relevant result by default. You can choose either just specifying the operators or using the methods provided by `numpy` to perform the operations, both return the same result."
   ]
  },
  {
   "cell_type": "code",
   "execution_count": 3,
   "id": "regulation-canada",
   "metadata": {},
   "outputs": [
    {
     "name": "stdout",
     "output_type": "stream",
     "text": [
      "Both methods of performing operation return identical result: \n",
      "True\n",
      "The result is: \n",
      "[[ 9. 19. 29. 39. 49. 99.]]\n"
     ]
    }
   ],
   "source": [
    "# elementwise subtraction\n",
    "### BEGIN SOLUTION\n",
    "arr_1 - arr_2 # using subtract operator\n",
    "np.subtract(arr_1, arr_2) # using numpy method\n",
    "### END SOLUTION\n",
    "\n",
    "# assert for array equality\n",
    "### BEGIN SOLUTION\n",
    "print(\"Both methods of performing operation return identical result: \")\n",
    "print(np.array_equal(arr_1 - arr_2, np.subtract(arr_1, arr_2)))\n",
    "print(\"The result is: \")\n",
    "print(arr_1 - arr_2)\n",
    "### END SOLUTION"
   ]
  },
  {
   "cell_type": "code",
   "execution_count": 4,
   "id": "bound-suspension",
   "metadata": {},
   "outputs": [
    {
     "data": {
      "text/plain": [
       "array([[ 11.,  21.,  31.,  41.,  51., 101.]])"
      ]
     },
     "execution_count": 4,
     "metadata": {},
     "output_type": "execute_result"
    }
   ],
   "source": [
    "# elementwise addition (either way works)\n",
    "### BEGIN SOLUTION\n",
    "arr_1 + arr_2\n",
    "np.add(arr_1, arr_2)\n",
    "### END SOLUTION"
   ]
  },
  {
   "cell_type": "code",
   "execution_count": 5,
   "id": "insured-appreciation",
   "metadata": {},
   "outputs": [
    {
     "data": {
      "text/plain": [
       "array([[ 10.,  20.,  30.,  40.,  50., 100.]])"
      ]
     },
     "execution_count": 5,
     "metadata": {},
     "output_type": "execute_result"
    }
   ],
   "source": [
    "# elementwise multiplication (either way works)\n",
    "### BEGIN SOLUTION\n",
    "arr_1 * arr_2\n",
    "np.multiply(arr_1, arr_2)\n",
    "### END SOLUTION"
   ]
  },
  {
   "cell_type": "code",
   "execution_count": 6,
   "id": "electoral-memorial",
   "metadata": {
    "scrolled": true
   },
   "outputs": [
    {
     "data": {
      "text/plain": [
       "array([[0.1       , 0.05      , 0.03333333, 0.025     , 0.02      ,\n",
       "        0.01      ]])"
      ]
     },
     "execution_count": 6,
     "metadata": {},
     "output_type": "execute_result"
    }
   ],
   "source": [
    "# elementwise division (either way works)\n",
    "### BEGIN SOLUTION\n",
    "arr_2 / arr_1\n",
    "np.divide(arr_2, arr_1)\n",
    "### END SOLUTION"
   ]
  },
  {
   "cell_type": "markdown",
   "id": "7d9e8790",
   "metadata": {},
   "source": [
    "## <a name=\"scalar\">Operations between Scalar and `ndarray`</a>\n",
    "`numpy` does not limit its operations between objects of `ndarray` only. It can also be applied to scalar values. The way this works is that `numpy` will broadcast scalar values to the same size of the other `ndarray`. Example of this would be:"
   ]
  },
  {
   "cell_type": "code",
   "execution_count": 7,
   "id": "6dd9e79a",
   "metadata": {},
   "outputs": [
    {
     "data": {
      "text/plain": [
       "array([[ 10.1,  20.1,  30.1,  40.1,  50.1, 100.1]])"
      ]
     },
     "execution_count": 7,
     "metadata": {},
     "output_type": "execute_result"
    }
   ],
   "source": [
    "# elementwise addition by broadcasting\n",
    "### BEGIN SOLUTION\n",
    "arr_1 + 0.1\n",
    "### END SOLUTION"
   ]
  },
  {
   "cell_type": "code",
   "execution_count": 8,
   "id": "46b93019",
   "metadata": {},
   "outputs": [
    {
     "data": {
      "text/plain": [
       "array([[ 9.9, 19.9, 29.9, 39.9, 49.9, 99.9]])"
      ]
     },
     "execution_count": 8,
     "metadata": {},
     "output_type": "execute_result"
    }
   ],
   "source": [
    "# elementwise subtraction by broadcasting\n",
    "### BEGIN SOLUTION\n",
    "arr_1 - 0.1\n",
    "### END SOLUTION"
   ]
  },
  {
   "cell_type": "code",
   "execution_count": 9,
   "id": "742cf540",
   "metadata": {},
   "outputs": [
    {
     "data": {
      "text/plain": [
       "array([[ 1.,  2.,  3.,  4.,  5., 10.]])"
      ]
     },
     "execution_count": 9,
     "metadata": {},
     "output_type": "execute_result"
    }
   ],
   "source": [
    "# elementwise multiplication by broadcasting\n",
    "### BEGIN SOLUTION\n",
    "arr_1 * 0.1\n",
    "### END SOLUTION"
   ]
  },
  {
   "cell_type": "code",
   "execution_count": 10,
   "id": "3022460a",
   "metadata": {},
   "outputs": [
    {
     "data": {
      "text/plain": [
       "array([[ 100.,  200.,  300.,  400.,  500., 1000.]])"
      ]
     },
     "execution_count": 10,
     "metadata": {},
     "output_type": "execute_result"
    }
   ],
   "source": [
    "# elementwise division by broadcasting\n",
    "### BEGIN SOLUTION\n",
    "arr_1 / 0.1\n",
    "### END SOLUTION"
   ]
  },
  {
   "cell_type": "markdown",
   "id": "d4c96b49",
   "metadata": {},
   "source": [
    "It can even works even when the other object is not a scalar value. When the two `ndarray` are of different sizes, the smaller one will be broadcasted in order to meet the size of the bigger `ndarray` before the operation is performed."
   ]
  },
  {
   "cell_type": "code",
   "execution_count": 11,
   "id": "d290c7bc",
   "metadata": {},
   "outputs": [
    {
     "data": {
      "text/plain": [
       "array([[ 2.1,  4.1,  6.1],\n",
       "       [ 9. , 11. , 13. ]])"
      ]
     },
     "execution_count": 11,
     "metadata": {},
     "output_type": "execute_result"
    }
   ],
   "source": [
    "### BEGIN SOLUTION\n",
    "big_arr = np.array([[2, 4, 6], [8, 10, 12]])\n",
    "small_arr = np.array([[0.1], [1]])\n",
    "big_arr + small_arr\n",
    "### END SOLUTION"
   ]
  },
  {
   "cell_type": "markdown",
   "id": "38e8f0a0",
   "metadata": {},
   "source": [
    "Take note that certain restrictions need to be met for broadcasting to happen. For example, the operation below will not work."
   ]
  },
  {
   "cell_type": "code",
   "execution_count": 12,
   "id": "da496f0f",
   "metadata": {},
   "outputs": [
    {
     "data": {
      "text/plain": [
       "array([0.1, 1. ])"
      ]
     },
     "execution_count": 12,
     "metadata": {},
     "output_type": "execute_result"
    }
   ],
   "source": [
    "### BEGIN SOLUTION\n",
    "np.array([0.1, 1])\n",
    "### END SOLUTION"
   ]
  },
  {
   "cell_type": "code",
   "execution_count": 13,
   "id": "7e7461ee",
   "metadata": {},
   "outputs": [
    {
     "name": "stdout",
     "output_type": "stream",
     "text": [
      "operands could not be broadcast together with shapes (2,3) (2,) \n"
     ]
    }
   ],
   "source": [
    "try:\n",
    "    ### BEGIN SOLUTION\n",
    "    big_arr + np.array([0.1, 1])\n",
    "    ### END SOLUTION\n",
    "except ValueError as error:\n",
    "    print(error)"
   ]
  },
  {
   "cell_type": "markdown",
   "id": "e4d795dd",
   "metadata": {},
   "source": [
    "## <a name=\"mmul\">Matrix Multiplication</a>\n",
    "Do note the difference between `*` that performs a elementwise multiplication and `@` that performs a dot product operation. Take a look at the difference between the two operations in the example below."
   ]
  },
  {
   "cell_type": "code",
   "execution_count": 14,
   "id": "333fd523",
   "metadata": {},
   "outputs": [
    {
     "name": "stdout",
     "output_type": "stream",
     "text": [
      "arr_3 has the ndarray of: \n",
      "[[2 4]\n",
      " [6 8]]\n",
      "\n",
      "\n",
      "identity_arr has the ndarray of below, which is a 2 by 2 identity matrix: \n",
      "[[1. 0.]\n",
      " [0. 1.]]\n"
     ]
    }
   ],
   "source": [
    "### BEGIN SOLUTION\n",
    "arr_3 = np.array([[2,4],[6,8]])\n",
    "identity_arr = np.identity(2)\n",
    "print(\"arr_3 has the ndarray of: \")\n",
    "print(arr_3)\n",
    "print(\"\\n\\nidentity_arr has the ndarray of below, which is a 2 by 2 identity matrix: \")\n",
    "print(identity_arr)\n",
    "### END SOLUTION"
   ]
  },
  {
   "cell_type": "code",
   "execution_count": 15,
   "id": "c50fe86b",
   "metadata": {},
   "outputs": [
    {
     "name": "stdout",
     "output_type": "stream",
     "text": [
      "The dot product of a matrix with identity matrix of the same size should return the identical matrix: \n"
     ]
    },
    {
     "data": {
      "text/plain": [
       "array([[2., 4.],\n",
       "       [6., 8.]])"
      ]
     },
     "execution_count": 15,
     "metadata": {},
     "output_type": "execute_result"
    }
   ],
   "source": [
    "print(\"The dot product of a matrix with identity matrix of the same size should return the identical matrix: \")\n",
    "### BEGIN SOLUTION\n",
    "arr_3 @ identity_arr\n",
    "### END SOLUTION"
   ]
  },
  {
   "cell_type": "code",
   "execution_count": 16,
   "id": "f884c6de",
   "metadata": {},
   "outputs": [
    {
     "name": "stdout",
     "output_type": "stream",
     "text": [
      "The elementwise multiplication of a matrix with identity matrix of the same size returns something else: \n"
     ]
    },
    {
     "data": {
      "text/plain": [
       "array([[2., 0.],\n",
       "       [0., 8.]])"
      ]
     },
     "execution_count": 16,
     "metadata": {},
     "output_type": "execute_result"
    }
   ],
   "source": [
    "print(\"The elementwise multiplication of a matrix with identity matrix of the same size returns something else: \")\n",
    "### BEGIN SOLUTION\n",
    "arr_3 * identity_arr\n",
    "### END SOLUTION"
   ]
  },
  {
   "cell_type": "markdown",
   "id": "49d7b501",
   "metadata": {},
   "source": [
    "Another method to perform dot product is by using `numpy.dot` method, as shown below:"
   ]
  },
  {
   "cell_type": "code",
   "execution_count": 17,
   "id": "35e1fb8c",
   "metadata": {},
   "outputs": [
    {
     "data": {
      "text/plain": [
       "array([[2., 4.],\n",
       "       [6., 8.]])"
      ]
     },
     "execution_count": 17,
     "metadata": {},
     "output_type": "execute_result"
    }
   ],
   "source": [
    "### BEGIN SOLUTION\n",
    "np.dot(arr_3, identity_arr)\n",
    "### END SOLUTION"
   ]
  },
  {
   "cell_type": "markdown",
   "id": "5512667f",
   "metadata": {},
   "source": [
    "Of course, one thing to note is that matrix multiplication is not commutative, thus the order matters! For example:"
   ]
  },
  {
   "cell_type": "code",
   "execution_count": 18,
   "id": "0982cd95",
   "metadata": {},
   "outputs": [
    {
     "name": "stdout",
     "output_type": "stream",
     "text": [
      "Returned arrays from both operations are different!\n"
     ]
    }
   ],
   "source": [
    "### BEGIN SOLUTION\n",
    "arr_4 = np.array([[1,3],[5,7]])\n",
    "### END SOLUTION\n",
    "\n",
    "try:\n",
    "    ### BEGIN SOLUTION\n",
    "    assert np.array_equal(np.dot(arr_3, arr_4), np.dot(arr_4, arr_3)), \"Returned arrays from both operations are different!\"\n",
    "    ### END SOLUTION\n",
    "except AssertionError as msg:\n",
    "    print(msg)"
   ]
  },
  {
   "cell_type": "code",
   "execution_count": 19,
   "id": "797d92f1",
   "metadata": {},
   "outputs": [
    {
     "data": {
      "text/plain": [
       "array([[20, 28],\n",
       "       [52, 76]])"
      ]
     },
     "execution_count": 19,
     "metadata": {},
     "output_type": "execute_result"
    }
   ],
   "source": [
    "# dot product of arr_4 and arr_3\n",
    "### BEGIN SOLUTION\n",
    "np.dot(arr_4, arr_3)\n",
    "### END SOLUTION"
   ]
  },
  {
   "cell_type": "code",
   "execution_count": 20,
   "id": "dacee94e",
   "metadata": {},
   "outputs": [
    {
     "data": {
      "text/plain": [
       "array([[22, 34],\n",
       "       [46, 74]])"
      ]
     },
     "execution_count": 20,
     "metadata": {},
     "output_type": "execute_result"
    }
   ],
   "source": [
    "# dot product of arr_3 and arr_4\n",
    "### BEGIN SOLUTION\n",
    "np.dot(arr_3, arr_4)\n",
    "### END SOLUTION"
   ]
  },
  {
   "cell_type": "markdown",
   "id": "97bdc86a",
   "metadata": {},
   "source": [
    "## <a name=\"ufunc\">Universal Functions</a>\n",
    "Other general mathematical functions with the likes of sin, cos and exp are available in `numpy` under the names of universal functions (`ufunc`). They operate elementwise on arrays and return a new array result of the operation."
   ]
  },
  {
   "cell_type": "code",
   "execution_count": 21,
   "id": "3200c8ac",
   "metadata": {},
   "outputs": [],
   "source": [
    "### BEGIN SOLUTION\n",
    "arr_5 = np.arange(5)\n",
    "### END SOLUTION"
   ]
  },
  {
   "cell_type": "code",
   "execution_count": 22,
   "id": "fdb2f796",
   "metadata": {},
   "outputs": [
    {
     "data": {
      "text/plain": [
       "array([ 1.        ,  2.71828183,  7.3890561 , 20.08553692, 54.59815003])"
      ]
     },
     "execution_count": 22,
     "metadata": {},
     "output_type": "execute_result"
    }
   ],
   "source": [
    "### BEGIN SOLUTION\n",
    "np.exp(arr_5)\n",
    "### END SOLUTION"
   ]
  },
  {
   "cell_type": "code",
   "execution_count": 23,
   "id": "6c7c6acc",
   "metadata": {},
   "outputs": [
    {
     "data": {
      "text/plain": [
       "array([ 0.        ,  0.84147098,  0.90929743,  0.14112001, -0.7568025 ])"
      ]
     },
     "execution_count": 23,
     "metadata": {},
     "output_type": "execute_result"
    }
   ],
   "source": [
    "### BEGIN SOLUTION\n",
    "np.sin(arr_5)\n",
    "### END SOLUTION"
   ]
  },
  {
   "cell_type": "code",
   "execution_count": 24,
   "id": "a7f2b61d",
   "metadata": {},
   "outputs": [
    {
     "data": {
      "text/plain": [
       "array([ 1.        ,  0.54030231, -0.41614684, -0.9899925 , -0.65364362])"
      ]
     },
     "execution_count": 24,
     "metadata": {},
     "output_type": "execute_result"
    }
   ],
   "source": [
    "### BEGIN SOLUTION\n",
    "np.cos(arr_5)\n",
    "### END SOLUTION"
   ]
  },
  {
   "cell_type": "markdown",
   "id": "87e5b7e4",
   "metadata": {},
   "source": [
    "You can take a look at a more comprehensive list of `ufunc` at `numpy`'s [website](https://numpy.org/doc/stable/reference/ufuncs.html)."
   ]
  },
  {
   "cell_type": "markdown",
   "id": "b44ae837",
   "metadata": {},
   "source": [
    "##  <a name=\"summary\">Summary</a>\n",
    "To conclude, you should now be able to:\n",
    "1. Apply basic arithmetics on `ndarray`\n",
    "2. Apply dot product/matrix multiplication on `ndarray`\n",
    "3. Apply universal functions on `ndarray`<br><br>\n",
    "Congratulations, that concludes this lesson."
   ]
  },
  {
   "cell_type": "markdown",
   "id": "e44f3232",
   "metadata": {},
   "source": [
    "## <a name=\"reference\">Reference</a>\n",
    "* [Universal Functions (ufunc)](https://numpy.org/doc/stable/reference/ufuncs.html)\n",
    "* [NumPy Quickstart](https://numpy.org/doc/stable/user/quickstart.html)"
   ]
  }
 ],
 "metadata": {
  "kernelspec": {
   "display_name": "Python 3",
   "language": "python",
   "name": "python3"
  },
  "language_info": {
   "codemirror_mode": {
    "name": "ipython",
    "version": 3
   },
   "file_extension": ".py",
   "mimetype": "text/x-python",
   "name": "python",
   "nbconvert_exporter": "python",
   "pygments_lexer": "ipython3",
   "version": "3.7.10"
  }
 },
 "nbformat": 4,
 "nbformat_minor": 5
}
